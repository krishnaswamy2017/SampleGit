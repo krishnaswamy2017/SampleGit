{
 "cells": [
  {
   "cell_type": "code",
   "execution_count": 10,
   "metadata": {},
   "outputs": [],
   "source": [
    "import matplotlib.pyplot as plt\n",
    "\n",
    "import pandas as pd\n",
    "import numpy as np\n",
    "import seaborn as sns\n",
    "\n",
    "import plotly\n",
    "import plotly.offline as pyoff\n",
    "import plotly.figure_factory as ff\n",
    "from plotly.offline import init_notebook_mode, iplot, plot\n",
    "import plotly.graph_objs as go\n",
    "\n",
    "import squarify # for tree maps\n",
    "%matplotlib notebook"
   ]
  },
  {
   "cell_type": "code",
   "execution_count": 11,
   "metadata": {},
   "outputs": [
    {
     "data": {
      "text/html": [
       "        <script type=\"text/javascript\">\n",
       "        window.PlotlyConfig = {MathJaxConfig: 'local'};\n",
       "        if (window.MathJax) {MathJax.Hub.Config({SVG: {font: \"STIX-Web\"}});}\n",
       "        if (typeof require !== 'undefined') {\n",
       "        require.undef(\"plotly\");\n",
       "        requirejs.config({\n",
       "            paths: {\n",
       "                'plotly': ['https://cdn.plot.ly/plotly-latest.min']\n",
       "            }\n",
       "        });\n",
       "        require(['plotly'], function(Plotly) {\n",
       "            window._Plotly = Plotly;\n",
       "        });\n",
       "        }\n",
       "        </script>\n",
       "        "
      ]
     },
     "metadata": {},
     "output_type": "display_data"
    }
   ],
   "source": [
    "init_notebook_mode(connected=True)"
   ]
  },
  {
   "cell_type": "code",
   "execution_count": 12,
   "metadata": {},
   "outputs": [],
   "source": [
    "#Loading the data\n",
    "bank_data = pd.read_csv(\"bank.txt\",header=0,sep=';')"
   ]
  },
  {
   "cell_type": "code",
   "execution_count": 13,
   "metadata": {},
   "outputs": [
    {
     "data": {
      "text/html": [
       "<div>\n",
       "<style scoped>\n",
       "    .dataframe tbody tr th:only-of-type {\n",
       "        vertical-align: middle;\n",
       "    }\n",
       "\n",
       "    .dataframe tbody tr th {\n",
       "        vertical-align: top;\n",
       "    }\n",
       "\n",
       "    .dataframe thead th {\n",
       "        text-align: right;\n",
       "    }\n",
       "</style>\n",
       "<table border=\"1\" class=\"dataframe\">\n",
       "  <thead>\n",
       "    <tr style=\"text-align: right;\">\n",
       "      <th></th>\n",
       "      <th>age</th>\n",
       "      <th>job</th>\n",
       "      <th>marital</th>\n",
       "      <th>education</th>\n",
       "      <th>default</th>\n",
       "      <th>balance</th>\n",
       "      <th>housing</th>\n",
       "      <th>loan</th>\n",
       "      <th>contact</th>\n",
       "      <th>day</th>\n",
       "      <th>month</th>\n",
       "      <th>duration</th>\n",
       "      <th>campaign</th>\n",
       "      <th>pdays</th>\n",
       "      <th>previous</th>\n",
       "      <th>poutcome</th>\n",
       "      <th>y</th>\n",
       "    </tr>\n",
       "  </thead>\n",
       "  <tbody>\n",
       "    <tr>\n",
       "      <th>0</th>\n",
       "      <td>30</td>\n",
       "      <td>unemployed</td>\n",
       "      <td>married</td>\n",
       "      <td>primary</td>\n",
       "      <td>no</td>\n",
       "      <td>1787</td>\n",
       "      <td>no</td>\n",
       "      <td>no</td>\n",
       "      <td>cellular</td>\n",
       "      <td>19</td>\n",
       "      <td>oct</td>\n",
       "      <td>79</td>\n",
       "      <td>1</td>\n",
       "      <td>-1</td>\n",
       "      <td>0</td>\n",
       "      <td>unknown</td>\n",
       "      <td>no</td>\n",
       "    </tr>\n",
       "    <tr>\n",
       "      <th>1</th>\n",
       "      <td>33</td>\n",
       "      <td>services</td>\n",
       "      <td>married</td>\n",
       "      <td>secondary</td>\n",
       "      <td>no</td>\n",
       "      <td>4789</td>\n",
       "      <td>yes</td>\n",
       "      <td>yes</td>\n",
       "      <td>cellular</td>\n",
       "      <td>11</td>\n",
       "      <td>may</td>\n",
       "      <td>220</td>\n",
       "      <td>1</td>\n",
       "      <td>339</td>\n",
       "      <td>4</td>\n",
       "      <td>failure</td>\n",
       "      <td>no</td>\n",
       "    </tr>\n",
       "    <tr>\n",
       "      <th>2</th>\n",
       "      <td>35</td>\n",
       "      <td>management</td>\n",
       "      <td>single</td>\n",
       "      <td>tertiary</td>\n",
       "      <td>no</td>\n",
       "      <td>1350</td>\n",
       "      <td>yes</td>\n",
       "      <td>no</td>\n",
       "      <td>cellular</td>\n",
       "      <td>16</td>\n",
       "      <td>apr</td>\n",
       "      <td>185</td>\n",
       "      <td>1</td>\n",
       "      <td>330</td>\n",
       "      <td>1</td>\n",
       "      <td>failure</td>\n",
       "      <td>no</td>\n",
       "    </tr>\n",
       "    <tr>\n",
       "      <th>3</th>\n",
       "      <td>30</td>\n",
       "      <td>management</td>\n",
       "      <td>married</td>\n",
       "      <td>tertiary</td>\n",
       "      <td>no</td>\n",
       "      <td>1476</td>\n",
       "      <td>yes</td>\n",
       "      <td>yes</td>\n",
       "      <td>unknown</td>\n",
       "      <td>3</td>\n",
       "      <td>jun</td>\n",
       "      <td>199</td>\n",
       "      <td>4</td>\n",
       "      <td>-1</td>\n",
       "      <td>0</td>\n",
       "      <td>unknown</td>\n",
       "      <td>no</td>\n",
       "    </tr>\n",
       "    <tr>\n",
       "      <th>4</th>\n",
       "      <td>59</td>\n",
       "      <td>blue-collar</td>\n",
       "      <td>married</td>\n",
       "      <td>secondary</td>\n",
       "      <td>no</td>\n",
       "      <td>0</td>\n",
       "      <td>yes</td>\n",
       "      <td>no</td>\n",
       "      <td>unknown</td>\n",
       "      <td>5</td>\n",
       "      <td>may</td>\n",
       "      <td>226</td>\n",
       "      <td>1</td>\n",
       "      <td>-1</td>\n",
       "      <td>0</td>\n",
       "      <td>unknown</td>\n",
       "      <td>no</td>\n",
       "    </tr>\n",
       "  </tbody>\n",
       "</table>\n",
       "</div>"
      ],
      "text/plain": [
       "   age          job  marital  education default  balance housing loan  \\\n",
       "0   30   unemployed  married    primary      no     1787      no   no   \n",
       "1   33     services  married  secondary      no     4789     yes  yes   \n",
       "2   35   management   single   tertiary      no     1350     yes   no   \n",
       "3   30   management  married   tertiary      no     1476     yes  yes   \n",
       "4   59  blue-collar  married  secondary      no        0     yes   no   \n",
       "\n",
       "    contact  day month  duration  campaign  pdays  previous poutcome   y  \n",
       "0  cellular   19   oct        79         1     -1         0  unknown  no  \n",
       "1  cellular   11   may       220         1    339         4  failure  no  \n",
       "2  cellular   16   apr       185         1    330         1  failure  no  \n",
       "3   unknown    3   jun       199         4     -1         0  unknown  no  \n",
       "4   unknown    5   may       226         1     -1         0  unknown  no  "
      ]
     },
     "execution_count": 13,
     "metadata": {},
     "output_type": "execute_result"
    }
   ],
   "source": [
    "bank_data.head()"
   ]
  },
  {
   "cell_type": "code",
   "execution_count": 14,
   "metadata": {},
   "outputs": [
    {
     "data": {
      "text/plain": [
       "age           int64\n",
       "job          object\n",
       "marital      object\n",
       "education    object\n",
       "default      object\n",
       "balance       int64\n",
       "housing      object\n",
       "loan         object\n",
       "contact      object\n",
       "day           int64\n",
       "month        object\n",
       "duration      int64\n",
       "campaign      int64\n",
       "pdays         int64\n",
       "previous      int64\n",
       "poutcome     object\n",
       "y            object\n",
       "dtype: object"
      ]
     },
     "execution_count": 14,
     "metadata": {},
     "output_type": "execute_result"
    }
   ],
   "source": [
    "bank_data.dtypes"
   ]
  },
  {
   "cell_type": "code",
   "execution_count": 15,
   "metadata": {},
   "outputs": [
    {
     "data": {
      "text/plain": [
       "age          0\n",
       "job          0\n",
       "marital      0\n",
       "education    0\n",
       "default      0\n",
       "balance      0\n",
       "housing      0\n",
       "loan         0\n",
       "contact      0\n",
       "day          0\n",
       "month        0\n",
       "duration     0\n",
       "campaign     0\n",
       "pdays        0\n",
       "previous     0\n",
       "poutcome     0\n",
       "y            0\n",
       "dtype: int64"
      ]
     },
     "execution_count": 15,
     "metadata": {},
     "output_type": "execute_result"
    }
   ],
   "source": [
    "bank_data.isnull().sum()"
   ]
  },
  {
   "cell_type": "code",
   "execution_count": 16,
   "metadata": {},
   "outputs": [
    {
     "name": "stdout",
     "output_type": "stream",
     "text": [
      "Number of unique values in age column are 67 \n",
      " The unique values are [30 33 35 59 36 39 41 43 20 31 40 56 37 25 38 42 44 26 55 67 53 68 32 49\n",
      " 78 23 52 34 61 45 48 57 54 63 51 29 50 27 60 28 21 58 22 46 24 77 75 47\n",
      " 70 65 64 62 66 19 81 83 80 71 72 69 79 73 86 74 76 87 84]\n",
      "---------------------- \n",
      "\n",
      "Number of unique values in job column are 12 \n",
      " The unique values are ['unemployed' 'services' 'management' 'blue-collar' 'self-employed'\n",
      " 'technician' 'entrepreneur' 'admin.' 'student' 'housemaid' 'retired'\n",
      " 'unknown']\n",
      "---------------------- \n",
      "\n",
      "Number of unique values in marital column are 3 \n",
      " The unique values are ['married' 'single' 'divorced']\n",
      "---------------------- \n",
      "\n",
      "Number of unique values in education column are 4 \n",
      " The unique values are ['primary' 'secondary' 'tertiary' 'unknown']\n",
      "---------------------- \n",
      "\n",
      "Number of unique values in default column are 2 \n",
      " The unique values are ['no' 'yes']\n",
      "---------------------- \n",
      "\n",
      "Number of unique values in balance column are 2353 \n",
      " The unique values are [ 1787  4789  1350 ...  -333 -3313  1137]\n",
      "---------------------- \n",
      "\n",
      "Number of unique values in housing column are 2 \n",
      " The unique values are ['no' 'yes']\n",
      "---------------------- \n",
      "\n",
      "Number of unique values in loan column are 2 \n",
      " The unique values are ['no' 'yes']\n",
      "---------------------- \n",
      "\n",
      "Number of unique values in contact column are 3 \n",
      " The unique values are ['cellular' 'unknown' 'telephone']\n",
      "---------------------- \n",
      "\n",
      "Number of unique values in day column are 31 \n",
      " The unique values are [19 11 16  3  5 23 14  6 17 20 13 30 29 27  7 18 12 21 26 22  2  4 15  8\n",
      " 28  9  1 10 31 25 24]\n",
      "---------------------- \n",
      "\n",
      "Number of unique values in month column are 12 \n",
      " The unique values are ['oct' 'may' 'apr' 'jun' 'feb' 'aug' 'jan' 'jul' 'nov' 'sep' 'mar' 'dec']\n",
      "---------------------- \n",
      "\n",
      "Number of unique values in duration column are 875 \n",
      " The unique values are [  79  220  185  199  226  141  341  151   57  313  273  113  328  261\n",
      "   89  189  239  114  250  148   96  140  109  125  169  182  247  119\n",
      "  149   74  897   81   40  958  354  150   97  132  765   16  609  106\n",
      "  365  205   11  105   59  425  204  181 1018 1740   98  441  272  159\n",
      "  295  314  579  554  323  227  134  223  155  130  630  164  268  380\n",
      "  154  221   67  367   87  701  652   63  398  224  406   60  521  279\n",
      "  203  201  372  391  165  231  291  233  473  736  337  553  345   65\n",
      "    9  259  371  280  243  435  258    7  317   76  170  386   83   69\n",
      "  564  588  779  281 1877   51   32  176  161  187   24   85  236   54\n",
      "   71  489   39  455   86  190   45  168  194  103  333  102   92  213\n",
      "  289   77  324   84   10   35   82  676   80  549  135  412  101  253\n",
      "  166   18  147   14   61  377  152  382  543  240   48  471  285  301\n",
      "  768 1337  403  139  196  115   17   95  198  654  256  834   20  178\n",
      "  111  186  297  210  112  222  195  123  145  124  216  483  690  344\n",
      "  673  144  246  361  375 1097  180  373  230   58   88  487   29  484\n",
      "  262  644  699   49   64  121  197  331  138  312  120  526  211   62\n",
      "  988  451 1030 1484  445  383  605  330  171  442  772  249  357  271\n",
      "  783  472  395   56  641  429  157  162  799 1370   22  215 1017  298\n",
      "  126    8  555  270  339  342 1434   30  397  620    6  209  419  283\n",
      "  188  267  245 1065  207  456  131   94  567  153   53  234  108  208\n",
      "  597  505  332  212  493  681  287  202   37   72  325 1212  319  514\n",
      "  551  142  293  107  127 1816  200  418  387  156   47  265   31   28\n",
      "  369  854   46  266  321   99  430  264  118  343    5  722  748  523\n",
      "  421   15  502  193  347  468  388 1735  172  117  587  501  282  110\n",
      "  104  378 1407  738   70  904  336  238  585   68 1713  218  661  566\n",
      "  136  160   44  792   73   90  346  192  682  651  405  350   36  389\n",
      " 3025  219  427  533   19  819  278  617   34  668   75  146  356  251\n",
      "  352  184  568  260  447  426  174  284  428  237 1031  700  590   43\n",
      "   27 1181  122  307  770  767  232  986   66  158  306  559  183  631\n",
      " 1282 1199  244   55  290  385  133   91   25  275  632  100   41  446\n",
      "  304  335  276   42  614  557 1663  510 1259  225  404 1015  761  464\n",
      "  206  667  143  717   38  254  882  957  299  167  500  177  457  460\n",
      " 1028  315  381  643  508  128  492  257  241  536  601 1168  277  364\n",
      "  229  402  175  255  820  116  463  603  191 2087  754  303  288  891\n",
      "  558  228  353  296  432 1130  305  274  860  420  756  968  408   13\n",
      "  763  316   50    4   78  286  766  648  688   21  593  407  563   52\n",
      "  803  396  637  945 1178  506  409  327  618  936  329  179  731  670\n",
      "  318  415  137  349  263  671  452  163  586  650  610  747  252  883\n",
      "  684  686 1060  724  424  712  753 1081  376  433  411 1083  757  524\n",
      "  653   93  503  217  475  340  242  530   23  935  773  423  626  578\n",
      "  248  528  785  952 1174  915  937  129 1063  758  574  847 1558  789\n",
      " 1441  322 1504  537  611   26   12  235  796 1126  697  931 1034  362\n",
      "  410  570  633  659  302  727  214  173  635  540 1210  486  646  326\n",
      "  414  716  449  580  399 1029  755  619  606  971  348  594 1275  379\n",
      " 1032  393  808  923  413  541  602  762  360  310  311  638  355  300\n",
      "  417  308  657  434  488 1309 1056  908  401  827  735  691  461  669\n",
      " 1473 1386  294  910  550 1366 1532  955  513 1236  809  482 1164  674\n",
      "  709  436  374  309  363  422  358  640  439  476  480  517  993   33\n",
      "  730  636  750  334  868  351 1689  607  485 1021  732  577  733  788\n",
      "  863 1073  525  696  535  370  465  338  956  546  470  836  544  443\n",
      " 1149  707 1451 1143  477  450  467  292  806  560  759 1183  598  466\n",
      "  431  269  542  562  515 1165  547  780  916  474  509  679 1472  965\n",
      " 1139  504  672  749  454  531  479  384  973  728  656  998  320  615\n",
      "  612  664  394  877 1971 1258  599  655 1994  743  924  929  491  719\n",
      "  565 1529  390 1467 1007  665  990  582  458  775  497  698  702  520\n",
      " 1156  884 1521  359  527  994 1579  437 1225  865  569 1011  814  984\n",
      "  392  595 1448  529 1006  622  494 1022 1044  781 1124  400  516 1516\n",
      "  978  720  495  798  876  875  481  793 1117 1223 1101  744 2769  561\n",
      "  715  639  538 1721 1608  725  519  490  907  680  977  959  693 2029\n",
      " 1009  718  805  623  976  600  469 1010  634 1531  764  532  825  539\n",
      "  816  821 1231  742 2456  721  777  548  830  645  723  746  869 1173\n",
      "  624  518  815  857  921  627  800  366 1088  812  866 1151  873  592\n",
      "  663  576 1476  951 1234 1263  660]\n",
      "---------------------- \n",
      "\n",
      "Number of unique values in campaign column are 32 \n",
      " The unique values are [ 1  4  2  5  3  6 18 10  9  7 12 14 13 24 11  8 29 32 16 22 15 30 25 21\n",
      " 17 19 23 20 50 28 31 44]\n",
      "---------------------- \n",
      "\n",
      "Number of unique values in pdays column are 292 \n",
      " The unique values are [ -1 339 330 176 147 241 152 105 342 101   5  92  56 170 182 297 196 460\n",
      " 137 367 145 169 207 266 288 168 345 436  90 183 146 335 347 119   7 271\n",
      " 181  88 141 126  61 373 351 242  62  91 308 250 172 265  78  28  79   1\n",
      " 188 167  89 164 462 209 321 254  94 364  96 356 149 363 275 325 341 260\n",
      " 358  87 303  98 327 337 322 102  99 370  84 212  63  81 191 360 332  80\n",
      "  85 247 150 175 382 261 336  58 206 112 199 133 208 253 135 278 140 298\n",
      " 273 124 281 162 323 349 117   2 256 333 116 268 136 198 357 259 353 174\n",
      " 371 205 246  69 315 110 461 184 270 127 187  64 130 346 100 352 808 113\n",
      " 378 292 287 107 293 139 138 193 274  97 103 359 185 674 211 300 334 280\n",
      " 479  95 262 362 225   3 366  60 190 368 122 343 131 365 299 115 316 180\n",
      " 154 313 264 350  73 232 204 143 375 186 344 210 248 177 221 189 104 258\n",
      " 305 171 120 317 178 386 118 404 374 282 179 284 227 291 173 871 238 294\n",
      " 222 435 340 426 239  83 111 415 255 235 244  38 683 329  59 151 192 158\n",
      " 338 388 165 348 197 295 109 484 326 369 397 414 319 474  93 249 272 355\n",
      " 195  82 541 231 153 201 761 114 385 267 161 467  75 106 223 312 148 309\n",
      " 283  86 166 160 450 500 311 123 159 687 224 361  74  76 286  77  57 219\n",
      " 331 804 144 234]\n",
      "---------------------- \n",
      "\n",
      "Number of unique values in previous column are 24 \n",
      " The unique values are [ 0  4  1  3  2  5 20  7  6 10  9  8 18 19 12 13 11 14 15 24 17 22 23 25]\n",
      "---------------------- \n",
      "\n",
      "Number of unique values in poutcome column are 4 \n",
      " The unique values are ['unknown' 'failure' 'other' 'success']\n",
      "---------------------- \n",
      "\n",
      "Number of unique values in y column are 2 \n",
      " The unique values are ['no' 'yes']\n",
      "---------------------- \n",
      "\n"
     ]
    }
   ],
   "source": [
    "for i in bank_data.columns:\n",
    "    print (\"Number of unique values in {} column are {} \\n The unique values are {}\".format(i, len(bank_data[i].unique()),bank_data[i].unique()))\n",
    "    print (\"---------------------- \\n\")"
   ]
  },
  {
   "cell_type": "code",
   "execution_count": 8,
   "metadata": {},
   "outputs": [
    {
     "ename": "SyntaxError",
     "evalue": "invalid syntax (<ipython-input-8-f10094f7a834>, line 1)",
     "output_type": "error",
     "traceback": [
      "\u001b[1;36m  File \u001b[1;32m\"<ipython-input-8-f10094f7a834>\"\u001b[1;36m, line \u001b[1;32m1\u001b[0m\n\u001b[1;33m    Exploratory Data Analysis\u001b[0m\n\u001b[1;37m                   ^\u001b[0m\n\u001b[1;31mSyntaxError\u001b[0m\u001b[1;31m:\u001b[0m invalid syntax\n"
     ]
    }
   ],
   "source": [
    "#Exploratory Data Analysis\n",
    "#Univariate Analysis¶"
   ]
  },
  {
   "cell_type": "code",
   "execution_count": 17,
   "metadata": {},
   "outputs": [
    {
     "ename": "NameError",
     "evalue": "name 'temp' is not defined",
     "output_type": "error",
     "traceback": [
      "\u001b[1;31m---------------------------------------------------------------------------\u001b[0m",
      "\u001b[1;31mNameError\u001b[0m                                 Traceback (most recent call last)",
      "\u001b[1;32m<ipython-input-17-dbd487b3156d>\u001b[0m in \u001b[0;36m<module>\u001b[1;34m\u001b[0m\n\u001b[1;32m----> 1\u001b[1;33m \u001b[0mtemp\u001b[0m\u001b[1;33m.\u001b[0m\u001b[0mvalues\u001b[0m\u001b[1;33m\u001b[0m\u001b[1;33m\u001b[0m\u001b[0m\n\u001b[0m\u001b[0;32m      2\u001b[0m \u001b[1;33m\u001b[0m\u001b[0m\n\u001b[0;32m      3\u001b[0m \u001b[1;31m#.astype(float)/temp.values.sum()\u001b[0m\u001b[1;33m\u001b[0m\u001b[1;33m\u001b[0m\u001b[1;33m\u001b[0m\u001b[0m\n",
      "\u001b[1;31mNameError\u001b[0m: name 'temp' is not defined"
     ]
    }
   ],
   "source": [
    "#temp.values\n",
    "\n",
    "#.astype(float)/temp.values.sum()"
   ]
  },
  {
   "cell_type": "code",
   "execution_count": 18,
   "metadata": {},
   "outputs": [
    {
     "data": {
      "application/vnd.plotly.v1+json": {
       "config": {
        "linkText": "Export to plot.ly",
        "plotlyServerURL": "https://plot.ly",
        "showLink": false
       },
       "data": [
        {
         "name": "Term Taken",
         "text": [
          0.88,
          0.12
         ],
         "textposition": "inside",
         "type": "bar",
         "x": [
          "no",
          "yes"
         ],
         "y": [
          0.88,
          0.12
         ]
        }
       ],
       "layout": {
        "autosize": false,
        "height": 400,
        "template": {
         "data": {
          "bar": [
           {
            "error_x": {
             "color": "#2a3f5f"
            },
            "error_y": {
             "color": "#2a3f5f"
            },
            "marker": {
             "line": {
              "color": "#E5ECF6",
              "width": 0.5
             }
            },
            "type": "bar"
           }
          ],
          "barpolar": [
           {
            "marker": {
             "line": {
              "color": "#E5ECF6",
              "width": 0.5
             }
            },
            "type": "barpolar"
           }
          ],
          "carpet": [
           {
            "aaxis": {
             "endlinecolor": "#2a3f5f",
             "gridcolor": "white",
             "linecolor": "white",
             "minorgridcolor": "white",
             "startlinecolor": "#2a3f5f"
            },
            "baxis": {
             "endlinecolor": "#2a3f5f",
             "gridcolor": "white",
             "linecolor": "white",
             "minorgridcolor": "white",
             "startlinecolor": "#2a3f5f"
            },
            "type": "carpet"
           }
          ],
          "choropleth": [
           {
            "colorbar": {
             "outlinewidth": 0,
             "ticks": ""
            },
            "type": "choropleth"
           }
          ],
          "contour": [
           {
            "colorbar": {
             "outlinewidth": 0,
             "ticks": ""
            },
            "colorscale": [
             [
              0,
              "#0d0887"
             ],
             [
              0.1111111111111111,
              "#46039f"
             ],
             [
              0.2222222222222222,
              "#7201a8"
             ],
             [
              0.3333333333333333,
              "#9c179e"
             ],
             [
              0.4444444444444444,
              "#bd3786"
             ],
             [
              0.5555555555555556,
              "#d8576b"
             ],
             [
              0.6666666666666666,
              "#ed7953"
             ],
             [
              0.7777777777777778,
              "#fb9f3a"
             ],
             [
              0.8888888888888888,
              "#fdca26"
             ],
             [
              1,
              "#f0f921"
             ]
            ],
            "type": "contour"
           }
          ],
          "contourcarpet": [
           {
            "colorbar": {
             "outlinewidth": 0,
             "ticks": ""
            },
            "type": "contourcarpet"
           }
          ],
          "heatmap": [
           {
            "colorbar": {
             "outlinewidth": 0,
             "ticks": ""
            },
            "colorscale": [
             [
              0,
              "#0d0887"
             ],
             [
              0.1111111111111111,
              "#46039f"
             ],
             [
              0.2222222222222222,
              "#7201a8"
             ],
             [
              0.3333333333333333,
              "#9c179e"
             ],
             [
              0.4444444444444444,
              "#bd3786"
             ],
             [
              0.5555555555555556,
              "#d8576b"
             ],
             [
              0.6666666666666666,
              "#ed7953"
             ],
             [
              0.7777777777777778,
              "#fb9f3a"
             ],
             [
              0.8888888888888888,
              "#fdca26"
             ],
             [
              1,
              "#f0f921"
             ]
            ],
            "type": "heatmap"
           }
          ],
          "heatmapgl": [
           {
            "colorbar": {
             "outlinewidth": 0,
             "ticks": ""
            },
            "colorscale": [
             [
              0,
              "#0d0887"
             ],
             [
              0.1111111111111111,
              "#46039f"
             ],
             [
              0.2222222222222222,
              "#7201a8"
             ],
             [
              0.3333333333333333,
              "#9c179e"
             ],
             [
              0.4444444444444444,
              "#bd3786"
             ],
             [
              0.5555555555555556,
              "#d8576b"
             ],
             [
              0.6666666666666666,
              "#ed7953"
             ],
             [
              0.7777777777777778,
              "#fb9f3a"
             ],
             [
              0.8888888888888888,
              "#fdca26"
             ],
             [
              1,
              "#f0f921"
             ]
            ],
            "type": "heatmapgl"
           }
          ],
          "histogram": [
           {
            "marker": {
             "colorbar": {
              "outlinewidth": 0,
              "ticks": ""
             }
            },
            "type": "histogram"
           }
          ],
          "histogram2d": [
           {
            "colorbar": {
             "outlinewidth": 0,
             "ticks": ""
            },
            "colorscale": [
             [
              0,
              "#0d0887"
             ],
             [
              0.1111111111111111,
              "#46039f"
             ],
             [
              0.2222222222222222,
              "#7201a8"
             ],
             [
              0.3333333333333333,
              "#9c179e"
             ],
             [
              0.4444444444444444,
              "#bd3786"
             ],
             [
              0.5555555555555556,
              "#d8576b"
             ],
             [
              0.6666666666666666,
              "#ed7953"
             ],
             [
              0.7777777777777778,
              "#fb9f3a"
             ],
             [
              0.8888888888888888,
              "#fdca26"
             ],
             [
              1,
              "#f0f921"
             ]
            ],
            "type": "histogram2d"
           }
          ],
          "histogram2dcontour": [
           {
            "colorbar": {
             "outlinewidth": 0,
             "ticks": ""
            },
            "colorscale": [
             [
              0,
              "#0d0887"
             ],
             [
              0.1111111111111111,
              "#46039f"
             ],
             [
              0.2222222222222222,
              "#7201a8"
             ],
             [
              0.3333333333333333,
              "#9c179e"
             ],
             [
              0.4444444444444444,
              "#bd3786"
             ],
             [
              0.5555555555555556,
              "#d8576b"
             ],
             [
              0.6666666666666666,
              "#ed7953"
             ],
             [
              0.7777777777777778,
              "#fb9f3a"
             ],
             [
              0.8888888888888888,
              "#fdca26"
             ],
             [
              1,
              "#f0f921"
             ]
            ],
            "type": "histogram2dcontour"
           }
          ],
          "mesh3d": [
           {
            "colorbar": {
             "outlinewidth": 0,
             "ticks": ""
            },
            "type": "mesh3d"
           }
          ],
          "parcoords": [
           {
            "line": {
             "colorbar": {
              "outlinewidth": 0,
              "ticks": ""
             }
            },
            "type": "parcoords"
           }
          ],
          "pie": [
           {
            "automargin": true,
            "type": "pie"
           }
          ],
          "scatter": [
           {
            "marker": {
             "colorbar": {
              "outlinewidth": 0,
              "ticks": ""
             }
            },
            "type": "scatter"
           }
          ],
          "scatter3d": [
           {
            "line": {
             "colorbar": {
              "outlinewidth": 0,
              "ticks": ""
             }
            },
            "marker": {
             "colorbar": {
              "outlinewidth": 0,
              "ticks": ""
             }
            },
            "type": "scatter3d"
           }
          ],
          "scattercarpet": [
           {
            "marker": {
             "colorbar": {
              "outlinewidth": 0,
              "ticks": ""
             }
            },
            "type": "scattercarpet"
           }
          ],
          "scattergeo": [
           {
            "marker": {
             "colorbar": {
              "outlinewidth": 0,
              "ticks": ""
             }
            },
            "type": "scattergeo"
           }
          ],
          "scattergl": [
           {
            "marker": {
             "colorbar": {
              "outlinewidth": 0,
              "ticks": ""
             }
            },
            "type": "scattergl"
           }
          ],
          "scattermapbox": [
           {
            "marker": {
             "colorbar": {
              "outlinewidth": 0,
              "ticks": ""
             }
            },
            "type": "scattermapbox"
           }
          ],
          "scatterpolar": [
           {
            "marker": {
             "colorbar": {
              "outlinewidth": 0,
              "ticks": ""
             }
            },
            "type": "scatterpolar"
           }
          ],
          "scatterpolargl": [
           {
            "marker": {
             "colorbar": {
              "outlinewidth": 0,
              "ticks": ""
             }
            },
            "type": "scatterpolargl"
           }
          ],
          "scatterternary": [
           {
            "marker": {
             "colorbar": {
              "outlinewidth": 0,
              "ticks": ""
             }
            },
            "type": "scatterternary"
           }
          ],
          "surface": [
           {
            "colorbar": {
             "outlinewidth": 0,
             "ticks": ""
            },
            "colorscale": [
             [
              0,
              "#0d0887"
             ],
             [
              0.1111111111111111,
              "#46039f"
             ],
             [
              0.2222222222222222,
              "#7201a8"
             ],
             [
              0.3333333333333333,
              "#9c179e"
             ],
             [
              0.4444444444444444,
              "#bd3786"
             ],
             [
              0.5555555555555556,
              "#d8576b"
             ],
             [
              0.6666666666666666,
              "#ed7953"
             ],
             [
              0.7777777777777778,
              "#fb9f3a"
             ],
             [
              0.8888888888888888,
              "#fdca26"
             ],
             [
              1,
              "#f0f921"
             ]
            ],
            "type": "surface"
           }
          ],
          "table": [
           {
            "cells": {
             "fill": {
              "color": "#EBF0F8"
             },
             "line": {
              "color": "white"
             }
            },
            "header": {
             "fill": {
              "color": "#C8D4E3"
             },
             "line": {
              "color": "white"
             }
            },
            "type": "table"
           }
          ]
         },
         "layout": {
          "annotationdefaults": {
           "arrowcolor": "#2a3f5f",
           "arrowhead": 0,
           "arrowwidth": 1
          },
          "coloraxis": {
           "colorbar": {
            "outlinewidth": 0,
            "ticks": ""
           }
          },
          "colorscale": {
           "diverging": [
            [
             0,
             "#8e0152"
            ],
            [
             0.1,
             "#c51b7d"
            ],
            [
             0.2,
             "#de77ae"
            ],
            [
             0.3,
             "#f1b6da"
            ],
            [
             0.4,
             "#fde0ef"
            ],
            [
             0.5,
             "#f7f7f7"
            ],
            [
             0.6,
             "#e6f5d0"
            ],
            [
             0.7,
             "#b8e186"
            ],
            [
             0.8,
             "#7fbc41"
            ],
            [
             0.9,
             "#4d9221"
            ],
            [
             1,
             "#276419"
            ]
           ],
           "sequential": [
            [
             0,
             "#0d0887"
            ],
            [
             0.1111111111111111,
             "#46039f"
            ],
            [
             0.2222222222222222,
             "#7201a8"
            ],
            [
             0.3333333333333333,
             "#9c179e"
            ],
            [
             0.4444444444444444,
             "#bd3786"
            ],
            [
             0.5555555555555556,
             "#d8576b"
            ],
            [
             0.6666666666666666,
             "#ed7953"
            ],
            [
             0.7777777777777778,
             "#fb9f3a"
            ],
            [
             0.8888888888888888,
             "#fdca26"
            ],
            [
             1,
             "#f0f921"
            ]
           ],
           "sequentialminus": [
            [
             0,
             "#0d0887"
            ],
            [
             0.1111111111111111,
             "#46039f"
            ],
            [
             0.2222222222222222,
             "#7201a8"
            ],
            [
             0.3333333333333333,
             "#9c179e"
            ],
            [
             0.4444444444444444,
             "#bd3786"
            ],
            [
             0.5555555555555556,
             "#d8576b"
            ],
            [
             0.6666666666666666,
             "#ed7953"
            ],
            [
             0.7777777777777778,
             "#fb9f3a"
            ],
            [
             0.8888888888888888,
             "#fdca26"
            ],
            [
             1,
             "#f0f921"
            ]
           ]
          },
          "colorway": [
           "#636efa",
           "#EF553B",
           "#00cc96",
           "#ab63fa",
           "#FFA15A",
           "#19d3f3",
           "#FF6692",
           "#B6E880",
           "#FF97FF",
           "#FECB52"
          ],
          "font": {
           "color": "#2a3f5f"
          },
          "geo": {
           "bgcolor": "white",
           "lakecolor": "white",
           "landcolor": "#E5ECF6",
           "showlakes": true,
           "showland": true,
           "subunitcolor": "white"
          },
          "hoverlabel": {
           "align": "left"
          },
          "hovermode": "closest",
          "mapbox": {
           "style": "light"
          },
          "paper_bgcolor": "white",
          "plot_bgcolor": "#E5ECF6",
          "polar": {
           "angularaxis": {
            "gridcolor": "white",
            "linecolor": "white",
            "ticks": ""
           },
           "bgcolor": "#E5ECF6",
           "radialaxis": {
            "gridcolor": "white",
            "linecolor": "white",
            "ticks": ""
           }
          },
          "scene": {
           "xaxis": {
            "backgroundcolor": "#E5ECF6",
            "gridcolor": "white",
            "gridwidth": 2,
            "linecolor": "white",
            "showbackground": true,
            "ticks": "",
            "zerolinecolor": "white"
           },
           "yaxis": {
            "backgroundcolor": "#E5ECF6",
            "gridcolor": "white",
            "gridwidth": 2,
            "linecolor": "white",
            "showbackground": true,
            "ticks": "",
            "zerolinecolor": "white"
           },
           "zaxis": {
            "backgroundcolor": "#E5ECF6",
            "gridcolor": "white",
            "gridwidth": 2,
            "linecolor": "white",
            "showbackground": true,
            "ticks": "",
            "zerolinecolor": "white"
           }
          },
          "shapedefaults": {
           "line": {
            "color": "#2a3f5f"
           }
          },
          "ternary": {
           "aaxis": {
            "gridcolor": "white",
            "linecolor": "white",
            "ticks": ""
           },
           "baxis": {
            "gridcolor": "white",
            "linecolor": "white",
            "ticks": ""
           },
           "bgcolor": "#E5ECF6",
           "caxis": {
            "gridcolor": "white",
            "linecolor": "white",
            "ticks": ""
           }
          },
          "title": {
           "x": 0.05
          },
          "xaxis": {
           "automargin": true,
           "gridcolor": "white",
           "linecolor": "white",
           "ticks": "",
           "title": {
            "standoff": 15
           },
           "zerolinecolor": "white",
           "zerolinewidth": 2
          },
          "yaxis": {
           "automargin": true,
           "gridcolor": "white",
           "linecolor": "white",
           "ticks": "",
           "title": {
            "standoff": 15
           },
           "zerolinecolor": "white",
           "zerolinewidth": 2
          }
         }
        },
        "title": {
         "text": "Term Taken Distribution"
        },
        "width": 600
       }
      },
      "text/html": [
       "<div>\n",
       "        \n",
       "        \n",
       "            <div id=\"a2637870-20dd-47c3-9d7b-a784ec29bc2e\" class=\"plotly-graph-div\" style=\"height:400px; width:600px;\"></div>\n",
       "            <script type=\"text/javascript\">\n",
       "                require([\"plotly\"], function(Plotly) {\n",
       "                    window.PLOTLYENV=window.PLOTLYENV || {};\n",
       "                    \n",
       "                if (document.getElementById(\"a2637870-20dd-47c3-9d7b-a784ec29bc2e\")) {\n",
       "                    Plotly.newPlot(\n",
       "                        'a2637870-20dd-47c3-9d7b-a784ec29bc2e',\n",
       "                        [{\"name\": \"Term Taken\", \"text\": [0.88, 0.12], \"textposition\": \"inside\", \"type\": \"bar\", \"x\": [\"no\", \"yes\"], \"y\": [0.88, 0.12]}],\n",
       "                        {\"autosize\": false, \"height\": 400, \"template\": {\"data\": {\"bar\": [{\"error_x\": {\"color\": \"#2a3f5f\"}, \"error_y\": {\"color\": \"#2a3f5f\"}, \"marker\": {\"line\": {\"color\": \"#E5ECF6\", \"width\": 0.5}}, \"type\": \"bar\"}], \"barpolar\": [{\"marker\": {\"line\": {\"color\": \"#E5ECF6\", \"width\": 0.5}}, \"type\": \"barpolar\"}], \"carpet\": [{\"aaxis\": {\"endlinecolor\": \"#2a3f5f\", \"gridcolor\": \"white\", \"linecolor\": \"white\", \"minorgridcolor\": \"white\", \"startlinecolor\": \"#2a3f5f\"}, \"baxis\": {\"endlinecolor\": \"#2a3f5f\", \"gridcolor\": \"white\", \"linecolor\": \"white\", \"minorgridcolor\": \"white\", \"startlinecolor\": \"#2a3f5f\"}, \"type\": \"carpet\"}], \"choropleth\": [{\"colorbar\": {\"outlinewidth\": 0, \"ticks\": \"\"}, \"type\": \"choropleth\"}], \"contour\": [{\"colorbar\": {\"outlinewidth\": 0, \"ticks\": \"\"}, \"colorscale\": [[0.0, \"#0d0887\"], [0.1111111111111111, \"#46039f\"], [0.2222222222222222, \"#7201a8\"], [0.3333333333333333, \"#9c179e\"], [0.4444444444444444, \"#bd3786\"], [0.5555555555555556, \"#d8576b\"], [0.6666666666666666, \"#ed7953\"], [0.7777777777777778, \"#fb9f3a\"], [0.8888888888888888, \"#fdca26\"], [1.0, \"#f0f921\"]], \"type\": \"contour\"}], \"contourcarpet\": [{\"colorbar\": {\"outlinewidth\": 0, \"ticks\": \"\"}, \"type\": \"contourcarpet\"}], \"heatmap\": [{\"colorbar\": {\"outlinewidth\": 0, \"ticks\": \"\"}, \"colorscale\": [[0.0, \"#0d0887\"], [0.1111111111111111, \"#46039f\"], [0.2222222222222222, \"#7201a8\"], [0.3333333333333333, \"#9c179e\"], [0.4444444444444444, \"#bd3786\"], [0.5555555555555556, \"#d8576b\"], [0.6666666666666666, \"#ed7953\"], [0.7777777777777778, \"#fb9f3a\"], [0.8888888888888888, \"#fdca26\"], [1.0, \"#f0f921\"]], \"type\": \"heatmap\"}], \"heatmapgl\": [{\"colorbar\": {\"outlinewidth\": 0, \"ticks\": \"\"}, \"colorscale\": [[0.0, \"#0d0887\"], [0.1111111111111111, \"#46039f\"], [0.2222222222222222, \"#7201a8\"], [0.3333333333333333, \"#9c179e\"], [0.4444444444444444, \"#bd3786\"], [0.5555555555555556, \"#d8576b\"], [0.6666666666666666, \"#ed7953\"], [0.7777777777777778, \"#fb9f3a\"], [0.8888888888888888, \"#fdca26\"], [1.0, \"#f0f921\"]], \"type\": \"heatmapgl\"}], \"histogram\": [{\"marker\": {\"colorbar\": {\"outlinewidth\": 0, \"ticks\": \"\"}}, \"type\": \"histogram\"}], \"histogram2d\": [{\"colorbar\": {\"outlinewidth\": 0, \"ticks\": \"\"}, \"colorscale\": [[0.0, \"#0d0887\"], [0.1111111111111111, \"#46039f\"], [0.2222222222222222, \"#7201a8\"], [0.3333333333333333, \"#9c179e\"], [0.4444444444444444, \"#bd3786\"], [0.5555555555555556, \"#d8576b\"], [0.6666666666666666, \"#ed7953\"], [0.7777777777777778, \"#fb9f3a\"], [0.8888888888888888, \"#fdca26\"], [1.0, \"#f0f921\"]], \"type\": \"histogram2d\"}], \"histogram2dcontour\": [{\"colorbar\": {\"outlinewidth\": 0, \"ticks\": \"\"}, \"colorscale\": [[0.0, \"#0d0887\"], [0.1111111111111111, \"#46039f\"], [0.2222222222222222, \"#7201a8\"], [0.3333333333333333, \"#9c179e\"], [0.4444444444444444, \"#bd3786\"], [0.5555555555555556, \"#d8576b\"], [0.6666666666666666, \"#ed7953\"], [0.7777777777777778, \"#fb9f3a\"], [0.8888888888888888, \"#fdca26\"], [1.0, \"#f0f921\"]], \"type\": \"histogram2dcontour\"}], \"mesh3d\": [{\"colorbar\": {\"outlinewidth\": 0, \"ticks\": \"\"}, \"type\": \"mesh3d\"}], \"parcoords\": [{\"line\": {\"colorbar\": {\"outlinewidth\": 0, \"ticks\": \"\"}}, \"type\": \"parcoords\"}], \"pie\": [{\"automargin\": true, \"type\": \"pie\"}], \"scatter\": [{\"marker\": {\"colorbar\": {\"outlinewidth\": 0, \"ticks\": \"\"}}, \"type\": \"scatter\"}], \"scatter3d\": [{\"line\": {\"colorbar\": {\"outlinewidth\": 0, \"ticks\": \"\"}}, \"marker\": {\"colorbar\": {\"outlinewidth\": 0, \"ticks\": \"\"}}, \"type\": \"scatter3d\"}], \"scattercarpet\": [{\"marker\": {\"colorbar\": {\"outlinewidth\": 0, \"ticks\": \"\"}}, \"type\": \"scattercarpet\"}], \"scattergeo\": [{\"marker\": {\"colorbar\": {\"outlinewidth\": 0, \"ticks\": \"\"}}, \"type\": \"scattergeo\"}], \"scattergl\": [{\"marker\": {\"colorbar\": {\"outlinewidth\": 0, \"ticks\": \"\"}}, \"type\": \"scattergl\"}], \"scattermapbox\": [{\"marker\": {\"colorbar\": {\"outlinewidth\": 0, \"ticks\": \"\"}}, \"type\": \"scattermapbox\"}], \"scatterpolar\": [{\"marker\": {\"colorbar\": {\"outlinewidth\": 0, \"ticks\": \"\"}}, \"type\": \"scatterpolar\"}], \"scatterpolargl\": [{\"marker\": {\"colorbar\": {\"outlinewidth\": 0, \"ticks\": \"\"}}, \"type\": \"scatterpolargl\"}], \"scatterternary\": [{\"marker\": {\"colorbar\": {\"outlinewidth\": 0, \"ticks\": \"\"}}, \"type\": \"scatterternary\"}], \"surface\": [{\"colorbar\": {\"outlinewidth\": 0, \"ticks\": \"\"}, \"colorscale\": [[0.0, \"#0d0887\"], [0.1111111111111111, \"#46039f\"], [0.2222222222222222, \"#7201a8\"], [0.3333333333333333, \"#9c179e\"], [0.4444444444444444, \"#bd3786\"], [0.5555555555555556, \"#d8576b\"], [0.6666666666666666, \"#ed7953\"], [0.7777777777777778, \"#fb9f3a\"], [0.8888888888888888, \"#fdca26\"], [1.0, \"#f0f921\"]], \"type\": \"surface\"}], \"table\": [{\"cells\": {\"fill\": {\"color\": \"#EBF0F8\"}, \"line\": {\"color\": \"white\"}}, \"header\": {\"fill\": {\"color\": \"#C8D4E3\"}, \"line\": {\"color\": \"white\"}}, \"type\": \"table\"}]}, \"layout\": {\"annotationdefaults\": {\"arrowcolor\": \"#2a3f5f\", \"arrowhead\": 0, \"arrowwidth\": 1}, \"coloraxis\": {\"colorbar\": {\"outlinewidth\": 0, \"ticks\": \"\"}}, \"colorscale\": {\"diverging\": [[0, \"#8e0152\"], [0.1, \"#c51b7d\"], [0.2, \"#de77ae\"], [0.3, \"#f1b6da\"], [0.4, \"#fde0ef\"], [0.5, \"#f7f7f7\"], [0.6, \"#e6f5d0\"], [0.7, \"#b8e186\"], [0.8, \"#7fbc41\"], [0.9, \"#4d9221\"], [1, \"#276419\"]], \"sequential\": [[0.0, \"#0d0887\"], [0.1111111111111111, \"#46039f\"], [0.2222222222222222, \"#7201a8\"], [0.3333333333333333, \"#9c179e\"], [0.4444444444444444, \"#bd3786\"], [0.5555555555555556, \"#d8576b\"], [0.6666666666666666, \"#ed7953\"], [0.7777777777777778, \"#fb9f3a\"], [0.8888888888888888, \"#fdca26\"], [1.0, \"#f0f921\"]], \"sequentialminus\": [[0.0, \"#0d0887\"], [0.1111111111111111, \"#46039f\"], [0.2222222222222222, \"#7201a8\"], [0.3333333333333333, \"#9c179e\"], [0.4444444444444444, \"#bd3786\"], [0.5555555555555556, \"#d8576b\"], [0.6666666666666666, \"#ed7953\"], [0.7777777777777778, \"#fb9f3a\"], [0.8888888888888888, \"#fdca26\"], [1.0, \"#f0f921\"]]}, \"colorway\": [\"#636efa\", \"#EF553B\", \"#00cc96\", \"#ab63fa\", \"#FFA15A\", \"#19d3f3\", \"#FF6692\", \"#B6E880\", \"#FF97FF\", \"#FECB52\"], \"font\": {\"color\": \"#2a3f5f\"}, \"geo\": {\"bgcolor\": \"white\", \"lakecolor\": \"white\", \"landcolor\": \"#E5ECF6\", \"showlakes\": true, \"showland\": true, \"subunitcolor\": \"white\"}, \"hoverlabel\": {\"align\": \"left\"}, \"hovermode\": \"closest\", \"mapbox\": {\"style\": \"light\"}, \"paper_bgcolor\": \"white\", \"plot_bgcolor\": \"#E5ECF6\", \"polar\": {\"angularaxis\": {\"gridcolor\": \"white\", \"linecolor\": \"white\", \"ticks\": \"\"}, \"bgcolor\": \"#E5ECF6\", \"radialaxis\": {\"gridcolor\": \"white\", \"linecolor\": \"white\", \"ticks\": \"\"}}, \"scene\": {\"xaxis\": {\"backgroundcolor\": \"#E5ECF6\", \"gridcolor\": \"white\", \"gridwidth\": 2, \"linecolor\": \"white\", \"showbackground\": true, \"ticks\": \"\", \"zerolinecolor\": \"white\"}, \"yaxis\": {\"backgroundcolor\": \"#E5ECF6\", \"gridcolor\": \"white\", \"gridwidth\": 2, \"linecolor\": \"white\", \"showbackground\": true, \"ticks\": \"\", \"zerolinecolor\": \"white\"}, \"zaxis\": {\"backgroundcolor\": \"#E5ECF6\", \"gridcolor\": \"white\", \"gridwidth\": 2, \"linecolor\": \"white\", \"showbackground\": true, \"ticks\": \"\", \"zerolinecolor\": \"white\"}}, \"shapedefaults\": {\"line\": {\"color\": \"#2a3f5f\"}}, \"ternary\": {\"aaxis\": {\"gridcolor\": \"white\", \"linecolor\": \"white\", \"ticks\": \"\"}, \"baxis\": {\"gridcolor\": \"white\", \"linecolor\": \"white\", \"ticks\": \"\"}, \"bgcolor\": \"#E5ECF6\", \"caxis\": {\"gridcolor\": \"white\", \"linecolor\": \"white\", \"ticks\": \"\"}}, \"title\": {\"x\": 0.05}, \"xaxis\": {\"automargin\": true, \"gridcolor\": \"white\", \"linecolor\": \"white\", \"ticks\": \"\", \"title\": {\"standoff\": 15}, \"zerolinecolor\": \"white\", \"zerolinewidth\": 2}, \"yaxis\": {\"automargin\": true, \"gridcolor\": \"white\", \"linecolor\": \"white\", \"ticks\": \"\", \"title\": {\"standoff\": 15}, \"zerolinecolor\": \"white\", \"zerolinewidth\": 2}}}, \"title\": {\"text\": \"Term Taken Distribution\"}, \"width\": 600},\n",
       "                        {\"responsive\": true}\n",
       "                    ).then(function(){\n",
       "                            \n",
       "var gd = document.getElementById('a2637870-20dd-47c3-9d7b-a784ec29bc2e');\n",
       "var x = new MutationObserver(function (mutations, observer) {{\n",
       "        var display = window.getComputedStyle(gd).display;\n",
       "        if (!display || display === 'none') {{\n",
       "            console.log([gd, 'removed!']);\n",
       "            Plotly.purge(gd);\n",
       "            observer.disconnect();\n",
       "        }}\n",
       "}});\n",
       "\n",
       "// Listen for the removal of the full notebook cells\n",
       "var notebookContainer = gd.closest('#notebook-container');\n",
       "if (notebookContainer) {{\n",
       "    x.observe(notebookContainer, {childList: true});\n",
       "}}\n",
       "\n",
       "// Listen for the clearing of the current output cell\n",
       "var outputEl = gd.closest('.output');\n",
       "if (outputEl) {{\n",
       "    x.observe(outputEl, {childList: true});\n",
       "}}\n",
       "\n",
       "                        })\n",
       "                };\n",
       "                });\n",
       "            </script>\n",
       "        </div>"
      ]
     },
     "metadata": {},
     "output_type": "display_data"
    }
   ],
   "source": [
    "temp = bank_data.y.value_counts()\n",
    "\n",
    "trace = go.Bar(x=temp.index,  y= np.round(temp.astype(float)/temp.values.sum(),2),\n",
    "               text = np.round(temp.astype(float)/temp.values.sum(),2),\n",
    "               textposition = 'inside',\n",
    "               name = 'Term Taken')\n",
    "data = [trace]\n",
    "layout = go.Layout(autosize=False, width=600, height=400,title = \"Term Taken Distribution\")\n",
    "\n",
    "fig = go.Figure(data=data, layout=layout)\n",
    "iplot(fig)\n",
    "#del temp"
   ]
  },
  {
   "cell_type": "code",
   "execution_count": 19,
   "metadata": {},
   "outputs": [
    {
     "data": {
      "application/vnd.plotly.v1+json": {
       "config": {
        "linkText": "Export to plot.ly",
        "plotlyServerURL": "https://plot.ly",
        "showLink": false
       },
       "data": [
        {
         "name": "Term Taken",
         "type": "bar",
         "x": [
          "no",
          "yes"
         ],
         "y": [
          4000,
          521
         ]
        }
       ],
       "layout": {
        "autosize": false,
        "height": 400,
        "template": {
         "data": {
          "bar": [
           {
            "error_x": {
             "color": "#2a3f5f"
            },
            "error_y": {
             "color": "#2a3f5f"
            },
            "marker": {
             "line": {
              "color": "#E5ECF6",
              "width": 0.5
             }
            },
            "type": "bar"
           }
          ],
          "barpolar": [
           {
            "marker": {
             "line": {
              "color": "#E5ECF6",
              "width": 0.5
             }
            },
            "type": "barpolar"
           }
          ],
          "carpet": [
           {
            "aaxis": {
             "endlinecolor": "#2a3f5f",
             "gridcolor": "white",
             "linecolor": "white",
             "minorgridcolor": "white",
             "startlinecolor": "#2a3f5f"
            },
            "baxis": {
             "endlinecolor": "#2a3f5f",
             "gridcolor": "white",
             "linecolor": "white",
             "minorgridcolor": "white",
             "startlinecolor": "#2a3f5f"
            },
            "type": "carpet"
           }
          ],
          "choropleth": [
           {
            "colorbar": {
             "outlinewidth": 0,
             "ticks": ""
            },
            "type": "choropleth"
           }
          ],
          "contour": [
           {
            "colorbar": {
             "outlinewidth": 0,
             "ticks": ""
            },
            "colorscale": [
             [
              0,
              "#0d0887"
             ],
             [
              0.1111111111111111,
              "#46039f"
             ],
             [
              0.2222222222222222,
              "#7201a8"
             ],
             [
              0.3333333333333333,
              "#9c179e"
             ],
             [
              0.4444444444444444,
              "#bd3786"
             ],
             [
              0.5555555555555556,
              "#d8576b"
             ],
             [
              0.6666666666666666,
              "#ed7953"
             ],
             [
              0.7777777777777778,
              "#fb9f3a"
             ],
             [
              0.8888888888888888,
              "#fdca26"
             ],
             [
              1,
              "#f0f921"
             ]
            ],
            "type": "contour"
           }
          ],
          "contourcarpet": [
           {
            "colorbar": {
             "outlinewidth": 0,
             "ticks": ""
            },
            "type": "contourcarpet"
           }
          ],
          "heatmap": [
           {
            "colorbar": {
             "outlinewidth": 0,
             "ticks": ""
            },
            "colorscale": [
             [
              0,
              "#0d0887"
             ],
             [
              0.1111111111111111,
              "#46039f"
             ],
             [
              0.2222222222222222,
              "#7201a8"
             ],
             [
              0.3333333333333333,
              "#9c179e"
             ],
             [
              0.4444444444444444,
              "#bd3786"
             ],
             [
              0.5555555555555556,
              "#d8576b"
             ],
             [
              0.6666666666666666,
              "#ed7953"
             ],
             [
              0.7777777777777778,
              "#fb9f3a"
             ],
             [
              0.8888888888888888,
              "#fdca26"
             ],
             [
              1,
              "#f0f921"
             ]
            ],
            "type": "heatmap"
           }
          ],
          "heatmapgl": [
           {
            "colorbar": {
             "outlinewidth": 0,
             "ticks": ""
            },
            "colorscale": [
             [
              0,
              "#0d0887"
             ],
             [
              0.1111111111111111,
              "#46039f"
             ],
             [
              0.2222222222222222,
              "#7201a8"
             ],
             [
              0.3333333333333333,
              "#9c179e"
             ],
             [
              0.4444444444444444,
              "#bd3786"
             ],
             [
              0.5555555555555556,
              "#d8576b"
             ],
             [
              0.6666666666666666,
              "#ed7953"
             ],
             [
              0.7777777777777778,
              "#fb9f3a"
             ],
             [
              0.8888888888888888,
              "#fdca26"
             ],
             [
              1,
              "#f0f921"
             ]
            ],
            "type": "heatmapgl"
           }
          ],
          "histogram": [
           {
            "marker": {
             "colorbar": {
              "outlinewidth": 0,
              "ticks": ""
             }
            },
            "type": "histogram"
           }
          ],
          "histogram2d": [
           {
            "colorbar": {
             "outlinewidth": 0,
             "ticks": ""
            },
            "colorscale": [
             [
              0,
              "#0d0887"
             ],
             [
              0.1111111111111111,
              "#46039f"
             ],
             [
              0.2222222222222222,
              "#7201a8"
             ],
             [
              0.3333333333333333,
              "#9c179e"
             ],
             [
              0.4444444444444444,
              "#bd3786"
             ],
             [
              0.5555555555555556,
              "#d8576b"
             ],
             [
              0.6666666666666666,
              "#ed7953"
             ],
             [
              0.7777777777777778,
              "#fb9f3a"
             ],
             [
              0.8888888888888888,
              "#fdca26"
             ],
             [
              1,
              "#f0f921"
             ]
            ],
            "type": "histogram2d"
           }
          ],
          "histogram2dcontour": [
           {
            "colorbar": {
             "outlinewidth": 0,
             "ticks": ""
            },
            "colorscale": [
             [
              0,
              "#0d0887"
             ],
             [
              0.1111111111111111,
              "#46039f"
             ],
             [
              0.2222222222222222,
              "#7201a8"
             ],
             [
              0.3333333333333333,
              "#9c179e"
             ],
             [
              0.4444444444444444,
              "#bd3786"
             ],
             [
              0.5555555555555556,
              "#d8576b"
             ],
             [
              0.6666666666666666,
              "#ed7953"
             ],
             [
              0.7777777777777778,
              "#fb9f3a"
             ],
             [
              0.8888888888888888,
              "#fdca26"
             ],
             [
              1,
              "#f0f921"
             ]
            ],
            "type": "histogram2dcontour"
           }
          ],
          "mesh3d": [
           {
            "colorbar": {
             "outlinewidth": 0,
             "ticks": ""
            },
            "type": "mesh3d"
           }
          ],
          "parcoords": [
           {
            "line": {
             "colorbar": {
              "outlinewidth": 0,
              "ticks": ""
             }
            },
            "type": "parcoords"
           }
          ],
          "pie": [
           {
            "automargin": true,
            "type": "pie"
           }
          ],
          "scatter": [
           {
            "marker": {
             "colorbar": {
              "outlinewidth": 0,
              "ticks": ""
             }
            },
            "type": "scatter"
           }
          ],
          "scatter3d": [
           {
            "line": {
             "colorbar": {
              "outlinewidth": 0,
              "ticks": ""
             }
            },
            "marker": {
             "colorbar": {
              "outlinewidth": 0,
              "ticks": ""
             }
            },
            "type": "scatter3d"
           }
          ],
          "scattercarpet": [
           {
            "marker": {
             "colorbar": {
              "outlinewidth": 0,
              "ticks": ""
             }
            },
            "type": "scattercarpet"
           }
          ],
          "scattergeo": [
           {
            "marker": {
             "colorbar": {
              "outlinewidth": 0,
              "ticks": ""
             }
            },
            "type": "scattergeo"
           }
          ],
          "scattergl": [
           {
            "marker": {
             "colorbar": {
              "outlinewidth": 0,
              "ticks": ""
             }
            },
            "type": "scattergl"
           }
          ],
          "scattermapbox": [
           {
            "marker": {
             "colorbar": {
              "outlinewidth": 0,
              "ticks": ""
             }
            },
            "type": "scattermapbox"
           }
          ],
          "scatterpolar": [
           {
            "marker": {
             "colorbar": {
              "outlinewidth": 0,
              "ticks": ""
             }
            },
            "type": "scatterpolar"
           }
          ],
          "scatterpolargl": [
           {
            "marker": {
             "colorbar": {
              "outlinewidth": 0,
              "ticks": ""
             }
            },
            "type": "scatterpolargl"
           }
          ],
          "scatterternary": [
           {
            "marker": {
             "colorbar": {
              "outlinewidth": 0,
              "ticks": ""
             }
            },
            "type": "scatterternary"
           }
          ],
          "surface": [
           {
            "colorbar": {
             "outlinewidth": 0,
             "ticks": ""
            },
            "colorscale": [
             [
              0,
              "#0d0887"
             ],
             [
              0.1111111111111111,
              "#46039f"
             ],
             [
              0.2222222222222222,
              "#7201a8"
             ],
             [
              0.3333333333333333,
              "#9c179e"
             ],
             [
              0.4444444444444444,
              "#bd3786"
             ],
             [
              0.5555555555555556,
              "#d8576b"
             ],
             [
              0.6666666666666666,
              "#ed7953"
             ],
             [
              0.7777777777777778,
              "#fb9f3a"
             ],
             [
              0.8888888888888888,
              "#fdca26"
             ],
             [
              1,
              "#f0f921"
             ]
            ],
            "type": "surface"
           }
          ],
          "table": [
           {
            "cells": {
             "fill": {
              "color": "#EBF0F8"
             },
             "line": {
              "color": "white"
             }
            },
            "header": {
             "fill": {
              "color": "#C8D4E3"
             },
             "line": {
              "color": "white"
             }
            },
            "type": "table"
           }
          ]
         },
         "layout": {
          "annotationdefaults": {
           "arrowcolor": "#2a3f5f",
           "arrowhead": 0,
           "arrowwidth": 1
          },
          "coloraxis": {
           "colorbar": {
            "outlinewidth": 0,
            "ticks": ""
           }
          },
          "colorscale": {
           "diverging": [
            [
             0,
             "#8e0152"
            ],
            [
             0.1,
             "#c51b7d"
            ],
            [
             0.2,
             "#de77ae"
            ],
            [
             0.3,
             "#f1b6da"
            ],
            [
             0.4,
             "#fde0ef"
            ],
            [
             0.5,
             "#f7f7f7"
            ],
            [
             0.6,
             "#e6f5d0"
            ],
            [
             0.7,
             "#b8e186"
            ],
            [
             0.8,
             "#7fbc41"
            ],
            [
             0.9,
             "#4d9221"
            ],
            [
             1,
             "#276419"
            ]
           ],
           "sequential": [
            [
             0,
             "#0d0887"
            ],
            [
             0.1111111111111111,
             "#46039f"
            ],
            [
             0.2222222222222222,
             "#7201a8"
            ],
            [
             0.3333333333333333,
             "#9c179e"
            ],
            [
             0.4444444444444444,
             "#bd3786"
            ],
            [
             0.5555555555555556,
             "#d8576b"
            ],
            [
             0.6666666666666666,
             "#ed7953"
            ],
            [
             0.7777777777777778,
             "#fb9f3a"
            ],
            [
             0.8888888888888888,
             "#fdca26"
            ],
            [
             1,
             "#f0f921"
            ]
           ],
           "sequentialminus": [
            [
             0,
             "#0d0887"
            ],
            [
             0.1111111111111111,
             "#46039f"
            ],
            [
             0.2222222222222222,
             "#7201a8"
            ],
            [
             0.3333333333333333,
             "#9c179e"
            ],
            [
             0.4444444444444444,
             "#bd3786"
            ],
            [
             0.5555555555555556,
             "#d8576b"
            ],
            [
             0.6666666666666666,
             "#ed7953"
            ],
            [
             0.7777777777777778,
             "#fb9f3a"
            ],
            [
             0.8888888888888888,
             "#fdca26"
            ],
            [
             1,
             "#f0f921"
            ]
           ]
          },
          "colorway": [
           "#636efa",
           "#EF553B",
           "#00cc96",
           "#ab63fa",
           "#FFA15A",
           "#19d3f3",
           "#FF6692",
           "#B6E880",
           "#FF97FF",
           "#FECB52"
          ],
          "font": {
           "color": "#2a3f5f"
          },
          "geo": {
           "bgcolor": "white",
           "lakecolor": "white",
           "landcolor": "#E5ECF6",
           "showlakes": true,
           "showland": true,
           "subunitcolor": "white"
          },
          "hoverlabel": {
           "align": "left"
          },
          "hovermode": "closest",
          "mapbox": {
           "style": "light"
          },
          "paper_bgcolor": "white",
          "plot_bgcolor": "#E5ECF6",
          "polar": {
           "angularaxis": {
            "gridcolor": "white",
            "linecolor": "white",
            "ticks": ""
           },
           "bgcolor": "#E5ECF6",
           "radialaxis": {
            "gridcolor": "white",
            "linecolor": "white",
            "ticks": ""
           }
          },
          "scene": {
           "xaxis": {
            "backgroundcolor": "#E5ECF6",
            "gridcolor": "white",
            "gridwidth": 2,
            "linecolor": "white",
            "showbackground": true,
            "ticks": "",
            "zerolinecolor": "white"
           },
           "yaxis": {
            "backgroundcolor": "#E5ECF6",
            "gridcolor": "white",
            "gridwidth": 2,
            "linecolor": "white",
            "showbackground": true,
            "ticks": "",
            "zerolinecolor": "white"
           },
           "zaxis": {
            "backgroundcolor": "#E5ECF6",
            "gridcolor": "white",
            "gridwidth": 2,
            "linecolor": "white",
            "showbackground": true,
            "ticks": "",
            "zerolinecolor": "white"
           }
          },
          "shapedefaults": {
           "line": {
            "color": "#2a3f5f"
           }
          },
          "ternary": {
           "aaxis": {
            "gridcolor": "white",
            "linecolor": "white",
            "ticks": ""
           },
           "baxis": {
            "gridcolor": "white",
            "linecolor": "white",
            "ticks": ""
           },
           "bgcolor": "#E5ECF6",
           "caxis": {
            "gridcolor": "white",
            "linecolor": "white",
            "ticks": ""
           }
          },
          "title": {
           "x": 0.05
          },
          "xaxis": {
           "automargin": true,
           "gridcolor": "white",
           "linecolor": "white",
           "ticks": "",
           "title": {
            "standoff": 15
           },
           "zerolinecolor": "white",
           "zerolinewidth": 2
          },
          "yaxis": {
           "automargin": true,
           "gridcolor": "white",
           "linecolor": "white",
           "ticks": "",
           "title": {
            "standoff": 15
           },
           "zerolinecolor": "white",
           "zerolinewidth": 2
          }
         }
        },
        "title": {
         "text": "Term Taken Distribution"
        },
        "width": 600
       }
      },
      "text/html": [
       "<div>\n",
       "        \n",
       "        \n",
       "            <div id=\"6ff8264a-6da5-417e-a637-e3446a59c265\" class=\"plotly-graph-div\" style=\"height:400px; width:600px;\"></div>\n",
       "            <script type=\"text/javascript\">\n",
       "                require([\"plotly\"], function(Plotly) {\n",
       "                    window.PLOTLYENV=window.PLOTLYENV || {};\n",
       "                    \n",
       "                if (document.getElementById(\"6ff8264a-6da5-417e-a637-e3446a59c265\")) {\n",
       "                    Plotly.newPlot(\n",
       "                        '6ff8264a-6da5-417e-a637-e3446a59c265',\n",
       "                        [{\"name\": \"Term Taken\", \"type\": \"bar\", \"x\": [\"no\", \"yes\"], \"y\": [4000, 521]}],\n",
       "                        {\"autosize\": false, \"height\": 400, \"template\": {\"data\": {\"bar\": [{\"error_x\": {\"color\": \"#2a3f5f\"}, \"error_y\": {\"color\": \"#2a3f5f\"}, \"marker\": {\"line\": {\"color\": \"#E5ECF6\", \"width\": 0.5}}, \"type\": \"bar\"}], \"barpolar\": [{\"marker\": {\"line\": {\"color\": \"#E5ECF6\", \"width\": 0.5}}, \"type\": \"barpolar\"}], \"carpet\": [{\"aaxis\": {\"endlinecolor\": \"#2a3f5f\", \"gridcolor\": \"white\", \"linecolor\": \"white\", \"minorgridcolor\": \"white\", \"startlinecolor\": \"#2a3f5f\"}, \"baxis\": {\"endlinecolor\": \"#2a3f5f\", \"gridcolor\": \"white\", \"linecolor\": \"white\", \"minorgridcolor\": \"white\", \"startlinecolor\": \"#2a3f5f\"}, \"type\": \"carpet\"}], \"choropleth\": [{\"colorbar\": {\"outlinewidth\": 0, \"ticks\": \"\"}, \"type\": \"choropleth\"}], \"contour\": [{\"colorbar\": {\"outlinewidth\": 0, \"ticks\": \"\"}, \"colorscale\": [[0.0, \"#0d0887\"], [0.1111111111111111, \"#46039f\"], [0.2222222222222222, \"#7201a8\"], [0.3333333333333333, \"#9c179e\"], [0.4444444444444444, \"#bd3786\"], [0.5555555555555556, \"#d8576b\"], [0.6666666666666666, \"#ed7953\"], [0.7777777777777778, \"#fb9f3a\"], [0.8888888888888888, \"#fdca26\"], [1.0, \"#f0f921\"]], \"type\": \"contour\"}], \"contourcarpet\": [{\"colorbar\": {\"outlinewidth\": 0, \"ticks\": \"\"}, \"type\": \"contourcarpet\"}], \"heatmap\": [{\"colorbar\": {\"outlinewidth\": 0, \"ticks\": \"\"}, \"colorscale\": [[0.0, \"#0d0887\"], [0.1111111111111111, \"#46039f\"], [0.2222222222222222, \"#7201a8\"], [0.3333333333333333, \"#9c179e\"], [0.4444444444444444, \"#bd3786\"], [0.5555555555555556, \"#d8576b\"], [0.6666666666666666, \"#ed7953\"], [0.7777777777777778, \"#fb9f3a\"], [0.8888888888888888, \"#fdca26\"], [1.0, \"#f0f921\"]], \"type\": \"heatmap\"}], \"heatmapgl\": [{\"colorbar\": {\"outlinewidth\": 0, \"ticks\": \"\"}, \"colorscale\": [[0.0, \"#0d0887\"], [0.1111111111111111, \"#46039f\"], [0.2222222222222222, \"#7201a8\"], [0.3333333333333333, \"#9c179e\"], [0.4444444444444444, \"#bd3786\"], [0.5555555555555556, \"#d8576b\"], [0.6666666666666666, \"#ed7953\"], [0.7777777777777778, \"#fb9f3a\"], [0.8888888888888888, \"#fdca26\"], [1.0, \"#f0f921\"]], \"type\": \"heatmapgl\"}], \"histogram\": [{\"marker\": {\"colorbar\": {\"outlinewidth\": 0, \"ticks\": \"\"}}, \"type\": \"histogram\"}], \"histogram2d\": [{\"colorbar\": {\"outlinewidth\": 0, \"ticks\": \"\"}, \"colorscale\": [[0.0, \"#0d0887\"], [0.1111111111111111, \"#46039f\"], [0.2222222222222222, \"#7201a8\"], [0.3333333333333333, \"#9c179e\"], [0.4444444444444444, \"#bd3786\"], [0.5555555555555556, \"#d8576b\"], [0.6666666666666666, \"#ed7953\"], [0.7777777777777778, \"#fb9f3a\"], [0.8888888888888888, \"#fdca26\"], [1.0, \"#f0f921\"]], \"type\": \"histogram2d\"}], \"histogram2dcontour\": [{\"colorbar\": {\"outlinewidth\": 0, \"ticks\": \"\"}, \"colorscale\": [[0.0, \"#0d0887\"], [0.1111111111111111, \"#46039f\"], [0.2222222222222222, \"#7201a8\"], [0.3333333333333333, \"#9c179e\"], [0.4444444444444444, \"#bd3786\"], [0.5555555555555556, \"#d8576b\"], [0.6666666666666666, \"#ed7953\"], [0.7777777777777778, \"#fb9f3a\"], [0.8888888888888888, \"#fdca26\"], [1.0, \"#f0f921\"]], \"type\": \"histogram2dcontour\"}], \"mesh3d\": [{\"colorbar\": {\"outlinewidth\": 0, \"ticks\": \"\"}, \"type\": \"mesh3d\"}], \"parcoords\": [{\"line\": {\"colorbar\": {\"outlinewidth\": 0, \"ticks\": \"\"}}, \"type\": \"parcoords\"}], \"pie\": [{\"automargin\": true, \"type\": \"pie\"}], \"scatter\": [{\"marker\": {\"colorbar\": {\"outlinewidth\": 0, \"ticks\": \"\"}}, \"type\": \"scatter\"}], \"scatter3d\": [{\"line\": {\"colorbar\": {\"outlinewidth\": 0, \"ticks\": \"\"}}, \"marker\": {\"colorbar\": {\"outlinewidth\": 0, \"ticks\": \"\"}}, \"type\": \"scatter3d\"}], \"scattercarpet\": [{\"marker\": {\"colorbar\": {\"outlinewidth\": 0, \"ticks\": \"\"}}, \"type\": \"scattercarpet\"}], \"scattergeo\": [{\"marker\": {\"colorbar\": {\"outlinewidth\": 0, \"ticks\": \"\"}}, \"type\": \"scattergeo\"}], \"scattergl\": [{\"marker\": {\"colorbar\": {\"outlinewidth\": 0, \"ticks\": \"\"}}, \"type\": \"scattergl\"}], \"scattermapbox\": [{\"marker\": {\"colorbar\": {\"outlinewidth\": 0, \"ticks\": \"\"}}, \"type\": \"scattermapbox\"}], \"scatterpolar\": [{\"marker\": {\"colorbar\": {\"outlinewidth\": 0, \"ticks\": \"\"}}, \"type\": \"scatterpolar\"}], \"scatterpolargl\": [{\"marker\": {\"colorbar\": {\"outlinewidth\": 0, \"ticks\": \"\"}}, \"type\": \"scatterpolargl\"}], \"scatterternary\": [{\"marker\": {\"colorbar\": {\"outlinewidth\": 0, \"ticks\": \"\"}}, \"type\": \"scatterternary\"}], \"surface\": [{\"colorbar\": {\"outlinewidth\": 0, \"ticks\": \"\"}, \"colorscale\": [[0.0, \"#0d0887\"], [0.1111111111111111, \"#46039f\"], [0.2222222222222222, \"#7201a8\"], [0.3333333333333333, \"#9c179e\"], [0.4444444444444444, \"#bd3786\"], [0.5555555555555556, \"#d8576b\"], [0.6666666666666666, \"#ed7953\"], [0.7777777777777778, \"#fb9f3a\"], [0.8888888888888888, \"#fdca26\"], [1.0, \"#f0f921\"]], \"type\": \"surface\"}], \"table\": [{\"cells\": {\"fill\": {\"color\": \"#EBF0F8\"}, \"line\": {\"color\": \"white\"}}, \"header\": {\"fill\": {\"color\": \"#C8D4E3\"}, \"line\": {\"color\": \"white\"}}, \"type\": \"table\"}]}, \"layout\": {\"annotationdefaults\": {\"arrowcolor\": \"#2a3f5f\", \"arrowhead\": 0, \"arrowwidth\": 1}, \"coloraxis\": {\"colorbar\": {\"outlinewidth\": 0, \"ticks\": \"\"}}, \"colorscale\": {\"diverging\": [[0, \"#8e0152\"], [0.1, \"#c51b7d\"], [0.2, \"#de77ae\"], [0.3, \"#f1b6da\"], [0.4, \"#fde0ef\"], [0.5, \"#f7f7f7\"], [0.6, \"#e6f5d0\"], [0.7, \"#b8e186\"], [0.8, \"#7fbc41\"], [0.9, \"#4d9221\"], [1, \"#276419\"]], \"sequential\": [[0.0, \"#0d0887\"], [0.1111111111111111, \"#46039f\"], [0.2222222222222222, \"#7201a8\"], [0.3333333333333333, \"#9c179e\"], [0.4444444444444444, \"#bd3786\"], [0.5555555555555556, \"#d8576b\"], [0.6666666666666666, \"#ed7953\"], [0.7777777777777778, \"#fb9f3a\"], [0.8888888888888888, \"#fdca26\"], [1.0, \"#f0f921\"]], \"sequentialminus\": [[0.0, \"#0d0887\"], [0.1111111111111111, \"#46039f\"], [0.2222222222222222, \"#7201a8\"], [0.3333333333333333, \"#9c179e\"], [0.4444444444444444, \"#bd3786\"], [0.5555555555555556, \"#d8576b\"], [0.6666666666666666, \"#ed7953\"], [0.7777777777777778, \"#fb9f3a\"], [0.8888888888888888, \"#fdca26\"], [1.0, \"#f0f921\"]]}, \"colorway\": [\"#636efa\", \"#EF553B\", \"#00cc96\", \"#ab63fa\", \"#FFA15A\", \"#19d3f3\", \"#FF6692\", \"#B6E880\", \"#FF97FF\", \"#FECB52\"], \"font\": {\"color\": \"#2a3f5f\"}, \"geo\": {\"bgcolor\": \"white\", \"lakecolor\": \"white\", \"landcolor\": \"#E5ECF6\", \"showlakes\": true, \"showland\": true, \"subunitcolor\": \"white\"}, \"hoverlabel\": {\"align\": \"left\"}, \"hovermode\": \"closest\", \"mapbox\": {\"style\": \"light\"}, \"paper_bgcolor\": \"white\", \"plot_bgcolor\": \"#E5ECF6\", \"polar\": {\"angularaxis\": {\"gridcolor\": \"white\", \"linecolor\": \"white\", \"ticks\": \"\"}, \"bgcolor\": \"#E5ECF6\", \"radialaxis\": {\"gridcolor\": \"white\", \"linecolor\": \"white\", \"ticks\": \"\"}}, \"scene\": {\"xaxis\": {\"backgroundcolor\": \"#E5ECF6\", \"gridcolor\": \"white\", \"gridwidth\": 2, \"linecolor\": \"white\", \"showbackground\": true, \"ticks\": \"\", \"zerolinecolor\": \"white\"}, \"yaxis\": {\"backgroundcolor\": \"#E5ECF6\", \"gridcolor\": \"white\", \"gridwidth\": 2, \"linecolor\": \"white\", \"showbackground\": true, \"ticks\": \"\", \"zerolinecolor\": \"white\"}, \"zaxis\": {\"backgroundcolor\": \"#E5ECF6\", \"gridcolor\": \"white\", \"gridwidth\": 2, \"linecolor\": \"white\", \"showbackground\": true, \"ticks\": \"\", \"zerolinecolor\": \"white\"}}, \"shapedefaults\": {\"line\": {\"color\": \"#2a3f5f\"}}, \"ternary\": {\"aaxis\": {\"gridcolor\": \"white\", \"linecolor\": \"white\", \"ticks\": \"\"}, \"baxis\": {\"gridcolor\": \"white\", \"linecolor\": \"white\", \"ticks\": \"\"}, \"bgcolor\": \"#E5ECF6\", \"caxis\": {\"gridcolor\": \"white\", \"linecolor\": \"white\", \"ticks\": \"\"}}, \"title\": {\"x\": 0.05}, \"xaxis\": {\"automargin\": true, \"gridcolor\": \"white\", \"linecolor\": \"white\", \"ticks\": \"\", \"title\": {\"standoff\": 15}, \"zerolinecolor\": \"white\", \"zerolinewidth\": 2}, \"yaxis\": {\"automargin\": true, \"gridcolor\": \"white\", \"linecolor\": \"white\", \"ticks\": \"\", \"title\": {\"standoff\": 15}, \"zerolinecolor\": \"white\", \"zerolinewidth\": 2}}}, \"title\": {\"text\": \"Term Taken Distribution\"}, \"width\": 600},\n",
       "                        {\"responsive\": true}\n",
       "                    ).then(function(){\n",
       "                            \n",
       "var gd = document.getElementById('6ff8264a-6da5-417e-a637-e3446a59c265');\n",
       "var x = new MutationObserver(function (mutations, observer) {{\n",
       "        var display = window.getComputedStyle(gd).display;\n",
       "        if (!display || display === 'none') {{\n",
       "            console.log([gd, 'removed!']);\n",
       "            Plotly.purge(gd);\n",
       "            observer.disconnect();\n",
       "        }}\n",
       "}});\n",
       "\n",
       "// Listen for the removal of the full notebook cells\n",
       "var notebookContainer = gd.closest('#notebook-container');\n",
       "if (notebookContainer) {{\n",
       "    x.observe(notebookContainer, {childList: true});\n",
       "}}\n",
       "\n",
       "// Listen for the clearing of the current output cell\n",
       "var outputEl = gd.closest('.output');\n",
       "if (outputEl) {{\n",
       "    x.observe(outputEl, {childList: true});\n",
       "}}\n",
       "\n",
       "                        })\n",
       "                };\n",
       "                });\n",
       "            </script>\n",
       "        </div>"
      ]
     },
     "metadata": {},
     "output_type": "display_data"
    }
   ],
   "source": [
    "temp = bank_data.y.value_counts()\n",
    "\n",
    "trace = go.Bar(x=temp.index,  y= temp.values,  name = 'Term Taken')\n",
    "data = [trace]\n",
    "layout = go.Layout(autosize=False, width=600, height=400,title = \"Term Taken Distribution\")\n",
    "\n",
    "fig = go.Figure(data=data, layout=layout)\n",
    "iplot(fig)\n",
    "#del temp"
   ]
  },
  {
   "cell_type": "code",
   "execution_count": 20,
   "metadata": {},
   "outputs": [
    {
     "data": {
      "application/vnd.plotly.v1+json": {
       "config": {
        "linkText": "Export to plot.ly",
        "plotlyServerURL": "https://plot.ly",
        "showLink": false
       },
       "data": [
        {
         "marker": {
          "color": "#CC0E1D"
         },
         "type": "histogram",
         "x": [
          30,
          33,
          35,
          30,
          59,
          35,
          36,
          39,
          41,
          43,
          39,
          43,
          36,
          20,
          31,
          40,
          56,
          37,
          25,
          31,
          38,
          42,
          44,
          44,
          26,
          41,
          55,
          67,
          56,
          53,
          68,
          31,
          59,
          32,
          49,
          42,
          78,
          32,
          33,
          23,
          38,
          36,
          52,
          32,
          32,
          34,
          55,
          26,
          32,
          61,
          45,
          37,
          38,
          34,
          53,
          48,
          57,
          33,
          36,
          54,
          41,
          63,
          48,
          48,
          56,
          51,
          31,
          29,
          41,
          32,
          37,
          42,
          31,
          41,
          56,
          54,
          41,
          40,
          50,
          40,
          27,
          60,
          28,
          52,
          37,
          51,
          41,
          35,
          38,
          34,
          39,
          34,
          27,
          32,
          57,
          41,
          41,
          30,
          36,
          31,
          36,
          38,
          49,
          57,
          34,
          32,
          37,
          33,
          56,
          27,
          21,
          58,
          32,
          33,
          25,
          25,
          30,
          22,
          39,
          46,
          31,
          45,
          32,
          36,
          51,
          34,
          24,
          45,
          32,
          77,
          41,
          37,
          43,
          48,
          27,
          33,
          29,
          34,
          52,
          60,
          32,
          32,
          56,
          31,
          42,
          35,
          56,
          48,
          46,
          37,
          41,
          36,
          45,
          55,
          39,
          35,
          55,
          55,
          27,
          34,
          34,
          25,
          41,
          43,
          28,
          31,
          78,
          45,
          48,
          32,
          42,
          37,
          40,
          32,
          42,
          43,
          44,
          37,
          37,
          37,
          28,
          32,
          34,
          40,
          34,
          34,
          34,
          37,
          36,
          56,
          49,
          33,
          30,
          36,
          23,
          57,
          27,
          38,
          42,
          75,
          34,
          48,
          35,
          39,
          29,
          45,
          42,
          29,
          38,
          56,
          36,
          25,
          38,
          57,
          31,
          42,
          45,
          30,
          49,
          49,
          53,
          37,
          49,
          41,
          54,
          32,
          33,
          33,
          36,
          35,
          52,
          40,
          44,
          45,
          30,
          48,
          33,
          57,
          57,
          51,
          34,
          50,
          44,
          27,
          50,
          36,
          42,
          32,
          42,
          43,
          31,
          32,
          55,
          58,
          46,
          55,
          34,
          28,
          42,
          29,
          54,
          32,
          39,
          53,
          58,
          40,
          29,
          33,
          38,
          56,
          40,
          24,
          46,
          35,
          35,
          34,
          35,
          38,
          50,
          51,
          59,
          32,
          37,
          42,
          40,
          28,
          47,
          27,
          41,
          34,
          50,
          47,
          53,
          53,
          47,
          49,
          29,
          45,
          38,
          32,
          70,
          65,
          56,
          35,
          56,
          56,
          49,
          38,
          35,
          38,
          49,
          55,
          43,
          43,
          25,
          30,
          46,
          50,
          35,
          26,
          45,
          37,
          60,
          38,
          47,
          33,
          51,
          35,
          35,
          48,
          37,
          29,
          34,
          32,
          30,
          47,
          33,
          33,
          63,
          51,
          41,
          56,
          60,
          41,
          37,
          36,
          57,
          55,
          44,
          47,
          31,
          35,
          39,
          50,
          29,
          30,
          46,
          27,
          48,
          26,
          36,
          42,
          50,
          49,
          45,
          23,
          38,
          32,
          60,
          30,
          58,
          60,
          38,
          51,
          42,
          30,
          40,
          37,
          53,
          27,
          39,
          39,
          59,
          37,
          41,
          45,
          48,
          48,
          32,
          35,
          33,
          28,
          64,
          35,
          33,
          41,
          34,
          37,
          38,
          39,
          35,
          28,
          27,
          48,
          50,
          45,
          41,
          39,
          44,
          54,
          49,
          34,
          75,
          42,
          53,
          49,
          31,
          45,
          39,
          46,
          42,
          37,
          26,
          37,
          36,
          29,
          36,
          26,
          32,
          40,
          53,
          29,
          34,
          43,
          56,
          55,
          31,
          27,
          36,
          44,
          37,
          30,
          42,
          30,
          62,
          24,
          31,
          66,
          47,
          39,
          35,
          35,
          27,
          32,
          44,
          42,
          34,
          25,
          40,
          43,
          55,
          50,
          45,
          35,
          32,
          59,
          34,
          39,
          40,
          36,
          40,
          55,
          38,
          61,
          41,
          57,
          48,
          77,
          35,
          54,
          37,
          56,
          40,
          40,
          54,
          55,
          55,
          52,
          55,
          33,
          52,
          33,
          53,
          46,
          44,
          48,
          50,
          34,
          38,
          42,
          32,
          58,
          31,
          19,
          41,
          31,
          52,
          42,
          41,
          30,
          38,
          32,
          52,
          48,
          36,
          45,
          34,
          36,
          34,
          61,
          54,
          50,
          43,
          47,
          45,
          57,
          27,
          49,
          43,
          40,
          32,
          58,
          34,
          46,
          29,
          52,
          45,
          26,
          40,
          41,
          47,
          27,
          27,
          48,
          49,
          35,
          47,
          54,
          39,
          28,
          54,
          34,
          63,
          42,
          43,
          37,
          55,
          43,
          41,
          47,
          34,
          28,
          36,
          50,
          35,
          40,
          26,
          36,
          59,
          28,
          46,
          50,
          53,
          81,
          35,
          58,
          44,
          38,
          49,
          33,
          29,
          28,
          31,
          33,
          52,
          43,
          32,
          36,
          41,
          43,
          45,
          39,
          41,
          31,
          37,
          28,
          47,
          37,
          60,
          43,
          58,
          52,
          50,
          32,
          42,
          31,
          28,
          36,
          51,
          46,
          50,
          32,
          26,
          41,
          39,
          31,
          28,
          31,
          30,
          35,
          33,
          30,
          32,
          40,
          31,
          36,
          33,
          57,
          45,
          59,
          30,
          33,
          52,
          83,
          58,
          33,
          41,
          31,
          35,
          27,
          57,
          56,
          53,
          39,
          32,
          46,
          56,
          46,
          29,
          60,
          33,
          27,
          50,
          45,
          58,
          59,
          58,
          64,
          47,
          40,
          36,
          28,
          38,
          53,
          46,
          54,
          32,
          55,
          55,
          56,
          40,
          44,
          32,
          33,
          41,
          37,
          58,
          52,
          49,
          44,
          28,
          31,
          37,
          30,
          28,
          46,
          47,
          35,
          80,
          30,
          55,
          22,
          33,
          53,
          49,
          51,
          41,
          34,
          36,
          35,
          29,
          40,
          32,
          48,
          59,
          35,
          33,
          55,
          41,
          42,
          46,
          35,
          28,
          25,
          56,
          30,
          45,
          40,
          40,
          39,
          48,
          31,
          32,
          34,
          26,
          31,
          37,
          29,
          57,
          47,
          38,
          48,
          50,
          33,
          28,
          30,
          52,
          36,
          36,
          46,
          57,
          28,
          46,
          55,
          33,
          53,
          41,
          60,
          35,
          43,
          57,
          46,
          31,
          53,
          35,
          32,
          48,
          50,
          40,
          42,
          59,
          27,
          32,
          35,
          28,
          37,
          57,
          42,
          55,
          52,
          26,
          52,
          26,
          33,
          24,
          37,
          28,
          30,
          33,
          55,
          33,
          42,
          37,
          59,
          27,
          23,
          51,
          50,
          43,
          37,
          34,
          41,
          26,
          49,
          29,
          30,
          38,
          58,
          34,
          53,
          50,
          30,
          40,
          57,
          40,
          41,
          53,
          48,
          32,
          34,
          46,
          45,
          51,
          31,
          47,
          32,
          41,
          37,
          27,
          27,
          50,
          31,
          40,
          43,
          39,
          31,
          48,
          32,
          47,
          35,
          42,
          47,
          59,
          38,
          50,
          27,
          55,
          39,
          31,
          37,
          28,
          42,
          40,
          59,
          40,
          43,
          38,
          54,
          41,
          55,
          33,
          46,
          36,
          48,
          42,
          46,
          49,
          36,
          34,
          51,
          58,
          48,
          41,
          49,
          43,
          32,
          54,
          33,
          35,
          56,
          57,
          31,
          33,
          29,
          38,
          37,
          33,
          30,
          31,
          28,
          26,
          31,
          50,
          45,
          48,
          41,
          60,
          41,
          43,
          36,
          40,
          28,
          27,
          49,
          37,
          31,
          31,
          31,
          35,
          51,
          33,
          30,
          58,
          34,
          45,
          28,
          31,
          40,
          30,
          34,
          40,
          59,
          43,
          41,
          33,
          33,
          36,
          32,
          25,
          25,
          38,
          34,
          67,
          32,
          45,
          33,
          38,
          32,
          54,
          51,
          42,
          41,
          39,
          38,
          39,
          46,
          50,
          33,
          37,
          31,
          34,
          34,
          36,
          40,
          40,
          41,
          52,
          40,
          48,
          33,
          44,
          55,
          51,
          34,
          58,
          39,
          27,
          55,
          35,
          37,
          52,
          41,
          52,
          34,
          53,
          33,
          47,
          35,
          33,
          55,
          58,
          44,
          25,
          37,
          41,
          34,
          36,
          44,
          34,
          56,
          43,
          28,
          54,
          37,
          59,
          58,
          56,
          32,
          42,
          52,
          46,
          37,
          39,
          31,
          59,
          38,
          58,
          34,
          40,
          20,
          34,
          31,
          39,
          34,
          24,
          41,
          40,
          45,
          36,
          53,
          23,
          42,
          48,
          34,
          36,
          43,
          36,
          49,
          55,
          53,
          42,
          45,
          31,
          32,
          36,
          56,
          46,
          41,
          31,
          32,
          38,
          49,
          46,
          29,
          36,
          38,
          53,
          43,
          41,
          42,
          55,
          39,
          30,
          41,
          44,
          58,
          35,
          27,
          34,
          25,
          36,
          38,
          30,
          47,
          41,
          36,
          63,
          23,
          32,
          57,
          48,
          49,
          50,
          33,
          53,
          30,
          38,
          44,
          39,
          45,
          36,
          38,
          36,
          30,
          28,
          26,
          54,
          38,
          32,
          50,
          43,
          48,
          57,
          64,
          26,
          33,
          50,
          47,
          39,
          52,
          31,
          50,
          47,
          30,
          32,
          36,
          46,
          45,
          37,
          58,
          59,
          28,
          48,
          55,
          37,
          41,
          35,
          34,
          43,
          59,
          50,
          37,
          35,
          50,
          36,
          41,
          28,
          42,
          60,
          28,
          48,
          51,
          32,
          35,
          37,
          38,
          77,
          32,
          43,
          36,
          29,
          32,
          41,
          26,
          34,
          57,
          36,
          42,
          35,
          52,
          36,
          46,
          60,
          57,
          48,
          59,
          39,
          44,
          27,
          59,
          36,
          44,
          50,
          41,
          47,
          32,
          38,
          55,
          38,
          31,
          38,
          29,
          55,
          35,
          40,
          34,
          32,
          33,
          33,
          37,
          58,
          36,
          42,
          34,
          35,
          60,
          50,
          28,
          27,
          37,
          31,
          34,
          38,
          32,
          37,
          33,
          71,
          27,
          38,
          34,
          54,
          30,
          35,
          33,
          36,
          59,
          72,
          64,
          53,
          35,
          58,
          40,
          41,
          48,
          44,
          39,
          61,
          36,
          28,
          58,
          60,
          66,
          36,
          49,
          40,
          23,
          29,
          44,
          54,
          47,
          33,
          30,
          27,
          49,
          27,
          51,
          32,
          30,
          33,
          27,
          75,
          37,
          36,
          37,
          35,
          32,
          32,
          35,
          31,
          28,
          27,
          22,
          35,
          69,
          37,
          45,
          47,
          52,
          33,
          60,
          33,
          44,
          38,
          54,
          32,
          33,
          55,
          51,
          48,
          37,
          33,
          30,
          43,
          49,
          54,
          31,
          54,
          36,
          30,
          27,
          30,
          30,
          35,
          33,
          43,
          41,
          41,
          46,
          54,
          32,
          30,
          40,
          30,
          27,
          41,
          54,
          32,
          31,
          42,
          48,
          34,
          55,
          49,
          46,
          47,
          24,
          58,
          32,
          25,
          49,
          59,
          30,
          46,
          42,
          37,
          44,
          49,
          41,
          48,
          31,
          37,
          51,
          80,
          32,
          48,
          49,
          30,
          27,
          34,
          49,
          48,
          40,
          38,
          46,
          41,
          28,
          51,
          33,
          26,
          34,
          27,
          42,
          45,
          31,
          32,
          39,
          26,
          40,
          52,
          40,
          48,
          31,
          27,
          47,
          28,
          40,
          34,
          29,
          36,
          83,
          55,
          43,
          23,
          44,
          58,
          29,
          30,
          29,
          41,
          35,
          31,
          27,
          47,
          53,
          34,
          34,
          36,
          40,
          37,
          65,
          53,
          28,
          33,
          56,
          45,
          39,
          28,
          36,
          41,
          46,
          41,
          59,
          24,
          34,
          40,
          42,
          50,
          25,
          51,
          50,
          37,
          21,
          52,
          55,
          26,
          38,
          32,
          31,
          34,
          33,
          35,
          44,
          48,
          29,
          50,
          37,
          44,
          36,
          49,
          31,
          49,
          35,
          57,
          42,
          36,
          75,
          38,
          40,
          38,
          34,
          29,
          28,
          79,
          51,
          32,
          36,
          38,
          49,
          42,
          43,
          34,
          59,
          35,
          33,
          34,
          64,
          34,
          77,
          57,
          30,
          56,
          49,
          73,
          39,
          57,
          32,
          32,
          45,
          32,
          31,
          49,
          29,
          55,
          30,
          45,
          39,
          36,
          33,
          36,
          31,
          36,
          38,
          33,
          40,
          31,
          39,
          33,
          53,
          38,
          59,
          55,
          38,
          48,
          53,
          44,
          57,
          29,
          31,
          35,
          31,
          35,
          40,
          39,
          43,
          44,
          29,
          40,
          33,
          46,
          27,
          26,
          41,
          34,
          39,
          27,
          31,
          44,
          55,
          51,
          50,
          30,
          46,
          49,
          56,
          47,
          30,
          36,
          40,
          37,
          42,
          45,
          34,
          27,
          30,
          32,
          46,
          29,
          53,
          32,
          49,
          35,
          38,
          39,
          34,
          42,
          35,
          60,
          57,
          31,
          29,
          41,
          46,
          33,
          32,
          54,
          37,
          32,
          43,
          50,
          34,
          31,
          43,
          49,
          22,
          35,
          56,
          53,
          54,
          32,
          41,
          40,
          33,
          33,
          34,
          36,
          34,
          55,
          28,
          29,
          31,
          52,
          54,
          43,
          55,
          28,
          45,
          45,
          51,
          42,
          43,
          34,
          36,
          37,
          50,
          42,
          34,
          48,
          47,
          40,
          37,
          38,
          29,
          46,
          26,
          30,
          42,
          42,
          31,
          37,
          26,
          54,
          70,
          29,
          50,
          60,
          32,
          32,
          34,
          48,
          25,
          32,
          32,
          47,
          32,
          49,
          53,
          41,
          47,
          35,
          33,
          49,
          46,
          29,
          58,
          40,
          34,
          60,
          43,
          50,
          33,
          37,
          55,
          45,
          47,
          58,
          36,
          55,
          31,
          38,
          42,
          32,
          39,
          41,
          59,
          42,
          33,
          53,
          43,
          39,
          27,
          39,
          27,
          33,
          29,
          33,
          41,
          38,
          30,
          58,
          37,
          36,
          45,
          23,
          53,
          44,
          32,
          32,
          38,
          47,
          34,
          52,
          45,
          50,
          52,
          37,
          51,
          32,
          33,
          28,
          66,
          31,
          35,
          47,
          36,
          32,
          34,
          40,
          33,
          39,
          38,
          32,
          65,
          34,
          34,
          42,
          31,
          47,
          44,
          38,
          28,
          46,
          51,
          42,
          37,
          58,
          43,
          36,
          34,
          31,
          49,
          54,
          29,
          51,
          40,
          35,
          25,
          32,
          30,
          38,
          46,
          43,
          32,
          29,
          56,
          57,
          38,
          51,
          35,
          37,
          48,
          30,
          60,
          56,
          45,
          38,
          20,
          59,
          34,
          36,
          53,
          51,
          58,
          48,
          56,
          51,
          35,
          40,
          59,
          44,
          49,
          35,
          41,
          55,
          51,
          27,
          57,
          51,
          38,
          49,
          40,
          47,
          48,
          47,
          56,
          29,
          38,
          32,
          42,
          30,
          26,
          35,
          35,
          35,
          57,
          29,
          32,
          45,
          51,
          31,
          50,
          38,
          37,
          35,
          37,
          28,
          38,
          43,
          43,
          56,
          32,
          58,
          47,
          31,
          38,
          50,
          32,
          37,
          39,
          40,
          41,
          45,
          31,
          54,
          39,
          56,
          35,
          34,
          31,
          38,
          41,
          44,
          49,
          30,
          31,
          34,
          70,
          45,
          31,
          57,
          40,
          28,
          44,
          49,
          46,
          34,
          58,
          52,
          27,
          48,
          33,
          46,
          51,
          31,
          35,
          37,
          60,
          40,
          50,
          34,
          32,
          36,
          32,
          40,
          37,
          57,
          46,
          31,
          39,
          35,
          32,
          44,
          41,
          59,
          39,
          54,
          27,
          51,
          33,
          38,
          52,
          54,
          33,
          50,
          39,
          34,
          41,
          48,
          38,
          34,
          32,
          48,
          28,
          47,
          32,
          32,
          38,
          86,
          47,
          42,
          44,
          25,
          34,
          34,
          53,
          42,
          30,
          26,
          40,
          34,
          34,
          40,
          36,
          34,
          32,
          39,
          36,
          39,
          33,
          34,
          42,
          46,
          32,
          27,
          35,
          53,
          29,
          35,
          49,
          58,
          40,
          19,
          30,
          34,
          60,
          28,
          46,
          49,
          59,
          44,
          33,
          54,
          26,
          54,
          48,
          30,
          29,
          51,
          53,
          43,
          34,
          40,
          43,
          33,
          66,
          44,
          33,
          31,
          71,
          22,
          46,
          32,
          45,
          32,
          49,
          27,
          46,
          37,
          30,
          44,
          45,
          27,
          57,
          66,
          40,
          48,
          33,
          42,
          47,
          27,
          78,
          50,
          46,
          41,
          36,
          49,
          46,
          77,
          30,
          43,
          44,
          40,
          38,
          25,
          49,
          33,
          40,
          44,
          32,
          52,
          35,
          35,
          32,
          42,
          59,
          44,
          50,
          27,
          55,
          54,
          31,
          56,
          51,
          61,
          34,
          56,
          29,
          34,
          35,
          56,
          45,
          31,
          37,
          43,
          40,
          44,
          38,
          58,
          24,
          53,
          36,
          28,
          45,
          32,
          46,
          28,
          51,
          51,
          30,
          39,
          28,
          31,
          31,
          38,
          31,
          74,
          40,
          43,
          34,
          54,
          51,
          33,
          41,
          33,
          48,
          42,
          35,
          25,
          38,
          45,
          59,
          47,
          33,
          59,
          41,
          42,
          51,
          45,
          30,
          33,
          43,
          37,
          73,
          43,
          52,
          44,
          56,
          21,
          43,
          54,
          59,
          52,
          31,
          53,
          24,
          57,
          48,
          57,
          51,
          50,
          34,
          43,
          31,
          29,
          39,
          36,
          38,
          56,
          41,
          47,
          38,
          80,
          37,
          44,
          33,
          53,
          69,
          46,
          30,
          31,
          38,
          34,
          48,
          46,
          42,
          41,
          33,
          39,
          27,
          26,
          38,
          48,
          54,
          51,
          47,
          53,
          35,
          58,
          52,
          57,
          52,
          35,
          48,
          46,
          39,
          38,
          34,
          47,
          35,
          46,
          27,
          31,
          31,
          46,
          31,
          33,
          42,
          33,
          40,
          51,
          31,
          62,
          24,
          48,
          41,
          43,
          52,
          54,
          32,
          38,
          41,
          31,
          35,
          26,
          52,
          58,
          57,
          34,
          59,
          27,
          42,
          47,
          33,
          31,
          37,
          29,
          38,
          35,
          31,
          62,
          32,
          31,
          51,
          29,
          43,
          36,
          34,
          29,
          57,
          43,
          33,
          60,
          51,
          40,
          51,
          38,
          35,
          47,
          45,
          40,
          29,
          52,
          26,
          31,
          55,
          35,
          56,
          28,
          27,
          30,
          51,
          33,
          32,
          43,
          46,
          32,
          40,
          39,
          51,
          46,
          43,
          36,
          48,
          26,
          39,
          47,
          23,
          54,
          38,
          33,
          35,
          52,
          25,
          29,
          35,
          49,
          41,
          32,
          29,
          28,
          59,
          34,
          55,
          34,
          24,
          42,
          34,
          34,
          51,
          58,
          44,
          33,
          34,
          34,
          42,
          46,
          31,
          39,
          34,
          47,
          42,
          48,
          30,
          38,
          24,
          34,
          46,
          32,
          46,
          26,
          42,
          50,
          41,
          34,
          32,
          58,
          45,
          28,
          35,
          39,
          49,
          50,
          37,
          45,
          30,
          48,
          36,
          41,
          55,
          70,
          41,
          47,
          34,
          33,
          58,
          51,
          45,
          55,
          30,
          33,
          27,
          59,
          34,
          47,
          44,
          35,
          45,
          42,
          38,
          34,
          35,
          29,
          58,
          44,
          45,
          43,
          44,
          30,
          38,
          50,
          21,
          38,
          42,
          45,
          34,
          48,
          34,
          32,
          35,
          39,
          36,
          35,
          57,
          28,
          43,
          57,
          34,
          36,
          47,
          36,
          33,
          57,
          57,
          34,
          51,
          54,
          52,
          43,
          58,
          53,
          44,
          29,
          27,
          35,
          40,
          34,
          38,
          32,
          41,
          25,
          38,
          26,
          37,
          30,
          36,
          33,
          33,
          35,
          24,
          29,
          54,
          27,
          34,
          39,
          38,
          37,
          26,
          36,
          35,
          30,
          25,
          34,
          52,
          39,
          34,
          34,
          30,
          33,
          30,
          51,
          36,
          48,
          37,
          58,
          56,
          34,
          33,
          26,
          40,
          35,
          45,
          37,
          35,
          43,
          28,
          32,
          26,
          35,
          35,
          39,
          42,
          32,
          30,
          26,
          30,
          32,
          47,
          33,
          57,
          35,
          53,
          24,
          54,
          31,
          41,
          44,
          35,
          30,
          43,
          51,
          60,
          43,
          31,
          56,
          42,
          52,
          40,
          36,
          40,
          46,
          32,
          31,
          41,
          58,
          36,
          52,
          42,
          32,
          62,
          31,
          41,
          34,
          44,
          42,
          37,
          47,
          32,
          46,
          39,
          28,
          26,
          52,
          42,
          33,
          73,
          35,
          40,
          51,
          37,
          39,
          28,
          49,
          36,
          45,
          29,
          35,
          35,
          30,
          46,
          25,
          36,
          42,
          57,
          42,
          29,
          36,
          31,
          59,
          50,
          47,
          46,
          26,
          31,
          30,
          47,
          23,
          44,
          42,
          32,
          28,
          57,
          38,
          22,
          54,
          32,
          32,
          59,
          45,
          53,
          50,
          34,
          35,
          30,
          62,
          40,
          26,
          34,
          50,
          31,
          35,
          55,
          34,
          58,
          50,
          31,
          47,
          38,
          46,
          42,
          34,
          37,
          38,
          59,
          32,
          55,
          35,
          56,
          27,
          42,
          42,
          41,
          53,
          67,
          53,
          33,
          31,
          31,
          30,
          48,
          30,
          43,
          38,
          46,
          59,
          44,
          35,
          55,
          39,
          36,
          33,
          48,
          33,
          67,
          48,
          57,
          31,
          30,
          56,
          26,
          44,
          44,
          31,
          47,
          30,
          37,
          56,
          43,
          42,
          60,
          34,
          34,
          41,
          38,
          23,
          33,
          36,
          49,
          34,
          40,
          72,
          43,
          44,
          35,
          46,
          55,
          50,
          23,
          34,
          40,
          61,
          53,
          57,
          28,
          25,
          38,
          27,
          45,
          31,
          39,
          42,
          46,
          36,
          30,
          32,
          52,
          31,
          60,
          35,
          38,
          46,
          45,
          59,
          34,
          33,
          46,
          48,
          31,
          32,
          35,
          36,
          52,
          45,
          34,
          25,
          26,
          57,
          48,
          48,
          32,
          58,
          57,
          31,
          33,
          53,
          36,
          32,
          45,
          35,
          41,
          54,
          49,
          28,
          24,
          30,
          32,
          53,
          42,
          48,
          33,
          31,
          56,
          58,
          37,
          59,
          50,
          39,
          30,
          47,
          44,
          38,
          50,
          27,
          73,
          46,
          56,
          36,
          33,
          40,
          52,
          51,
          33,
          54,
          44,
          50,
          45,
          36,
          42,
          37,
          28,
          56,
          59,
          32,
          57,
          49,
          56,
          48,
          27,
          31,
          28,
          36,
          58,
          46,
          32,
          39,
          35,
          31,
          29,
          48,
          60,
          74,
          30,
          52,
          24,
          29,
          33,
          34,
          45,
          31,
          45,
          27,
          30,
          45,
          57,
          34,
          40,
          39,
          46,
          55,
          25,
          34,
          37,
          64,
          45,
          57,
          21,
          58,
          41,
          41,
          58,
          33,
          32,
          44,
          47,
          41,
          54,
          47,
          32,
          59,
          29,
          48,
          32,
          46,
          31,
          53,
          34,
          48,
          32,
          31,
          27,
          60,
          34,
          52,
          48,
          45,
          54,
          52,
          47,
          54,
          34,
          39,
          46,
          26,
          37,
          47,
          35,
          57,
          34,
          47,
          27,
          40,
          39,
          36,
          42,
          23,
          34,
          34,
          49,
          57,
          59,
          57,
          34,
          61,
          35,
          42,
          57,
          42,
          53,
          63,
          47,
          54,
          45,
          28,
          58,
          48,
          35,
          37,
          37,
          37,
          25,
          58,
          52,
          19,
          59,
          41,
          34,
          35,
          41,
          28,
          53,
          35,
          33,
          37,
          32,
          32,
          54,
          44,
          36,
          56,
          30,
          36,
          43,
          40,
          32,
          34,
          37,
          28,
          35,
          53,
          60,
          40,
          57,
          29,
          44,
          41,
          47,
          43,
          37,
          34,
          30,
          57,
          26,
          34,
          46,
          38,
          37,
          28,
          57,
          39,
          49,
          38,
          27,
          30,
          38,
          36,
          38,
          59,
          37,
          29,
          43,
          33,
          54,
          55,
          32,
          48,
          33,
          46,
          44,
          47,
          38,
          80,
          40,
          43,
          32,
          39,
          33,
          31,
          36,
          35,
          25,
          33,
          23,
          31,
          36,
          44,
          31,
          55,
          51,
          36,
          27,
          40,
          49,
          59,
          32,
          42,
          35,
          29,
          29,
          37,
          49,
          51,
          61,
          43,
          42,
          24,
          46,
          23,
          26,
          43,
          35,
          38,
          56,
          31,
          32,
          28,
          26,
          49,
          33,
          80,
          40,
          42,
          46,
          32,
          37,
          32,
          53,
          39,
          31,
          34,
          44,
          35,
          39,
          55,
          34,
          39,
          58,
          37,
          56,
          32,
          41,
          29,
          44,
          24,
          43,
          26,
          39,
          49,
          52,
          33,
          30,
          32,
          27,
          58,
          46,
          28,
          39,
          41,
          38,
          50,
          56,
          34,
          33,
          61,
          36,
          34,
          36,
          45,
          27,
          45,
          40,
          36,
          46,
          37,
          36,
          37,
          22,
          51,
          49,
          35,
          50,
          31,
          47,
          59,
          32,
          71,
          31,
          41,
          35,
          36,
          46,
          46,
          47,
          35,
          37,
          56,
          46,
          44,
          48,
          28,
          38,
          34,
          56,
          55,
          44,
          38,
          53,
          41,
          34,
          34,
          35,
          38,
          42,
          56,
          37,
          47,
          29,
          41,
          43,
          38,
          31,
          32,
          40,
          45,
          43,
          27,
          33,
          37,
          60,
          51,
          44,
          48,
          57,
          29,
          50,
          36,
          49,
          49,
          35,
          39,
          34,
          57,
          37,
          25,
          43,
          37,
          36,
          49,
          38,
          39,
          40,
          34,
          39,
          53,
          44,
          32,
          50,
          29,
          55,
          73,
          52,
          49,
          63,
          34,
          32,
          49,
          40,
          53,
          53,
          43,
          35,
          35,
          25,
          31,
          48,
          40,
          46,
          30,
          47,
          23,
          29,
          38,
          56,
          52,
          55,
          43,
          34,
          43,
          55,
          34,
          34,
          43,
          39,
          39,
          34,
          55,
          67,
          34,
          47,
          33,
          45,
          36,
          59,
          33,
          52,
          53,
          41,
          45,
          60,
          32,
          28,
          31,
          53,
          58,
          38,
          46,
          53,
          56,
          52,
          38,
          37,
          37,
          37,
          66,
          44,
          61,
          34,
          33,
          30,
          27,
          37,
          38,
          35,
          50,
          39,
          35,
          36,
          28,
          39,
          39,
          30,
          32,
          28,
          47,
          53,
          57,
          47,
          56,
          38,
          52,
          46,
          57,
          42,
          57,
          51,
          53,
          37,
          47,
          48,
          39,
          42,
          36,
          34,
          61,
          32,
          35,
          54,
          31,
          45,
          32,
          52,
          36,
          31,
          53,
          43,
          47,
          46,
          34,
          55,
          23,
          75,
          58,
          35,
          27,
          24,
          48,
          31,
          57,
          53,
          42,
          50,
          59,
          38,
          39,
          28,
          55,
          33,
          36,
          38,
          28,
          32,
          35,
          58,
          30,
          33,
          36,
          32,
          34,
          42,
          41,
          63,
          38,
          54,
          39,
          46,
          37,
          76,
          28,
          33,
          46,
          30,
          60,
          56,
          24,
          58,
          79,
          32,
          33,
          77,
          60,
          54,
          30,
          50,
          50,
          37,
          41,
          49,
          41,
          40,
          38,
          34,
          49,
          72,
          34,
          31,
          33,
          31,
          55,
          25,
          34,
          53,
          39,
          41,
          32,
          29,
          56,
          19,
          39,
          32,
          43,
          32,
          53,
          52,
          43,
          48,
          27,
          27,
          51,
          39,
          33,
          50,
          59,
          58,
          54,
          60,
          38,
          39,
          40,
          55,
          36,
          31,
          38,
          52,
          45,
          32,
          58,
          35,
          36,
          55,
          45,
          49,
          44,
          37,
          35,
          36,
          44,
          32,
          56,
          32,
          35,
          44,
          59,
          31,
          60,
          33,
          45,
          45,
          57,
          36,
          30,
          30,
          59,
          58,
          49,
          48,
          28,
          59,
          40,
          32,
          58,
          28,
          27,
          38,
          53,
          60,
          33,
          52,
          64,
          40,
          52,
          28,
          49,
          28,
          29,
          87,
          37,
          36,
          35,
          33,
          60,
          25,
          69,
          41,
          48,
          35,
          30,
          59,
          32,
          28,
          60,
          36,
          32,
          34,
          58,
          53,
          31,
          33,
          46,
          29,
          37,
          58,
          34,
          34,
          49,
          53,
          42,
          40,
          30,
          31,
          55,
          36,
          31,
          26,
          31,
          49,
          54,
          47,
          61,
          49,
          51,
          53,
          35,
          25,
          79,
          53,
          21,
          33,
          40,
          34,
          52,
          27,
          57,
          51,
          31,
          49,
          32,
          28,
          33,
          50,
          42,
          45,
          34,
          56,
          33,
          34,
          37,
          37,
          35,
          38,
          32,
          52,
          49,
          46,
          42,
          36,
          32,
          49,
          46,
          40,
          36,
          36,
          34,
          46,
          32,
          32,
          32,
          43,
          25,
          55,
          24,
          40,
          38,
          48,
          36,
          57,
          45,
          33,
          38,
          26,
          30,
          55,
          34,
          60,
          36,
          65,
          39,
          52,
          55,
          26,
          40,
          52,
          29,
          41,
          30,
          28,
          26,
          58,
          29,
          48,
          35,
          26,
          49,
          34,
          32,
          31,
          48,
          40,
          42,
          48,
          38,
          53,
          59,
          28,
          41,
          50,
          31,
          30,
          59,
          33,
          35,
          30,
          71,
          30,
          24,
          34,
          34,
          52,
          33,
          38,
          41,
          42,
          38,
          48,
          34,
          46,
          33,
          40,
          36,
          32,
          33,
          55,
          58,
          25,
          47,
          40,
          59,
          40,
          30,
          25,
          58,
          39,
          40,
          38,
          66,
          47,
          37,
          36,
          50,
          76,
          58,
          42,
          58,
          28,
          41,
          30,
          32,
          27,
          48,
          36,
          54,
          36,
          52,
          34,
          43,
          32,
          33,
          51,
          39,
          44,
          49,
          25,
          39,
          54,
          32,
          36,
          54,
          31,
          45,
          31,
          45,
          33,
          46,
          43,
          50,
          44,
          42,
          26,
          47,
          48,
          60,
          27,
          30,
          28,
          58,
          37,
          36,
          39,
          52,
          55,
          30,
          36,
          39,
          47,
          42,
          42,
          58,
          68,
          43,
          44,
          49,
          57,
          61,
          36,
          31,
          51,
          31,
          56,
          30,
          38,
          35,
          31,
          39,
          50,
          39,
          26,
          55,
          43,
          34,
          51,
          31,
          32,
          53,
          44,
          38,
          47,
          36,
          30,
          46,
          33,
          43,
          38,
          27,
          38,
          41,
          29,
          39,
          42,
          47,
          30,
          34,
          45,
          43,
          59,
          50,
          39,
          36,
          44,
          36,
          27,
          29,
          70,
          44,
          55,
          36,
          28,
          50,
          49,
          71,
          31,
          45,
          42,
          45,
          47,
          60,
          35,
          31,
          33,
          50,
          51,
          34,
          56,
          29,
          31,
          44,
          55,
          35,
          36,
          54,
          32,
          36,
          60,
          32,
          57,
          34,
          27,
          52,
          45,
          58,
          39,
          48,
          36,
          31,
          41,
          30,
          57,
          29,
          29,
          30,
          44,
          33,
          56,
          26,
          52,
          32,
          36,
          26,
          37,
          34,
          26,
          32,
          30,
          27,
          42,
          33,
          37,
          45,
          36,
          39,
          33,
          47,
          49,
          46,
          31,
          43,
          30,
          43,
          42,
          30,
          33,
          41,
          29,
          38,
          29,
          80,
          38,
          36,
          38,
          44,
          31,
          31,
          57,
          37,
          50,
          60,
          51,
          48,
          42,
          36,
          43,
          31,
          49,
          35,
          44,
          34,
          46,
          49,
          32,
          35,
          51,
          57,
          59,
          40,
          49,
          51,
          35,
          29,
          32,
          37,
          49,
          45,
          34,
          53,
          42,
          43,
          52,
          34,
          34,
          27,
          43,
          41,
          72,
          35,
          41,
          36,
          51,
          37,
          42,
          26,
          23,
          50,
          37,
          35,
          37,
          79,
          39,
          47,
          44,
          36,
          33,
          42,
          35,
          31,
          58,
          46,
          41,
          58,
          33,
          31,
          55,
          38,
          55,
          47,
          51,
          46,
          61,
          47,
          34,
          34,
          41,
          36,
          26,
          35,
          36,
          26,
          58,
          50,
          61,
          28,
          49,
          74,
          53,
          46,
          47,
          42,
          56,
          42,
          49,
          43,
          39,
          66,
          30,
          38,
          31,
          32,
          48,
          34,
          28,
          40,
          36,
          52,
          46,
          25,
          52,
          40,
          26,
          26,
          35,
          40,
          31,
          32,
          33,
          53,
          46,
          28,
          31,
          44,
          35,
          50,
          32,
          51,
          51,
          31,
          41,
          57,
          34,
          47,
          47,
          36,
          29,
          39,
          53,
          47,
          51,
          48,
          32,
          36,
          50,
          39,
          31,
          49,
          33,
          26,
          27,
          51,
          26,
          45,
          54,
          49,
          47,
          42,
          50,
          37,
          54,
          40,
          50,
          57,
          33,
          49,
          35,
          28,
          58,
          31,
          36,
          49,
          30,
          29,
          50,
          26,
          27,
          32,
          62,
          34,
          25,
          34,
          44,
          38,
          57,
          36,
          41,
          36,
          27,
          37,
          47,
          31,
          39,
          35,
          40,
          38,
          31,
          36,
          53,
          59,
          29,
          30,
          52,
          55,
          56,
          32,
          24,
          51,
          36,
          36,
          42,
          49,
          48,
          36,
          48,
          30,
          27,
          38,
          36,
          45,
          44,
          42,
          37,
          48,
          57,
          44,
          48,
          56,
          37,
          47,
          54,
          51,
          47,
          25,
          39,
          40,
          38,
          34,
          53,
          32,
          35,
          24,
          58,
          49,
          45,
          55,
          42,
          28,
          48,
          51,
          38,
          27,
          50,
          44,
          40,
          29,
          34,
          44,
          50,
          34,
          54,
          34,
          34,
          52,
          60,
          39,
          58,
          41,
          48,
          58,
          40,
          48,
          52,
          50,
          25,
          54,
          34,
          48,
          37,
          66,
          32,
          45,
          43,
          41,
          40,
          44,
          43,
          30,
          32,
          57,
          31,
          49,
          31,
          41,
          44,
          54,
          37,
          34,
          43,
          44,
          44,
          53,
          36,
          58,
          26,
          34,
          55,
          55,
          34,
          41,
          38,
          28,
          41,
          30,
          39,
          41,
          36,
          37,
          59,
          26,
          43,
          42,
          46,
          31,
          43,
          48,
          41,
          32,
          45,
          52,
          37,
          38,
          36,
          58,
          37,
          30,
          47,
          40,
          42,
          71,
          54,
          53,
          33,
          30,
          39,
          32,
          34,
          39,
          75,
          33,
          40,
          37,
          69,
          52,
          31,
          28,
          29,
          46,
          28,
          41,
          42,
          34,
          28,
          43,
          32,
          33,
          70,
          36,
          53,
          30,
          45,
          31,
          28,
          45,
          51,
          53,
          40,
          53,
          31,
          30,
          53,
          40,
          26,
          47,
          51,
          45,
          35,
          36,
          57,
          42,
          32,
          30,
          36,
          43,
          69,
          31,
          35,
          26,
          46,
          30,
          33,
          34,
          48,
          31,
          46,
          40,
          39,
          33,
          50,
          84,
          40,
          55,
          40,
          46,
          43,
          34,
          35,
          57,
          25,
          32,
          52,
          31,
          34,
          42,
          47,
          50,
          30,
          33,
          56,
          34,
          33,
          32,
          34,
          37,
          30,
          29,
          56,
          31,
          59,
          36,
          51,
          54,
          37,
          32,
          42,
          29,
          52,
          40,
          30,
          55,
          49,
          33,
          32,
          21,
          42,
          56,
          39,
          30,
          55,
          43,
          53,
          57,
          39,
          56,
          29,
          38,
          59,
          42,
          46,
          31,
          35,
          50,
          42,
          36,
          25,
          42,
          27,
          32,
          57,
          48,
          34,
          33,
          26,
          50,
          60,
          47,
          31,
          52,
          36,
          43,
          30,
          32,
          31,
          29,
          48,
          32,
          30,
          48,
          51,
          34,
          35,
          49,
          36,
          37,
          37,
          49,
          44,
          40,
          57,
          39,
          38,
          51,
          27,
          38,
          30,
          36,
          37,
          53,
          38,
          48,
          26,
          33,
          47,
          45,
          32,
          69,
          65,
          37,
          45,
          36,
          62,
          37,
          39,
          38,
          31,
          58,
          44,
          31,
          33,
          36,
          31,
          45,
          30,
          34,
          34,
          39,
          41,
          32,
          32,
          36,
          35,
          32,
          33,
          49,
          35,
          31,
          42,
          34,
          32,
          29,
          32,
          50,
          58,
          59,
          25,
          57,
          30,
          26,
          50,
          39,
          45,
          37,
          47,
          50,
          40,
          35,
          53,
          35,
          54,
          35,
          31,
          46,
          52,
          34,
          46,
          54,
          37,
          39,
          50,
          44,
          56,
          40,
          36,
          33,
          33,
          42,
          30,
          33,
          26,
          26,
          37,
          59,
          49,
          33,
          46,
          55,
          49,
          51,
          27,
          44,
          40,
          36,
          46,
          30,
          35,
          31,
          37,
          49,
          27,
          32,
          70,
          22,
          58,
          33,
          83,
          50,
          53,
          37,
          55,
          49,
          41,
          40,
          48,
          27,
          30,
          37,
          37,
          40,
          73,
          50,
          53,
          47,
          33,
          50,
          51,
          42,
          34,
          44,
          32,
          60,
          60,
          29,
          39,
          47,
          30,
          31,
          34,
          51,
          38,
          47,
          46,
          33,
          30,
          40,
          38,
          63,
          33,
          59,
          29,
          54,
          57,
          57,
          28,
          30,
          28,
          45,
          29,
          42,
          31,
          59,
          41,
          57,
          43,
          30,
          26,
          52,
          32,
          39,
          31,
          83,
          34,
          40,
          39,
          50,
          30,
          43,
          49,
          41,
          35,
          57,
          29,
          48,
          38,
          41,
          39,
          31,
          51,
          35,
          45,
          28,
          57,
          36,
          49,
          34,
          65,
          26,
          52,
          32,
          33,
          43,
          26,
          45,
          30,
          37,
          45,
          34,
          35,
          41,
          42,
          48,
          45,
          47,
          37,
          32,
          40,
          35,
          31,
          36,
          44,
          52,
          28,
          45,
          38,
          39,
          28,
          31,
          46,
          22,
          49,
          44,
          31,
          53,
          55,
          35,
          35,
          37,
          50,
          37,
          37,
          29,
          31,
          40,
          47,
          55,
          33,
          53,
          38,
          61,
          43,
          42,
          36,
          31,
          59,
          29,
          33,
          44,
          43,
          42,
          32,
          43,
          39,
          23,
          43,
          46,
          31,
          38,
          53,
          37,
          49,
          31,
          45,
          58,
          35,
          32,
          28,
          26,
          48,
          30,
          31,
          31,
          45,
          38,
          34,
          42,
          60,
          42,
          32,
          42,
          33,
          42,
          51,
          36,
          46,
          40,
          49,
          38,
          32,
          33,
          57,
          57,
          28,
          44
         ]
        }
       ],
       "layout": {
        "template": {
         "data": {
          "bar": [
           {
            "error_x": {
             "color": "#2a3f5f"
            },
            "error_y": {
             "color": "#2a3f5f"
            },
            "marker": {
             "line": {
              "color": "#E5ECF6",
              "width": 0.5
             }
            },
            "type": "bar"
           }
          ],
          "barpolar": [
           {
            "marker": {
             "line": {
              "color": "#E5ECF6",
              "width": 0.5
             }
            },
            "type": "barpolar"
           }
          ],
          "carpet": [
           {
            "aaxis": {
             "endlinecolor": "#2a3f5f",
             "gridcolor": "white",
             "linecolor": "white",
             "minorgridcolor": "white",
             "startlinecolor": "#2a3f5f"
            },
            "baxis": {
             "endlinecolor": "#2a3f5f",
             "gridcolor": "white",
             "linecolor": "white",
             "minorgridcolor": "white",
             "startlinecolor": "#2a3f5f"
            },
            "type": "carpet"
           }
          ],
          "choropleth": [
           {
            "colorbar": {
             "outlinewidth": 0,
             "ticks": ""
            },
            "type": "choropleth"
           }
          ],
          "contour": [
           {
            "colorbar": {
             "outlinewidth": 0,
             "ticks": ""
            },
            "colorscale": [
             [
              0,
              "#0d0887"
             ],
             [
              0.1111111111111111,
              "#46039f"
             ],
             [
              0.2222222222222222,
              "#7201a8"
             ],
             [
              0.3333333333333333,
              "#9c179e"
             ],
             [
              0.4444444444444444,
              "#bd3786"
             ],
             [
              0.5555555555555556,
              "#d8576b"
             ],
             [
              0.6666666666666666,
              "#ed7953"
             ],
             [
              0.7777777777777778,
              "#fb9f3a"
             ],
             [
              0.8888888888888888,
              "#fdca26"
             ],
             [
              1,
              "#f0f921"
             ]
            ],
            "type": "contour"
           }
          ],
          "contourcarpet": [
           {
            "colorbar": {
             "outlinewidth": 0,
             "ticks": ""
            },
            "type": "contourcarpet"
           }
          ],
          "heatmap": [
           {
            "colorbar": {
             "outlinewidth": 0,
             "ticks": ""
            },
            "colorscale": [
             [
              0,
              "#0d0887"
             ],
             [
              0.1111111111111111,
              "#46039f"
             ],
             [
              0.2222222222222222,
              "#7201a8"
             ],
             [
              0.3333333333333333,
              "#9c179e"
             ],
             [
              0.4444444444444444,
              "#bd3786"
             ],
             [
              0.5555555555555556,
              "#d8576b"
             ],
             [
              0.6666666666666666,
              "#ed7953"
             ],
             [
              0.7777777777777778,
              "#fb9f3a"
             ],
             [
              0.8888888888888888,
              "#fdca26"
             ],
             [
              1,
              "#f0f921"
             ]
            ],
            "type": "heatmap"
           }
          ],
          "heatmapgl": [
           {
            "colorbar": {
             "outlinewidth": 0,
             "ticks": ""
            },
            "colorscale": [
             [
              0,
              "#0d0887"
             ],
             [
              0.1111111111111111,
              "#46039f"
             ],
             [
              0.2222222222222222,
              "#7201a8"
             ],
             [
              0.3333333333333333,
              "#9c179e"
             ],
             [
              0.4444444444444444,
              "#bd3786"
             ],
             [
              0.5555555555555556,
              "#d8576b"
             ],
             [
              0.6666666666666666,
              "#ed7953"
             ],
             [
              0.7777777777777778,
              "#fb9f3a"
             ],
             [
              0.8888888888888888,
              "#fdca26"
             ],
             [
              1,
              "#f0f921"
             ]
            ],
            "type": "heatmapgl"
           }
          ],
          "histogram": [
           {
            "marker": {
             "colorbar": {
              "outlinewidth": 0,
              "ticks": ""
             }
            },
            "type": "histogram"
           }
          ],
          "histogram2d": [
           {
            "colorbar": {
             "outlinewidth": 0,
             "ticks": ""
            },
            "colorscale": [
             [
              0,
              "#0d0887"
             ],
             [
              0.1111111111111111,
              "#46039f"
             ],
             [
              0.2222222222222222,
              "#7201a8"
             ],
             [
              0.3333333333333333,
              "#9c179e"
             ],
             [
              0.4444444444444444,
              "#bd3786"
             ],
             [
              0.5555555555555556,
              "#d8576b"
             ],
             [
              0.6666666666666666,
              "#ed7953"
             ],
             [
              0.7777777777777778,
              "#fb9f3a"
             ],
             [
              0.8888888888888888,
              "#fdca26"
             ],
             [
              1,
              "#f0f921"
             ]
            ],
            "type": "histogram2d"
           }
          ],
          "histogram2dcontour": [
           {
            "colorbar": {
             "outlinewidth": 0,
             "ticks": ""
            },
            "colorscale": [
             [
              0,
              "#0d0887"
             ],
             [
              0.1111111111111111,
              "#46039f"
             ],
             [
              0.2222222222222222,
              "#7201a8"
             ],
             [
              0.3333333333333333,
              "#9c179e"
             ],
             [
              0.4444444444444444,
              "#bd3786"
             ],
             [
              0.5555555555555556,
              "#d8576b"
             ],
             [
              0.6666666666666666,
              "#ed7953"
             ],
             [
              0.7777777777777778,
              "#fb9f3a"
             ],
             [
              0.8888888888888888,
              "#fdca26"
             ],
             [
              1,
              "#f0f921"
             ]
            ],
            "type": "histogram2dcontour"
           }
          ],
          "mesh3d": [
           {
            "colorbar": {
             "outlinewidth": 0,
             "ticks": ""
            },
            "type": "mesh3d"
           }
          ],
          "parcoords": [
           {
            "line": {
             "colorbar": {
              "outlinewidth": 0,
              "ticks": ""
             }
            },
            "type": "parcoords"
           }
          ],
          "pie": [
           {
            "automargin": true,
            "type": "pie"
           }
          ],
          "scatter": [
           {
            "marker": {
             "colorbar": {
              "outlinewidth": 0,
              "ticks": ""
             }
            },
            "type": "scatter"
           }
          ],
          "scatter3d": [
           {
            "line": {
             "colorbar": {
              "outlinewidth": 0,
              "ticks": ""
             }
            },
            "marker": {
             "colorbar": {
              "outlinewidth": 0,
              "ticks": ""
             }
            },
            "type": "scatter3d"
           }
          ],
          "scattercarpet": [
           {
            "marker": {
             "colorbar": {
              "outlinewidth": 0,
              "ticks": ""
             }
            },
            "type": "scattercarpet"
           }
          ],
          "scattergeo": [
           {
            "marker": {
             "colorbar": {
              "outlinewidth": 0,
              "ticks": ""
             }
            },
            "type": "scattergeo"
           }
          ],
          "scattergl": [
           {
            "marker": {
             "colorbar": {
              "outlinewidth": 0,
              "ticks": ""
             }
            },
            "type": "scattergl"
           }
          ],
          "scattermapbox": [
           {
            "marker": {
             "colorbar": {
              "outlinewidth": 0,
              "ticks": ""
             }
            },
            "type": "scattermapbox"
           }
          ],
          "scatterpolar": [
           {
            "marker": {
             "colorbar": {
              "outlinewidth": 0,
              "ticks": ""
             }
            },
            "type": "scatterpolar"
           }
          ],
          "scatterpolargl": [
           {
            "marker": {
             "colorbar": {
              "outlinewidth": 0,
              "ticks": ""
             }
            },
            "type": "scatterpolargl"
           }
          ],
          "scatterternary": [
           {
            "marker": {
             "colorbar": {
              "outlinewidth": 0,
              "ticks": ""
             }
            },
            "type": "scatterternary"
           }
          ],
          "surface": [
           {
            "colorbar": {
             "outlinewidth": 0,
             "ticks": ""
            },
            "colorscale": [
             [
              0,
              "#0d0887"
             ],
             [
              0.1111111111111111,
              "#46039f"
             ],
             [
              0.2222222222222222,
              "#7201a8"
             ],
             [
              0.3333333333333333,
              "#9c179e"
             ],
             [
              0.4444444444444444,
              "#bd3786"
             ],
             [
              0.5555555555555556,
              "#d8576b"
             ],
             [
              0.6666666666666666,
              "#ed7953"
             ],
             [
              0.7777777777777778,
              "#fb9f3a"
             ],
             [
              0.8888888888888888,
              "#fdca26"
             ],
             [
              1,
              "#f0f921"
             ]
            ],
            "type": "surface"
           }
          ],
          "table": [
           {
            "cells": {
             "fill": {
              "color": "#EBF0F8"
             },
             "line": {
              "color": "white"
             }
            },
            "header": {
             "fill": {
              "color": "#C8D4E3"
             },
             "line": {
              "color": "white"
             }
            },
            "type": "table"
           }
          ]
         },
         "layout": {
          "annotationdefaults": {
           "arrowcolor": "#2a3f5f",
           "arrowhead": 0,
           "arrowwidth": 1
          },
          "coloraxis": {
           "colorbar": {
            "outlinewidth": 0,
            "ticks": ""
           }
          },
          "colorscale": {
           "diverging": [
            [
             0,
             "#8e0152"
            ],
            [
             0.1,
             "#c51b7d"
            ],
            [
             0.2,
             "#de77ae"
            ],
            [
             0.3,
             "#f1b6da"
            ],
            [
             0.4,
             "#fde0ef"
            ],
            [
             0.5,
             "#f7f7f7"
            ],
            [
             0.6,
             "#e6f5d0"
            ],
            [
             0.7,
             "#b8e186"
            ],
            [
             0.8,
             "#7fbc41"
            ],
            [
             0.9,
             "#4d9221"
            ],
            [
             1,
             "#276419"
            ]
           ],
           "sequential": [
            [
             0,
             "#0d0887"
            ],
            [
             0.1111111111111111,
             "#46039f"
            ],
            [
             0.2222222222222222,
             "#7201a8"
            ],
            [
             0.3333333333333333,
             "#9c179e"
            ],
            [
             0.4444444444444444,
             "#bd3786"
            ],
            [
             0.5555555555555556,
             "#d8576b"
            ],
            [
             0.6666666666666666,
             "#ed7953"
            ],
            [
             0.7777777777777778,
             "#fb9f3a"
            ],
            [
             0.8888888888888888,
             "#fdca26"
            ],
            [
             1,
             "#f0f921"
            ]
           ],
           "sequentialminus": [
            [
             0,
             "#0d0887"
            ],
            [
             0.1111111111111111,
             "#46039f"
            ],
            [
             0.2222222222222222,
             "#7201a8"
            ],
            [
             0.3333333333333333,
             "#9c179e"
            ],
            [
             0.4444444444444444,
             "#bd3786"
            ],
            [
             0.5555555555555556,
             "#d8576b"
            ],
            [
             0.6666666666666666,
             "#ed7953"
            ],
            [
             0.7777777777777778,
             "#fb9f3a"
            ],
            [
             0.8888888888888888,
             "#fdca26"
            ],
            [
             1,
             "#f0f921"
            ]
           ]
          },
          "colorway": [
           "#636efa",
           "#EF553B",
           "#00cc96",
           "#ab63fa",
           "#FFA15A",
           "#19d3f3",
           "#FF6692",
           "#B6E880",
           "#FF97FF",
           "#FECB52"
          ],
          "font": {
           "color": "#2a3f5f"
          },
          "geo": {
           "bgcolor": "white",
           "lakecolor": "white",
           "landcolor": "#E5ECF6",
           "showlakes": true,
           "showland": true,
           "subunitcolor": "white"
          },
          "hoverlabel": {
           "align": "left"
          },
          "hovermode": "closest",
          "mapbox": {
           "style": "light"
          },
          "paper_bgcolor": "white",
          "plot_bgcolor": "#E5ECF6",
          "polar": {
           "angularaxis": {
            "gridcolor": "white",
            "linecolor": "white",
            "ticks": ""
           },
           "bgcolor": "#E5ECF6",
           "radialaxis": {
            "gridcolor": "white",
            "linecolor": "white",
            "ticks": ""
           }
          },
          "scene": {
           "xaxis": {
            "backgroundcolor": "#E5ECF6",
            "gridcolor": "white",
            "gridwidth": 2,
            "linecolor": "white",
            "showbackground": true,
            "ticks": "",
            "zerolinecolor": "white"
           },
           "yaxis": {
            "backgroundcolor": "#E5ECF6",
            "gridcolor": "white",
            "gridwidth": 2,
            "linecolor": "white",
            "showbackground": true,
            "ticks": "",
            "zerolinecolor": "white"
           },
           "zaxis": {
            "backgroundcolor": "#E5ECF6",
            "gridcolor": "white",
            "gridwidth": 2,
            "linecolor": "white",
            "showbackground": true,
            "ticks": "",
            "zerolinecolor": "white"
           }
          },
          "shapedefaults": {
           "line": {
            "color": "#2a3f5f"
           }
          },
          "ternary": {
           "aaxis": {
            "gridcolor": "white",
            "linecolor": "white",
            "ticks": ""
           },
           "baxis": {
            "gridcolor": "white",
            "linecolor": "white",
            "ticks": ""
           },
           "bgcolor": "#E5ECF6",
           "caxis": {
            "gridcolor": "white",
            "linecolor": "white",
            "ticks": ""
           }
          },
          "title": {
           "x": 0.05
          },
          "xaxis": {
           "automargin": true,
           "gridcolor": "white",
           "linecolor": "white",
           "ticks": "",
           "title": {
            "standoff": 15
           },
           "zerolinecolor": "white",
           "zerolinewidth": 2
          },
          "yaxis": {
           "automargin": true,
           "gridcolor": "white",
           "linecolor": "white",
           "ticks": "",
           "title": {
            "standoff": 15
           },
           "zerolinecolor": "white",
           "zerolinewidth": 2
          }
         }
        },
        "title": {
         "text": "Histogram of Age"
        }
       }
      },
      "text/html": [
       "<div>\n",
       "        \n",
       "        \n",
       "            <div id=\"0b14bf0c-8f64-4f83-beab-8ab6837393b3\" class=\"plotly-graph-div\" style=\"height:525px; width:100%;\"></div>\n",
       "            <script type=\"text/javascript\">\n",
       "                require([\"plotly\"], function(Plotly) {\n",
       "                    window.PLOTLYENV=window.PLOTLYENV || {};\n",
       "                    \n",
       "                if (document.getElementById(\"0b14bf0c-8f64-4f83-beab-8ab6837393b3\")) {\n",
       "                    Plotly.newPlot(\n",
       "                        '0b14bf0c-8f64-4f83-beab-8ab6837393b3',\n",
       "                        [{\"marker\": {\"color\": \"#CC0E1D\"}, \"type\": \"histogram\", \"x\": [30, 33, 35, 30, 59, 35, 36, 39, 41, 43, 39, 43, 36, 20, 31, 40, 56, 37, 25, 31, 38, 42, 44, 44, 26, 41, 55, 67, 56, 53, 68, 31, 59, 32, 49, 42, 78, 32, 33, 23, 38, 36, 52, 32, 32, 34, 55, 26, 32, 61, 45, 37, 38, 34, 53, 48, 57, 33, 36, 54, 41, 63, 48, 48, 56, 51, 31, 29, 41, 32, 37, 42, 31, 41, 56, 54, 41, 40, 50, 40, 27, 60, 28, 52, 37, 51, 41, 35, 38, 34, 39, 34, 27, 32, 57, 41, 41, 30, 36, 31, 36, 38, 49, 57, 34, 32, 37, 33, 56, 27, 21, 58, 32, 33, 25, 25, 30, 22, 39, 46, 31, 45, 32, 36, 51, 34, 24, 45, 32, 77, 41, 37, 43, 48, 27, 33, 29, 34, 52, 60, 32, 32, 56, 31, 42, 35, 56, 48, 46, 37, 41, 36, 45, 55, 39, 35, 55, 55, 27, 34, 34, 25, 41, 43, 28, 31, 78, 45, 48, 32, 42, 37, 40, 32, 42, 43, 44, 37, 37, 37, 28, 32, 34, 40, 34, 34, 34, 37, 36, 56, 49, 33, 30, 36, 23, 57, 27, 38, 42, 75, 34, 48, 35, 39, 29, 45, 42, 29, 38, 56, 36, 25, 38, 57, 31, 42, 45, 30, 49, 49, 53, 37, 49, 41, 54, 32, 33, 33, 36, 35, 52, 40, 44, 45, 30, 48, 33, 57, 57, 51, 34, 50, 44, 27, 50, 36, 42, 32, 42, 43, 31, 32, 55, 58, 46, 55, 34, 28, 42, 29, 54, 32, 39, 53, 58, 40, 29, 33, 38, 56, 40, 24, 46, 35, 35, 34, 35, 38, 50, 51, 59, 32, 37, 42, 40, 28, 47, 27, 41, 34, 50, 47, 53, 53, 47, 49, 29, 45, 38, 32, 70, 65, 56, 35, 56, 56, 49, 38, 35, 38, 49, 55, 43, 43, 25, 30, 46, 50, 35, 26, 45, 37, 60, 38, 47, 33, 51, 35, 35, 48, 37, 29, 34, 32, 30, 47, 33, 33, 63, 51, 41, 56, 60, 41, 37, 36, 57, 55, 44, 47, 31, 35, 39, 50, 29, 30, 46, 27, 48, 26, 36, 42, 50, 49, 45, 23, 38, 32, 60, 30, 58, 60, 38, 51, 42, 30, 40, 37, 53, 27, 39, 39, 59, 37, 41, 45, 48, 48, 32, 35, 33, 28, 64, 35, 33, 41, 34, 37, 38, 39, 35, 28, 27, 48, 50, 45, 41, 39, 44, 54, 49, 34, 75, 42, 53, 49, 31, 45, 39, 46, 42, 37, 26, 37, 36, 29, 36, 26, 32, 40, 53, 29, 34, 43, 56, 55, 31, 27, 36, 44, 37, 30, 42, 30, 62, 24, 31, 66, 47, 39, 35, 35, 27, 32, 44, 42, 34, 25, 40, 43, 55, 50, 45, 35, 32, 59, 34, 39, 40, 36, 40, 55, 38, 61, 41, 57, 48, 77, 35, 54, 37, 56, 40, 40, 54, 55, 55, 52, 55, 33, 52, 33, 53, 46, 44, 48, 50, 34, 38, 42, 32, 58, 31, 19, 41, 31, 52, 42, 41, 30, 38, 32, 52, 48, 36, 45, 34, 36, 34, 61, 54, 50, 43, 47, 45, 57, 27, 49, 43, 40, 32, 58, 34, 46, 29, 52, 45, 26, 40, 41, 47, 27, 27, 48, 49, 35, 47, 54, 39, 28, 54, 34, 63, 42, 43, 37, 55, 43, 41, 47, 34, 28, 36, 50, 35, 40, 26, 36, 59, 28, 46, 50, 53, 81, 35, 58, 44, 38, 49, 33, 29, 28, 31, 33, 52, 43, 32, 36, 41, 43, 45, 39, 41, 31, 37, 28, 47, 37, 60, 43, 58, 52, 50, 32, 42, 31, 28, 36, 51, 46, 50, 32, 26, 41, 39, 31, 28, 31, 30, 35, 33, 30, 32, 40, 31, 36, 33, 57, 45, 59, 30, 33, 52, 83, 58, 33, 41, 31, 35, 27, 57, 56, 53, 39, 32, 46, 56, 46, 29, 60, 33, 27, 50, 45, 58, 59, 58, 64, 47, 40, 36, 28, 38, 53, 46, 54, 32, 55, 55, 56, 40, 44, 32, 33, 41, 37, 58, 52, 49, 44, 28, 31, 37, 30, 28, 46, 47, 35, 80, 30, 55, 22, 33, 53, 49, 51, 41, 34, 36, 35, 29, 40, 32, 48, 59, 35, 33, 55, 41, 42, 46, 35, 28, 25, 56, 30, 45, 40, 40, 39, 48, 31, 32, 34, 26, 31, 37, 29, 57, 47, 38, 48, 50, 33, 28, 30, 52, 36, 36, 46, 57, 28, 46, 55, 33, 53, 41, 60, 35, 43, 57, 46, 31, 53, 35, 32, 48, 50, 40, 42, 59, 27, 32, 35, 28, 37, 57, 42, 55, 52, 26, 52, 26, 33, 24, 37, 28, 30, 33, 55, 33, 42, 37, 59, 27, 23, 51, 50, 43, 37, 34, 41, 26, 49, 29, 30, 38, 58, 34, 53, 50, 30, 40, 57, 40, 41, 53, 48, 32, 34, 46, 45, 51, 31, 47, 32, 41, 37, 27, 27, 50, 31, 40, 43, 39, 31, 48, 32, 47, 35, 42, 47, 59, 38, 50, 27, 55, 39, 31, 37, 28, 42, 40, 59, 40, 43, 38, 54, 41, 55, 33, 46, 36, 48, 42, 46, 49, 36, 34, 51, 58, 48, 41, 49, 43, 32, 54, 33, 35, 56, 57, 31, 33, 29, 38, 37, 33, 30, 31, 28, 26, 31, 50, 45, 48, 41, 60, 41, 43, 36, 40, 28, 27, 49, 37, 31, 31, 31, 35, 51, 33, 30, 58, 34, 45, 28, 31, 40, 30, 34, 40, 59, 43, 41, 33, 33, 36, 32, 25, 25, 38, 34, 67, 32, 45, 33, 38, 32, 54, 51, 42, 41, 39, 38, 39, 46, 50, 33, 37, 31, 34, 34, 36, 40, 40, 41, 52, 40, 48, 33, 44, 55, 51, 34, 58, 39, 27, 55, 35, 37, 52, 41, 52, 34, 53, 33, 47, 35, 33, 55, 58, 44, 25, 37, 41, 34, 36, 44, 34, 56, 43, 28, 54, 37, 59, 58, 56, 32, 42, 52, 46, 37, 39, 31, 59, 38, 58, 34, 40, 20, 34, 31, 39, 34, 24, 41, 40, 45, 36, 53, 23, 42, 48, 34, 36, 43, 36, 49, 55, 53, 42, 45, 31, 32, 36, 56, 46, 41, 31, 32, 38, 49, 46, 29, 36, 38, 53, 43, 41, 42, 55, 39, 30, 41, 44, 58, 35, 27, 34, 25, 36, 38, 30, 47, 41, 36, 63, 23, 32, 57, 48, 49, 50, 33, 53, 30, 38, 44, 39, 45, 36, 38, 36, 30, 28, 26, 54, 38, 32, 50, 43, 48, 57, 64, 26, 33, 50, 47, 39, 52, 31, 50, 47, 30, 32, 36, 46, 45, 37, 58, 59, 28, 48, 55, 37, 41, 35, 34, 43, 59, 50, 37, 35, 50, 36, 41, 28, 42, 60, 28, 48, 51, 32, 35, 37, 38, 77, 32, 43, 36, 29, 32, 41, 26, 34, 57, 36, 42, 35, 52, 36, 46, 60, 57, 48, 59, 39, 44, 27, 59, 36, 44, 50, 41, 47, 32, 38, 55, 38, 31, 38, 29, 55, 35, 40, 34, 32, 33, 33, 37, 58, 36, 42, 34, 35, 60, 50, 28, 27, 37, 31, 34, 38, 32, 37, 33, 71, 27, 38, 34, 54, 30, 35, 33, 36, 59, 72, 64, 53, 35, 58, 40, 41, 48, 44, 39, 61, 36, 28, 58, 60, 66, 36, 49, 40, 23, 29, 44, 54, 47, 33, 30, 27, 49, 27, 51, 32, 30, 33, 27, 75, 37, 36, 37, 35, 32, 32, 35, 31, 28, 27, 22, 35, 69, 37, 45, 47, 52, 33, 60, 33, 44, 38, 54, 32, 33, 55, 51, 48, 37, 33, 30, 43, 49, 54, 31, 54, 36, 30, 27, 30, 30, 35, 33, 43, 41, 41, 46, 54, 32, 30, 40, 30, 27, 41, 54, 32, 31, 42, 48, 34, 55, 49, 46, 47, 24, 58, 32, 25, 49, 59, 30, 46, 42, 37, 44, 49, 41, 48, 31, 37, 51, 80, 32, 48, 49, 30, 27, 34, 49, 48, 40, 38, 46, 41, 28, 51, 33, 26, 34, 27, 42, 45, 31, 32, 39, 26, 40, 52, 40, 48, 31, 27, 47, 28, 40, 34, 29, 36, 83, 55, 43, 23, 44, 58, 29, 30, 29, 41, 35, 31, 27, 47, 53, 34, 34, 36, 40, 37, 65, 53, 28, 33, 56, 45, 39, 28, 36, 41, 46, 41, 59, 24, 34, 40, 42, 50, 25, 51, 50, 37, 21, 52, 55, 26, 38, 32, 31, 34, 33, 35, 44, 48, 29, 50, 37, 44, 36, 49, 31, 49, 35, 57, 42, 36, 75, 38, 40, 38, 34, 29, 28, 79, 51, 32, 36, 38, 49, 42, 43, 34, 59, 35, 33, 34, 64, 34, 77, 57, 30, 56, 49, 73, 39, 57, 32, 32, 45, 32, 31, 49, 29, 55, 30, 45, 39, 36, 33, 36, 31, 36, 38, 33, 40, 31, 39, 33, 53, 38, 59, 55, 38, 48, 53, 44, 57, 29, 31, 35, 31, 35, 40, 39, 43, 44, 29, 40, 33, 46, 27, 26, 41, 34, 39, 27, 31, 44, 55, 51, 50, 30, 46, 49, 56, 47, 30, 36, 40, 37, 42, 45, 34, 27, 30, 32, 46, 29, 53, 32, 49, 35, 38, 39, 34, 42, 35, 60, 57, 31, 29, 41, 46, 33, 32, 54, 37, 32, 43, 50, 34, 31, 43, 49, 22, 35, 56, 53, 54, 32, 41, 40, 33, 33, 34, 36, 34, 55, 28, 29, 31, 52, 54, 43, 55, 28, 45, 45, 51, 42, 43, 34, 36, 37, 50, 42, 34, 48, 47, 40, 37, 38, 29, 46, 26, 30, 42, 42, 31, 37, 26, 54, 70, 29, 50, 60, 32, 32, 34, 48, 25, 32, 32, 47, 32, 49, 53, 41, 47, 35, 33, 49, 46, 29, 58, 40, 34, 60, 43, 50, 33, 37, 55, 45, 47, 58, 36, 55, 31, 38, 42, 32, 39, 41, 59, 42, 33, 53, 43, 39, 27, 39, 27, 33, 29, 33, 41, 38, 30, 58, 37, 36, 45, 23, 53, 44, 32, 32, 38, 47, 34, 52, 45, 50, 52, 37, 51, 32, 33, 28, 66, 31, 35, 47, 36, 32, 34, 40, 33, 39, 38, 32, 65, 34, 34, 42, 31, 47, 44, 38, 28, 46, 51, 42, 37, 58, 43, 36, 34, 31, 49, 54, 29, 51, 40, 35, 25, 32, 30, 38, 46, 43, 32, 29, 56, 57, 38, 51, 35, 37, 48, 30, 60, 56, 45, 38, 20, 59, 34, 36, 53, 51, 58, 48, 56, 51, 35, 40, 59, 44, 49, 35, 41, 55, 51, 27, 57, 51, 38, 49, 40, 47, 48, 47, 56, 29, 38, 32, 42, 30, 26, 35, 35, 35, 57, 29, 32, 45, 51, 31, 50, 38, 37, 35, 37, 28, 38, 43, 43, 56, 32, 58, 47, 31, 38, 50, 32, 37, 39, 40, 41, 45, 31, 54, 39, 56, 35, 34, 31, 38, 41, 44, 49, 30, 31, 34, 70, 45, 31, 57, 40, 28, 44, 49, 46, 34, 58, 52, 27, 48, 33, 46, 51, 31, 35, 37, 60, 40, 50, 34, 32, 36, 32, 40, 37, 57, 46, 31, 39, 35, 32, 44, 41, 59, 39, 54, 27, 51, 33, 38, 52, 54, 33, 50, 39, 34, 41, 48, 38, 34, 32, 48, 28, 47, 32, 32, 38, 86, 47, 42, 44, 25, 34, 34, 53, 42, 30, 26, 40, 34, 34, 40, 36, 34, 32, 39, 36, 39, 33, 34, 42, 46, 32, 27, 35, 53, 29, 35, 49, 58, 40, 19, 30, 34, 60, 28, 46, 49, 59, 44, 33, 54, 26, 54, 48, 30, 29, 51, 53, 43, 34, 40, 43, 33, 66, 44, 33, 31, 71, 22, 46, 32, 45, 32, 49, 27, 46, 37, 30, 44, 45, 27, 57, 66, 40, 48, 33, 42, 47, 27, 78, 50, 46, 41, 36, 49, 46, 77, 30, 43, 44, 40, 38, 25, 49, 33, 40, 44, 32, 52, 35, 35, 32, 42, 59, 44, 50, 27, 55, 54, 31, 56, 51, 61, 34, 56, 29, 34, 35, 56, 45, 31, 37, 43, 40, 44, 38, 58, 24, 53, 36, 28, 45, 32, 46, 28, 51, 51, 30, 39, 28, 31, 31, 38, 31, 74, 40, 43, 34, 54, 51, 33, 41, 33, 48, 42, 35, 25, 38, 45, 59, 47, 33, 59, 41, 42, 51, 45, 30, 33, 43, 37, 73, 43, 52, 44, 56, 21, 43, 54, 59, 52, 31, 53, 24, 57, 48, 57, 51, 50, 34, 43, 31, 29, 39, 36, 38, 56, 41, 47, 38, 80, 37, 44, 33, 53, 69, 46, 30, 31, 38, 34, 48, 46, 42, 41, 33, 39, 27, 26, 38, 48, 54, 51, 47, 53, 35, 58, 52, 57, 52, 35, 48, 46, 39, 38, 34, 47, 35, 46, 27, 31, 31, 46, 31, 33, 42, 33, 40, 51, 31, 62, 24, 48, 41, 43, 52, 54, 32, 38, 41, 31, 35, 26, 52, 58, 57, 34, 59, 27, 42, 47, 33, 31, 37, 29, 38, 35, 31, 62, 32, 31, 51, 29, 43, 36, 34, 29, 57, 43, 33, 60, 51, 40, 51, 38, 35, 47, 45, 40, 29, 52, 26, 31, 55, 35, 56, 28, 27, 30, 51, 33, 32, 43, 46, 32, 40, 39, 51, 46, 43, 36, 48, 26, 39, 47, 23, 54, 38, 33, 35, 52, 25, 29, 35, 49, 41, 32, 29, 28, 59, 34, 55, 34, 24, 42, 34, 34, 51, 58, 44, 33, 34, 34, 42, 46, 31, 39, 34, 47, 42, 48, 30, 38, 24, 34, 46, 32, 46, 26, 42, 50, 41, 34, 32, 58, 45, 28, 35, 39, 49, 50, 37, 45, 30, 48, 36, 41, 55, 70, 41, 47, 34, 33, 58, 51, 45, 55, 30, 33, 27, 59, 34, 47, 44, 35, 45, 42, 38, 34, 35, 29, 58, 44, 45, 43, 44, 30, 38, 50, 21, 38, 42, 45, 34, 48, 34, 32, 35, 39, 36, 35, 57, 28, 43, 57, 34, 36, 47, 36, 33, 57, 57, 34, 51, 54, 52, 43, 58, 53, 44, 29, 27, 35, 40, 34, 38, 32, 41, 25, 38, 26, 37, 30, 36, 33, 33, 35, 24, 29, 54, 27, 34, 39, 38, 37, 26, 36, 35, 30, 25, 34, 52, 39, 34, 34, 30, 33, 30, 51, 36, 48, 37, 58, 56, 34, 33, 26, 40, 35, 45, 37, 35, 43, 28, 32, 26, 35, 35, 39, 42, 32, 30, 26, 30, 32, 47, 33, 57, 35, 53, 24, 54, 31, 41, 44, 35, 30, 43, 51, 60, 43, 31, 56, 42, 52, 40, 36, 40, 46, 32, 31, 41, 58, 36, 52, 42, 32, 62, 31, 41, 34, 44, 42, 37, 47, 32, 46, 39, 28, 26, 52, 42, 33, 73, 35, 40, 51, 37, 39, 28, 49, 36, 45, 29, 35, 35, 30, 46, 25, 36, 42, 57, 42, 29, 36, 31, 59, 50, 47, 46, 26, 31, 30, 47, 23, 44, 42, 32, 28, 57, 38, 22, 54, 32, 32, 59, 45, 53, 50, 34, 35, 30, 62, 40, 26, 34, 50, 31, 35, 55, 34, 58, 50, 31, 47, 38, 46, 42, 34, 37, 38, 59, 32, 55, 35, 56, 27, 42, 42, 41, 53, 67, 53, 33, 31, 31, 30, 48, 30, 43, 38, 46, 59, 44, 35, 55, 39, 36, 33, 48, 33, 67, 48, 57, 31, 30, 56, 26, 44, 44, 31, 47, 30, 37, 56, 43, 42, 60, 34, 34, 41, 38, 23, 33, 36, 49, 34, 40, 72, 43, 44, 35, 46, 55, 50, 23, 34, 40, 61, 53, 57, 28, 25, 38, 27, 45, 31, 39, 42, 46, 36, 30, 32, 52, 31, 60, 35, 38, 46, 45, 59, 34, 33, 46, 48, 31, 32, 35, 36, 52, 45, 34, 25, 26, 57, 48, 48, 32, 58, 57, 31, 33, 53, 36, 32, 45, 35, 41, 54, 49, 28, 24, 30, 32, 53, 42, 48, 33, 31, 56, 58, 37, 59, 50, 39, 30, 47, 44, 38, 50, 27, 73, 46, 56, 36, 33, 40, 52, 51, 33, 54, 44, 50, 45, 36, 42, 37, 28, 56, 59, 32, 57, 49, 56, 48, 27, 31, 28, 36, 58, 46, 32, 39, 35, 31, 29, 48, 60, 74, 30, 52, 24, 29, 33, 34, 45, 31, 45, 27, 30, 45, 57, 34, 40, 39, 46, 55, 25, 34, 37, 64, 45, 57, 21, 58, 41, 41, 58, 33, 32, 44, 47, 41, 54, 47, 32, 59, 29, 48, 32, 46, 31, 53, 34, 48, 32, 31, 27, 60, 34, 52, 48, 45, 54, 52, 47, 54, 34, 39, 46, 26, 37, 47, 35, 57, 34, 47, 27, 40, 39, 36, 42, 23, 34, 34, 49, 57, 59, 57, 34, 61, 35, 42, 57, 42, 53, 63, 47, 54, 45, 28, 58, 48, 35, 37, 37, 37, 25, 58, 52, 19, 59, 41, 34, 35, 41, 28, 53, 35, 33, 37, 32, 32, 54, 44, 36, 56, 30, 36, 43, 40, 32, 34, 37, 28, 35, 53, 60, 40, 57, 29, 44, 41, 47, 43, 37, 34, 30, 57, 26, 34, 46, 38, 37, 28, 57, 39, 49, 38, 27, 30, 38, 36, 38, 59, 37, 29, 43, 33, 54, 55, 32, 48, 33, 46, 44, 47, 38, 80, 40, 43, 32, 39, 33, 31, 36, 35, 25, 33, 23, 31, 36, 44, 31, 55, 51, 36, 27, 40, 49, 59, 32, 42, 35, 29, 29, 37, 49, 51, 61, 43, 42, 24, 46, 23, 26, 43, 35, 38, 56, 31, 32, 28, 26, 49, 33, 80, 40, 42, 46, 32, 37, 32, 53, 39, 31, 34, 44, 35, 39, 55, 34, 39, 58, 37, 56, 32, 41, 29, 44, 24, 43, 26, 39, 49, 52, 33, 30, 32, 27, 58, 46, 28, 39, 41, 38, 50, 56, 34, 33, 61, 36, 34, 36, 45, 27, 45, 40, 36, 46, 37, 36, 37, 22, 51, 49, 35, 50, 31, 47, 59, 32, 71, 31, 41, 35, 36, 46, 46, 47, 35, 37, 56, 46, 44, 48, 28, 38, 34, 56, 55, 44, 38, 53, 41, 34, 34, 35, 38, 42, 56, 37, 47, 29, 41, 43, 38, 31, 32, 40, 45, 43, 27, 33, 37, 60, 51, 44, 48, 57, 29, 50, 36, 49, 49, 35, 39, 34, 57, 37, 25, 43, 37, 36, 49, 38, 39, 40, 34, 39, 53, 44, 32, 50, 29, 55, 73, 52, 49, 63, 34, 32, 49, 40, 53, 53, 43, 35, 35, 25, 31, 48, 40, 46, 30, 47, 23, 29, 38, 56, 52, 55, 43, 34, 43, 55, 34, 34, 43, 39, 39, 34, 55, 67, 34, 47, 33, 45, 36, 59, 33, 52, 53, 41, 45, 60, 32, 28, 31, 53, 58, 38, 46, 53, 56, 52, 38, 37, 37, 37, 66, 44, 61, 34, 33, 30, 27, 37, 38, 35, 50, 39, 35, 36, 28, 39, 39, 30, 32, 28, 47, 53, 57, 47, 56, 38, 52, 46, 57, 42, 57, 51, 53, 37, 47, 48, 39, 42, 36, 34, 61, 32, 35, 54, 31, 45, 32, 52, 36, 31, 53, 43, 47, 46, 34, 55, 23, 75, 58, 35, 27, 24, 48, 31, 57, 53, 42, 50, 59, 38, 39, 28, 55, 33, 36, 38, 28, 32, 35, 58, 30, 33, 36, 32, 34, 42, 41, 63, 38, 54, 39, 46, 37, 76, 28, 33, 46, 30, 60, 56, 24, 58, 79, 32, 33, 77, 60, 54, 30, 50, 50, 37, 41, 49, 41, 40, 38, 34, 49, 72, 34, 31, 33, 31, 55, 25, 34, 53, 39, 41, 32, 29, 56, 19, 39, 32, 43, 32, 53, 52, 43, 48, 27, 27, 51, 39, 33, 50, 59, 58, 54, 60, 38, 39, 40, 55, 36, 31, 38, 52, 45, 32, 58, 35, 36, 55, 45, 49, 44, 37, 35, 36, 44, 32, 56, 32, 35, 44, 59, 31, 60, 33, 45, 45, 57, 36, 30, 30, 59, 58, 49, 48, 28, 59, 40, 32, 58, 28, 27, 38, 53, 60, 33, 52, 64, 40, 52, 28, 49, 28, 29, 87, 37, 36, 35, 33, 60, 25, 69, 41, 48, 35, 30, 59, 32, 28, 60, 36, 32, 34, 58, 53, 31, 33, 46, 29, 37, 58, 34, 34, 49, 53, 42, 40, 30, 31, 55, 36, 31, 26, 31, 49, 54, 47, 61, 49, 51, 53, 35, 25, 79, 53, 21, 33, 40, 34, 52, 27, 57, 51, 31, 49, 32, 28, 33, 50, 42, 45, 34, 56, 33, 34, 37, 37, 35, 38, 32, 52, 49, 46, 42, 36, 32, 49, 46, 40, 36, 36, 34, 46, 32, 32, 32, 43, 25, 55, 24, 40, 38, 48, 36, 57, 45, 33, 38, 26, 30, 55, 34, 60, 36, 65, 39, 52, 55, 26, 40, 52, 29, 41, 30, 28, 26, 58, 29, 48, 35, 26, 49, 34, 32, 31, 48, 40, 42, 48, 38, 53, 59, 28, 41, 50, 31, 30, 59, 33, 35, 30, 71, 30, 24, 34, 34, 52, 33, 38, 41, 42, 38, 48, 34, 46, 33, 40, 36, 32, 33, 55, 58, 25, 47, 40, 59, 40, 30, 25, 58, 39, 40, 38, 66, 47, 37, 36, 50, 76, 58, 42, 58, 28, 41, 30, 32, 27, 48, 36, 54, 36, 52, 34, 43, 32, 33, 51, 39, 44, 49, 25, 39, 54, 32, 36, 54, 31, 45, 31, 45, 33, 46, 43, 50, 44, 42, 26, 47, 48, 60, 27, 30, 28, 58, 37, 36, 39, 52, 55, 30, 36, 39, 47, 42, 42, 58, 68, 43, 44, 49, 57, 61, 36, 31, 51, 31, 56, 30, 38, 35, 31, 39, 50, 39, 26, 55, 43, 34, 51, 31, 32, 53, 44, 38, 47, 36, 30, 46, 33, 43, 38, 27, 38, 41, 29, 39, 42, 47, 30, 34, 45, 43, 59, 50, 39, 36, 44, 36, 27, 29, 70, 44, 55, 36, 28, 50, 49, 71, 31, 45, 42, 45, 47, 60, 35, 31, 33, 50, 51, 34, 56, 29, 31, 44, 55, 35, 36, 54, 32, 36, 60, 32, 57, 34, 27, 52, 45, 58, 39, 48, 36, 31, 41, 30, 57, 29, 29, 30, 44, 33, 56, 26, 52, 32, 36, 26, 37, 34, 26, 32, 30, 27, 42, 33, 37, 45, 36, 39, 33, 47, 49, 46, 31, 43, 30, 43, 42, 30, 33, 41, 29, 38, 29, 80, 38, 36, 38, 44, 31, 31, 57, 37, 50, 60, 51, 48, 42, 36, 43, 31, 49, 35, 44, 34, 46, 49, 32, 35, 51, 57, 59, 40, 49, 51, 35, 29, 32, 37, 49, 45, 34, 53, 42, 43, 52, 34, 34, 27, 43, 41, 72, 35, 41, 36, 51, 37, 42, 26, 23, 50, 37, 35, 37, 79, 39, 47, 44, 36, 33, 42, 35, 31, 58, 46, 41, 58, 33, 31, 55, 38, 55, 47, 51, 46, 61, 47, 34, 34, 41, 36, 26, 35, 36, 26, 58, 50, 61, 28, 49, 74, 53, 46, 47, 42, 56, 42, 49, 43, 39, 66, 30, 38, 31, 32, 48, 34, 28, 40, 36, 52, 46, 25, 52, 40, 26, 26, 35, 40, 31, 32, 33, 53, 46, 28, 31, 44, 35, 50, 32, 51, 51, 31, 41, 57, 34, 47, 47, 36, 29, 39, 53, 47, 51, 48, 32, 36, 50, 39, 31, 49, 33, 26, 27, 51, 26, 45, 54, 49, 47, 42, 50, 37, 54, 40, 50, 57, 33, 49, 35, 28, 58, 31, 36, 49, 30, 29, 50, 26, 27, 32, 62, 34, 25, 34, 44, 38, 57, 36, 41, 36, 27, 37, 47, 31, 39, 35, 40, 38, 31, 36, 53, 59, 29, 30, 52, 55, 56, 32, 24, 51, 36, 36, 42, 49, 48, 36, 48, 30, 27, 38, 36, 45, 44, 42, 37, 48, 57, 44, 48, 56, 37, 47, 54, 51, 47, 25, 39, 40, 38, 34, 53, 32, 35, 24, 58, 49, 45, 55, 42, 28, 48, 51, 38, 27, 50, 44, 40, 29, 34, 44, 50, 34, 54, 34, 34, 52, 60, 39, 58, 41, 48, 58, 40, 48, 52, 50, 25, 54, 34, 48, 37, 66, 32, 45, 43, 41, 40, 44, 43, 30, 32, 57, 31, 49, 31, 41, 44, 54, 37, 34, 43, 44, 44, 53, 36, 58, 26, 34, 55, 55, 34, 41, 38, 28, 41, 30, 39, 41, 36, 37, 59, 26, 43, 42, 46, 31, 43, 48, 41, 32, 45, 52, 37, 38, 36, 58, 37, 30, 47, 40, 42, 71, 54, 53, 33, 30, 39, 32, 34, 39, 75, 33, 40, 37, 69, 52, 31, 28, 29, 46, 28, 41, 42, 34, 28, 43, 32, 33, 70, 36, 53, 30, 45, 31, 28, 45, 51, 53, 40, 53, 31, 30, 53, 40, 26, 47, 51, 45, 35, 36, 57, 42, 32, 30, 36, 43, 69, 31, 35, 26, 46, 30, 33, 34, 48, 31, 46, 40, 39, 33, 50, 84, 40, 55, 40, 46, 43, 34, 35, 57, 25, 32, 52, 31, 34, 42, 47, 50, 30, 33, 56, 34, 33, 32, 34, 37, 30, 29, 56, 31, 59, 36, 51, 54, 37, 32, 42, 29, 52, 40, 30, 55, 49, 33, 32, 21, 42, 56, 39, 30, 55, 43, 53, 57, 39, 56, 29, 38, 59, 42, 46, 31, 35, 50, 42, 36, 25, 42, 27, 32, 57, 48, 34, 33, 26, 50, 60, 47, 31, 52, 36, 43, 30, 32, 31, 29, 48, 32, 30, 48, 51, 34, 35, 49, 36, 37, 37, 49, 44, 40, 57, 39, 38, 51, 27, 38, 30, 36, 37, 53, 38, 48, 26, 33, 47, 45, 32, 69, 65, 37, 45, 36, 62, 37, 39, 38, 31, 58, 44, 31, 33, 36, 31, 45, 30, 34, 34, 39, 41, 32, 32, 36, 35, 32, 33, 49, 35, 31, 42, 34, 32, 29, 32, 50, 58, 59, 25, 57, 30, 26, 50, 39, 45, 37, 47, 50, 40, 35, 53, 35, 54, 35, 31, 46, 52, 34, 46, 54, 37, 39, 50, 44, 56, 40, 36, 33, 33, 42, 30, 33, 26, 26, 37, 59, 49, 33, 46, 55, 49, 51, 27, 44, 40, 36, 46, 30, 35, 31, 37, 49, 27, 32, 70, 22, 58, 33, 83, 50, 53, 37, 55, 49, 41, 40, 48, 27, 30, 37, 37, 40, 73, 50, 53, 47, 33, 50, 51, 42, 34, 44, 32, 60, 60, 29, 39, 47, 30, 31, 34, 51, 38, 47, 46, 33, 30, 40, 38, 63, 33, 59, 29, 54, 57, 57, 28, 30, 28, 45, 29, 42, 31, 59, 41, 57, 43, 30, 26, 52, 32, 39, 31, 83, 34, 40, 39, 50, 30, 43, 49, 41, 35, 57, 29, 48, 38, 41, 39, 31, 51, 35, 45, 28, 57, 36, 49, 34, 65, 26, 52, 32, 33, 43, 26, 45, 30, 37, 45, 34, 35, 41, 42, 48, 45, 47, 37, 32, 40, 35, 31, 36, 44, 52, 28, 45, 38, 39, 28, 31, 46, 22, 49, 44, 31, 53, 55, 35, 35, 37, 50, 37, 37, 29, 31, 40, 47, 55, 33, 53, 38, 61, 43, 42, 36, 31, 59, 29, 33, 44, 43, 42, 32, 43, 39, 23, 43, 46, 31, 38, 53, 37, 49, 31, 45, 58, 35, 32, 28, 26, 48, 30, 31, 31, 45, 38, 34, 42, 60, 42, 32, 42, 33, 42, 51, 36, 46, 40, 49, 38, 32, 33, 57, 57, 28, 44]}],\n",
       "                        {\"template\": {\"data\": {\"bar\": [{\"error_x\": {\"color\": \"#2a3f5f\"}, \"error_y\": {\"color\": \"#2a3f5f\"}, \"marker\": {\"line\": {\"color\": \"#E5ECF6\", \"width\": 0.5}}, \"type\": \"bar\"}], \"barpolar\": [{\"marker\": {\"line\": {\"color\": \"#E5ECF6\", \"width\": 0.5}}, \"type\": \"barpolar\"}], \"carpet\": [{\"aaxis\": {\"endlinecolor\": \"#2a3f5f\", \"gridcolor\": \"white\", \"linecolor\": \"white\", \"minorgridcolor\": \"white\", \"startlinecolor\": \"#2a3f5f\"}, \"baxis\": {\"endlinecolor\": \"#2a3f5f\", \"gridcolor\": \"white\", \"linecolor\": \"white\", \"minorgridcolor\": \"white\", \"startlinecolor\": \"#2a3f5f\"}, \"type\": \"carpet\"}], \"choropleth\": [{\"colorbar\": {\"outlinewidth\": 0, \"ticks\": \"\"}, \"type\": \"choropleth\"}], \"contour\": [{\"colorbar\": {\"outlinewidth\": 0, \"ticks\": \"\"}, \"colorscale\": [[0.0, \"#0d0887\"], [0.1111111111111111, \"#46039f\"], [0.2222222222222222, \"#7201a8\"], [0.3333333333333333, \"#9c179e\"], [0.4444444444444444, \"#bd3786\"], [0.5555555555555556, \"#d8576b\"], [0.6666666666666666, \"#ed7953\"], [0.7777777777777778, \"#fb9f3a\"], [0.8888888888888888, \"#fdca26\"], [1.0, \"#f0f921\"]], \"type\": \"contour\"}], \"contourcarpet\": [{\"colorbar\": {\"outlinewidth\": 0, \"ticks\": \"\"}, \"type\": \"contourcarpet\"}], \"heatmap\": [{\"colorbar\": {\"outlinewidth\": 0, \"ticks\": \"\"}, \"colorscale\": [[0.0, \"#0d0887\"], [0.1111111111111111, \"#46039f\"], [0.2222222222222222, \"#7201a8\"], [0.3333333333333333, \"#9c179e\"], [0.4444444444444444, \"#bd3786\"], [0.5555555555555556, \"#d8576b\"], [0.6666666666666666, \"#ed7953\"], [0.7777777777777778, \"#fb9f3a\"], [0.8888888888888888, \"#fdca26\"], [1.0, \"#f0f921\"]], \"type\": \"heatmap\"}], \"heatmapgl\": [{\"colorbar\": {\"outlinewidth\": 0, \"ticks\": \"\"}, \"colorscale\": [[0.0, \"#0d0887\"], [0.1111111111111111, \"#46039f\"], [0.2222222222222222, \"#7201a8\"], [0.3333333333333333, \"#9c179e\"], [0.4444444444444444, \"#bd3786\"], [0.5555555555555556, \"#d8576b\"], [0.6666666666666666, \"#ed7953\"], [0.7777777777777778, \"#fb9f3a\"], [0.8888888888888888, \"#fdca26\"], [1.0, \"#f0f921\"]], \"type\": \"heatmapgl\"}], \"histogram\": [{\"marker\": {\"colorbar\": {\"outlinewidth\": 0, \"ticks\": \"\"}}, \"type\": \"histogram\"}], \"histogram2d\": [{\"colorbar\": {\"outlinewidth\": 0, \"ticks\": \"\"}, \"colorscale\": [[0.0, \"#0d0887\"], [0.1111111111111111, \"#46039f\"], [0.2222222222222222, \"#7201a8\"], [0.3333333333333333, \"#9c179e\"], [0.4444444444444444, \"#bd3786\"], [0.5555555555555556, \"#d8576b\"], [0.6666666666666666, \"#ed7953\"], [0.7777777777777778, \"#fb9f3a\"], [0.8888888888888888, \"#fdca26\"], [1.0, \"#f0f921\"]], \"type\": \"histogram2d\"}], \"histogram2dcontour\": [{\"colorbar\": {\"outlinewidth\": 0, \"ticks\": \"\"}, \"colorscale\": [[0.0, \"#0d0887\"], [0.1111111111111111, \"#46039f\"], [0.2222222222222222, \"#7201a8\"], [0.3333333333333333, \"#9c179e\"], [0.4444444444444444, \"#bd3786\"], [0.5555555555555556, \"#d8576b\"], [0.6666666666666666, \"#ed7953\"], [0.7777777777777778, \"#fb9f3a\"], [0.8888888888888888, \"#fdca26\"], [1.0, \"#f0f921\"]], \"type\": \"histogram2dcontour\"}], \"mesh3d\": [{\"colorbar\": {\"outlinewidth\": 0, \"ticks\": \"\"}, \"type\": \"mesh3d\"}], \"parcoords\": [{\"line\": {\"colorbar\": {\"outlinewidth\": 0, \"ticks\": \"\"}}, \"type\": \"parcoords\"}], \"pie\": [{\"automargin\": true, \"type\": \"pie\"}], \"scatter\": [{\"marker\": {\"colorbar\": {\"outlinewidth\": 0, \"ticks\": \"\"}}, \"type\": \"scatter\"}], \"scatter3d\": [{\"line\": {\"colorbar\": {\"outlinewidth\": 0, \"ticks\": \"\"}}, \"marker\": {\"colorbar\": {\"outlinewidth\": 0, \"ticks\": \"\"}}, \"type\": \"scatter3d\"}], \"scattercarpet\": [{\"marker\": {\"colorbar\": {\"outlinewidth\": 0, \"ticks\": \"\"}}, \"type\": \"scattercarpet\"}], \"scattergeo\": [{\"marker\": {\"colorbar\": {\"outlinewidth\": 0, \"ticks\": \"\"}}, \"type\": \"scattergeo\"}], \"scattergl\": [{\"marker\": {\"colorbar\": {\"outlinewidth\": 0, \"ticks\": \"\"}}, \"type\": \"scattergl\"}], \"scattermapbox\": [{\"marker\": {\"colorbar\": {\"outlinewidth\": 0, \"ticks\": \"\"}}, \"type\": \"scattermapbox\"}], \"scatterpolar\": [{\"marker\": {\"colorbar\": {\"outlinewidth\": 0, \"ticks\": \"\"}}, \"type\": \"scatterpolar\"}], \"scatterpolargl\": [{\"marker\": {\"colorbar\": {\"outlinewidth\": 0, \"ticks\": \"\"}}, \"type\": \"scatterpolargl\"}], \"scatterternary\": [{\"marker\": {\"colorbar\": {\"outlinewidth\": 0, \"ticks\": \"\"}}, \"type\": \"scatterternary\"}], \"surface\": [{\"colorbar\": {\"outlinewidth\": 0, \"ticks\": \"\"}, \"colorscale\": [[0.0, \"#0d0887\"], [0.1111111111111111, \"#46039f\"], [0.2222222222222222, \"#7201a8\"], [0.3333333333333333, \"#9c179e\"], [0.4444444444444444, \"#bd3786\"], [0.5555555555555556, \"#d8576b\"], [0.6666666666666666, \"#ed7953\"], [0.7777777777777778, \"#fb9f3a\"], [0.8888888888888888, \"#fdca26\"], [1.0, \"#f0f921\"]], \"type\": \"surface\"}], \"table\": [{\"cells\": {\"fill\": {\"color\": \"#EBF0F8\"}, \"line\": {\"color\": \"white\"}}, \"header\": {\"fill\": {\"color\": \"#C8D4E3\"}, \"line\": {\"color\": \"white\"}}, \"type\": \"table\"}]}, \"layout\": {\"annotationdefaults\": {\"arrowcolor\": \"#2a3f5f\", \"arrowhead\": 0, \"arrowwidth\": 1}, \"coloraxis\": {\"colorbar\": {\"outlinewidth\": 0, \"ticks\": \"\"}}, \"colorscale\": {\"diverging\": [[0, \"#8e0152\"], [0.1, \"#c51b7d\"], [0.2, \"#de77ae\"], [0.3, \"#f1b6da\"], [0.4, \"#fde0ef\"], [0.5, \"#f7f7f7\"], [0.6, \"#e6f5d0\"], [0.7, \"#b8e186\"], [0.8, \"#7fbc41\"], [0.9, \"#4d9221\"], [1, \"#276419\"]], \"sequential\": [[0.0, \"#0d0887\"], [0.1111111111111111, \"#46039f\"], [0.2222222222222222, \"#7201a8\"], [0.3333333333333333, \"#9c179e\"], [0.4444444444444444, \"#bd3786\"], [0.5555555555555556, \"#d8576b\"], [0.6666666666666666, \"#ed7953\"], [0.7777777777777778, \"#fb9f3a\"], [0.8888888888888888, \"#fdca26\"], [1.0, \"#f0f921\"]], \"sequentialminus\": [[0.0, \"#0d0887\"], [0.1111111111111111, \"#46039f\"], [0.2222222222222222, \"#7201a8\"], [0.3333333333333333, \"#9c179e\"], [0.4444444444444444, \"#bd3786\"], [0.5555555555555556, \"#d8576b\"], [0.6666666666666666, \"#ed7953\"], [0.7777777777777778, \"#fb9f3a\"], [0.8888888888888888, \"#fdca26\"], [1.0, \"#f0f921\"]]}, \"colorway\": [\"#636efa\", \"#EF553B\", \"#00cc96\", \"#ab63fa\", \"#FFA15A\", \"#19d3f3\", \"#FF6692\", \"#B6E880\", \"#FF97FF\", \"#FECB52\"], \"font\": {\"color\": \"#2a3f5f\"}, \"geo\": {\"bgcolor\": \"white\", \"lakecolor\": \"white\", \"landcolor\": \"#E5ECF6\", \"showlakes\": true, \"showland\": true, \"subunitcolor\": \"white\"}, \"hoverlabel\": {\"align\": \"left\"}, \"hovermode\": \"closest\", \"mapbox\": {\"style\": \"light\"}, \"paper_bgcolor\": \"white\", \"plot_bgcolor\": \"#E5ECF6\", \"polar\": {\"angularaxis\": {\"gridcolor\": \"white\", \"linecolor\": \"white\", \"ticks\": \"\"}, \"bgcolor\": \"#E5ECF6\", \"radialaxis\": {\"gridcolor\": \"white\", \"linecolor\": \"white\", \"ticks\": \"\"}}, \"scene\": {\"xaxis\": {\"backgroundcolor\": \"#E5ECF6\", \"gridcolor\": \"white\", \"gridwidth\": 2, \"linecolor\": \"white\", \"showbackground\": true, \"ticks\": \"\", \"zerolinecolor\": \"white\"}, \"yaxis\": {\"backgroundcolor\": \"#E5ECF6\", \"gridcolor\": \"white\", \"gridwidth\": 2, \"linecolor\": \"white\", \"showbackground\": true, \"ticks\": \"\", \"zerolinecolor\": \"white\"}, \"zaxis\": {\"backgroundcolor\": \"#E5ECF6\", \"gridcolor\": \"white\", \"gridwidth\": 2, \"linecolor\": \"white\", \"showbackground\": true, \"ticks\": \"\", \"zerolinecolor\": \"white\"}}, \"shapedefaults\": {\"line\": {\"color\": \"#2a3f5f\"}}, \"ternary\": {\"aaxis\": {\"gridcolor\": \"white\", \"linecolor\": \"white\", \"ticks\": \"\"}, \"baxis\": {\"gridcolor\": \"white\", \"linecolor\": \"white\", \"ticks\": \"\"}, \"bgcolor\": \"#E5ECF6\", \"caxis\": {\"gridcolor\": \"white\", \"linecolor\": \"white\", \"ticks\": \"\"}}, \"title\": {\"x\": 0.05}, \"xaxis\": {\"automargin\": true, \"gridcolor\": \"white\", \"linecolor\": \"white\", \"ticks\": \"\", \"title\": {\"standoff\": 15}, \"zerolinecolor\": \"white\", \"zerolinewidth\": 2}, \"yaxis\": {\"automargin\": true, \"gridcolor\": \"white\", \"linecolor\": \"white\", \"ticks\": \"\", \"title\": {\"standoff\": 15}, \"zerolinecolor\": \"white\", \"zerolinewidth\": 2}}}, \"title\": {\"text\": \"Histogram of Age\"}},\n",
       "                        {\"responsive\": true}\n",
       "                    ).then(function(){\n",
       "                            \n",
       "var gd = document.getElementById('0b14bf0c-8f64-4f83-beab-8ab6837393b3');\n",
       "var x = new MutationObserver(function (mutations, observer) {{\n",
       "        var display = window.getComputedStyle(gd).display;\n",
       "        if (!display || display === 'none') {{\n",
       "            console.log([gd, 'removed!']);\n",
       "            Plotly.purge(gd);\n",
       "            observer.disconnect();\n",
       "        }}\n",
       "}});\n",
       "\n",
       "// Listen for the removal of the full notebook cells\n",
       "var notebookContainer = gd.closest('#notebook-container');\n",
       "if (notebookContainer) {{\n",
       "    x.observe(notebookContainer, {childList: true});\n",
       "}}\n",
       "\n",
       "// Listen for the clearing of the current output cell\n",
       "var outputEl = gd.closest('.output');\n",
       "if (outputEl) {{\n",
       "    x.observe(outputEl, {childList: true});\n",
       "}}\n",
       "\n",
       "                        })\n",
       "                };\n",
       "                });\n",
       "            </script>\n",
       "        </div>"
      ]
     },
     "metadata": {},
     "output_type": "display_data"
    }
   ],
   "source": [
    "data = [go.Histogram(x=bank_data.age, marker=dict(color='#CC0E1D' ))]\n",
    "layout = go.Layout(title = \"Histogram of Age\")\n",
    "fig = go.Figure(data= data, layout=layout)\n",
    "iplot(fig)"
   ]
  },
  {
   "cell_type": "code",
   "execution_count": 21,
   "metadata": {},
   "outputs": [
    {
     "ename": "SyntaxError",
     "evalue": "invalid syntax (<ipython-input-21-949efba9929b>, line 1)",
     "output_type": "error",
     "traceback": [
      "\u001b[1;36m  File \u001b[1;32m\"<ipython-input-21-949efba9929b>\"\u001b[1;36m, line \u001b[1;32m1\u001b[0m\n\u001b[1;33m    we 16 features.... in this\u001b[0m\n\u001b[1;37m        ^\u001b[0m\n\u001b[1;31mSyntaxError\u001b[0m\u001b[1;31m:\u001b[0m invalid syntax\n"
     ]
    }
   ],
   "source": [
    "#we 16 features.... in this "
   ]
  },
  {
   "cell_type": "code",
   "execution_count": 29,
   "metadata": {},
   "outputs": [
    {
     "data": {
      "text/plain": [
       "no     4000\n",
       "yes     521\n",
       "Name: y, dtype: int64"
      ]
     },
     "execution_count": 29,
     "metadata": {},
     "output_type": "execute_result"
    }
   ],
   "source": [
    "bank_data.y.value_counts()"
   ]
  },
  {
   "cell_type": "code",
   "execution_count": 30,
   "metadata": {},
   "outputs": [],
   "source": [
    "bank_data_L0=bank_data[bank_data['y']=='no']"
   ]
  },
  {
   "cell_type": "code",
   "execution_count": 31,
   "metadata": {},
   "outputs": [
    {
     "data": {
      "text/html": [
       "<div>\n",
       "<style scoped>\n",
       "    .dataframe tbody tr th:only-of-type {\n",
       "        vertical-align: middle;\n",
       "    }\n",
       "\n",
       "    .dataframe tbody tr th {\n",
       "        vertical-align: top;\n",
       "    }\n",
       "\n",
       "    .dataframe thead th {\n",
       "        text-align: right;\n",
       "    }\n",
       "</style>\n",
       "<table border=\"1\" class=\"dataframe\">\n",
       "  <thead>\n",
       "    <tr style=\"text-align: right;\">\n",
       "      <th></th>\n",
       "      <th>age</th>\n",
       "      <th>job</th>\n",
       "      <th>marital</th>\n",
       "      <th>education</th>\n",
       "      <th>default</th>\n",
       "      <th>balance</th>\n",
       "      <th>housing</th>\n",
       "      <th>loan</th>\n",
       "      <th>contact</th>\n",
       "      <th>day</th>\n",
       "      <th>month</th>\n",
       "      <th>duration</th>\n",
       "      <th>campaign</th>\n",
       "      <th>pdays</th>\n",
       "      <th>previous</th>\n",
       "      <th>poutcome</th>\n",
       "      <th>y</th>\n",
       "    </tr>\n",
       "  </thead>\n",
       "  <tbody>\n",
       "    <tr>\n",
       "      <th>0</th>\n",
       "      <td>30</td>\n",
       "      <td>unemployed</td>\n",
       "      <td>married</td>\n",
       "      <td>primary</td>\n",
       "      <td>no</td>\n",
       "      <td>1787</td>\n",
       "      <td>no</td>\n",
       "      <td>no</td>\n",
       "      <td>cellular</td>\n",
       "      <td>19</td>\n",
       "      <td>oct</td>\n",
       "      <td>79</td>\n",
       "      <td>1</td>\n",
       "      <td>-1</td>\n",
       "      <td>0</td>\n",
       "      <td>unknown</td>\n",
       "      <td>no</td>\n",
       "    </tr>\n",
       "    <tr>\n",
       "      <th>1</th>\n",
       "      <td>33</td>\n",
       "      <td>services</td>\n",
       "      <td>married</td>\n",
       "      <td>secondary</td>\n",
       "      <td>no</td>\n",
       "      <td>4789</td>\n",
       "      <td>yes</td>\n",
       "      <td>yes</td>\n",
       "      <td>cellular</td>\n",
       "      <td>11</td>\n",
       "      <td>may</td>\n",
       "      <td>220</td>\n",
       "      <td>1</td>\n",
       "      <td>339</td>\n",
       "      <td>4</td>\n",
       "      <td>failure</td>\n",
       "      <td>no</td>\n",
       "    </tr>\n",
       "    <tr>\n",
       "      <th>2</th>\n",
       "      <td>35</td>\n",
       "      <td>management</td>\n",
       "      <td>single</td>\n",
       "      <td>tertiary</td>\n",
       "      <td>no</td>\n",
       "      <td>1350</td>\n",
       "      <td>yes</td>\n",
       "      <td>no</td>\n",
       "      <td>cellular</td>\n",
       "      <td>16</td>\n",
       "      <td>apr</td>\n",
       "      <td>185</td>\n",
       "      <td>1</td>\n",
       "      <td>330</td>\n",
       "      <td>1</td>\n",
       "      <td>failure</td>\n",
       "      <td>no</td>\n",
       "    </tr>\n",
       "    <tr>\n",
       "      <th>3</th>\n",
       "      <td>30</td>\n",
       "      <td>management</td>\n",
       "      <td>married</td>\n",
       "      <td>tertiary</td>\n",
       "      <td>no</td>\n",
       "      <td>1476</td>\n",
       "      <td>yes</td>\n",
       "      <td>yes</td>\n",
       "      <td>unknown</td>\n",
       "      <td>3</td>\n",
       "      <td>jun</td>\n",
       "      <td>199</td>\n",
       "      <td>4</td>\n",
       "      <td>-1</td>\n",
       "      <td>0</td>\n",
       "      <td>unknown</td>\n",
       "      <td>no</td>\n",
       "    </tr>\n",
       "    <tr>\n",
       "      <th>4</th>\n",
       "      <td>59</td>\n",
       "      <td>blue-collar</td>\n",
       "      <td>married</td>\n",
       "      <td>secondary</td>\n",
       "      <td>no</td>\n",
       "      <td>0</td>\n",
       "      <td>yes</td>\n",
       "      <td>no</td>\n",
       "      <td>unknown</td>\n",
       "      <td>5</td>\n",
       "      <td>may</td>\n",
       "      <td>226</td>\n",
       "      <td>1</td>\n",
       "      <td>-1</td>\n",
       "      <td>0</td>\n",
       "      <td>unknown</td>\n",
       "      <td>no</td>\n",
       "    </tr>\n",
       "  </tbody>\n",
       "</table>\n",
       "</div>"
      ],
      "text/plain": [
       "   age          job  marital  education default  balance housing loan  \\\n",
       "0   30   unemployed  married    primary      no     1787      no   no   \n",
       "1   33     services  married  secondary      no     4789     yes  yes   \n",
       "2   35   management   single   tertiary      no     1350     yes   no   \n",
       "3   30   management  married   tertiary      no     1476     yes  yes   \n",
       "4   59  blue-collar  married  secondary      no        0     yes   no   \n",
       "\n",
       "    contact  day month  duration  campaign  pdays  previous poutcome   y  \n",
       "0  cellular   19   oct        79         1     -1         0  unknown  no  \n",
       "1  cellular   11   may       220         1    339         4  failure  no  \n",
       "2  cellular   16   apr       185         1    330         1  failure  no  \n",
       "3   unknown    3   jun       199         4     -1         0  unknown  no  \n",
       "4   unknown    5   may       226         1     -1         0  unknown  no  "
      ]
     },
     "execution_count": 31,
     "metadata": {},
     "output_type": "execute_result"
    }
   ],
   "source": [
    "bank_data_L0.head()"
   ]
  },
  {
   "cell_type": "code",
   "execution_count": 32,
   "metadata": {},
   "outputs": [
    {
     "data": {
      "application/vnd.plotly.v1+json": {
       "config": {
        "linkText": "Export to plot.ly",
        "plotlyServerURL": "https://plot.ly",
        "showLink": false
       },
       "data": [
        {
         "marker": {
          "color": "#CC0E1D"
         },
         "type": "histogram",
         "x": [
          30,
          33,
          35,
          30,
          59,
          35,
          36,
          39,
          41,
          43,
          39,
          43,
          36,
          31,
          40,
          56,
          37,
          25,
          31,
          38,
          42,
          44,
          44,
          26,
          41,
          55,
          67,
          56,
          53,
          31,
          59,
          42,
          23,
          38,
          36,
          52,
          32,
          32,
          34,
          55,
          26,
          32,
          37,
          38,
          53,
          48,
          57,
          33,
          36,
          54,
          41,
          63,
          48,
          48,
          56,
          51,
          31,
          29,
          41,
          32,
          42,
          31,
          41,
          56,
          54,
          41,
          40,
          50,
          40,
          60,
          28,
          51,
          41,
          35,
          38,
          34,
          39,
          34,
          32,
          57,
          41,
          41,
          30,
          36,
          36,
          38,
          49,
          57,
          34,
          32,
          37,
          33,
          27,
          58,
          32,
          33,
          30,
          22,
          39,
          46,
          31,
          45,
          32,
          36,
          51,
          24,
          45,
          32,
          41,
          37,
          43,
          48,
          27,
          33,
          29,
          34,
          60,
          32,
          32,
          56,
          31,
          42,
          35,
          56,
          48,
          46,
          37,
          41,
          36,
          45,
          55,
          39,
          35,
          55,
          27,
          34,
          34,
          25,
          41,
          43,
          31,
          78,
          45,
          48,
          32,
          42,
          37,
          40,
          32,
          42,
          43,
          44,
          37,
          37,
          37,
          28,
          32,
          34,
          40,
          34,
          34,
          34,
          37,
          36,
          49,
          33,
          30,
          36,
          23,
          57,
          27,
          38,
          42,
          34,
          48,
          39,
          45,
          42,
          29,
          38,
          56,
          36,
          25,
          38,
          57,
          31,
          45,
          30,
          49,
          49,
          53,
          37,
          49,
          41,
          54,
          32,
          33,
          33,
          36,
          35,
          52,
          40,
          44,
          45,
          30,
          48,
          33,
          57,
          57,
          51,
          34,
          50,
          44,
          27,
          50,
          36,
          42,
          32,
          42,
          43,
          31,
          32,
          55,
          58,
          46,
          55,
          34,
          28,
          42,
          54,
          32,
          39,
          53,
          58,
          40,
          29,
          33,
          38,
          56,
          40,
          46,
          35,
          35,
          34,
          35,
          38,
          50,
          51,
          59,
          32,
          37,
          42,
          40,
          28,
          47,
          27,
          41,
          47,
          53,
          53,
          47,
          29,
          70,
          65,
          56,
          35,
          56,
          56,
          38,
          35,
          38,
          49,
          55,
          43,
          43,
          30,
          46,
          50,
          26,
          45,
          37,
          60,
          47,
          33,
          51,
          48,
          37,
          29,
          34,
          47,
          33,
          33,
          63,
          51,
          41,
          56,
          60,
          41,
          37,
          36,
          57,
          44,
          47,
          31,
          35,
          39,
          50,
          29,
          30,
          46,
          27,
          26,
          36,
          42,
          50,
          49,
          45,
          23,
          38,
          32,
          30,
          58,
          60,
          38,
          51,
          42,
          30,
          40,
          53,
          27,
          39,
          39,
          37,
          41,
          45,
          48,
          48,
          32,
          35,
          33,
          28,
          64,
          35,
          33,
          41,
          34,
          37,
          38,
          39,
          35,
          27,
          48,
          50,
          45,
          41,
          39,
          44,
          49,
          34,
          42,
          53,
          31,
          45,
          39,
          46,
          42,
          37,
          26,
          37,
          36,
          29,
          36,
          26,
          32,
          40,
          53,
          29,
          34,
          43,
          56,
          55,
          31,
          27,
          36,
          44,
          37,
          30,
          42,
          62,
          24,
          31,
          66,
          47,
          39,
          35,
          27,
          32,
          44,
          42,
          25,
          40,
          43,
          55,
          50,
          45,
          35,
          59,
          34,
          39,
          40,
          36,
          40,
          55,
          38,
          41,
          57,
          48,
          35,
          54,
          37,
          56,
          40,
          40,
          54,
          55,
          55,
          52,
          55,
          33,
          52,
          33,
          48,
          50,
          34,
          38,
          42,
          32,
          58,
          31,
          41,
          31,
          52,
          42,
          41,
          38,
          32,
          48,
          36,
          45,
          34,
          34,
          61,
          54,
          50,
          43,
          47,
          45,
          57,
          27,
          49,
          43,
          40,
          32,
          58,
          34,
          46,
          29,
          52,
          45,
          26,
          40,
          41,
          27,
          27,
          48,
          49,
          35,
          47,
          54,
          39,
          28,
          54,
          34,
          63,
          42,
          43,
          37,
          55,
          47,
          34,
          28,
          36,
          50,
          35,
          40,
          26,
          36,
          59,
          28,
          46,
          50,
          53,
          81,
          35,
          58,
          44,
          38,
          49,
          33,
          29,
          31,
          33,
          52,
          43,
          32,
          36,
          41,
          43,
          45,
          39,
          41,
          31,
          37,
          28,
          47,
          37,
          60,
          43,
          58,
          52,
          50,
          42,
          31,
          28,
          36,
          51,
          46,
          50,
          32,
          26,
          39,
          31,
          28,
          31,
          30,
          33,
          30,
          32,
          40,
          31,
          36,
          33,
          57,
          45,
          59,
          33,
          52,
          83,
          33,
          41,
          31,
          35,
          57,
          56,
          53,
          32,
          56,
          46,
          29,
          60,
          33,
          27,
          50,
          45,
          58,
          59,
          58,
          64,
          47,
          40,
          36,
          53,
          46,
          54,
          32,
          55,
          55,
          56,
          40,
          44,
          32,
          33,
          41,
          37,
          58,
          52,
          49,
          44,
          28,
          31,
          37,
          30,
          46,
          47,
          35,
          80,
          30,
          55,
          22,
          33,
          53,
          49,
          51,
          41,
          34,
          36,
          35,
          29,
          40,
          48,
          33,
          55,
          41,
          42,
          46,
          35,
          28,
          25,
          56,
          30,
          45,
          40,
          40,
          39,
          48,
          31,
          32,
          34,
          26,
          31,
          37,
          29,
          57,
          47,
          38,
          48,
          33,
          28,
          30,
          52,
          36,
          46,
          57,
          46,
          33,
          53,
          41,
          60,
          35,
          43,
          57,
          46,
          31,
          53,
          35,
          32,
          50,
          40,
          42,
          59,
          27,
          32,
          35,
          28,
          37,
          57,
          42,
          55,
          52,
          26,
          52,
          26,
          33,
          24,
          37,
          28,
          30,
          33,
          55,
          33,
          42,
          37,
          59,
          27,
          23,
          51,
          50,
          43,
          37,
          34,
          41,
          26,
          49,
          30,
          38,
          58,
          34,
          53,
          50,
          30,
          40,
          57,
          40,
          41,
          53,
          48,
          32,
          46,
          45,
          51,
          31,
          47,
          32,
          41,
          37,
          27,
          27,
          50,
          31,
          40,
          39,
          31,
          48,
          32,
          47,
          35,
          42,
          59,
          38,
          50,
          27,
          55,
          31,
          37,
          28,
          42,
          40,
          59,
          40,
          43,
          38,
          54,
          41,
          33,
          46,
          36,
          48,
          42,
          49,
          36,
          34,
          51,
          58,
          48,
          49,
          43,
          32,
          54,
          33,
          35,
          56,
          57,
          33,
          29,
          38,
          37,
          33,
          30,
          31,
          28,
          31,
          50,
          45,
          48,
          41,
          41,
          43,
          36,
          40,
          28,
          49,
          37,
          31,
          31,
          31,
          35,
          51,
          33,
          30,
          58,
          34,
          45,
          31,
          40,
          30,
          34,
          40,
          59,
          43,
          41,
          33,
          33,
          36,
          32,
          25,
          25,
          38,
          34,
          67,
          32,
          45,
          33,
          38,
          32,
          54,
          51,
          42,
          41,
          39,
          38,
          39,
          46,
          50,
          33,
          37,
          31,
          36,
          40,
          52,
          40,
          48,
          33,
          44,
          55,
          51,
          34,
          58,
          39,
          27,
          55,
          35,
          37,
          52,
          41,
          52,
          34,
          53,
          47,
          35,
          33,
          55,
          44,
          25,
          37,
          41,
          36,
          44,
          34,
          56,
          28,
          54,
          37,
          58,
          56,
          32,
          42,
          52,
          46,
          39,
          31,
          59,
          38,
          58,
          34,
          40,
          20,
          34,
          31,
          39,
          34,
          24,
          41,
          40,
          36,
          53,
          23,
          42,
          48,
          34,
          36,
          43,
          36,
          55,
          31,
          32,
          36,
          46,
          41,
          31,
          32,
          38,
          49,
          46,
          29,
          36,
          38,
          53,
          43,
          41,
          42,
          39,
          30,
          41,
          44,
          58,
          35,
          27,
          25,
          36,
          38,
          30,
          47,
          41,
          36,
          23,
          32,
          57,
          49,
          50,
          33,
          53,
          30,
          38,
          44,
          39,
          45,
          38,
          36,
          30,
          28,
          26,
          32,
          50,
          43,
          48,
          57,
          64,
          26,
          50,
          47,
          39,
          52,
          31,
          50,
          47,
          30,
          32,
          36,
          46,
          45,
          37,
          58,
          59,
          28,
          48,
          55,
          37,
          41,
          35,
          34,
          43,
          50,
          35,
          50,
          36,
          41,
          28,
          42,
          60,
          28,
          48,
          51,
          32,
          35,
          38,
          77,
          32,
          43,
          36,
          29,
          32,
          41,
          26,
          34,
          36,
          42,
          35,
          52,
          36,
          46,
          57,
          48,
          59,
          39,
          44,
          27,
          59,
          36,
          50,
          41,
          47,
          32,
          38,
          55,
          38,
          31,
          38,
          29,
          55,
          35,
          40,
          34,
          33,
          37,
          58,
          36,
          42,
          34,
          35,
          60,
          50,
          27,
          38,
          32,
          37,
          33,
          71,
          27,
          38,
          34,
          30,
          35,
          33,
          36,
          59,
          72,
          64,
          53,
          35,
          58,
          40,
          41,
          48,
          44,
          39,
          36,
          28,
          58,
          60,
          66,
          49,
          40,
          23,
          29,
          44,
          54,
          47,
          33,
          30,
          27,
          49,
          27,
          51,
          32,
          30,
          33,
          27,
          37,
          36,
          37,
          35,
          32,
          32,
          35,
          31,
          28,
          27,
          22,
          35,
          69,
          37,
          45,
          47,
          52,
          33,
          33,
          44,
          38,
          54,
          32,
          33,
          55,
          51,
          48,
          37,
          33,
          30,
          43,
          49,
          54,
          31,
          36,
          30,
          30,
          30,
          35,
          33,
          43,
          41,
          54,
          32,
          30,
          40,
          30,
          27,
          41,
          54,
          32,
          42,
          48,
          34,
          55,
          49,
          46,
          47,
          24,
          58,
          25,
          49,
          30,
          46,
          37,
          44,
          49,
          41,
          48,
          31,
          37,
          51,
          32,
          48,
          49,
          30,
          27,
          34,
          48,
          40,
          38,
          46,
          41,
          28,
          51,
          33,
          26,
          34,
          27,
          42,
          31,
          39,
          26,
          40,
          52,
          40,
          48,
          31,
          40,
          34,
          29,
          36,
          55,
          43,
          23,
          44,
          58,
          29,
          30,
          29,
          41,
          35,
          31,
          27,
          47,
          53,
          34,
          34,
          36,
          40,
          37,
          65,
          53,
          28,
          33,
          56,
          45,
          39,
          28,
          36,
          41,
          41,
          59,
          24,
          34,
          40,
          42,
          50,
          25,
          51,
          50,
          37,
          21,
          52,
          55,
          26,
          32,
          31,
          34,
          33,
          35,
          44,
          48,
          29,
          50,
          37,
          44,
          36,
          49,
          31,
          49,
          57,
          42,
          36,
          75,
          38,
          40,
          34,
          29,
          28,
          79,
          51,
          32,
          38,
          49,
          42,
          43,
          34,
          35,
          33,
          34,
          34,
          57,
          30,
          49,
          73,
          39,
          57,
          32,
          45,
          32,
          49,
          29,
          55,
          30,
          39,
          36,
          33,
          31,
          36,
          38,
          33,
          40,
          39,
          33,
          38,
          55,
          38,
          48,
          53,
          44,
          57,
          29,
          31,
          35,
          31,
          35,
          40,
          39,
          43,
          44,
          40,
          33,
          46,
          27,
          26,
          41,
          34,
          39,
          27,
          31,
          44,
          55,
          51,
          50,
          30,
          49,
          56,
          30,
          36,
          40,
          37,
          45,
          34,
          27,
          30,
          32,
          46,
          29,
          53,
          32,
          49,
          35,
          38,
          39,
          34,
          42,
          35,
          60,
          57,
          31,
          29,
          41,
          46,
          32,
          37,
          32,
          43,
          50,
          34,
          31,
          43,
          49,
          22,
          35,
          56,
          53,
          54,
          32,
          41,
          40,
          33,
          33,
          34,
          36,
          34,
          55,
          29,
          31,
          52,
          54,
          43,
          55,
          28,
          45,
          45,
          51,
          42,
          43,
          34,
          36,
          37,
          50,
          34,
          48,
          47,
          40,
          37,
          38,
          29,
          46,
          26,
          30,
          42,
          42,
          31,
          37,
          26,
          54,
          70,
          29,
          50,
          60,
          32,
          32,
          34,
          48,
          25,
          32,
          32,
          47,
          32,
          53,
          41,
          47,
          35,
          33,
          49,
          29,
          58,
          40,
          34,
          60,
          43,
          50,
          33,
          37,
          55,
          45,
          47,
          58,
          36,
          55,
          31,
          38,
          42,
          32,
          39,
          41,
          59,
          42,
          33,
          53,
          43,
          27,
          39,
          27,
          33,
          29,
          33,
          41,
          38,
          30,
          58,
          37,
          36,
          45,
          23,
          44,
          32,
          32,
          38,
          47,
          34,
          52,
          45,
          50,
          37,
          51,
          32,
          33,
          28,
          66,
          31,
          35,
          36,
          32,
          34,
          40,
          33,
          39,
          38,
          65,
          34,
          34,
          42,
          31,
          47,
          44,
          38,
          28,
          46,
          51,
          42,
          58,
          36,
          34,
          49,
          54,
          29,
          51,
          40,
          30,
          38,
          43,
          32,
          29,
          56,
          57,
          38,
          51,
          35,
          37,
          30,
          60,
          56,
          45,
          38,
          20,
          59,
          36,
          51,
          58,
          48,
          56,
          51,
          35,
          59,
          44,
          35,
          41,
          55,
          51,
          27,
          57,
          51,
          38,
          40,
          47,
          48,
          47,
          56,
          32,
          42,
          30,
          26,
          35,
          35,
          29,
          32,
          45,
          31,
          50,
          38,
          37,
          35,
          37,
          28,
          38,
          43,
          43,
          56,
          32,
          58,
          47,
          31,
          38,
          50,
          32,
          37,
          39,
          40,
          41,
          45,
          31,
          54,
          39,
          56,
          35,
          34,
          31,
          38,
          41,
          44,
          49,
          30,
          31,
          34,
          70,
          45,
          31,
          57,
          40,
          28,
          44,
          49,
          46,
          34,
          58,
          52,
          27,
          48,
          33,
          46,
          51,
          35,
          37,
          60,
          40,
          50,
          34,
          32,
          36,
          32,
          40,
          37,
          57,
          46,
          31,
          35,
          32,
          44,
          41,
          59,
          39,
          27,
          33,
          38,
          52,
          54,
          33,
          50,
          39,
          41,
          48,
          38,
          34,
          32,
          48,
          28,
          32,
          32,
          38,
          86,
          47,
          42,
          44,
          25,
          34,
          53,
          42,
          30,
          40,
          34,
          34,
          40,
          36,
          34,
          32,
          39,
          36,
          33,
          34,
          46,
          32,
          27,
          35,
          53,
          29,
          35,
          49,
          58,
          19,
          30,
          34,
          60,
          49,
          59,
          44,
          33,
          54,
          26,
          54,
          51,
          43,
          34,
          40,
          43,
          33,
          66,
          44,
          33,
          31,
          46,
          32,
          45,
          32,
          49,
          46,
          37,
          30,
          44,
          45,
          57,
          66,
          40,
          48,
          33,
          47,
          27,
          78,
          50,
          46,
          36,
          49,
          46,
          77,
          30,
          43,
          44,
          40,
          38,
          49,
          33,
          40,
          44,
          32,
          52,
          35,
          35,
          32,
          42,
          59,
          50,
          27,
          55,
          54,
          31,
          56,
          51,
          61,
          34,
          56,
          29,
          34,
          35,
          56,
          45,
          31,
          43,
          40,
          38,
          58,
          24,
          53,
          36,
          28,
          45,
          32,
          46,
          28,
          51,
          51,
          30,
          39,
          28,
          31,
          31,
          38,
          31,
          43,
          54,
          51,
          33,
          41,
          33,
          48,
          42,
          35,
          25,
          38,
          45,
          59,
          47,
          33,
          42,
          51,
          45,
          33,
          43,
          37,
          73,
          43,
          52,
          44,
          56,
          21,
          43,
          54,
          52,
          53,
          24,
          57,
          57,
          51,
          50,
          34,
          43,
          31,
          29,
          39,
          36,
          38,
          56,
          41,
          38,
          80,
          37,
          44,
          53,
          69,
          46,
          31,
          38,
          34,
          48,
          46,
          42,
          41,
          33,
          39,
          27,
          26,
          48,
          54,
          51,
          47,
          53,
          35,
          58,
          52,
          57,
          52,
          35,
          48,
          46,
          39,
          38,
          34,
          47,
          35,
          46,
          27,
          31,
          31,
          46,
          31,
          42,
          33,
          40,
          51,
          31,
          24,
          41,
          43,
          52,
          54,
          32,
          38,
          31,
          26,
          52,
          58,
          57,
          34,
          59,
          27,
          42,
          33,
          31,
          29,
          38,
          35,
          31,
          32,
          31,
          51,
          29,
          43,
          36,
          34,
          29,
          57,
          43,
          60,
          51,
          40,
          51,
          38,
          35,
          47,
          45,
          29,
          52,
          26,
          31,
          55,
          35,
          56,
          27,
          30,
          51,
          33,
          32,
          46,
          32,
          40,
          39,
          51,
          46,
          43,
          36,
          48,
          26,
          39,
          47,
          54,
          38,
          33,
          35,
          52,
          25,
          35,
          49,
          41,
          32,
          29,
          28,
          59,
          34,
          55,
          42,
          34,
          34,
          51,
          58,
          34,
          34,
          42,
          46,
          31,
          39,
          34,
          47,
          42,
          48,
          30,
          38,
          34,
          46,
          32,
          46,
          26,
          42,
          50,
          41,
          34,
          32,
          58,
          45,
          28,
          35,
          39,
          49,
          50,
          45,
          30,
          48,
          36,
          41,
          55,
          70,
          47,
          34,
          33,
          58,
          51,
          45,
          55,
          30,
          33,
          27,
          59,
          34,
          47,
          44,
          45,
          42,
          38,
          34,
          35,
          29,
          58,
          44,
          45,
          43,
          44,
          30,
          38,
          50,
          21,
          38,
          42,
          45,
          34,
          48,
          34,
          35,
          39,
          36,
          35,
          57,
          28,
          43,
          57,
          34,
          36,
          47,
          36,
          33,
          57,
          57,
          34,
          51,
          54,
          52,
          43,
          58,
          53,
          44,
          29,
          35,
          40,
          34,
          38,
          32,
          41,
          25,
          38,
          26,
          37,
          36,
          33,
          33,
          35,
          24,
          29,
          54,
          27,
          34,
          39,
          38,
          37,
          26,
          36,
          35,
          30,
          25,
          34,
          52,
          39,
          34,
          34,
          30,
          33,
          30,
          51,
          36,
          48,
          37,
          58,
          56,
          34,
          33,
          26,
          40,
          35,
          45,
          35,
          28,
          32,
          35,
          39,
          42,
          32,
          30,
          26,
          30,
          32,
          47,
          33,
          57,
          35,
          53,
          24,
          54,
          31,
          41,
          44,
          35,
          30,
          43,
          51,
          60,
          43,
          31,
          56,
          42,
          52,
          40,
          36,
          40,
          46,
          32,
          31,
          41,
          58,
          36,
          52,
          42,
          32,
          62,
          31,
          34,
          42,
          37,
          47,
          32,
          46,
          39,
          28,
          26,
          52,
          33,
          35,
          40,
          37,
          39,
          28,
          49,
          36,
          45,
          29,
          35,
          30,
          46,
          25,
          42,
          57,
          42,
          29,
          36,
          31,
          59,
          50,
          47,
          46,
          26,
          31,
          30,
          47,
          44,
          42,
          32,
          28,
          57,
          38,
          54,
          32,
          32,
          59,
          45,
          50,
          34,
          30,
          62,
          40,
          26,
          34,
          31,
          35,
          55,
          34,
          58,
          50,
          31,
          47,
          38,
          46,
          42,
          34,
          38,
          59,
          32,
          55,
          35,
          56,
          27,
          42,
          42,
          41,
          53,
          67,
          33,
          31,
          31,
          30,
          48,
          30,
          43,
          38,
          46,
          59,
          44,
          35,
          55,
          39,
          36,
          33,
          48,
          33,
          67,
          48,
          57,
          31,
          30,
          56,
          26,
          44,
          47,
          30,
          37,
          56,
          43,
          42,
          60,
          34,
          34,
          41,
          38,
          23,
          36,
          49,
          40,
          72,
          43,
          44,
          35,
          46,
          55,
          50,
          23,
          34,
          40,
          53,
          57,
          28,
          25,
          38,
          27,
          45,
          31,
          39,
          42,
          46,
          36,
          30,
          32,
          31,
          60,
          35,
          38,
          46,
          45,
          59,
          34,
          33,
          46,
          48,
          31,
          32,
          35,
          36,
          52,
          45,
          34,
          25,
          26,
          57,
          48,
          48,
          32,
          58,
          57,
          31,
          33,
          53,
          36,
          32,
          45,
          35,
          41,
          54,
          28,
          24,
          30,
          32,
          53,
          42,
          48,
          33,
          31,
          56,
          58,
          37,
          59,
          39,
          30,
          47,
          44,
          38,
          50,
          27,
          73,
          46,
          56,
          33,
          40,
          52,
          51,
          33,
          54,
          44,
          50,
          37,
          28,
          56,
          59,
          32,
          57,
          49,
          56,
          48,
          31,
          28,
          36,
          58,
          46,
          32,
          39,
          35,
          48,
          60,
          74,
          30,
          52,
          24,
          29,
          33,
          34,
          31,
          45,
          27,
          30,
          45,
          57,
          34,
          40,
          39,
          46,
          34,
          37,
          64,
          45,
          57,
          21,
          58,
          41,
          58,
          33,
          32,
          44,
          47,
          41,
          54,
          47,
          32,
          59,
          48,
          46,
          31,
          34,
          48,
          32,
          31,
          27,
          60,
          34,
          52,
          48,
          45,
          54,
          52,
          47,
          54,
          34,
          39,
          46,
          26,
          37,
          47,
          35,
          57,
          34,
          27,
          39,
          36,
          42,
          23,
          34,
          34,
          49,
          57,
          59,
          57,
          34,
          35,
          42,
          57,
          42,
          53,
          63,
          47,
          54,
          45,
          28,
          58,
          48,
          37,
          37,
          37,
          25,
          58,
          52,
          59,
          41,
          34,
          35,
          41,
          28,
          53,
          35,
          33,
          37,
          32,
          32,
          54,
          44,
          36,
          56,
          30,
          36,
          43,
          40,
          32,
          34,
          37,
          28,
          35,
          53,
          60,
          40,
          57,
          29,
          44,
          41,
          47,
          43,
          37,
          34,
          30,
          57,
          26,
          34,
          28,
          57,
          38,
          27,
          30,
          38,
          36,
          38,
          59,
          37,
          29,
          33,
          54,
          55,
          32,
          48,
          33,
          46,
          47,
          80,
          40,
          43,
          39,
          33,
          31,
          36,
          35,
          25,
          33,
          23,
          31,
          36,
          44,
          31,
          55,
          36,
          27,
          40,
          49,
          59,
          42,
          35,
          29,
          29,
          37,
          49,
          51,
          61,
          43,
          42,
          24,
          46,
          23,
          26,
          43,
          38,
          56,
          31,
          28,
          26,
          49,
          33,
          80,
          40,
          42,
          46,
          32,
          37,
          32,
          53,
          39,
          31,
          34,
          44,
          35,
          39,
          55,
          39,
          58,
          37,
          32,
          29,
          44,
          24,
          43,
          26,
          39,
          52,
          33,
          30,
          32,
          27,
          58,
          46,
          28,
          39,
          41,
          38,
          50,
          56,
          34,
          33,
          36,
          34,
          36,
          27,
          45,
          40,
          46,
          37,
          36,
          37,
          51,
          49,
          35,
          50,
          31,
          47,
          59,
          32,
          41,
          35,
          36,
          46,
          46,
          47,
          35,
          37,
          44,
          48,
          28,
          38,
          34,
          56,
          44,
          38,
          53,
          41,
          34,
          35,
          42,
          56,
          37,
          47,
          29,
          41,
          43,
          38,
          31,
          32,
          40,
          45,
          43,
          27,
          33,
          37,
          44,
          48,
          57,
          29,
          50,
          36,
          49,
          35,
          39,
          34,
          57,
          37,
          25,
          43,
          37,
          36,
          49,
          38,
          39,
          34,
          53,
          44,
          32,
          29,
          55,
          52,
          49,
          63,
          32,
          49,
          40,
          53,
          53,
          43,
          35,
          35,
          25,
          31,
          48,
          40,
          46,
          30,
          47,
          23,
          29,
          38,
          56,
          52,
          55,
          43,
          34,
          55,
          34,
          34,
          43,
          39,
          39,
          34,
          55,
          34,
          47,
          33,
          45,
          36,
          59,
          52,
          53,
          41,
          45,
          60,
          32,
          28,
          53,
          58,
          38,
          46,
          53,
          56,
          52,
          38,
          37,
          37,
          37,
          66,
          44,
          61,
          34,
          33,
          30,
          27,
          37,
          38,
          35,
          50,
          39,
          35,
          36,
          28,
          39,
          39,
          32,
          28,
          47,
          53,
          57,
          56,
          38,
          52,
          46,
          57,
          42,
          57,
          51,
          53,
          37,
          47,
          39,
          42,
          36,
          34,
          61,
          35,
          54,
          31,
          45,
          32,
          52,
          36,
          31,
          53,
          43,
          47,
          46,
          34,
          55,
          23,
          75,
          58,
          35,
          48,
          31,
          57,
          53,
          42,
          50,
          59,
          38,
          39,
          28,
          55,
          33,
          36,
          38,
          32,
          35,
          58,
          30,
          33,
          36,
          32,
          42,
          41,
          38,
          54,
          39,
          46,
          37,
          76,
          28,
          33,
          46,
          30,
          60,
          56,
          24,
          58,
          32,
          33,
          77,
          60,
          54,
          30,
          50,
          50,
          37,
          41,
          49,
          41,
          40,
          38,
          34,
          49,
          34,
          31,
          33,
          31,
          25,
          34,
          53,
          39,
          32,
          29,
          56,
          19,
          39,
          32,
          43,
          32,
          53,
          43,
          48,
          27,
          27,
          51,
          39,
          33,
          50,
          58,
          60,
          38,
          39,
          40,
          55,
          31,
          38,
          52,
          45,
          32,
          58,
          35,
          36,
          55,
          45,
          49,
          44,
          37,
          35,
          44,
          32,
          56,
          32,
          35,
          44,
          59,
          31,
          60,
          33,
          45,
          45,
          57,
          36,
          30,
          30,
          59,
          58,
          49,
          48,
          28,
          59,
          40,
          32,
          58,
          27,
          38,
          53,
          33,
          52,
          52,
          28,
          49,
          28,
          29,
          37,
          36,
          35,
          60,
          69,
          41,
          48,
          30,
          59,
          32,
          28,
          60,
          36,
          32,
          34,
          58,
          31,
          46,
          29,
          37,
          58,
          34,
          34,
          49,
          42,
          40,
          30,
          31,
          55,
          36,
          31,
          26,
          31,
          49,
          54,
          47,
          61,
          49,
          51,
          53,
          35,
          25,
          53,
          21,
          33,
          40,
          34,
          52,
          57,
          51,
          31,
          49,
          32,
          28,
          33,
          50,
          42,
          45,
          34,
          56,
          33,
          34,
          37,
          37,
          35,
          32,
          52,
          49,
          46,
          42,
          36,
          32,
          49,
          40,
          36,
          36,
          34,
          46,
          32,
          32,
          32,
          43,
          25,
          55,
          24,
          40,
          38,
          48,
          36,
          57,
          45,
          38,
          26,
          30,
          55,
          34,
          60,
          36,
          65,
          52,
          26,
          40,
          52,
          29,
          41,
          30,
          26,
          58,
          29,
          48,
          35,
          26,
          49,
          34,
          32,
          31,
          48,
          40,
          42,
          48,
          38,
          53,
          59,
          28,
          41,
          50,
          31,
          30,
          59,
          33,
          35,
          30,
          30,
          24,
          34,
          34,
          52,
          33,
          38,
          41,
          42,
          38,
          48,
          34,
          46,
          33,
          40,
          36,
          32,
          33,
          55,
          58,
          25,
          47,
          40,
          59,
          40,
          30,
          25,
          58,
          39,
          40,
          38,
          66,
          37,
          36,
          50,
          76,
          58,
          42,
          28,
          41,
          30,
          27,
          48,
          36,
          54,
          36,
          52,
          34,
          32,
          33,
          51,
          39,
          44,
          49,
          25,
          39,
          54,
          32,
          36,
          54,
          31,
          45,
          31,
          45,
          46,
          43,
          50,
          44,
          42,
          26,
          47,
          48,
          60,
          27,
          28,
          37,
          36,
          39,
          52,
          55,
          30,
          36,
          39,
          47,
          42,
          42,
          58,
          43,
          44,
          57,
          36,
          31,
          51,
          31,
          56,
          30,
          38,
          35,
          31,
          39,
          50,
          39,
          26,
          55,
          43,
          34,
          51,
          31,
          32,
          53,
          44,
          38,
          47,
          36,
          30,
          46,
          33,
          38,
          27,
          41,
          29,
          39,
          42,
          47,
          30,
          34,
          45,
          43,
          59,
          50,
          39,
          36,
          44,
          36,
          27,
          29,
          70,
          44,
          55,
          36,
          28,
          50,
          49,
          71,
          31,
          45,
          42,
          45,
          47,
          60,
          35,
          31,
          33,
          50,
          51,
          34,
          56,
          29,
          31,
          44,
          55,
          35,
          36,
          54,
          32,
          36,
          60,
          32,
          57,
          34,
          27,
          45,
          58,
          39,
          48,
          36,
          31,
          41,
          30,
          57,
          30,
          44,
          33,
          56,
          52,
          32,
          36,
          26,
          37,
          34,
          26,
          30,
          27,
          42,
          33,
          37,
          45,
          39,
          33,
          47,
          49,
          46,
          31,
          43,
          43,
          42,
          33,
          41,
          29,
          38,
          29,
          38,
          36,
          38,
          44,
          31,
          57,
          37,
          50,
          60,
          51,
          48,
          42,
          36,
          43,
          31,
          49,
          35,
          44,
          34,
          46,
          49,
          32,
          35,
          51,
          57,
          59,
          40,
          49,
          51,
          35,
          29,
          37,
          49,
          45,
          34,
          53,
          42,
          52,
          34,
          43,
          41,
          72,
          35,
          41,
          51,
          37,
          26,
          23,
          50,
          37,
          35,
          37,
          79,
          39,
          47,
          44,
          33,
          42,
          35,
          31,
          58,
          46,
          41,
          58,
          33,
          31,
          38,
          55,
          47,
          51,
          46,
          47,
          34,
          34,
          41,
          36,
          26,
          36,
          58,
          50,
          61,
          28,
          49,
          53,
          46,
          42,
          56,
          42,
          49,
          43,
          39,
          30,
          38,
          31,
          32,
          48,
          34,
          28,
          40,
          36,
          52,
          46,
          25,
          52,
          40,
          26,
          26,
          35,
          40,
          31,
          32,
          28,
          31,
          44,
          35,
          50,
          32,
          51,
          51,
          31,
          41,
          57,
          34,
          47,
          47,
          36,
          39,
          53,
          47,
          51,
          48,
          32,
          36,
          31,
          49,
          33,
          26,
          27,
          51,
          26,
          45,
          49,
          47,
          42,
          50,
          37,
          54,
          40,
          50,
          57,
          33,
          49,
          35,
          28,
          58,
          31,
          36,
          49,
          30,
          29,
          50,
          27,
          32,
          62,
          34,
          25,
          34,
          38,
          57,
          36,
          41,
          36,
          27,
          37,
          39,
          35,
          40,
          38,
          31,
          53,
          59,
          29,
          30,
          52,
          55,
          56,
          32,
          24,
          51,
          36,
          36,
          49,
          48,
          36,
          48,
          27,
          38,
          45,
          44,
          42,
          37,
          48,
          57,
          44,
          48,
          56,
          37,
          47,
          54,
          39,
          40,
          38,
          53,
          32,
          35,
          24,
          58,
          45,
          55,
          42,
          28,
          48,
          51,
          38,
          27,
          50,
          44,
          40,
          29,
          34,
          50,
          34,
          54,
          34,
          52,
          60,
          39,
          58,
          41,
          48,
          58,
          40,
          48,
          52,
          50,
          25,
          54,
          34,
          48,
          37,
          32,
          45,
          43,
          41,
          40,
          44,
          43,
          30,
          32,
          57,
          31,
          49,
          31,
          41,
          44,
          54,
          34,
          43,
          44,
          44,
          53,
          36,
          58,
          26,
          34,
          55,
          55,
          34,
          41,
          28,
          41,
          30,
          39,
          41,
          36,
          37,
          59,
          26,
          43,
          42,
          31,
          43,
          48,
          41,
          32,
          45,
          37,
          38,
          36,
          58,
          37,
          30,
          47,
          40,
          42,
          71,
          54,
          33,
          30,
          39,
          32,
          34,
          39,
          75,
          33,
          40,
          37,
          69,
          52,
          31,
          28,
          29,
          46,
          28,
          41,
          42,
          34,
          43,
          32,
          33,
          70,
          36,
          53,
          30,
          45,
          31,
          28,
          45,
          51,
          53,
          40,
          53,
          31,
          30,
          53,
          40,
          26,
          47,
          51,
          45,
          35,
          36,
          57,
          42,
          36,
          43,
          31,
          35,
          26,
          46,
          30,
          33,
          34,
          48,
          31,
          46,
          40,
          39,
          33,
          50,
          40,
          55,
          40,
          46,
          43,
          34,
          35,
          57,
          32,
          52,
          31,
          34,
          42,
          33,
          56,
          34,
          33,
          32,
          34,
          37,
          30,
          29,
          56,
          31,
          59,
          36,
          51,
          54,
          37,
          32,
          42,
          29,
          52,
          40,
          30,
          49,
          33,
          32,
          21,
          42,
          56,
          39,
          30,
          55,
          43,
          39,
          56,
          29,
          38,
          59,
          42,
          46,
          31,
          35,
          50,
          42,
          36,
          25,
          42,
          27,
          57,
          48,
          34,
          33,
          26,
          50,
          60,
          47,
          31,
          52,
          36,
          43,
          30,
          32,
          31,
          29,
          48,
          30,
          51,
          35,
          49,
          36,
          37,
          37,
          49,
          44,
          40,
          57,
          39,
          38,
          51,
          38,
          36,
          53,
          48,
          26,
          47,
          45,
          32,
          37,
          45,
          36,
          37,
          31,
          58,
          44,
          31,
          45,
          30,
          34,
          34,
          39,
          41,
          32,
          32,
          36,
          35,
          33,
          49,
          35,
          31,
          42,
          32,
          29,
          32,
          50,
          58,
          57,
          30,
          26,
          50,
          39,
          45,
          37,
          47,
          50,
          40,
          35,
          35,
          54,
          35,
          31,
          46,
          46,
          54,
          37,
          39,
          50,
          44,
          56,
          40,
          36,
          33,
          33,
          42,
          30,
          33,
          26,
          26,
          37,
          49,
          33,
          46,
          55,
          49,
          51,
          27,
          44,
          40,
          36,
          46,
          30,
          35,
          31,
          37,
          49,
          27,
          32,
          70,
          22,
          58,
          33,
          83,
          50,
          53,
          37,
          55,
          41,
          40,
          48,
          27,
          30,
          37,
          37,
          40,
          50,
          53,
          47,
          33,
          51,
          42,
          34,
          44,
          32,
          60,
          60,
          39,
          47,
          30,
          31,
          34,
          51,
          38,
          47,
          46,
          33,
          30,
          40,
          38,
          33,
          29,
          54,
          57,
          57,
          28,
          30,
          28,
          45,
          29,
          42,
          31,
          59,
          41,
          57,
          43,
          30,
          26,
          52,
          32,
          39,
          31,
          34,
          40,
          39,
          30,
          43,
          49,
          41,
          35,
          57,
          29,
          48,
          38,
          39,
          31,
          51,
          35,
          28,
          57,
          36,
          49,
          34,
          65,
          26,
          52,
          33,
          43,
          26,
          45,
          30,
          37,
          34,
          35,
          41,
          42,
          48,
          45,
          47,
          37,
          32,
          35,
          31,
          36,
          44,
          52,
          28,
          45,
          38,
          39,
          28,
          31,
          46,
          22,
          44,
          31,
          53,
          55,
          35,
          35,
          37,
          50,
          37,
          37,
          31,
          40,
          47,
          55,
          33,
          53,
          61,
          43,
          42,
          36,
          31,
          59,
          29,
          33,
          44,
          43,
          42,
          32,
          43,
          39,
          23,
          43,
          46,
          31,
          53,
          37,
          49,
          31,
          45,
          58,
          35,
          32,
          28,
          48,
          30,
          31,
          31,
          45,
          38,
          34,
          42,
          42,
          33,
          42,
          51,
          36,
          40,
          49,
          38,
          32,
          33,
          57,
          57,
          28,
          44
         ]
        }
       ],
       "layout": {
        "template": {
         "data": {
          "bar": [
           {
            "error_x": {
             "color": "#2a3f5f"
            },
            "error_y": {
             "color": "#2a3f5f"
            },
            "marker": {
             "line": {
              "color": "#E5ECF6",
              "width": 0.5
             }
            },
            "type": "bar"
           }
          ],
          "barpolar": [
           {
            "marker": {
             "line": {
              "color": "#E5ECF6",
              "width": 0.5
             }
            },
            "type": "barpolar"
           }
          ],
          "carpet": [
           {
            "aaxis": {
             "endlinecolor": "#2a3f5f",
             "gridcolor": "white",
             "linecolor": "white",
             "minorgridcolor": "white",
             "startlinecolor": "#2a3f5f"
            },
            "baxis": {
             "endlinecolor": "#2a3f5f",
             "gridcolor": "white",
             "linecolor": "white",
             "minorgridcolor": "white",
             "startlinecolor": "#2a3f5f"
            },
            "type": "carpet"
           }
          ],
          "choropleth": [
           {
            "colorbar": {
             "outlinewidth": 0,
             "ticks": ""
            },
            "type": "choropleth"
           }
          ],
          "contour": [
           {
            "colorbar": {
             "outlinewidth": 0,
             "ticks": ""
            },
            "colorscale": [
             [
              0,
              "#0d0887"
             ],
             [
              0.1111111111111111,
              "#46039f"
             ],
             [
              0.2222222222222222,
              "#7201a8"
             ],
             [
              0.3333333333333333,
              "#9c179e"
             ],
             [
              0.4444444444444444,
              "#bd3786"
             ],
             [
              0.5555555555555556,
              "#d8576b"
             ],
             [
              0.6666666666666666,
              "#ed7953"
             ],
             [
              0.7777777777777778,
              "#fb9f3a"
             ],
             [
              0.8888888888888888,
              "#fdca26"
             ],
             [
              1,
              "#f0f921"
             ]
            ],
            "type": "contour"
           }
          ],
          "contourcarpet": [
           {
            "colorbar": {
             "outlinewidth": 0,
             "ticks": ""
            },
            "type": "contourcarpet"
           }
          ],
          "heatmap": [
           {
            "colorbar": {
             "outlinewidth": 0,
             "ticks": ""
            },
            "colorscale": [
             [
              0,
              "#0d0887"
             ],
             [
              0.1111111111111111,
              "#46039f"
             ],
             [
              0.2222222222222222,
              "#7201a8"
             ],
             [
              0.3333333333333333,
              "#9c179e"
             ],
             [
              0.4444444444444444,
              "#bd3786"
             ],
             [
              0.5555555555555556,
              "#d8576b"
             ],
             [
              0.6666666666666666,
              "#ed7953"
             ],
             [
              0.7777777777777778,
              "#fb9f3a"
             ],
             [
              0.8888888888888888,
              "#fdca26"
             ],
             [
              1,
              "#f0f921"
             ]
            ],
            "type": "heatmap"
           }
          ],
          "heatmapgl": [
           {
            "colorbar": {
             "outlinewidth": 0,
             "ticks": ""
            },
            "colorscale": [
             [
              0,
              "#0d0887"
             ],
             [
              0.1111111111111111,
              "#46039f"
             ],
             [
              0.2222222222222222,
              "#7201a8"
             ],
             [
              0.3333333333333333,
              "#9c179e"
             ],
             [
              0.4444444444444444,
              "#bd3786"
             ],
             [
              0.5555555555555556,
              "#d8576b"
             ],
             [
              0.6666666666666666,
              "#ed7953"
             ],
             [
              0.7777777777777778,
              "#fb9f3a"
             ],
             [
              0.8888888888888888,
              "#fdca26"
             ],
             [
              1,
              "#f0f921"
             ]
            ],
            "type": "heatmapgl"
           }
          ],
          "histogram": [
           {
            "marker": {
             "colorbar": {
              "outlinewidth": 0,
              "ticks": ""
             }
            },
            "type": "histogram"
           }
          ],
          "histogram2d": [
           {
            "colorbar": {
             "outlinewidth": 0,
             "ticks": ""
            },
            "colorscale": [
             [
              0,
              "#0d0887"
             ],
             [
              0.1111111111111111,
              "#46039f"
             ],
             [
              0.2222222222222222,
              "#7201a8"
             ],
             [
              0.3333333333333333,
              "#9c179e"
             ],
             [
              0.4444444444444444,
              "#bd3786"
             ],
             [
              0.5555555555555556,
              "#d8576b"
             ],
             [
              0.6666666666666666,
              "#ed7953"
             ],
             [
              0.7777777777777778,
              "#fb9f3a"
             ],
             [
              0.8888888888888888,
              "#fdca26"
             ],
             [
              1,
              "#f0f921"
             ]
            ],
            "type": "histogram2d"
           }
          ],
          "histogram2dcontour": [
           {
            "colorbar": {
             "outlinewidth": 0,
             "ticks": ""
            },
            "colorscale": [
             [
              0,
              "#0d0887"
             ],
             [
              0.1111111111111111,
              "#46039f"
             ],
             [
              0.2222222222222222,
              "#7201a8"
             ],
             [
              0.3333333333333333,
              "#9c179e"
             ],
             [
              0.4444444444444444,
              "#bd3786"
             ],
             [
              0.5555555555555556,
              "#d8576b"
             ],
             [
              0.6666666666666666,
              "#ed7953"
             ],
             [
              0.7777777777777778,
              "#fb9f3a"
             ],
             [
              0.8888888888888888,
              "#fdca26"
             ],
             [
              1,
              "#f0f921"
             ]
            ],
            "type": "histogram2dcontour"
           }
          ],
          "mesh3d": [
           {
            "colorbar": {
             "outlinewidth": 0,
             "ticks": ""
            },
            "type": "mesh3d"
           }
          ],
          "parcoords": [
           {
            "line": {
             "colorbar": {
              "outlinewidth": 0,
              "ticks": ""
             }
            },
            "type": "parcoords"
           }
          ],
          "pie": [
           {
            "automargin": true,
            "type": "pie"
           }
          ],
          "scatter": [
           {
            "marker": {
             "colorbar": {
              "outlinewidth": 0,
              "ticks": ""
             }
            },
            "type": "scatter"
           }
          ],
          "scatter3d": [
           {
            "line": {
             "colorbar": {
              "outlinewidth": 0,
              "ticks": ""
             }
            },
            "marker": {
             "colorbar": {
              "outlinewidth": 0,
              "ticks": ""
             }
            },
            "type": "scatter3d"
           }
          ],
          "scattercarpet": [
           {
            "marker": {
             "colorbar": {
              "outlinewidth": 0,
              "ticks": ""
             }
            },
            "type": "scattercarpet"
           }
          ],
          "scattergeo": [
           {
            "marker": {
             "colorbar": {
              "outlinewidth": 0,
              "ticks": ""
             }
            },
            "type": "scattergeo"
           }
          ],
          "scattergl": [
           {
            "marker": {
             "colorbar": {
              "outlinewidth": 0,
              "ticks": ""
             }
            },
            "type": "scattergl"
           }
          ],
          "scattermapbox": [
           {
            "marker": {
             "colorbar": {
              "outlinewidth": 0,
              "ticks": ""
             }
            },
            "type": "scattermapbox"
           }
          ],
          "scatterpolar": [
           {
            "marker": {
             "colorbar": {
              "outlinewidth": 0,
              "ticks": ""
             }
            },
            "type": "scatterpolar"
           }
          ],
          "scatterpolargl": [
           {
            "marker": {
             "colorbar": {
              "outlinewidth": 0,
              "ticks": ""
             }
            },
            "type": "scatterpolargl"
           }
          ],
          "scatterternary": [
           {
            "marker": {
             "colorbar": {
              "outlinewidth": 0,
              "ticks": ""
             }
            },
            "type": "scatterternary"
           }
          ],
          "surface": [
           {
            "colorbar": {
             "outlinewidth": 0,
             "ticks": ""
            },
            "colorscale": [
             [
              0,
              "#0d0887"
             ],
             [
              0.1111111111111111,
              "#46039f"
             ],
             [
              0.2222222222222222,
              "#7201a8"
             ],
             [
              0.3333333333333333,
              "#9c179e"
             ],
             [
              0.4444444444444444,
              "#bd3786"
             ],
             [
              0.5555555555555556,
              "#d8576b"
             ],
             [
              0.6666666666666666,
              "#ed7953"
             ],
             [
              0.7777777777777778,
              "#fb9f3a"
             ],
             [
              0.8888888888888888,
              "#fdca26"
             ],
             [
              1,
              "#f0f921"
             ]
            ],
            "type": "surface"
           }
          ],
          "table": [
           {
            "cells": {
             "fill": {
              "color": "#EBF0F8"
             },
             "line": {
              "color": "white"
             }
            },
            "header": {
             "fill": {
              "color": "#C8D4E3"
             },
             "line": {
              "color": "white"
             }
            },
            "type": "table"
           }
          ]
         },
         "layout": {
          "annotationdefaults": {
           "arrowcolor": "#2a3f5f",
           "arrowhead": 0,
           "arrowwidth": 1
          },
          "coloraxis": {
           "colorbar": {
            "outlinewidth": 0,
            "ticks": ""
           }
          },
          "colorscale": {
           "diverging": [
            [
             0,
             "#8e0152"
            ],
            [
             0.1,
             "#c51b7d"
            ],
            [
             0.2,
             "#de77ae"
            ],
            [
             0.3,
             "#f1b6da"
            ],
            [
             0.4,
             "#fde0ef"
            ],
            [
             0.5,
             "#f7f7f7"
            ],
            [
             0.6,
             "#e6f5d0"
            ],
            [
             0.7,
             "#b8e186"
            ],
            [
             0.8,
             "#7fbc41"
            ],
            [
             0.9,
             "#4d9221"
            ],
            [
             1,
             "#276419"
            ]
           ],
           "sequential": [
            [
             0,
             "#0d0887"
            ],
            [
             0.1111111111111111,
             "#46039f"
            ],
            [
             0.2222222222222222,
             "#7201a8"
            ],
            [
             0.3333333333333333,
             "#9c179e"
            ],
            [
             0.4444444444444444,
             "#bd3786"
            ],
            [
             0.5555555555555556,
             "#d8576b"
            ],
            [
             0.6666666666666666,
             "#ed7953"
            ],
            [
             0.7777777777777778,
             "#fb9f3a"
            ],
            [
             0.8888888888888888,
             "#fdca26"
            ],
            [
             1,
             "#f0f921"
            ]
           ],
           "sequentialminus": [
            [
             0,
             "#0d0887"
            ],
            [
             0.1111111111111111,
             "#46039f"
            ],
            [
             0.2222222222222222,
             "#7201a8"
            ],
            [
             0.3333333333333333,
             "#9c179e"
            ],
            [
             0.4444444444444444,
             "#bd3786"
            ],
            [
             0.5555555555555556,
             "#d8576b"
            ],
            [
             0.6666666666666666,
             "#ed7953"
            ],
            [
             0.7777777777777778,
             "#fb9f3a"
            ],
            [
             0.8888888888888888,
             "#fdca26"
            ],
            [
             1,
             "#f0f921"
            ]
           ]
          },
          "colorway": [
           "#636efa",
           "#EF553B",
           "#00cc96",
           "#ab63fa",
           "#FFA15A",
           "#19d3f3",
           "#FF6692",
           "#B6E880",
           "#FF97FF",
           "#FECB52"
          ],
          "font": {
           "color": "#2a3f5f"
          },
          "geo": {
           "bgcolor": "white",
           "lakecolor": "white",
           "landcolor": "#E5ECF6",
           "showlakes": true,
           "showland": true,
           "subunitcolor": "white"
          },
          "hoverlabel": {
           "align": "left"
          },
          "hovermode": "closest",
          "mapbox": {
           "style": "light"
          },
          "paper_bgcolor": "white",
          "plot_bgcolor": "#E5ECF6",
          "polar": {
           "angularaxis": {
            "gridcolor": "white",
            "linecolor": "white",
            "ticks": ""
           },
           "bgcolor": "#E5ECF6",
           "radialaxis": {
            "gridcolor": "white",
            "linecolor": "white",
            "ticks": ""
           }
          },
          "scene": {
           "xaxis": {
            "backgroundcolor": "#E5ECF6",
            "gridcolor": "white",
            "gridwidth": 2,
            "linecolor": "white",
            "showbackground": true,
            "ticks": "",
            "zerolinecolor": "white"
           },
           "yaxis": {
            "backgroundcolor": "#E5ECF6",
            "gridcolor": "white",
            "gridwidth": 2,
            "linecolor": "white",
            "showbackground": true,
            "ticks": "",
            "zerolinecolor": "white"
           },
           "zaxis": {
            "backgroundcolor": "#E5ECF6",
            "gridcolor": "white",
            "gridwidth": 2,
            "linecolor": "white",
            "showbackground": true,
            "ticks": "",
            "zerolinecolor": "white"
           }
          },
          "shapedefaults": {
           "line": {
            "color": "#2a3f5f"
           }
          },
          "ternary": {
           "aaxis": {
            "gridcolor": "white",
            "linecolor": "white",
            "ticks": ""
           },
           "baxis": {
            "gridcolor": "white",
            "linecolor": "white",
            "ticks": ""
           },
           "bgcolor": "#E5ECF6",
           "caxis": {
            "gridcolor": "white",
            "linecolor": "white",
            "ticks": ""
           }
          },
          "title": {
           "x": 0.05
          },
          "xaxis": {
           "automargin": true,
           "gridcolor": "white",
           "linecolor": "white",
           "ticks": "",
           "title": {
            "standoff": 15
           },
           "zerolinecolor": "white",
           "zerolinewidth": 2
          },
          "yaxis": {
           "automargin": true,
           "gridcolor": "white",
           "linecolor": "white",
           "ticks": "",
           "title": {
            "standoff": 15
           },
           "zerolinecolor": "white",
           "zerolinewidth": 2
          }
         }
        },
        "title": {
         "text": "Histogram of Age for label 0"
        }
       }
      },
      "text/html": [
       "<div>\n",
       "        \n",
       "        \n",
       "            <div id=\"eff081e6-76d2-4fcc-93a8-7214ab2810ee\" class=\"plotly-graph-div\" style=\"height:525px; width:100%;\"></div>\n",
       "            <script type=\"text/javascript\">\n",
       "                require([\"plotly\"], function(Plotly) {\n",
       "                    window.PLOTLYENV=window.PLOTLYENV || {};\n",
       "                    \n",
       "                if (document.getElementById(\"eff081e6-76d2-4fcc-93a8-7214ab2810ee\")) {\n",
       "                    Plotly.newPlot(\n",
       "                        'eff081e6-76d2-4fcc-93a8-7214ab2810ee',\n",
       "                        [{\"marker\": {\"color\": \"#CC0E1D\"}, \"type\": \"histogram\", \"x\": [30, 33, 35, 30, 59, 35, 36, 39, 41, 43, 39, 43, 36, 31, 40, 56, 37, 25, 31, 38, 42, 44, 44, 26, 41, 55, 67, 56, 53, 31, 59, 42, 23, 38, 36, 52, 32, 32, 34, 55, 26, 32, 37, 38, 53, 48, 57, 33, 36, 54, 41, 63, 48, 48, 56, 51, 31, 29, 41, 32, 42, 31, 41, 56, 54, 41, 40, 50, 40, 60, 28, 51, 41, 35, 38, 34, 39, 34, 32, 57, 41, 41, 30, 36, 36, 38, 49, 57, 34, 32, 37, 33, 27, 58, 32, 33, 30, 22, 39, 46, 31, 45, 32, 36, 51, 24, 45, 32, 41, 37, 43, 48, 27, 33, 29, 34, 60, 32, 32, 56, 31, 42, 35, 56, 48, 46, 37, 41, 36, 45, 55, 39, 35, 55, 27, 34, 34, 25, 41, 43, 31, 78, 45, 48, 32, 42, 37, 40, 32, 42, 43, 44, 37, 37, 37, 28, 32, 34, 40, 34, 34, 34, 37, 36, 49, 33, 30, 36, 23, 57, 27, 38, 42, 34, 48, 39, 45, 42, 29, 38, 56, 36, 25, 38, 57, 31, 45, 30, 49, 49, 53, 37, 49, 41, 54, 32, 33, 33, 36, 35, 52, 40, 44, 45, 30, 48, 33, 57, 57, 51, 34, 50, 44, 27, 50, 36, 42, 32, 42, 43, 31, 32, 55, 58, 46, 55, 34, 28, 42, 54, 32, 39, 53, 58, 40, 29, 33, 38, 56, 40, 46, 35, 35, 34, 35, 38, 50, 51, 59, 32, 37, 42, 40, 28, 47, 27, 41, 47, 53, 53, 47, 29, 70, 65, 56, 35, 56, 56, 38, 35, 38, 49, 55, 43, 43, 30, 46, 50, 26, 45, 37, 60, 47, 33, 51, 48, 37, 29, 34, 47, 33, 33, 63, 51, 41, 56, 60, 41, 37, 36, 57, 44, 47, 31, 35, 39, 50, 29, 30, 46, 27, 26, 36, 42, 50, 49, 45, 23, 38, 32, 30, 58, 60, 38, 51, 42, 30, 40, 53, 27, 39, 39, 37, 41, 45, 48, 48, 32, 35, 33, 28, 64, 35, 33, 41, 34, 37, 38, 39, 35, 27, 48, 50, 45, 41, 39, 44, 49, 34, 42, 53, 31, 45, 39, 46, 42, 37, 26, 37, 36, 29, 36, 26, 32, 40, 53, 29, 34, 43, 56, 55, 31, 27, 36, 44, 37, 30, 42, 62, 24, 31, 66, 47, 39, 35, 27, 32, 44, 42, 25, 40, 43, 55, 50, 45, 35, 59, 34, 39, 40, 36, 40, 55, 38, 41, 57, 48, 35, 54, 37, 56, 40, 40, 54, 55, 55, 52, 55, 33, 52, 33, 48, 50, 34, 38, 42, 32, 58, 31, 41, 31, 52, 42, 41, 38, 32, 48, 36, 45, 34, 34, 61, 54, 50, 43, 47, 45, 57, 27, 49, 43, 40, 32, 58, 34, 46, 29, 52, 45, 26, 40, 41, 27, 27, 48, 49, 35, 47, 54, 39, 28, 54, 34, 63, 42, 43, 37, 55, 47, 34, 28, 36, 50, 35, 40, 26, 36, 59, 28, 46, 50, 53, 81, 35, 58, 44, 38, 49, 33, 29, 31, 33, 52, 43, 32, 36, 41, 43, 45, 39, 41, 31, 37, 28, 47, 37, 60, 43, 58, 52, 50, 42, 31, 28, 36, 51, 46, 50, 32, 26, 39, 31, 28, 31, 30, 33, 30, 32, 40, 31, 36, 33, 57, 45, 59, 33, 52, 83, 33, 41, 31, 35, 57, 56, 53, 32, 56, 46, 29, 60, 33, 27, 50, 45, 58, 59, 58, 64, 47, 40, 36, 53, 46, 54, 32, 55, 55, 56, 40, 44, 32, 33, 41, 37, 58, 52, 49, 44, 28, 31, 37, 30, 46, 47, 35, 80, 30, 55, 22, 33, 53, 49, 51, 41, 34, 36, 35, 29, 40, 48, 33, 55, 41, 42, 46, 35, 28, 25, 56, 30, 45, 40, 40, 39, 48, 31, 32, 34, 26, 31, 37, 29, 57, 47, 38, 48, 33, 28, 30, 52, 36, 46, 57, 46, 33, 53, 41, 60, 35, 43, 57, 46, 31, 53, 35, 32, 50, 40, 42, 59, 27, 32, 35, 28, 37, 57, 42, 55, 52, 26, 52, 26, 33, 24, 37, 28, 30, 33, 55, 33, 42, 37, 59, 27, 23, 51, 50, 43, 37, 34, 41, 26, 49, 30, 38, 58, 34, 53, 50, 30, 40, 57, 40, 41, 53, 48, 32, 46, 45, 51, 31, 47, 32, 41, 37, 27, 27, 50, 31, 40, 39, 31, 48, 32, 47, 35, 42, 59, 38, 50, 27, 55, 31, 37, 28, 42, 40, 59, 40, 43, 38, 54, 41, 33, 46, 36, 48, 42, 49, 36, 34, 51, 58, 48, 49, 43, 32, 54, 33, 35, 56, 57, 33, 29, 38, 37, 33, 30, 31, 28, 31, 50, 45, 48, 41, 41, 43, 36, 40, 28, 49, 37, 31, 31, 31, 35, 51, 33, 30, 58, 34, 45, 31, 40, 30, 34, 40, 59, 43, 41, 33, 33, 36, 32, 25, 25, 38, 34, 67, 32, 45, 33, 38, 32, 54, 51, 42, 41, 39, 38, 39, 46, 50, 33, 37, 31, 36, 40, 52, 40, 48, 33, 44, 55, 51, 34, 58, 39, 27, 55, 35, 37, 52, 41, 52, 34, 53, 47, 35, 33, 55, 44, 25, 37, 41, 36, 44, 34, 56, 28, 54, 37, 58, 56, 32, 42, 52, 46, 39, 31, 59, 38, 58, 34, 40, 20, 34, 31, 39, 34, 24, 41, 40, 36, 53, 23, 42, 48, 34, 36, 43, 36, 55, 31, 32, 36, 46, 41, 31, 32, 38, 49, 46, 29, 36, 38, 53, 43, 41, 42, 39, 30, 41, 44, 58, 35, 27, 25, 36, 38, 30, 47, 41, 36, 23, 32, 57, 49, 50, 33, 53, 30, 38, 44, 39, 45, 38, 36, 30, 28, 26, 32, 50, 43, 48, 57, 64, 26, 50, 47, 39, 52, 31, 50, 47, 30, 32, 36, 46, 45, 37, 58, 59, 28, 48, 55, 37, 41, 35, 34, 43, 50, 35, 50, 36, 41, 28, 42, 60, 28, 48, 51, 32, 35, 38, 77, 32, 43, 36, 29, 32, 41, 26, 34, 36, 42, 35, 52, 36, 46, 57, 48, 59, 39, 44, 27, 59, 36, 50, 41, 47, 32, 38, 55, 38, 31, 38, 29, 55, 35, 40, 34, 33, 37, 58, 36, 42, 34, 35, 60, 50, 27, 38, 32, 37, 33, 71, 27, 38, 34, 30, 35, 33, 36, 59, 72, 64, 53, 35, 58, 40, 41, 48, 44, 39, 36, 28, 58, 60, 66, 49, 40, 23, 29, 44, 54, 47, 33, 30, 27, 49, 27, 51, 32, 30, 33, 27, 37, 36, 37, 35, 32, 32, 35, 31, 28, 27, 22, 35, 69, 37, 45, 47, 52, 33, 33, 44, 38, 54, 32, 33, 55, 51, 48, 37, 33, 30, 43, 49, 54, 31, 36, 30, 30, 30, 35, 33, 43, 41, 54, 32, 30, 40, 30, 27, 41, 54, 32, 42, 48, 34, 55, 49, 46, 47, 24, 58, 25, 49, 30, 46, 37, 44, 49, 41, 48, 31, 37, 51, 32, 48, 49, 30, 27, 34, 48, 40, 38, 46, 41, 28, 51, 33, 26, 34, 27, 42, 31, 39, 26, 40, 52, 40, 48, 31, 40, 34, 29, 36, 55, 43, 23, 44, 58, 29, 30, 29, 41, 35, 31, 27, 47, 53, 34, 34, 36, 40, 37, 65, 53, 28, 33, 56, 45, 39, 28, 36, 41, 41, 59, 24, 34, 40, 42, 50, 25, 51, 50, 37, 21, 52, 55, 26, 32, 31, 34, 33, 35, 44, 48, 29, 50, 37, 44, 36, 49, 31, 49, 57, 42, 36, 75, 38, 40, 34, 29, 28, 79, 51, 32, 38, 49, 42, 43, 34, 35, 33, 34, 34, 57, 30, 49, 73, 39, 57, 32, 45, 32, 49, 29, 55, 30, 39, 36, 33, 31, 36, 38, 33, 40, 39, 33, 38, 55, 38, 48, 53, 44, 57, 29, 31, 35, 31, 35, 40, 39, 43, 44, 40, 33, 46, 27, 26, 41, 34, 39, 27, 31, 44, 55, 51, 50, 30, 49, 56, 30, 36, 40, 37, 45, 34, 27, 30, 32, 46, 29, 53, 32, 49, 35, 38, 39, 34, 42, 35, 60, 57, 31, 29, 41, 46, 32, 37, 32, 43, 50, 34, 31, 43, 49, 22, 35, 56, 53, 54, 32, 41, 40, 33, 33, 34, 36, 34, 55, 29, 31, 52, 54, 43, 55, 28, 45, 45, 51, 42, 43, 34, 36, 37, 50, 34, 48, 47, 40, 37, 38, 29, 46, 26, 30, 42, 42, 31, 37, 26, 54, 70, 29, 50, 60, 32, 32, 34, 48, 25, 32, 32, 47, 32, 53, 41, 47, 35, 33, 49, 29, 58, 40, 34, 60, 43, 50, 33, 37, 55, 45, 47, 58, 36, 55, 31, 38, 42, 32, 39, 41, 59, 42, 33, 53, 43, 27, 39, 27, 33, 29, 33, 41, 38, 30, 58, 37, 36, 45, 23, 44, 32, 32, 38, 47, 34, 52, 45, 50, 37, 51, 32, 33, 28, 66, 31, 35, 36, 32, 34, 40, 33, 39, 38, 65, 34, 34, 42, 31, 47, 44, 38, 28, 46, 51, 42, 58, 36, 34, 49, 54, 29, 51, 40, 30, 38, 43, 32, 29, 56, 57, 38, 51, 35, 37, 30, 60, 56, 45, 38, 20, 59, 36, 51, 58, 48, 56, 51, 35, 59, 44, 35, 41, 55, 51, 27, 57, 51, 38, 40, 47, 48, 47, 56, 32, 42, 30, 26, 35, 35, 29, 32, 45, 31, 50, 38, 37, 35, 37, 28, 38, 43, 43, 56, 32, 58, 47, 31, 38, 50, 32, 37, 39, 40, 41, 45, 31, 54, 39, 56, 35, 34, 31, 38, 41, 44, 49, 30, 31, 34, 70, 45, 31, 57, 40, 28, 44, 49, 46, 34, 58, 52, 27, 48, 33, 46, 51, 35, 37, 60, 40, 50, 34, 32, 36, 32, 40, 37, 57, 46, 31, 35, 32, 44, 41, 59, 39, 27, 33, 38, 52, 54, 33, 50, 39, 41, 48, 38, 34, 32, 48, 28, 32, 32, 38, 86, 47, 42, 44, 25, 34, 53, 42, 30, 40, 34, 34, 40, 36, 34, 32, 39, 36, 33, 34, 46, 32, 27, 35, 53, 29, 35, 49, 58, 19, 30, 34, 60, 49, 59, 44, 33, 54, 26, 54, 51, 43, 34, 40, 43, 33, 66, 44, 33, 31, 46, 32, 45, 32, 49, 46, 37, 30, 44, 45, 57, 66, 40, 48, 33, 47, 27, 78, 50, 46, 36, 49, 46, 77, 30, 43, 44, 40, 38, 49, 33, 40, 44, 32, 52, 35, 35, 32, 42, 59, 50, 27, 55, 54, 31, 56, 51, 61, 34, 56, 29, 34, 35, 56, 45, 31, 43, 40, 38, 58, 24, 53, 36, 28, 45, 32, 46, 28, 51, 51, 30, 39, 28, 31, 31, 38, 31, 43, 54, 51, 33, 41, 33, 48, 42, 35, 25, 38, 45, 59, 47, 33, 42, 51, 45, 33, 43, 37, 73, 43, 52, 44, 56, 21, 43, 54, 52, 53, 24, 57, 57, 51, 50, 34, 43, 31, 29, 39, 36, 38, 56, 41, 38, 80, 37, 44, 53, 69, 46, 31, 38, 34, 48, 46, 42, 41, 33, 39, 27, 26, 48, 54, 51, 47, 53, 35, 58, 52, 57, 52, 35, 48, 46, 39, 38, 34, 47, 35, 46, 27, 31, 31, 46, 31, 42, 33, 40, 51, 31, 24, 41, 43, 52, 54, 32, 38, 31, 26, 52, 58, 57, 34, 59, 27, 42, 33, 31, 29, 38, 35, 31, 32, 31, 51, 29, 43, 36, 34, 29, 57, 43, 60, 51, 40, 51, 38, 35, 47, 45, 29, 52, 26, 31, 55, 35, 56, 27, 30, 51, 33, 32, 46, 32, 40, 39, 51, 46, 43, 36, 48, 26, 39, 47, 54, 38, 33, 35, 52, 25, 35, 49, 41, 32, 29, 28, 59, 34, 55, 42, 34, 34, 51, 58, 34, 34, 42, 46, 31, 39, 34, 47, 42, 48, 30, 38, 34, 46, 32, 46, 26, 42, 50, 41, 34, 32, 58, 45, 28, 35, 39, 49, 50, 45, 30, 48, 36, 41, 55, 70, 47, 34, 33, 58, 51, 45, 55, 30, 33, 27, 59, 34, 47, 44, 45, 42, 38, 34, 35, 29, 58, 44, 45, 43, 44, 30, 38, 50, 21, 38, 42, 45, 34, 48, 34, 35, 39, 36, 35, 57, 28, 43, 57, 34, 36, 47, 36, 33, 57, 57, 34, 51, 54, 52, 43, 58, 53, 44, 29, 35, 40, 34, 38, 32, 41, 25, 38, 26, 37, 36, 33, 33, 35, 24, 29, 54, 27, 34, 39, 38, 37, 26, 36, 35, 30, 25, 34, 52, 39, 34, 34, 30, 33, 30, 51, 36, 48, 37, 58, 56, 34, 33, 26, 40, 35, 45, 35, 28, 32, 35, 39, 42, 32, 30, 26, 30, 32, 47, 33, 57, 35, 53, 24, 54, 31, 41, 44, 35, 30, 43, 51, 60, 43, 31, 56, 42, 52, 40, 36, 40, 46, 32, 31, 41, 58, 36, 52, 42, 32, 62, 31, 34, 42, 37, 47, 32, 46, 39, 28, 26, 52, 33, 35, 40, 37, 39, 28, 49, 36, 45, 29, 35, 30, 46, 25, 42, 57, 42, 29, 36, 31, 59, 50, 47, 46, 26, 31, 30, 47, 44, 42, 32, 28, 57, 38, 54, 32, 32, 59, 45, 50, 34, 30, 62, 40, 26, 34, 31, 35, 55, 34, 58, 50, 31, 47, 38, 46, 42, 34, 38, 59, 32, 55, 35, 56, 27, 42, 42, 41, 53, 67, 33, 31, 31, 30, 48, 30, 43, 38, 46, 59, 44, 35, 55, 39, 36, 33, 48, 33, 67, 48, 57, 31, 30, 56, 26, 44, 47, 30, 37, 56, 43, 42, 60, 34, 34, 41, 38, 23, 36, 49, 40, 72, 43, 44, 35, 46, 55, 50, 23, 34, 40, 53, 57, 28, 25, 38, 27, 45, 31, 39, 42, 46, 36, 30, 32, 31, 60, 35, 38, 46, 45, 59, 34, 33, 46, 48, 31, 32, 35, 36, 52, 45, 34, 25, 26, 57, 48, 48, 32, 58, 57, 31, 33, 53, 36, 32, 45, 35, 41, 54, 28, 24, 30, 32, 53, 42, 48, 33, 31, 56, 58, 37, 59, 39, 30, 47, 44, 38, 50, 27, 73, 46, 56, 33, 40, 52, 51, 33, 54, 44, 50, 37, 28, 56, 59, 32, 57, 49, 56, 48, 31, 28, 36, 58, 46, 32, 39, 35, 48, 60, 74, 30, 52, 24, 29, 33, 34, 31, 45, 27, 30, 45, 57, 34, 40, 39, 46, 34, 37, 64, 45, 57, 21, 58, 41, 58, 33, 32, 44, 47, 41, 54, 47, 32, 59, 48, 46, 31, 34, 48, 32, 31, 27, 60, 34, 52, 48, 45, 54, 52, 47, 54, 34, 39, 46, 26, 37, 47, 35, 57, 34, 27, 39, 36, 42, 23, 34, 34, 49, 57, 59, 57, 34, 35, 42, 57, 42, 53, 63, 47, 54, 45, 28, 58, 48, 37, 37, 37, 25, 58, 52, 59, 41, 34, 35, 41, 28, 53, 35, 33, 37, 32, 32, 54, 44, 36, 56, 30, 36, 43, 40, 32, 34, 37, 28, 35, 53, 60, 40, 57, 29, 44, 41, 47, 43, 37, 34, 30, 57, 26, 34, 28, 57, 38, 27, 30, 38, 36, 38, 59, 37, 29, 33, 54, 55, 32, 48, 33, 46, 47, 80, 40, 43, 39, 33, 31, 36, 35, 25, 33, 23, 31, 36, 44, 31, 55, 36, 27, 40, 49, 59, 42, 35, 29, 29, 37, 49, 51, 61, 43, 42, 24, 46, 23, 26, 43, 38, 56, 31, 28, 26, 49, 33, 80, 40, 42, 46, 32, 37, 32, 53, 39, 31, 34, 44, 35, 39, 55, 39, 58, 37, 32, 29, 44, 24, 43, 26, 39, 52, 33, 30, 32, 27, 58, 46, 28, 39, 41, 38, 50, 56, 34, 33, 36, 34, 36, 27, 45, 40, 46, 37, 36, 37, 51, 49, 35, 50, 31, 47, 59, 32, 41, 35, 36, 46, 46, 47, 35, 37, 44, 48, 28, 38, 34, 56, 44, 38, 53, 41, 34, 35, 42, 56, 37, 47, 29, 41, 43, 38, 31, 32, 40, 45, 43, 27, 33, 37, 44, 48, 57, 29, 50, 36, 49, 35, 39, 34, 57, 37, 25, 43, 37, 36, 49, 38, 39, 34, 53, 44, 32, 29, 55, 52, 49, 63, 32, 49, 40, 53, 53, 43, 35, 35, 25, 31, 48, 40, 46, 30, 47, 23, 29, 38, 56, 52, 55, 43, 34, 55, 34, 34, 43, 39, 39, 34, 55, 34, 47, 33, 45, 36, 59, 52, 53, 41, 45, 60, 32, 28, 53, 58, 38, 46, 53, 56, 52, 38, 37, 37, 37, 66, 44, 61, 34, 33, 30, 27, 37, 38, 35, 50, 39, 35, 36, 28, 39, 39, 32, 28, 47, 53, 57, 56, 38, 52, 46, 57, 42, 57, 51, 53, 37, 47, 39, 42, 36, 34, 61, 35, 54, 31, 45, 32, 52, 36, 31, 53, 43, 47, 46, 34, 55, 23, 75, 58, 35, 48, 31, 57, 53, 42, 50, 59, 38, 39, 28, 55, 33, 36, 38, 32, 35, 58, 30, 33, 36, 32, 42, 41, 38, 54, 39, 46, 37, 76, 28, 33, 46, 30, 60, 56, 24, 58, 32, 33, 77, 60, 54, 30, 50, 50, 37, 41, 49, 41, 40, 38, 34, 49, 34, 31, 33, 31, 25, 34, 53, 39, 32, 29, 56, 19, 39, 32, 43, 32, 53, 43, 48, 27, 27, 51, 39, 33, 50, 58, 60, 38, 39, 40, 55, 31, 38, 52, 45, 32, 58, 35, 36, 55, 45, 49, 44, 37, 35, 44, 32, 56, 32, 35, 44, 59, 31, 60, 33, 45, 45, 57, 36, 30, 30, 59, 58, 49, 48, 28, 59, 40, 32, 58, 27, 38, 53, 33, 52, 52, 28, 49, 28, 29, 37, 36, 35, 60, 69, 41, 48, 30, 59, 32, 28, 60, 36, 32, 34, 58, 31, 46, 29, 37, 58, 34, 34, 49, 42, 40, 30, 31, 55, 36, 31, 26, 31, 49, 54, 47, 61, 49, 51, 53, 35, 25, 53, 21, 33, 40, 34, 52, 57, 51, 31, 49, 32, 28, 33, 50, 42, 45, 34, 56, 33, 34, 37, 37, 35, 32, 52, 49, 46, 42, 36, 32, 49, 40, 36, 36, 34, 46, 32, 32, 32, 43, 25, 55, 24, 40, 38, 48, 36, 57, 45, 38, 26, 30, 55, 34, 60, 36, 65, 52, 26, 40, 52, 29, 41, 30, 26, 58, 29, 48, 35, 26, 49, 34, 32, 31, 48, 40, 42, 48, 38, 53, 59, 28, 41, 50, 31, 30, 59, 33, 35, 30, 30, 24, 34, 34, 52, 33, 38, 41, 42, 38, 48, 34, 46, 33, 40, 36, 32, 33, 55, 58, 25, 47, 40, 59, 40, 30, 25, 58, 39, 40, 38, 66, 37, 36, 50, 76, 58, 42, 28, 41, 30, 27, 48, 36, 54, 36, 52, 34, 32, 33, 51, 39, 44, 49, 25, 39, 54, 32, 36, 54, 31, 45, 31, 45, 46, 43, 50, 44, 42, 26, 47, 48, 60, 27, 28, 37, 36, 39, 52, 55, 30, 36, 39, 47, 42, 42, 58, 43, 44, 57, 36, 31, 51, 31, 56, 30, 38, 35, 31, 39, 50, 39, 26, 55, 43, 34, 51, 31, 32, 53, 44, 38, 47, 36, 30, 46, 33, 38, 27, 41, 29, 39, 42, 47, 30, 34, 45, 43, 59, 50, 39, 36, 44, 36, 27, 29, 70, 44, 55, 36, 28, 50, 49, 71, 31, 45, 42, 45, 47, 60, 35, 31, 33, 50, 51, 34, 56, 29, 31, 44, 55, 35, 36, 54, 32, 36, 60, 32, 57, 34, 27, 45, 58, 39, 48, 36, 31, 41, 30, 57, 30, 44, 33, 56, 52, 32, 36, 26, 37, 34, 26, 30, 27, 42, 33, 37, 45, 39, 33, 47, 49, 46, 31, 43, 43, 42, 33, 41, 29, 38, 29, 38, 36, 38, 44, 31, 57, 37, 50, 60, 51, 48, 42, 36, 43, 31, 49, 35, 44, 34, 46, 49, 32, 35, 51, 57, 59, 40, 49, 51, 35, 29, 37, 49, 45, 34, 53, 42, 52, 34, 43, 41, 72, 35, 41, 51, 37, 26, 23, 50, 37, 35, 37, 79, 39, 47, 44, 33, 42, 35, 31, 58, 46, 41, 58, 33, 31, 38, 55, 47, 51, 46, 47, 34, 34, 41, 36, 26, 36, 58, 50, 61, 28, 49, 53, 46, 42, 56, 42, 49, 43, 39, 30, 38, 31, 32, 48, 34, 28, 40, 36, 52, 46, 25, 52, 40, 26, 26, 35, 40, 31, 32, 28, 31, 44, 35, 50, 32, 51, 51, 31, 41, 57, 34, 47, 47, 36, 39, 53, 47, 51, 48, 32, 36, 31, 49, 33, 26, 27, 51, 26, 45, 49, 47, 42, 50, 37, 54, 40, 50, 57, 33, 49, 35, 28, 58, 31, 36, 49, 30, 29, 50, 27, 32, 62, 34, 25, 34, 38, 57, 36, 41, 36, 27, 37, 39, 35, 40, 38, 31, 53, 59, 29, 30, 52, 55, 56, 32, 24, 51, 36, 36, 49, 48, 36, 48, 27, 38, 45, 44, 42, 37, 48, 57, 44, 48, 56, 37, 47, 54, 39, 40, 38, 53, 32, 35, 24, 58, 45, 55, 42, 28, 48, 51, 38, 27, 50, 44, 40, 29, 34, 50, 34, 54, 34, 52, 60, 39, 58, 41, 48, 58, 40, 48, 52, 50, 25, 54, 34, 48, 37, 32, 45, 43, 41, 40, 44, 43, 30, 32, 57, 31, 49, 31, 41, 44, 54, 34, 43, 44, 44, 53, 36, 58, 26, 34, 55, 55, 34, 41, 28, 41, 30, 39, 41, 36, 37, 59, 26, 43, 42, 31, 43, 48, 41, 32, 45, 37, 38, 36, 58, 37, 30, 47, 40, 42, 71, 54, 33, 30, 39, 32, 34, 39, 75, 33, 40, 37, 69, 52, 31, 28, 29, 46, 28, 41, 42, 34, 43, 32, 33, 70, 36, 53, 30, 45, 31, 28, 45, 51, 53, 40, 53, 31, 30, 53, 40, 26, 47, 51, 45, 35, 36, 57, 42, 36, 43, 31, 35, 26, 46, 30, 33, 34, 48, 31, 46, 40, 39, 33, 50, 40, 55, 40, 46, 43, 34, 35, 57, 32, 52, 31, 34, 42, 33, 56, 34, 33, 32, 34, 37, 30, 29, 56, 31, 59, 36, 51, 54, 37, 32, 42, 29, 52, 40, 30, 49, 33, 32, 21, 42, 56, 39, 30, 55, 43, 39, 56, 29, 38, 59, 42, 46, 31, 35, 50, 42, 36, 25, 42, 27, 57, 48, 34, 33, 26, 50, 60, 47, 31, 52, 36, 43, 30, 32, 31, 29, 48, 30, 51, 35, 49, 36, 37, 37, 49, 44, 40, 57, 39, 38, 51, 38, 36, 53, 48, 26, 47, 45, 32, 37, 45, 36, 37, 31, 58, 44, 31, 45, 30, 34, 34, 39, 41, 32, 32, 36, 35, 33, 49, 35, 31, 42, 32, 29, 32, 50, 58, 57, 30, 26, 50, 39, 45, 37, 47, 50, 40, 35, 35, 54, 35, 31, 46, 46, 54, 37, 39, 50, 44, 56, 40, 36, 33, 33, 42, 30, 33, 26, 26, 37, 49, 33, 46, 55, 49, 51, 27, 44, 40, 36, 46, 30, 35, 31, 37, 49, 27, 32, 70, 22, 58, 33, 83, 50, 53, 37, 55, 41, 40, 48, 27, 30, 37, 37, 40, 50, 53, 47, 33, 51, 42, 34, 44, 32, 60, 60, 39, 47, 30, 31, 34, 51, 38, 47, 46, 33, 30, 40, 38, 33, 29, 54, 57, 57, 28, 30, 28, 45, 29, 42, 31, 59, 41, 57, 43, 30, 26, 52, 32, 39, 31, 34, 40, 39, 30, 43, 49, 41, 35, 57, 29, 48, 38, 39, 31, 51, 35, 28, 57, 36, 49, 34, 65, 26, 52, 33, 43, 26, 45, 30, 37, 34, 35, 41, 42, 48, 45, 47, 37, 32, 35, 31, 36, 44, 52, 28, 45, 38, 39, 28, 31, 46, 22, 44, 31, 53, 55, 35, 35, 37, 50, 37, 37, 31, 40, 47, 55, 33, 53, 61, 43, 42, 36, 31, 59, 29, 33, 44, 43, 42, 32, 43, 39, 23, 43, 46, 31, 53, 37, 49, 31, 45, 58, 35, 32, 28, 48, 30, 31, 31, 45, 38, 34, 42, 42, 33, 42, 51, 36, 40, 49, 38, 32, 33, 57, 57, 28, 44]}],\n",
       "                        {\"template\": {\"data\": {\"bar\": [{\"error_x\": {\"color\": \"#2a3f5f\"}, \"error_y\": {\"color\": \"#2a3f5f\"}, \"marker\": {\"line\": {\"color\": \"#E5ECF6\", \"width\": 0.5}}, \"type\": \"bar\"}], \"barpolar\": [{\"marker\": {\"line\": {\"color\": \"#E5ECF6\", \"width\": 0.5}}, \"type\": \"barpolar\"}], \"carpet\": [{\"aaxis\": {\"endlinecolor\": \"#2a3f5f\", \"gridcolor\": \"white\", \"linecolor\": \"white\", \"minorgridcolor\": \"white\", \"startlinecolor\": \"#2a3f5f\"}, \"baxis\": {\"endlinecolor\": \"#2a3f5f\", \"gridcolor\": \"white\", \"linecolor\": \"white\", \"minorgridcolor\": \"white\", \"startlinecolor\": \"#2a3f5f\"}, \"type\": \"carpet\"}], \"choropleth\": [{\"colorbar\": {\"outlinewidth\": 0, \"ticks\": \"\"}, \"type\": \"choropleth\"}], \"contour\": [{\"colorbar\": {\"outlinewidth\": 0, \"ticks\": \"\"}, \"colorscale\": [[0.0, \"#0d0887\"], [0.1111111111111111, \"#46039f\"], [0.2222222222222222, \"#7201a8\"], [0.3333333333333333, \"#9c179e\"], [0.4444444444444444, \"#bd3786\"], [0.5555555555555556, \"#d8576b\"], [0.6666666666666666, \"#ed7953\"], [0.7777777777777778, \"#fb9f3a\"], [0.8888888888888888, \"#fdca26\"], [1.0, \"#f0f921\"]], \"type\": \"contour\"}], \"contourcarpet\": [{\"colorbar\": {\"outlinewidth\": 0, \"ticks\": \"\"}, \"type\": \"contourcarpet\"}], \"heatmap\": [{\"colorbar\": {\"outlinewidth\": 0, \"ticks\": \"\"}, \"colorscale\": [[0.0, \"#0d0887\"], [0.1111111111111111, \"#46039f\"], [0.2222222222222222, \"#7201a8\"], [0.3333333333333333, \"#9c179e\"], [0.4444444444444444, \"#bd3786\"], [0.5555555555555556, \"#d8576b\"], [0.6666666666666666, \"#ed7953\"], [0.7777777777777778, \"#fb9f3a\"], [0.8888888888888888, \"#fdca26\"], [1.0, \"#f0f921\"]], \"type\": \"heatmap\"}], \"heatmapgl\": [{\"colorbar\": {\"outlinewidth\": 0, \"ticks\": \"\"}, \"colorscale\": [[0.0, \"#0d0887\"], [0.1111111111111111, \"#46039f\"], [0.2222222222222222, \"#7201a8\"], [0.3333333333333333, \"#9c179e\"], [0.4444444444444444, \"#bd3786\"], [0.5555555555555556, \"#d8576b\"], [0.6666666666666666, \"#ed7953\"], [0.7777777777777778, \"#fb9f3a\"], [0.8888888888888888, \"#fdca26\"], [1.0, \"#f0f921\"]], \"type\": \"heatmapgl\"}], \"histogram\": [{\"marker\": {\"colorbar\": {\"outlinewidth\": 0, \"ticks\": \"\"}}, \"type\": \"histogram\"}], \"histogram2d\": [{\"colorbar\": {\"outlinewidth\": 0, \"ticks\": \"\"}, \"colorscale\": [[0.0, \"#0d0887\"], [0.1111111111111111, \"#46039f\"], [0.2222222222222222, \"#7201a8\"], [0.3333333333333333, \"#9c179e\"], [0.4444444444444444, \"#bd3786\"], [0.5555555555555556, \"#d8576b\"], [0.6666666666666666, \"#ed7953\"], [0.7777777777777778, \"#fb9f3a\"], [0.8888888888888888, \"#fdca26\"], [1.0, \"#f0f921\"]], \"type\": \"histogram2d\"}], \"histogram2dcontour\": [{\"colorbar\": {\"outlinewidth\": 0, \"ticks\": \"\"}, \"colorscale\": [[0.0, \"#0d0887\"], [0.1111111111111111, \"#46039f\"], [0.2222222222222222, \"#7201a8\"], [0.3333333333333333, \"#9c179e\"], [0.4444444444444444, \"#bd3786\"], [0.5555555555555556, \"#d8576b\"], [0.6666666666666666, \"#ed7953\"], [0.7777777777777778, \"#fb9f3a\"], [0.8888888888888888, \"#fdca26\"], [1.0, \"#f0f921\"]], \"type\": \"histogram2dcontour\"}], \"mesh3d\": [{\"colorbar\": {\"outlinewidth\": 0, \"ticks\": \"\"}, \"type\": \"mesh3d\"}], \"parcoords\": [{\"line\": {\"colorbar\": {\"outlinewidth\": 0, \"ticks\": \"\"}}, \"type\": \"parcoords\"}], \"pie\": [{\"automargin\": true, \"type\": \"pie\"}], \"scatter\": [{\"marker\": {\"colorbar\": {\"outlinewidth\": 0, \"ticks\": \"\"}}, \"type\": \"scatter\"}], \"scatter3d\": [{\"line\": {\"colorbar\": {\"outlinewidth\": 0, \"ticks\": \"\"}}, \"marker\": {\"colorbar\": {\"outlinewidth\": 0, \"ticks\": \"\"}}, \"type\": \"scatter3d\"}], \"scattercarpet\": [{\"marker\": {\"colorbar\": {\"outlinewidth\": 0, \"ticks\": \"\"}}, \"type\": \"scattercarpet\"}], \"scattergeo\": [{\"marker\": {\"colorbar\": {\"outlinewidth\": 0, \"ticks\": \"\"}}, \"type\": \"scattergeo\"}], \"scattergl\": [{\"marker\": {\"colorbar\": {\"outlinewidth\": 0, \"ticks\": \"\"}}, \"type\": \"scattergl\"}], \"scattermapbox\": [{\"marker\": {\"colorbar\": {\"outlinewidth\": 0, \"ticks\": \"\"}}, \"type\": \"scattermapbox\"}], \"scatterpolar\": [{\"marker\": {\"colorbar\": {\"outlinewidth\": 0, \"ticks\": \"\"}}, \"type\": \"scatterpolar\"}], \"scatterpolargl\": [{\"marker\": {\"colorbar\": {\"outlinewidth\": 0, \"ticks\": \"\"}}, \"type\": \"scatterpolargl\"}], \"scatterternary\": [{\"marker\": {\"colorbar\": {\"outlinewidth\": 0, \"ticks\": \"\"}}, \"type\": \"scatterternary\"}], \"surface\": [{\"colorbar\": {\"outlinewidth\": 0, \"ticks\": \"\"}, \"colorscale\": [[0.0, \"#0d0887\"], [0.1111111111111111, \"#46039f\"], [0.2222222222222222, \"#7201a8\"], [0.3333333333333333, \"#9c179e\"], [0.4444444444444444, \"#bd3786\"], [0.5555555555555556, \"#d8576b\"], [0.6666666666666666, \"#ed7953\"], [0.7777777777777778, \"#fb9f3a\"], [0.8888888888888888, \"#fdca26\"], [1.0, \"#f0f921\"]], \"type\": \"surface\"}], \"table\": [{\"cells\": {\"fill\": {\"color\": \"#EBF0F8\"}, \"line\": {\"color\": \"white\"}}, \"header\": {\"fill\": {\"color\": \"#C8D4E3\"}, \"line\": {\"color\": \"white\"}}, \"type\": \"table\"}]}, \"layout\": {\"annotationdefaults\": {\"arrowcolor\": \"#2a3f5f\", \"arrowhead\": 0, \"arrowwidth\": 1}, \"coloraxis\": {\"colorbar\": {\"outlinewidth\": 0, \"ticks\": \"\"}}, \"colorscale\": {\"diverging\": [[0, \"#8e0152\"], [0.1, \"#c51b7d\"], [0.2, \"#de77ae\"], [0.3, \"#f1b6da\"], [0.4, \"#fde0ef\"], [0.5, \"#f7f7f7\"], [0.6, \"#e6f5d0\"], [0.7, \"#b8e186\"], [0.8, \"#7fbc41\"], [0.9, \"#4d9221\"], [1, \"#276419\"]], \"sequential\": [[0.0, \"#0d0887\"], [0.1111111111111111, \"#46039f\"], [0.2222222222222222, \"#7201a8\"], [0.3333333333333333, \"#9c179e\"], [0.4444444444444444, \"#bd3786\"], [0.5555555555555556, \"#d8576b\"], [0.6666666666666666, \"#ed7953\"], [0.7777777777777778, \"#fb9f3a\"], [0.8888888888888888, \"#fdca26\"], [1.0, \"#f0f921\"]], \"sequentialminus\": [[0.0, \"#0d0887\"], [0.1111111111111111, \"#46039f\"], [0.2222222222222222, \"#7201a8\"], [0.3333333333333333, \"#9c179e\"], [0.4444444444444444, \"#bd3786\"], [0.5555555555555556, \"#d8576b\"], [0.6666666666666666, \"#ed7953\"], [0.7777777777777778, \"#fb9f3a\"], [0.8888888888888888, \"#fdca26\"], [1.0, \"#f0f921\"]]}, \"colorway\": [\"#636efa\", \"#EF553B\", \"#00cc96\", \"#ab63fa\", \"#FFA15A\", \"#19d3f3\", \"#FF6692\", \"#B6E880\", \"#FF97FF\", \"#FECB52\"], \"font\": {\"color\": \"#2a3f5f\"}, \"geo\": {\"bgcolor\": \"white\", \"lakecolor\": \"white\", \"landcolor\": \"#E5ECF6\", \"showlakes\": true, \"showland\": true, \"subunitcolor\": \"white\"}, \"hoverlabel\": {\"align\": \"left\"}, \"hovermode\": \"closest\", \"mapbox\": {\"style\": \"light\"}, \"paper_bgcolor\": \"white\", \"plot_bgcolor\": \"#E5ECF6\", \"polar\": {\"angularaxis\": {\"gridcolor\": \"white\", \"linecolor\": \"white\", \"ticks\": \"\"}, \"bgcolor\": \"#E5ECF6\", \"radialaxis\": {\"gridcolor\": \"white\", \"linecolor\": \"white\", \"ticks\": \"\"}}, \"scene\": {\"xaxis\": {\"backgroundcolor\": \"#E5ECF6\", \"gridcolor\": \"white\", \"gridwidth\": 2, \"linecolor\": \"white\", \"showbackground\": true, \"ticks\": \"\", \"zerolinecolor\": \"white\"}, \"yaxis\": {\"backgroundcolor\": \"#E5ECF6\", \"gridcolor\": \"white\", \"gridwidth\": 2, \"linecolor\": \"white\", \"showbackground\": true, \"ticks\": \"\", \"zerolinecolor\": \"white\"}, \"zaxis\": {\"backgroundcolor\": \"#E5ECF6\", \"gridcolor\": \"white\", \"gridwidth\": 2, \"linecolor\": \"white\", \"showbackground\": true, \"ticks\": \"\", \"zerolinecolor\": \"white\"}}, \"shapedefaults\": {\"line\": {\"color\": \"#2a3f5f\"}}, \"ternary\": {\"aaxis\": {\"gridcolor\": \"white\", \"linecolor\": \"white\", \"ticks\": \"\"}, \"baxis\": {\"gridcolor\": \"white\", \"linecolor\": \"white\", \"ticks\": \"\"}, \"bgcolor\": \"#E5ECF6\", \"caxis\": {\"gridcolor\": \"white\", \"linecolor\": \"white\", \"ticks\": \"\"}}, \"title\": {\"x\": 0.05}, \"xaxis\": {\"automargin\": true, \"gridcolor\": \"white\", \"linecolor\": \"white\", \"ticks\": \"\", \"title\": {\"standoff\": 15}, \"zerolinecolor\": \"white\", \"zerolinewidth\": 2}, \"yaxis\": {\"automargin\": true, \"gridcolor\": \"white\", \"linecolor\": \"white\", \"ticks\": \"\", \"title\": {\"standoff\": 15}, \"zerolinecolor\": \"white\", \"zerolinewidth\": 2}}}, \"title\": {\"text\": \"Histogram of Age for label 0\"}},\n",
       "                        {\"responsive\": true}\n",
       "                    ).then(function(){\n",
       "                            \n",
       "var gd = document.getElementById('eff081e6-76d2-4fcc-93a8-7214ab2810ee');\n",
       "var x = new MutationObserver(function (mutations, observer) {{\n",
       "        var display = window.getComputedStyle(gd).display;\n",
       "        if (!display || display === 'none') {{\n",
       "            console.log([gd, 'removed!']);\n",
       "            Plotly.purge(gd);\n",
       "            observer.disconnect();\n",
       "        }}\n",
       "}});\n",
       "\n",
       "// Listen for the removal of the full notebook cells\n",
       "var notebookContainer = gd.closest('#notebook-container');\n",
       "if (notebookContainer) {{\n",
       "    x.observe(notebookContainer, {childList: true});\n",
       "}}\n",
       "\n",
       "// Listen for the clearing of the current output cell\n",
       "var outputEl = gd.closest('.output');\n",
       "if (outputEl) {{\n",
       "    x.observe(outputEl, {childList: true});\n",
       "}}\n",
       "\n",
       "                        })\n",
       "                };\n",
       "                });\n",
       "            </script>\n",
       "        </div>"
      ]
     },
     "metadata": {},
     "output_type": "display_data"
    }
   ],
   "source": [
    "data = [go.Histogram(x=bank_data_L0.age, marker=dict(color='#CC0E1D' ))]\n",
    "layout = go.Layout(title = \"Histogram of Age for label 0\")\n",
    "fig = go.Figure(data= data, layout=layout)\n",
    "iplot(fig)"
   ]
  },
  {
   "cell_type": "code",
   "execution_count": 33,
   "metadata": {},
   "outputs": [],
   "source": [
    "bank_data_L1=bank_data[bank_data['y']=='yes']"
   ]
  },
  {
   "cell_type": "code",
   "execution_count": 34,
   "metadata": {},
   "outputs": [
    {
     "data": {
      "application/vnd.plotly.v1+json": {
       "config": {
        "linkText": "Export to plot.ly",
        "plotlyServerURL": "https://plot.ly",
        "showLink": false
       },
       "data": [
        {
         "marker": {
          "color": "#CC0E1D"
         },
         "type": "histogram",
         "x": [
          20,
          68,
          32,
          49,
          78,
          32,
          33,
          61,
          45,
          34,
          37,
          27,
          52,
          37,
          27,
          31,
          56,
          21,
          25,
          25,
          34,
          77,
          52,
          55,
          28,
          56,
          75,
          35,
          29,
          42,
          29,
          24,
          34,
          50,
          49,
          45,
          38,
          32,
          49,
          25,
          35,
          38,
          35,
          35,
          32,
          30,
          55,
          48,
          60,
          37,
          59,
          28,
          54,
          75,
          49,
          30,
          35,
          34,
          32,
          61,
          77,
          53,
          46,
          44,
          19,
          30,
          52,
          36,
          47,
          43,
          41,
          28,
          32,
          41,
          35,
          30,
          58,
          27,
          39,
          46,
          28,
          38,
          28,
          32,
          59,
          35,
          50,
          36,
          28,
          55,
          48,
          29,
          34,
          43,
          47,
          39,
          55,
          46,
          41,
          31,
          26,
          60,
          27,
          28,
          34,
          34,
          40,
          41,
          33,
          58,
          34,
          43,
          59,
          37,
          45,
          49,
          53,
          42,
          45,
          56,
          55,
          34,
          63,
          48,
          36,
          54,
          38,
          33,
          59,
          37,
          37,
          57,
          60,
          44,
          32,
          33,
          28,
          37,
          31,
          34,
          54,
          61,
          36,
          75,
          60,
          54,
          27,
          41,
          46,
          31,
          32,
          59,
          42,
          80,
          49,
          45,
          32,
          27,
          47,
          28,
          83,
          46,
          38,
          35,
          38,
          36,
          59,
          64,
          77,
          56,
          32,
          31,
          45,
          36,
          31,
          53,
          59,
          29,
          46,
          47,
          42,
          33,
          54,
          28,
          42,
          49,
          46,
          39,
          53,
          52,
          47,
          32,
          37,
          43,
          31,
          35,
          25,
          32,
          46,
          48,
          34,
          53,
          40,
          49,
          49,
          29,
          38,
          35,
          57,
          51,
          31,
          39,
          54,
          51,
          34,
          47,
          34,
          26,
          39,
          42,
          40,
          28,
          46,
          48,
          30,
          29,
          53,
          71,
          22,
          27,
          27,
          42,
          41,
          25,
          44,
          37,
          44,
          74,
          40,
          34,
          59,
          41,
          30,
          59,
          31,
          48,
          47,
          33,
          30,
          38,
          33,
          62,
          48,
          41,
          35,
          47,
          37,
          62,
          33,
          40,
          28,
          43,
          23,
          29,
          34,
          24,
          44,
          33,
          24,
          37,
          41,
          35,
          32,
          27,
          30,
          37,
          43,
          26,
          35,
          41,
          44,
          42,
          73,
          51,
          35,
          36,
          23,
          22,
          53,
          35,
          50,
          37,
          53,
          44,
          31,
          33,
          34,
          61,
          52,
          49,
          50,
          36,
          45,
          36,
          42,
          27,
          31,
          29,
          45,
          55,
          25,
          41,
          29,
          32,
          53,
          47,
          40,
          61,
          35,
          19,
          46,
          38,
          37,
          39,
          49,
          43,
          44,
          38,
          32,
          51,
          32,
          35,
          32,
          34,
          56,
          41,
          49,
          61,
          45,
          36,
          22,
          71,
          31,
          56,
          46,
          55,
          34,
          38,
          60,
          51,
          49,
          40,
          39,
          50,
          73,
          34,
          43,
          67,
          33,
          31,
          30,
          47,
          48,
          32,
          27,
          24,
          28,
          34,
          63,
          79,
          72,
          55,
          41,
          52,
          59,
          54,
          36,
          36,
          28,
          60,
          64,
          40,
          87,
          33,
          25,
          35,
          53,
          33,
          53,
          79,
          27,
          38,
          46,
          33,
          39,
          55,
          28,
          71,
          47,
          58,
          32,
          43,
          33,
          30,
          58,
          68,
          49,
          61,
          43,
          38,
          52,
          29,
          29,
          26,
          32,
          36,
          30,
          30,
          80,
          31,
          32,
          43,
          34,
          27,
          36,
          42,
          36,
          55,
          61,
          35,
          26,
          74,
          47,
          66,
          33,
          53,
          46,
          29,
          50,
          39,
          54,
          26,
          44,
          47,
          31,
          36,
          42,
          30,
          36,
          51,
          47,
          25,
          34,
          49,
          44,
          34,
          66,
          37,
          38,
          46,
          52,
          53,
          28,
          32,
          30,
          69,
          84,
          25,
          47,
          50,
          30,
          55,
          53,
          57,
          32,
          32,
          48,
          34,
          27,
          30,
          37,
          38,
          33,
          69,
          65,
          62,
          39,
          38,
          31,
          33,
          36,
          32,
          34,
          59,
          25,
          53,
          52,
          34,
          59,
          49,
          73,
          50,
          29,
          63,
          59,
          83,
          50,
          41,
          45,
          32,
          45,
          40,
          49,
          29,
          38,
          38,
          26,
          60,
          42,
          32,
          46
         ]
        }
       ],
       "layout": {
        "template": {
         "data": {
          "bar": [
           {
            "error_x": {
             "color": "#2a3f5f"
            },
            "error_y": {
             "color": "#2a3f5f"
            },
            "marker": {
             "line": {
              "color": "#E5ECF6",
              "width": 0.5
             }
            },
            "type": "bar"
           }
          ],
          "barpolar": [
           {
            "marker": {
             "line": {
              "color": "#E5ECF6",
              "width": 0.5
             }
            },
            "type": "barpolar"
           }
          ],
          "carpet": [
           {
            "aaxis": {
             "endlinecolor": "#2a3f5f",
             "gridcolor": "white",
             "linecolor": "white",
             "minorgridcolor": "white",
             "startlinecolor": "#2a3f5f"
            },
            "baxis": {
             "endlinecolor": "#2a3f5f",
             "gridcolor": "white",
             "linecolor": "white",
             "minorgridcolor": "white",
             "startlinecolor": "#2a3f5f"
            },
            "type": "carpet"
           }
          ],
          "choropleth": [
           {
            "colorbar": {
             "outlinewidth": 0,
             "ticks": ""
            },
            "type": "choropleth"
           }
          ],
          "contour": [
           {
            "colorbar": {
             "outlinewidth": 0,
             "ticks": ""
            },
            "colorscale": [
             [
              0,
              "#0d0887"
             ],
             [
              0.1111111111111111,
              "#46039f"
             ],
             [
              0.2222222222222222,
              "#7201a8"
             ],
             [
              0.3333333333333333,
              "#9c179e"
             ],
             [
              0.4444444444444444,
              "#bd3786"
             ],
             [
              0.5555555555555556,
              "#d8576b"
             ],
             [
              0.6666666666666666,
              "#ed7953"
             ],
             [
              0.7777777777777778,
              "#fb9f3a"
             ],
             [
              0.8888888888888888,
              "#fdca26"
             ],
             [
              1,
              "#f0f921"
             ]
            ],
            "type": "contour"
           }
          ],
          "contourcarpet": [
           {
            "colorbar": {
             "outlinewidth": 0,
             "ticks": ""
            },
            "type": "contourcarpet"
           }
          ],
          "heatmap": [
           {
            "colorbar": {
             "outlinewidth": 0,
             "ticks": ""
            },
            "colorscale": [
             [
              0,
              "#0d0887"
             ],
             [
              0.1111111111111111,
              "#46039f"
             ],
             [
              0.2222222222222222,
              "#7201a8"
             ],
             [
              0.3333333333333333,
              "#9c179e"
             ],
             [
              0.4444444444444444,
              "#bd3786"
             ],
             [
              0.5555555555555556,
              "#d8576b"
             ],
             [
              0.6666666666666666,
              "#ed7953"
             ],
             [
              0.7777777777777778,
              "#fb9f3a"
             ],
             [
              0.8888888888888888,
              "#fdca26"
             ],
             [
              1,
              "#f0f921"
             ]
            ],
            "type": "heatmap"
           }
          ],
          "heatmapgl": [
           {
            "colorbar": {
             "outlinewidth": 0,
             "ticks": ""
            },
            "colorscale": [
             [
              0,
              "#0d0887"
             ],
             [
              0.1111111111111111,
              "#46039f"
             ],
             [
              0.2222222222222222,
              "#7201a8"
             ],
             [
              0.3333333333333333,
              "#9c179e"
             ],
             [
              0.4444444444444444,
              "#bd3786"
             ],
             [
              0.5555555555555556,
              "#d8576b"
             ],
             [
              0.6666666666666666,
              "#ed7953"
             ],
             [
              0.7777777777777778,
              "#fb9f3a"
             ],
             [
              0.8888888888888888,
              "#fdca26"
             ],
             [
              1,
              "#f0f921"
             ]
            ],
            "type": "heatmapgl"
           }
          ],
          "histogram": [
           {
            "marker": {
             "colorbar": {
              "outlinewidth": 0,
              "ticks": ""
             }
            },
            "type": "histogram"
           }
          ],
          "histogram2d": [
           {
            "colorbar": {
             "outlinewidth": 0,
             "ticks": ""
            },
            "colorscale": [
             [
              0,
              "#0d0887"
             ],
             [
              0.1111111111111111,
              "#46039f"
             ],
             [
              0.2222222222222222,
              "#7201a8"
             ],
             [
              0.3333333333333333,
              "#9c179e"
             ],
             [
              0.4444444444444444,
              "#bd3786"
             ],
             [
              0.5555555555555556,
              "#d8576b"
             ],
             [
              0.6666666666666666,
              "#ed7953"
             ],
             [
              0.7777777777777778,
              "#fb9f3a"
             ],
             [
              0.8888888888888888,
              "#fdca26"
             ],
             [
              1,
              "#f0f921"
             ]
            ],
            "type": "histogram2d"
           }
          ],
          "histogram2dcontour": [
           {
            "colorbar": {
             "outlinewidth": 0,
             "ticks": ""
            },
            "colorscale": [
             [
              0,
              "#0d0887"
             ],
             [
              0.1111111111111111,
              "#46039f"
             ],
             [
              0.2222222222222222,
              "#7201a8"
             ],
             [
              0.3333333333333333,
              "#9c179e"
             ],
             [
              0.4444444444444444,
              "#bd3786"
             ],
             [
              0.5555555555555556,
              "#d8576b"
             ],
             [
              0.6666666666666666,
              "#ed7953"
             ],
             [
              0.7777777777777778,
              "#fb9f3a"
             ],
             [
              0.8888888888888888,
              "#fdca26"
             ],
             [
              1,
              "#f0f921"
             ]
            ],
            "type": "histogram2dcontour"
           }
          ],
          "mesh3d": [
           {
            "colorbar": {
             "outlinewidth": 0,
             "ticks": ""
            },
            "type": "mesh3d"
           }
          ],
          "parcoords": [
           {
            "line": {
             "colorbar": {
              "outlinewidth": 0,
              "ticks": ""
             }
            },
            "type": "parcoords"
           }
          ],
          "pie": [
           {
            "automargin": true,
            "type": "pie"
           }
          ],
          "scatter": [
           {
            "marker": {
             "colorbar": {
              "outlinewidth": 0,
              "ticks": ""
             }
            },
            "type": "scatter"
           }
          ],
          "scatter3d": [
           {
            "line": {
             "colorbar": {
              "outlinewidth": 0,
              "ticks": ""
             }
            },
            "marker": {
             "colorbar": {
              "outlinewidth": 0,
              "ticks": ""
             }
            },
            "type": "scatter3d"
           }
          ],
          "scattercarpet": [
           {
            "marker": {
             "colorbar": {
              "outlinewidth": 0,
              "ticks": ""
             }
            },
            "type": "scattercarpet"
           }
          ],
          "scattergeo": [
           {
            "marker": {
             "colorbar": {
              "outlinewidth": 0,
              "ticks": ""
             }
            },
            "type": "scattergeo"
           }
          ],
          "scattergl": [
           {
            "marker": {
             "colorbar": {
              "outlinewidth": 0,
              "ticks": ""
             }
            },
            "type": "scattergl"
           }
          ],
          "scattermapbox": [
           {
            "marker": {
             "colorbar": {
              "outlinewidth": 0,
              "ticks": ""
             }
            },
            "type": "scattermapbox"
           }
          ],
          "scatterpolar": [
           {
            "marker": {
             "colorbar": {
              "outlinewidth": 0,
              "ticks": ""
             }
            },
            "type": "scatterpolar"
           }
          ],
          "scatterpolargl": [
           {
            "marker": {
             "colorbar": {
              "outlinewidth": 0,
              "ticks": ""
             }
            },
            "type": "scatterpolargl"
           }
          ],
          "scatterternary": [
           {
            "marker": {
             "colorbar": {
              "outlinewidth": 0,
              "ticks": ""
             }
            },
            "type": "scatterternary"
           }
          ],
          "surface": [
           {
            "colorbar": {
             "outlinewidth": 0,
             "ticks": ""
            },
            "colorscale": [
             [
              0,
              "#0d0887"
             ],
             [
              0.1111111111111111,
              "#46039f"
             ],
             [
              0.2222222222222222,
              "#7201a8"
             ],
             [
              0.3333333333333333,
              "#9c179e"
             ],
             [
              0.4444444444444444,
              "#bd3786"
             ],
             [
              0.5555555555555556,
              "#d8576b"
             ],
             [
              0.6666666666666666,
              "#ed7953"
             ],
             [
              0.7777777777777778,
              "#fb9f3a"
             ],
             [
              0.8888888888888888,
              "#fdca26"
             ],
             [
              1,
              "#f0f921"
             ]
            ],
            "type": "surface"
           }
          ],
          "table": [
           {
            "cells": {
             "fill": {
              "color": "#EBF0F8"
             },
             "line": {
              "color": "white"
             }
            },
            "header": {
             "fill": {
              "color": "#C8D4E3"
             },
             "line": {
              "color": "white"
             }
            },
            "type": "table"
           }
          ]
         },
         "layout": {
          "annotationdefaults": {
           "arrowcolor": "#2a3f5f",
           "arrowhead": 0,
           "arrowwidth": 1
          },
          "coloraxis": {
           "colorbar": {
            "outlinewidth": 0,
            "ticks": ""
           }
          },
          "colorscale": {
           "diverging": [
            [
             0,
             "#8e0152"
            ],
            [
             0.1,
             "#c51b7d"
            ],
            [
             0.2,
             "#de77ae"
            ],
            [
             0.3,
             "#f1b6da"
            ],
            [
             0.4,
             "#fde0ef"
            ],
            [
             0.5,
             "#f7f7f7"
            ],
            [
             0.6,
             "#e6f5d0"
            ],
            [
             0.7,
             "#b8e186"
            ],
            [
             0.8,
             "#7fbc41"
            ],
            [
             0.9,
             "#4d9221"
            ],
            [
             1,
             "#276419"
            ]
           ],
           "sequential": [
            [
             0,
             "#0d0887"
            ],
            [
             0.1111111111111111,
             "#46039f"
            ],
            [
             0.2222222222222222,
             "#7201a8"
            ],
            [
             0.3333333333333333,
             "#9c179e"
            ],
            [
             0.4444444444444444,
             "#bd3786"
            ],
            [
             0.5555555555555556,
             "#d8576b"
            ],
            [
             0.6666666666666666,
             "#ed7953"
            ],
            [
             0.7777777777777778,
             "#fb9f3a"
            ],
            [
             0.8888888888888888,
             "#fdca26"
            ],
            [
             1,
             "#f0f921"
            ]
           ],
           "sequentialminus": [
            [
             0,
             "#0d0887"
            ],
            [
             0.1111111111111111,
             "#46039f"
            ],
            [
             0.2222222222222222,
             "#7201a8"
            ],
            [
             0.3333333333333333,
             "#9c179e"
            ],
            [
             0.4444444444444444,
             "#bd3786"
            ],
            [
             0.5555555555555556,
             "#d8576b"
            ],
            [
             0.6666666666666666,
             "#ed7953"
            ],
            [
             0.7777777777777778,
             "#fb9f3a"
            ],
            [
             0.8888888888888888,
             "#fdca26"
            ],
            [
             1,
             "#f0f921"
            ]
           ]
          },
          "colorway": [
           "#636efa",
           "#EF553B",
           "#00cc96",
           "#ab63fa",
           "#FFA15A",
           "#19d3f3",
           "#FF6692",
           "#B6E880",
           "#FF97FF",
           "#FECB52"
          ],
          "font": {
           "color": "#2a3f5f"
          },
          "geo": {
           "bgcolor": "white",
           "lakecolor": "white",
           "landcolor": "#E5ECF6",
           "showlakes": true,
           "showland": true,
           "subunitcolor": "white"
          },
          "hoverlabel": {
           "align": "left"
          },
          "hovermode": "closest",
          "mapbox": {
           "style": "light"
          },
          "paper_bgcolor": "white",
          "plot_bgcolor": "#E5ECF6",
          "polar": {
           "angularaxis": {
            "gridcolor": "white",
            "linecolor": "white",
            "ticks": ""
           },
           "bgcolor": "#E5ECF6",
           "radialaxis": {
            "gridcolor": "white",
            "linecolor": "white",
            "ticks": ""
           }
          },
          "scene": {
           "xaxis": {
            "backgroundcolor": "#E5ECF6",
            "gridcolor": "white",
            "gridwidth": 2,
            "linecolor": "white",
            "showbackground": true,
            "ticks": "",
            "zerolinecolor": "white"
           },
           "yaxis": {
            "backgroundcolor": "#E5ECF6",
            "gridcolor": "white",
            "gridwidth": 2,
            "linecolor": "white",
            "showbackground": true,
            "ticks": "",
            "zerolinecolor": "white"
           },
           "zaxis": {
            "backgroundcolor": "#E5ECF6",
            "gridcolor": "white",
            "gridwidth": 2,
            "linecolor": "white",
            "showbackground": true,
            "ticks": "",
            "zerolinecolor": "white"
           }
          },
          "shapedefaults": {
           "line": {
            "color": "#2a3f5f"
           }
          },
          "ternary": {
           "aaxis": {
            "gridcolor": "white",
            "linecolor": "white",
            "ticks": ""
           },
           "baxis": {
            "gridcolor": "white",
            "linecolor": "white",
            "ticks": ""
           },
           "bgcolor": "#E5ECF6",
           "caxis": {
            "gridcolor": "white",
            "linecolor": "white",
            "ticks": ""
           }
          },
          "title": {
           "x": 0.05
          },
          "xaxis": {
           "automargin": true,
           "gridcolor": "white",
           "linecolor": "white",
           "ticks": "",
           "title": {
            "standoff": 15
           },
           "zerolinecolor": "white",
           "zerolinewidth": 2
          },
          "yaxis": {
           "automargin": true,
           "gridcolor": "white",
           "linecolor": "white",
           "ticks": "",
           "title": {
            "standoff": 15
           },
           "zerolinecolor": "white",
           "zerolinewidth": 2
          }
         }
        },
        "title": {
         "text": "Histogram of Age for label 1"
        }
       }
      },
      "text/html": [
       "<div>\n",
       "        \n",
       "        \n",
       "            <div id=\"7319ff76-d118-4c17-8fd3-9cb1819ade2a\" class=\"plotly-graph-div\" style=\"height:525px; width:100%;\"></div>\n",
       "            <script type=\"text/javascript\">\n",
       "                require([\"plotly\"], function(Plotly) {\n",
       "                    window.PLOTLYENV=window.PLOTLYENV || {};\n",
       "                    \n",
       "                if (document.getElementById(\"7319ff76-d118-4c17-8fd3-9cb1819ade2a\")) {\n",
       "                    Plotly.newPlot(\n",
       "                        '7319ff76-d118-4c17-8fd3-9cb1819ade2a',\n",
       "                        [{\"marker\": {\"color\": \"#CC0E1D\"}, \"type\": \"histogram\", \"x\": [20, 68, 32, 49, 78, 32, 33, 61, 45, 34, 37, 27, 52, 37, 27, 31, 56, 21, 25, 25, 34, 77, 52, 55, 28, 56, 75, 35, 29, 42, 29, 24, 34, 50, 49, 45, 38, 32, 49, 25, 35, 38, 35, 35, 32, 30, 55, 48, 60, 37, 59, 28, 54, 75, 49, 30, 35, 34, 32, 61, 77, 53, 46, 44, 19, 30, 52, 36, 47, 43, 41, 28, 32, 41, 35, 30, 58, 27, 39, 46, 28, 38, 28, 32, 59, 35, 50, 36, 28, 55, 48, 29, 34, 43, 47, 39, 55, 46, 41, 31, 26, 60, 27, 28, 34, 34, 40, 41, 33, 58, 34, 43, 59, 37, 45, 49, 53, 42, 45, 56, 55, 34, 63, 48, 36, 54, 38, 33, 59, 37, 37, 57, 60, 44, 32, 33, 28, 37, 31, 34, 54, 61, 36, 75, 60, 54, 27, 41, 46, 31, 32, 59, 42, 80, 49, 45, 32, 27, 47, 28, 83, 46, 38, 35, 38, 36, 59, 64, 77, 56, 32, 31, 45, 36, 31, 53, 59, 29, 46, 47, 42, 33, 54, 28, 42, 49, 46, 39, 53, 52, 47, 32, 37, 43, 31, 35, 25, 32, 46, 48, 34, 53, 40, 49, 49, 29, 38, 35, 57, 51, 31, 39, 54, 51, 34, 47, 34, 26, 39, 42, 40, 28, 46, 48, 30, 29, 53, 71, 22, 27, 27, 42, 41, 25, 44, 37, 44, 74, 40, 34, 59, 41, 30, 59, 31, 48, 47, 33, 30, 38, 33, 62, 48, 41, 35, 47, 37, 62, 33, 40, 28, 43, 23, 29, 34, 24, 44, 33, 24, 37, 41, 35, 32, 27, 30, 37, 43, 26, 35, 41, 44, 42, 73, 51, 35, 36, 23, 22, 53, 35, 50, 37, 53, 44, 31, 33, 34, 61, 52, 49, 50, 36, 45, 36, 42, 27, 31, 29, 45, 55, 25, 41, 29, 32, 53, 47, 40, 61, 35, 19, 46, 38, 37, 39, 49, 43, 44, 38, 32, 51, 32, 35, 32, 34, 56, 41, 49, 61, 45, 36, 22, 71, 31, 56, 46, 55, 34, 38, 60, 51, 49, 40, 39, 50, 73, 34, 43, 67, 33, 31, 30, 47, 48, 32, 27, 24, 28, 34, 63, 79, 72, 55, 41, 52, 59, 54, 36, 36, 28, 60, 64, 40, 87, 33, 25, 35, 53, 33, 53, 79, 27, 38, 46, 33, 39, 55, 28, 71, 47, 58, 32, 43, 33, 30, 58, 68, 49, 61, 43, 38, 52, 29, 29, 26, 32, 36, 30, 30, 80, 31, 32, 43, 34, 27, 36, 42, 36, 55, 61, 35, 26, 74, 47, 66, 33, 53, 46, 29, 50, 39, 54, 26, 44, 47, 31, 36, 42, 30, 36, 51, 47, 25, 34, 49, 44, 34, 66, 37, 38, 46, 52, 53, 28, 32, 30, 69, 84, 25, 47, 50, 30, 55, 53, 57, 32, 32, 48, 34, 27, 30, 37, 38, 33, 69, 65, 62, 39, 38, 31, 33, 36, 32, 34, 59, 25, 53, 52, 34, 59, 49, 73, 50, 29, 63, 59, 83, 50, 41, 45, 32, 45, 40, 49, 29, 38, 38, 26, 60, 42, 32, 46]}],\n",
       "                        {\"template\": {\"data\": {\"bar\": [{\"error_x\": {\"color\": \"#2a3f5f\"}, \"error_y\": {\"color\": \"#2a3f5f\"}, \"marker\": {\"line\": {\"color\": \"#E5ECF6\", \"width\": 0.5}}, \"type\": \"bar\"}], \"barpolar\": [{\"marker\": {\"line\": {\"color\": \"#E5ECF6\", \"width\": 0.5}}, \"type\": \"barpolar\"}], \"carpet\": [{\"aaxis\": {\"endlinecolor\": \"#2a3f5f\", \"gridcolor\": \"white\", \"linecolor\": \"white\", \"minorgridcolor\": \"white\", \"startlinecolor\": \"#2a3f5f\"}, \"baxis\": {\"endlinecolor\": \"#2a3f5f\", \"gridcolor\": \"white\", \"linecolor\": \"white\", \"minorgridcolor\": \"white\", \"startlinecolor\": \"#2a3f5f\"}, \"type\": \"carpet\"}], \"choropleth\": [{\"colorbar\": {\"outlinewidth\": 0, \"ticks\": \"\"}, \"type\": \"choropleth\"}], \"contour\": [{\"colorbar\": {\"outlinewidth\": 0, \"ticks\": \"\"}, \"colorscale\": [[0.0, \"#0d0887\"], [0.1111111111111111, \"#46039f\"], [0.2222222222222222, \"#7201a8\"], [0.3333333333333333, \"#9c179e\"], [0.4444444444444444, \"#bd3786\"], [0.5555555555555556, \"#d8576b\"], [0.6666666666666666, \"#ed7953\"], [0.7777777777777778, \"#fb9f3a\"], [0.8888888888888888, \"#fdca26\"], [1.0, \"#f0f921\"]], \"type\": \"contour\"}], \"contourcarpet\": [{\"colorbar\": {\"outlinewidth\": 0, \"ticks\": \"\"}, \"type\": \"contourcarpet\"}], \"heatmap\": [{\"colorbar\": {\"outlinewidth\": 0, \"ticks\": \"\"}, \"colorscale\": [[0.0, \"#0d0887\"], [0.1111111111111111, \"#46039f\"], [0.2222222222222222, \"#7201a8\"], [0.3333333333333333, \"#9c179e\"], [0.4444444444444444, \"#bd3786\"], [0.5555555555555556, \"#d8576b\"], [0.6666666666666666, \"#ed7953\"], [0.7777777777777778, \"#fb9f3a\"], [0.8888888888888888, \"#fdca26\"], [1.0, \"#f0f921\"]], \"type\": \"heatmap\"}], \"heatmapgl\": [{\"colorbar\": {\"outlinewidth\": 0, \"ticks\": \"\"}, \"colorscale\": [[0.0, \"#0d0887\"], [0.1111111111111111, \"#46039f\"], [0.2222222222222222, \"#7201a8\"], [0.3333333333333333, \"#9c179e\"], [0.4444444444444444, \"#bd3786\"], [0.5555555555555556, \"#d8576b\"], [0.6666666666666666, \"#ed7953\"], [0.7777777777777778, \"#fb9f3a\"], [0.8888888888888888, \"#fdca26\"], [1.0, \"#f0f921\"]], \"type\": \"heatmapgl\"}], \"histogram\": [{\"marker\": {\"colorbar\": {\"outlinewidth\": 0, \"ticks\": \"\"}}, \"type\": \"histogram\"}], \"histogram2d\": [{\"colorbar\": {\"outlinewidth\": 0, \"ticks\": \"\"}, \"colorscale\": [[0.0, \"#0d0887\"], [0.1111111111111111, \"#46039f\"], [0.2222222222222222, \"#7201a8\"], [0.3333333333333333, \"#9c179e\"], [0.4444444444444444, \"#bd3786\"], [0.5555555555555556, \"#d8576b\"], [0.6666666666666666, \"#ed7953\"], [0.7777777777777778, \"#fb9f3a\"], [0.8888888888888888, \"#fdca26\"], [1.0, \"#f0f921\"]], \"type\": \"histogram2d\"}], \"histogram2dcontour\": [{\"colorbar\": {\"outlinewidth\": 0, \"ticks\": \"\"}, \"colorscale\": [[0.0, \"#0d0887\"], [0.1111111111111111, \"#46039f\"], [0.2222222222222222, \"#7201a8\"], [0.3333333333333333, \"#9c179e\"], [0.4444444444444444, \"#bd3786\"], [0.5555555555555556, \"#d8576b\"], [0.6666666666666666, \"#ed7953\"], [0.7777777777777778, \"#fb9f3a\"], [0.8888888888888888, \"#fdca26\"], [1.0, \"#f0f921\"]], \"type\": \"histogram2dcontour\"}], \"mesh3d\": [{\"colorbar\": {\"outlinewidth\": 0, \"ticks\": \"\"}, \"type\": \"mesh3d\"}], \"parcoords\": [{\"line\": {\"colorbar\": {\"outlinewidth\": 0, \"ticks\": \"\"}}, \"type\": \"parcoords\"}], \"pie\": [{\"automargin\": true, \"type\": \"pie\"}], \"scatter\": [{\"marker\": {\"colorbar\": {\"outlinewidth\": 0, \"ticks\": \"\"}}, \"type\": \"scatter\"}], \"scatter3d\": [{\"line\": {\"colorbar\": {\"outlinewidth\": 0, \"ticks\": \"\"}}, \"marker\": {\"colorbar\": {\"outlinewidth\": 0, \"ticks\": \"\"}}, \"type\": \"scatter3d\"}], \"scattercarpet\": [{\"marker\": {\"colorbar\": {\"outlinewidth\": 0, \"ticks\": \"\"}}, \"type\": \"scattercarpet\"}], \"scattergeo\": [{\"marker\": {\"colorbar\": {\"outlinewidth\": 0, \"ticks\": \"\"}}, \"type\": \"scattergeo\"}], \"scattergl\": [{\"marker\": {\"colorbar\": {\"outlinewidth\": 0, \"ticks\": \"\"}}, \"type\": \"scattergl\"}], \"scattermapbox\": [{\"marker\": {\"colorbar\": {\"outlinewidth\": 0, \"ticks\": \"\"}}, \"type\": \"scattermapbox\"}], \"scatterpolar\": [{\"marker\": {\"colorbar\": {\"outlinewidth\": 0, \"ticks\": \"\"}}, \"type\": \"scatterpolar\"}], \"scatterpolargl\": [{\"marker\": {\"colorbar\": {\"outlinewidth\": 0, \"ticks\": \"\"}}, \"type\": \"scatterpolargl\"}], \"scatterternary\": [{\"marker\": {\"colorbar\": {\"outlinewidth\": 0, \"ticks\": \"\"}}, \"type\": \"scatterternary\"}], \"surface\": [{\"colorbar\": {\"outlinewidth\": 0, \"ticks\": \"\"}, \"colorscale\": [[0.0, \"#0d0887\"], [0.1111111111111111, \"#46039f\"], [0.2222222222222222, \"#7201a8\"], [0.3333333333333333, \"#9c179e\"], [0.4444444444444444, \"#bd3786\"], [0.5555555555555556, \"#d8576b\"], [0.6666666666666666, \"#ed7953\"], [0.7777777777777778, \"#fb9f3a\"], [0.8888888888888888, \"#fdca26\"], [1.0, \"#f0f921\"]], \"type\": \"surface\"}], \"table\": [{\"cells\": {\"fill\": {\"color\": \"#EBF0F8\"}, \"line\": {\"color\": \"white\"}}, \"header\": {\"fill\": {\"color\": \"#C8D4E3\"}, \"line\": {\"color\": \"white\"}}, \"type\": \"table\"}]}, \"layout\": {\"annotationdefaults\": {\"arrowcolor\": \"#2a3f5f\", \"arrowhead\": 0, \"arrowwidth\": 1}, \"coloraxis\": {\"colorbar\": {\"outlinewidth\": 0, \"ticks\": \"\"}}, \"colorscale\": {\"diverging\": [[0, \"#8e0152\"], [0.1, \"#c51b7d\"], [0.2, \"#de77ae\"], [0.3, \"#f1b6da\"], [0.4, \"#fde0ef\"], [0.5, \"#f7f7f7\"], [0.6, \"#e6f5d0\"], [0.7, \"#b8e186\"], [0.8, \"#7fbc41\"], [0.9, \"#4d9221\"], [1, \"#276419\"]], \"sequential\": [[0.0, \"#0d0887\"], [0.1111111111111111, \"#46039f\"], [0.2222222222222222, \"#7201a8\"], [0.3333333333333333, \"#9c179e\"], [0.4444444444444444, \"#bd3786\"], [0.5555555555555556, \"#d8576b\"], [0.6666666666666666, \"#ed7953\"], [0.7777777777777778, \"#fb9f3a\"], [0.8888888888888888, \"#fdca26\"], [1.0, \"#f0f921\"]], \"sequentialminus\": [[0.0, \"#0d0887\"], [0.1111111111111111, \"#46039f\"], [0.2222222222222222, \"#7201a8\"], [0.3333333333333333, \"#9c179e\"], [0.4444444444444444, \"#bd3786\"], [0.5555555555555556, \"#d8576b\"], [0.6666666666666666, \"#ed7953\"], [0.7777777777777778, \"#fb9f3a\"], [0.8888888888888888, \"#fdca26\"], [1.0, \"#f0f921\"]]}, \"colorway\": [\"#636efa\", \"#EF553B\", \"#00cc96\", \"#ab63fa\", \"#FFA15A\", \"#19d3f3\", \"#FF6692\", \"#B6E880\", \"#FF97FF\", \"#FECB52\"], \"font\": {\"color\": \"#2a3f5f\"}, \"geo\": {\"bgcolor\": \"white\", \"lakecolor\": \"white\", \"landcolor\": \"#E5ECF6\", \"showlakes\": true, \"showland\": true, \"subunitcolor\": \"white\"}, \"hoverlabel\": {\"align\": \"left\"}, \"hovermode\": \"closest\", \"mapbox\": {\"style\": \"light\"}, \"paper_bgcolor\": \"white\", \"plot_bgcolor\": \"#E5ECF6\", \"polar\": {\"angularaxis\": {\"gridcolor\": \"white\", \"linecolor\": \"white\", \"ticks\": \"\"}, \"bgcolor\": \"#E5ECF6\", \"radialaxis\": {\"gridcolor\": \"white\", \"linecolor\": \"white\", \"ticks\": \"\"}}, \"scene\": {\"xaxis\": {\"backgroundcolor\": \"#E5ECF6\", \"gridcolor\": \"white\", \"gridwidth\": 2, \"linecolor\": \"white\", \"showbackground\": true, \"ticks\": \"\", \"zerolinecolor\": \"white\"}, \"yaxis\": {\"backgroundcolor\": \"#E5ECF6\", \"gridcolor\": \"white\", \"gridwidth\": 2, \"linecolor\": \"white\", \"showbackground\": true, \"ticks\": \"\", \"zerolinecolor\": \"white\"}, \"zaxis\": {\"backgroundcolor\": \"#E5ECF6\", \"gridcolor\": \"white\", \"gridwidth\": 2, \"linecolor\": \"white\", \"showbackground\": true, \"ticks\": \"\", \"zerolinecolor\": \"white\"}}, \"shapedefaults\": {\"line\": {\"color\": \"#2a3f5f\"}}, \"ternary\": {\"aaxis\": {\"gridcolor\": \"white\", \"linecolor\": \"white\", \"ticks\": \"\"}, \"baxis\": {\"gridcolor\": \"white\", \"linecolor\": \"white\", \"ticks\": \"\"}, \"bgcolor\": \"#E5ECF6\", \"caxis\": {\"gridcolor\": \"white\", \"linecolor\": \"white\", \"ticks\": \"\"}}, \"title\": {\"x\": 0.05}, \"xaxis\": {\"automargin\": true, \"gridcolor\": \"white\", \"linecolor\": \"white\", \"ticks\": \"\", \"title\": {\"standoff\": 15}, \"zerolinecolor\": \"white\", \"zerolinewidth\": 2}, \"yaxis\": {\"automargin\": true, \"gridcolor\": \"white\", \"linecolor\": \"white\", \"ticks\": \"\", \"title\": {\"standoff\": 15}, \"zerolinecolor\": \"white\", \"zerolinewidth\": 2}}}, \"title\": {\"text\": \"Histogram of Age for label 1\"}},\n",
       "                        {\"responsive\": true}\n",
       "                    ).then(function(){\n",
       "                            \n",
       "var gd = document.getElementById('7319ff76-d118-4c17-8fd3-9cb1819ade2a');\n",
       "var x = new MutationObserver(function (mutations, observer) {{\n",
       "        var display = window.getComputedStyle(gd).display;\n",
       "        if (!display || display === 'none') {{\n",
       "            console.log([gd, 'removed!']);\n",
       "            Plotly.purge(gd);\n",
       "            observer.disconnect();\n",
       "        }}\n",
       "}});\n",
       "\n",
       "// Listen for the removal of the full notebook cells\n",
       "var notebookContainer = gd.closest('#notebook-container');\n",
       "if (notebookContainer) {{\n",
       "    x.observe(notebookContainer, {childList: true});\n",
       "}}\n",
       "\n",
       "// Listen for the clearing of the current output cell\n",
       "var outputEl = gd.closest('.output');\n",
       "if (outputEl) {{\n",
       "    x.observe(outputEl, {childList: true});\n",
       "}}\n",
       "\n",
       "                        })\n",
       "                };\n",
       "                });\n",
       "            </script>\n",
       "        </div>"
      ]
     },
     "metadata": {},
     "output_type": "display_data"
    }
   ],
   "source": [
    "data = [go.Histogram(x=bank_data_L1.age, marker=dict(color='#CC0E1D' ))]\n",
    "layout = go.Layout(title = \"Histogram of Age for label 1\")\n",
    "fig = go.Figure(data= data, layout=layout)\n",
    "iplot(fig)"
   ]
  },
  {
   "cell_type": "code",
   "execution_count": 35,
   "metadata": {},
   "outputs": [
    {
     "data": {
      "application/vnd.plotly.v1+json": {
       "config": {
        "linkText": "Export to plot.ly",
        "plotlyServerURL": "https://plot.ly",
        "showLink": false
       },
       "data": [
        {
         "name": "Age",
         "text": [
          0.05,
          0.05,
          0.04,
          0.04,
          0.04,
          0.04,
          0.04,
          0.04,
          0.03,
          0.03,
          0.03,
          0.03,
          0.03,
          0.03,
          0.03,
          0.03,
          0.02,
          0.02,
          0.02,
          0.02,
          0.02,
          0.02,
          0.02,
          0.02,
          0.02,
          0.02,
          0.02,
          0.02,
          0.02,
          0.02,
          0.02,
          0.02,
          0.02,
          0.02,
          0.01,
          0.01,
          0.01,
          0,
          0,
          0,
          0,
          0,
          0,
          0,
          0,
          0,
          0,
          0,
          0,
          0,
          0,
          0,
          0,
          0,
          0,
          0,
          0,
          0,
          0,
          0,
          0,
          0,
          0,
          0,
          0,
          0,
          0
         ],
         "textposition": "inside",
         "type": "bar",
         "x": [
          34,
          32,
          31,
          36,
          33,
          35,
          37,
          38,
          30,
          40,
          42,
          41,
          39,
          46,
          43,
          48,
          45,
          49,
          47,
          44,
          28,
          50,
          29,
          27,
          53,
          57,
          51,
          55,
          52,
          58,
          26,
          56,
          54,
          59,
          60,
          25,
          24,
          23,
          61,
          22,
          66,
          63,
          70,
          21,
          64,
          62,
          65,
          77,
          69,
          71,
          80,
          75,
          73,
          67,
          19,
          83,
          72,
          79,
          20,
          74,
          78,
          68,
          76,
          84,
          81,
          86,
          87
         ],
         "y": [
          0.05,
          0.05,
          0.04,
          0.04,
          0.04,
          0.04,
          0.04,
          0.04,
          0.03,
          0.03,
          0.03,
          0.03,
          0.03,
          0.03,
          0.03,
          0.03,
          0.02,
          0.02,
          0.02,
          0.02,
          0.02,
          0.02,
          0.02,
          0.02,
          0.02,
          0.02,
          0.02,
          0.02,
          0.02,
          0.02,
          0.02,
          0.02,
          0.02,
          0.02,
          0.01,
          0.01,
          0.01,
          0,
          0,
          0,
          0,
          0,
          0,
          0,
          0,
          0,
          0,
          0,
          0,
          0,
          0,
          0,
          0,
          0,
          0,
          0,
          0,
          0,
          0,
          0,
          0,
          0,
          0,
          0,
          0,
          0,
          0
         ]
        }
       ],
       "layout": {
        "autosize": false,
        "height": 500,
        "template": {
         "data": {
          "bar": [
           {
            "error_x": {
             "color": "#2a3f5f"
            },
            "error_y": {
             "color": "#2a3f5f"
            },
            "marker": {
             "line": {
              "color": "#E5ECF6",
              "width": 0.5
             }
            },
            "type": "bar"
           }
          ],
          "barpolar": [
           {
            "marker": {
             "line": {
              "color": "#E5ECF6",
              "width": 0.5
             }
            },
            "type": "barpolar"
           }
          ],
          "carpet": [
           {
            "aaxis": {
             "endlinecolor": "#2a3f5f",
             "gridcolor": "white",
             "linecolor": "white",
             "minorgridcolor": "white",
             "startlinecolor": "#2a3f5f"
            },
            "baxis": {
             "endlinecolor": "#2a3f5f",
             "gridcolor": "white",
             "linecolor": "white",
             "minorgridcolor": "white",
             "startlinecolor": "#2a3f5f"
            },
            "type": "carpet"
           }
          ],
          "choropleth": [
           {
            "colorbar": {
             "outlinewidth": 0,
             "ticks": ""
            },
            "type": "choropleth"
           }
          ],
          "contour": [
           {
            "colorbar": {
             "outlinewidth": 0,
             "ticks": ""
            },
            "colorscale": [
             [
              0,
              "#0d0887"
             ],
             [
              0.1111111111111111,
              "#46039f"
             ],
             [
              0.2222222222222222,
              "#7201a8"
             ],
             [
              0.3333333333333333,
              "#9c179e"
             ],
             [
              0.4444444444444444,
              "#bd3786"
             ],
             [
              0.5555555555555556,
              "#d8576b"
             ],
             [
              0.6666666666666666,
              "#ed7953"
             ],
             [
              0.7777777777777778,
              "#fb9f3a"
             ],
             [
              0.8888888888888888,
              "#fdca26"
             ],
             [
              1,
              "#f0f921"
             ]
            ],
            "type": "contour"
           }
          ],
          "contourcarpet": [
           {
            "colorbar": {
             "outlinewidth": 0,
             "ticks": ""
            },
            "type": "contourcarpet"
           }
          ],
          "heatmap": [
           {
            "colorbar": {
             "outlinewidth": 0,
             "ticks": ""
            },
            "colorscale": [
             [
              0,
              "#0d0887"
             ],
             [
              0.1111111111111111,
              "#46039f"
             ],
             [
              0.2222222222222222,
              "#7201a8"
             ],
             [
              0.3333333333333333,
              "#9c179e"
             ],
             [
              0.4444444444444444,
              "#bd3786"
             ],
             [
              0.5555555555555556,
              "#d8576b"
             ],
             [
              0.6666666666666666,
              "#ed7953"
             ],
             [
              0.7777777777777778,
              "#fb9f3a"
             ],
             [
              0.8888888888888888,
              "#fdca26"
             ],
             [
              1,
              "#f0f921"
             ]
            ],
            "type": "heatmap"
           }
          ],
          "heatmapgl": [
           {
            "colorbar": {
             "outlinewidth": 0,
             "ticks": ""
            },
            "colorscale": [
             [
              0,
              "#0d0887"
             ],
             [
              0.1111111111111111,
              "#46039f"
             ],
             [
              0.2222222222222222,
              "#7201a8"
             ],
             [
              0.3333333333333333,
              "#9c179e"
             ],
             [
              0.4444444444444444,
              "#bd3786"
             ],
             [
              0.5555555555555556,
              "#d8576b"
             ],
             [
              0.6666666666666666,
              "#ed7953"
             ],
             [
              0.7777777777777778,
              "#fb9f3a"
             ],
             [
              0.8888888888888888,
              "#fdca26"
             ],
             [
              1,
              "#f0f921"
             ]
            ],
            "type": "heatmapgl"
           }
          ],
          "histogram": [
           {
            "marker": {
             "colorbar": {
              "outlinewidth": 0,
              "ticks": ""
             }
            },
            "type": "histogram"
           }
          ],
          "histogram2d": [
           {
            "colorbar": {
             "outlinewidth": 0,
             "ticks": ""
            },
            "colorscale": [
             [
              0,
              "#0d0887"
             ],
             [
              0.1111111111111111,
              "#46039f"
             ],
             [
              0.2222222222222222,
              "#7201a8"
             ],
             [
              0.3333333333333333,
              "#9c179e"
             ],
             [
              0.4444444444444444,
              "#bd3786"
             ],
             [
              0.5555555555555556,
              "#d8576b"
             ],
             [
              0.6666666666666666,
              "#ed7953"
             ],
             [
              0.7777777777777778,
              "#fb9f3a"
             ],
             [
              0.8888888888888888,
              "#fdca26"
             ],
             [
              1,
              "#f0f921"
             ]
            ],
            "type": "histogram2d"
           }
          ],
          "histogram2dcontour": [
           {
            "colorbar": {
             "outlinewidth": 0,
             "ticks": ""
            },
            "colorscale": [
             [
              0,
              "#0d0887"
             ],
             [
              0.1111111111111111,
              "#46039f"
             ],
             [
              0.2222222222222222,
              "#7201a8"
             ],
             [
              0.3333333333333333,
              "#9c179e"
             ],
             [
              0.4444444444444444,
              "#bd3786"
             ],
             [
              0.5555555555555556,
              "#d8576b"
             ],
             [
              0.6666666666666666,
              "#ed7953"
             ],
             [
              0.7777777777777778,
              "#fb9f3a"
             ],
             [
              0.8888888888888888,
              "#fdca26"
             ],
             [
              1,
              "#f0f921"
             ]
            ],
            "type": "histogram2dcontour"
           }
          ],
          "mesh3d": [
           {
            "colorbar": {
             "outlinewidth": 0,
             "ticks": ""
            },
            "type": "mesh3d"
           }
          ],
          "parcoords": [
           {
            "line": {
             "colorbar": {
              "outlinewidth": 0,
              "ticks": ""
             }
            },
            "type": "parcoords"
           }
          ],
          "pie": [
           {
            "automargin": true,
            "type": "pie"
           }
          ],
          "scatter": [
           {
            "marker": {
             "colorbar": {
              "outlinewidth": 0,
              "ticks": ""
             }
            },
            "type": "scatter"
           }
          ],
          "scatter3d": [
           {
            "line": {
             "colorbar": {
              "outlinewidth": 0,
              "ticks": ""
             }
            },
            "marker": {
             "colorbar": {
              "outlinewidth": 0,
              "ticks": ""
             }
            },
            "type": "scatter3d"
           }
          ],
          "scattercarpet": [
           {
            "marker": {
             "colorbar": {
              "outlinewidth": 0,
              "ticks": ""
             }
            },
            "type": "scattercarpet"
           }
          ],
          "scattergeo": [
           {
            "marker": {
             "colorbar": {
              "outlinewidth": 0,
              "ticks": ""
             }
            },
            "type": "scattergeo"
           }
          ],
          "scattergl": [
           {
            "marker": {
             "colorbar": {
              "outlinewidth": 0,
              "ticks": ""
             }
            },
            "type": "scattergl"
           }
          ],
          "scattermapbox": [
           {
            "marker": {
             "colorbar": {
              "outlinewidth": 0,
              "ticks": ""
             }
            },
            "type": "scattermapbox"
           }
          ],
          "scatterpolar": [
           {
            "marker": {
             "colorbar": {
              "outlinewidth": 0,
              "ticks": ""
             }
            },
            "type": "scatterpolar"
           }
          ],
          "scatterpolargl": [
           {
            "marker": {
             "colorbar": {
              "outlinewidth": 0,
              "ticks": ""
             }
            },
            "type": "scatterpolargl"
           }
          ],
          "scatterternary": [
           {
            "marker": {
             "colorbar": {
              "outlinewidth": 0,
              "ticks": ""
             }
            },
            "type": "scatterternary"
           }
          ],
          "surface": [
           {
            "colorbar": {
             "outlinewidth": 0,
             "ticks": ""
            },
            "colorscale": [
             [
              0,
              "#0d0887"
             ],
             [
              0.1111111111111111,
              "#46039f"
             ],
             [
              0.2222222222222222,
              "#7201a8"
             ],
             [
              0.3333333333333333,
              "#9c179e"
             ],
             [
              0.4444444444444444,
              "#bd3786"
             ],
             [
              0.5555555555555556,
              "#d8576b"
             ],
             [
              0.6666666666666666,
              "#ed7953"
             ],
             [
              0.7777777777777778,
              "#fb9f3a"
             ],
             [
              0.8888888888888888,
              "#fdca26"
             ],
             [
              1,
              "#f0f921"
             ]
            ],
            "type": "surface"
           }
          ],
          "table": [
           {
            "cells": {
             "fill": {
              "color": "#EBF0F8"
             },
             "line": {
              "color": "white"
             }
            },
            "header": {
             "fill": {
              "color": "#C8D4E3"
             },
             "line": {
              "color": "white"
             }
            },
            "type": "table"
           }
          ]
         },
         "layout": {
          "annotationdefaults": {
           "arrowcolor": "#2a3f5f",
           "arrowhead": 0,
           "arrowwidth": 1
          },
          "coloraxis": {
           "colorbar": {
            "outlinewidth": 0,
            "ticks": ""
           }
          },
          "colorscale": {
           "diverging": [
            [
             0,
             "#8e0152"
            ],
            [
             0.1,
             "#c51b7d"
            ],
            [
             0.2,
             "#de77ae"
            ],
            [
             0.3,
             "#f1b6da"
            ],
            [
             0.4,
             "#fde0ef"
            ],
            [
             0.5,
             "#f7f7f7"
            ],
            [
             0.6,
             "#e6f5d0"
            ],
            [
             0.7,
             "#b8e186"
            ],
            [
             0.8,
             "#7fbc41"
            ],
            [
             0.9,
             "#4d9221"
            ],
            [
             1,
             "#276419"
            ]
           ],
           "sequential": [
            [
             0,
             "#0d0887"
            ],
            [
             0.1111111111111111,
             "#46039f"
            ],
            [
             0.2222222222222222,
             "#7201a8"
            ],
            [
             0.3333333333333333,
             "#9c179e"
            ],
            [
             0.4444444444444444,
             "#bd3786"
            ],
            [
             0.5555555555555556,
             "#d8576b"
            ],
            [
             0.6666666666666666,
             "#ed7953"
            ],
            [
             0.7777777777777778,
             "#fb9f3a"
            ],
            [
             0.8888888888888888,
             "#fdca26"
            ],
            [
             1,
             "#f0f921"
            ]
           ],
           "sequentialminus": [
            [
             0,
             "#0d0887"
            ],
            [
             0.1111111111111111,
             "#46039f"
            ],
            [
             0.2222222222222222,
             "#7201a8"
            ],
            [
             0.3333333333333333,
             "#9c179e"
            ],
            [
             0.4444444444444444,
             "#bd3786"
            ],
            [
             0.5555555555555556,
             "#d8576b"
            ],
            [
             0.6666666666666666,
             "#ed7953"
            ],
            [
             0.7777777777777778,
             "#fb9f3a"
            ],
            [
             0.8888888888888888,
             "#fdca26"
            ],
            [
             1,
             "#f0f921"
            ]
           ]
          },
          "colorway": [
           "#636efa",
           "#EF553B",
           "#00cc96",
           "#ab63fa",
           "#FFA15A",
           "#19d3f3",
           "#FF6692",
           "#B6E880",
           "#FF97FF",
           "#FECB52"
          ],
          "font": {
           "color": "#2a3f5f"
          },
          "geo": {
           "bgcolor": "white",
           "lakecolor": "white",
           "landcolor": "#E5ECF6",
           "showlakes": true,
           "showland": true,
           "subunitcolor": "white"
          },
          "hoverlabel": {
           "align": "left"
          },
          "hovermode": "closest",
          "mapbox": {
           "style": "light"
          },
          "paper_bgcolor": "white",
          "plot_bgcolor": "#E5ECF6",
          "polar": {
           "angularaxis": {
            "gridcolor": "white",
            "linecolor": "white",
            "ticks": ""
           },
           "bgcolor": "#E5ECF6",
           "radialaxis": {
            "gridcolor": "white",
            "linecolor": "white",
            "ticks": ""
           }
          },
          "scene": {
           "xaxis": {
            "backgroundcolor": "#E5ECF6",
            "gridcolor": "white",
            "gridwidth": 2,
            "linecolor": "white",
            "showbackground": true,
            "ticks": "",
            "zerolinecolor": "white"
           },
           "yaxis": {
            "backgroundcolor": "#E5ECF6",
            "gridcolor": "white",
            "gridwidth": 2,
            "linecolor": "white",
            "showbackground": true,
            "ticks": "",
            "zerolinecolor": "white"
           },
           "zaxis": {
            "backgroundcolor": "#E5ECF6",
            "gridcolor": "white",
            "gridwidth": 2,
            "linecolor": "white",
            "showbackground": true,
            "ticks": "",
            "zerolinecolor": "white"
           }
          },
          "shapedefaults": {
           "line": {
            "color": "#2a3f5f"
           }
          },
          "ternary": {
           "aaxis": {
            "gridcolor": "white",
            "linecolor": "white",
            "ticks": ""
           },
           "baxis": {
            "gridcolor": "white",
            "linecolor": "white",
            "ticks": ""
           },
           "bgcolor": "#E5ECF6",
           "caxis": {
            "gridcolor": "white",
            "linecolor": "white",
            "ticks": ""
           }
          },
          "title": {
           "x": 0.05
          },
          "xaxis": {
           "automargin": true,
           "gridcolor": "white",
           "linecolor": "white",
           "ticks": "",
           "title": {
            "standoff": 15
           },
           "zerolinecolor": "white",
           "zerolinewidth": 2
          },
          "yaxis": {
           "automargin": true,
           "gridcolor": "white",
           "linecolor": "white",
           "ticks": "",
           "title": {
            "standoff": 15
           },
           "zerolinecolor": "white",
           "zerolinewidth": 2
          }
         }
        },
        "title": {
         "text": "Age Distribution"
        },
        "width": 800
       }
      },
      "text/html": [
       "<div>\n",
       "        \n",
       "        \n",
       "            <div id=\"f0fe8cd4-a11f-427e-a62c-5dfd6ac0a70b\" class=\"plotly-graph-div\" style=\"height:500px; width:800px;\"></div>\n",
       "            <script type=\"text/javascript\">\n",
       "                require([\"plotly\"], function(Plotly) {\n",
       "                    window.PLOTLYENV=window.PLOTLYENV || {};\n",
       "                    \n",
       "                if (document.getElementById(\"f0fe8cd4-a11f-427e-a62c-5dfd6ac0a70b\")) {\n",
       "                    Plotly.newPlot(\n",
       "                        'f0fe8cd4-a11f-427e-a62c-5dfd6ac0a70b',\n",
       "                        [{\"name\": \"Age\", \"text\": [0.05, 0.05, 0.04, 0.04, 0.04, 0.04, 0.04, 0.04, 0.03, 0.03, 0.03, 0.03, 0.03, 0.03, 0.03, 0.03, 0.02, 0.02, 0.02, 0.02, 0.02, 0.02, 0.02, 0.02, 0.02, 0.02, 0.02, 0.02, 0.02, 0.02, 0.02, 0.02, 0.02, 0.02, 0.01, 0.01, 0.01, 0.0, 0.0, 0.0, 0.0, 0.0, 0.0, 0.0, 0.0, 0.0, 0.0, 0.0, 0.0, 0.0, 0.0, 0.0, 0.0, 0.0, 0.0, 0.0, 0.0, 0.0, 0.0, 0.0, 0.0, 0.0, 0.0, 0.0, 0.0, 0.0, 0.0], \"textposition\": \"inside\", \"type\": \"bar\", \"x\": [34, 32, 31, 36, 33, 35, 37, 38, 30, 40, 42, 41, 39, 46, 43, 48, 45, 49, 47, 44, 28, 50, 29, 27, 53, 57, 51, 55, 52, 58, 26, 56, 54, 59, 60, 25, 24, 23, 61, 22, 66, 63, 70, 21, 64, 62, 65, 77, 69, 71, 80, 75, 73, 67, 19, 83, 72, 79, 20, 74, 78, 68, 76, 84, 81, 86, 87], \"y\": [0.05, 0.05, 0.04, 0.04, 0.04, 0.04, 0.04, 0.04, 0.03, 0.03, 0.03, 0.03, 0.03, 0.03, 0.03, 0.03, 0.02, 0.02, 0.02, 0.02, 0.02, 0.02, 0.02, 0.02, 0.02, 0.02, 0.02, 0.02, 0.02, 0.02, 0.02, 0.02, 0.02, 0.02, 0.01, 0.01, 0.01, 0.0, 0.0, 0.0, 0.0, 0.0, 0.0, 0.0, 0.0, 0.0, 0.0, 0.0, 0.0, 0.0, 0.0, 0.0, 0.0, 0.0, 0.0, 0.0, 0.0, 0.0, 0.0, 0.0, 0.0, 0.0, 0.0, 0.0, 0.0, 0.0, 0.0]}],\n",
       "                        {\"autosize\": false, \"height\": 500, \"template\": {\"data\": {\"bar\": [{\"error_x\": {\"color\": \"#2a3f5f\"}, \"error_y\": {\"color\": \"#2a3f5f\"}, \"marker\": {\"line\": {\"color\": \"#E5ECF6\", \"width\": 0.5}}, \"type\": \"bar\"}], \"barpolar\": [{\"marker\": {\"line\": {\"color\": \"#E5ECF6\", \"width\": 0.5}}, \"type\": \"barpolar\"}], \"carpet\": [{\"aaxis\": {\"endlinecolor\": \"#2a3f5f\", \"gridcolor\": \"white\", \"linecolor\": \"white\", \"minorgridcolor\": \"white\", \"startlinecolor\": \"#2a3f5f\"}, \"baxis\": {\"endlinecolor\": \"#2a3f5f\", \"gridcolor\": \"white\", \"linecolor\": \"white\", \"minorgridcolor\": \"white\", \"startlinecolor\": \"#2a3f5f\"}, \"type\": \"carpet\"}], \"choropleth\": [{\"colorbar\": {\"outlinewidth\": 0, \"ticks\": \"\"}, \"type\": \"choropleth\"}], \"contour\": [{\"colorbar\": {\"outlinewidth\": 0, \"ticks\": \"\"}, \"colorscale\": [[0.0, \"#0d0887\"], [0.1111111111111111, \"#46039f\"], [0.2222222222222222, \"#7201a8\"], [0.3333333333333333, \"#9c179e\"], [0.4444444444444444, \"#bd3786\"], [0.5555555555555556, \"#d8576b\"], [0.6666666666666666, \"#ed7953\"], [0.7777777777777778, \"#fb9f3a\"], [0.8888888888888888, \"#fdca26\"], [1.0, \"#f0f921\"]], \"type\": \"contour\"}], \"contourcarpet\": [{\"colorbar\": {\"outlinewidth\": 0, \"ticks\": \"\"}, \"type\": \"contourcarpet\"}], \"heatmap\": [{\"colorbar\": {\"outlinewidth\": 0, \"ticks\": \"\"}, \"colorscale\": [[0.0, \"#0d0887\"], [0.1111111111111111, \"#46039f\"], [0.2222222222222222, \"#7201a8\"], [0.3333333333333333, \"#9c179e\"], [0.4444444444444444, \"#bd3786\"], [0.5555555555555556, \"#d8576b\"], [0.6666666666666666, \"#ed7953\"], [0.7777777777777778, \"#fb9f3a\"], [0.8888888888888888, \"#fdca26\"], [1.0, \"#f0f921\"]], \"type\": \"heatmap\"}], \"heatmapgl\": [{\"colorbar\": {\"outlinewidth\": 0, \"ticks\": \"\"}, \"colorscale\": [[0.0, \"#0d0887\"], [0.1111111111111111, \"#46039f\"], [0.2222222222222222, \"#7201a8\"], [0.3333333333333333, \"#9c179e\"], [0.4444444444444444, \"#bd3786\"], [0.5555555555555556, \"#d8576b\"], [0.6666666666666666, \"#ed7953\"], [0.7777777777777778, \"#fb9f3a\"], [0.8888888888888888, \"#fdca26\"], [1.0, \"#f0f921\"]], \"type\": \"heatmapgl\"}], \"histogram\": [{\"marker\": {\"colorbar\": {\"outlinewidth\": 0, \"ticks\": \"\"}}, \"type\": \"histogram\"}], \"histogram2d\": [{\"colorbar\": {\"outlinewidth\": 0, \"ticks\": \"\"}, \"colorscale\": [[0.0, \"#0d0887\"], [0.1111111111111111, \"#46039f\"], [0.2222222222222222, \"#7201a8\"], [0.3333333333333333, \"#9c179e\"], [0.4444444444444444, \"#bd3786\"], [0.5555555555555556, \"#d8576b\"], [0.6666666666666666, \"#ed7953\"], [0.7777777777777778, \"#fb9f3a\"], [0.8888888888888888, \"#fdca26\"], [1.0, \"#f0f921\"]], \"type\": \"histogram2d\"}], \"histogram2dcontour\": [{\"colorbar\": {\"outlinewidth\": 0, \"ticks\": \"\"}, \"colorscale\": [[0.0, \"#0d0887\"], [0.1111111111111111, \"#46039f\"], [0.2222222222222222, \"#7201a8\"], [0.3333333333333333, \"#9c179e\"], [0.4444444444444444, \"#bd3786\"], [0.5555555555555556, \"#d8576b\"], [0.6666666666666666, \"#ed7953\"], [0.7777777777777778, \"#fb9f3a\"], [0.8888888888888888, \"#fdca26\"], [1.0, \"#f0f921\"]], \"type\": \"histogram2dcontour\"}], \"mesh3d\": [{\"colorbar\": {\"outlinewidth\": 0, \"ticks\": \"\"}, \"type\": \"mesh3d\"}], \"parcoords\": [{\"line\": {\"colorbar\": {\"outlinewidth\": 0, \"ticks\": \"\"}}, \"type\": \"parcoords\"}], \"pie\": [{\"automargin\": true, \"type\": \"pie\"}], \"scatter\": [{\"marker\": {\"colorbar\": {\"outlinewidth\": 0, \"ticks\": \"\"}}, \"type\": \"scatter\"}], \"scatter3d\": [{\"line\": {\"colorbar\": {\"outlinewidth\": 0, \"ticks\": \"\"}}, \"marker\": {\"colorbar\": {\"outlinewidth\": 0, \"ticks\": \"\"}}, \"type\": \"scatter3d\"}], \"scattercarpet\": [{\"marker\": {\"colorbar\": {\"outlinewidth\": 0, \"ticks\": \"\"}}, \"type\": \"scattercarpet\"}], \"scattergeo\": [{\"marker\": {\"colorbar\": {\"outlinewidth\": 0, \"ticks\": \"\"}}, \"type\": \"scattergeo\"}], \"scattergl\": [{\"marker\": {\"colorbar\": {\"outlinewidth\": 0, \"ticks\": \"\"}}, \"type\": \"scattergl\"}], \"scattermapbox\": [{\"marker\": {\"colorbar\": {\"outlinewidth\": 0, \"ticks\": \"\"}}, \"type\": \"scattermapbox\"}], \"scatterpolar\": [{\"marker\": {\"colorbar\": {\"outlinewidth\": 0, \"ticks\": \"\"}}, \"type\": \"scatterpolar\"}], \"scatterpolargl\": [{\"marker\": {\"colorbar\": {\"outlinewidth\": 0, \"ticks\": \"\"}}, \"type\": \"scatterpolargl\"}], \"scatterternary\": [{\"marker\": {\"colorbar\": {\"outlinewidth\": 0, \"ticks\": \"\"}}, \"type\": \"scatterternary\"}], \"surface\": [{\"colorbar\": {\"outlinewidth\": 0, \"ticks\": \"\"}, \"colorscale\": [[0.0, \"#0d0887\"], [0.1111111111111111, \"#46039f\"], [0.2222222222222222, \"#7201a8\"], [0.3333333333333333, \"#9c179e\"], [0.4444444444444444, \"#bd3786\"], [0.5555555555555556, \"#d8576b\"], [0.6666666666666666, \"#ed7953\"], [0.7777777777777778, \"#fb9f3a\"], [0.8888888888888888, \"#fdca26\"], [1.0, \"#f0f921\"]], \"type\": \"surface\"}], \"table\": [{\"cells\": {\"fill\": {\"color\": \"#EBF0F8\"}, \"line\": {\"color\": \"white\"}}, \"header\": {\"fill\": {\"color\": \"#C8D4E3\"}, \"line\": {\"color\": \"white\"}}, \"type\": \"table\"}]}, \"layout\": {\"annotationdefaults\": {\"arrowcolor\": \"#2a3f5f\", \"arrowhead\": 0, \"arrowwidth\": 1}, \"coloraxis\": {\"colorbar\": {\"outlinewidth\": 0, \"ticks\": \"\"}}, \"colorscale\": {\"diverging\": [[0, \"#8e0152\"], [0.1, \"#c51b7d\"], [0.2, \"#de77ae\"], [0.3, \"#f1b6da\"], [0.4, \"#fde0ef\"], [0.5, \"#f7f7f7\"], [0.6, \"#e6f5d0\"], [0.7, \"#b8e186\"], [0.8, \"#7fbc41\"], [0.9, \"#4d9221\"], [1, \"#276419\"]], \"sequential\": [[0.0, \"#0d0887\"], [0.1111111111111111, \"#46039f\"], [0.2222222222222222, \"#7201a8\"], [0.3333333333333333, \"#9c179e\"], [0.4444444444444444, \"#bd3786\"], [0.5555555555555556, \"#d8576b\"], [0.6666666666666666, \"#ed7953\"], [0.7777777777777778, \"#fb9f3a\"], [0.8888888888888888, \"#fdca26\"], [1.0, \"#f0f921\"]], \"sequentialminus\": [[0.0, \"#0d0887\"], [0.1111111111111111, \"#46039f\"], [0.2222222222222222, \"#7201a8\"], [0.3333333333333333, \"#9c179e\"], [0.4444444444444444, \"#bd3786\"], [0.5555555555555556, \"#d8576b\"], [0.6666666666666666, \"#ed7953\"], [0.7777777777777778, \"#fb9f3a\"], [0.8888888888888888, \"#fdca26\"], [1.0, \"#f0f921\"]]}, \"colorway\": [\"#636efa\", \"#EF553B\", \"#00cc96\", \"#ab63fa\", \"#FFA15A\", \"#19d3f3\", \"#FF6692\", \"#B6E880\", \"#FF97FF\", \"#FECB52\"], \"font\": {\"color\": \"#2a3f5f\"}, \"geo\": {\"bgcolor\": \"white\", \"lakecolor\": \"white\", \"landcolor\": \"#E5ECF6\", \"showlakes\": true, \"showland\": true, \"subunitcolor\": \"white\"}, \"hoverlabel\": {\"align\": \"left\"}, \"hovermode\": \"closest\", \"mapbox\": {\"style\": \"light\"}, \"paper_bgcolor\": \"white\", \"plot_bgcolor\": \"#E5ECF6\", \"polar\": {\"angularaxis\": {\"gridcolor\": \"white\", \"linecolor\": \"white\", \"ticks\": \"\"}, \"bgcolor\": \"#E5ECF6\", \"radialaxis\": {\"gridcolor\": \"white\", \"linecolor\": \"white\", \"ticks\": \"\"}}, \"scene\": {\"xaxis\": {\"backgroundcolor\": \"#E5ECF6\", \"gridcolor\": \"white\", \"gridwidth\": 2, \"linecolor\": \"white\", \"showbackground\": true, \"ticks\": \"\", \"zerolinecolor\": \"white\"}, \"yaxis\": {\"backgroundcolor\": \"#E5ECF6\", \"gridcolor\": \"white\", \"gridwidth\": 2, \"linecolor\": \"white\", \"showbackground\": true, \"ticks\": \"\", \"zerolinecolor\": \"white\"}, \"zaxis\": {\"backgroundcolor\": \"#E5ECF6\", \"gridcolor\": \"white\", \"gridwidth\": 2, \"linecolor\": \"white\", \"showbackground\": true, \"ticks\": \"\", \"zerolinecolor\": \"white\"}}, \"shapedefaults\": {\"line\": {\"color\": \"#2a3f5f\"}}, \"ternary\": {\"aaxis\": {\"gridcolor\": \"white\", \"linecolor\": \"white\", \"ticks\": \"\"}, \"baxis\": {\"gridcolor\": \"white\", \"linecolor\": \"white\", \"ticks\": \"\"}, \"bgcolor\": \"#E5ECF6\", \"caxis\": {\"gridcolor\": \"white\", \"linecolor\": \"white\", \"ticks\": \"\"}}, \"title\": {\"x\": 0.05}, \"xaxis\": {\"automargin\": true, \"gridcolor\": \"white\", \"linecolor\": \"white\", \"ticks\": \"\", \"title\": {\"standoff\": 15}, \"zerolinecolor\": \"white\", \"zerolinewidth\": 2}, \"yaxis\": {\"automargin\": true, \"gridcolor\": \"white\", \"linecolor\": \"white\", \"ticks\": \"\", \"title\": {\"standoff\": 15}, \"zerolinecolor\": \"white\", \"zerolinewidth\": 2}}}, \"title\": {\"text\": \"Age Distribution\"}, \"width\": 800},\n",
       "                        {\"responsive\": true}\n",
       "                    ).then(function(){\n",
       "                            \n",
       "var gd = document.getElementById('f0fe8cd4-a11f-427e-a62c-5dfd6ac0a70b');\n",
       "var x = new MutationObserver(function (mutations, observer) {{\n",
       "        var display = window.getComputedStyle(gd).display;\n",
       "        if (!display || display === 'none') {{\n",
       "            console.log([gd, 'removed!']);\n",
       "            Plotly.purge(gd);\n",
       "            observer.disconnect();\n",
       "        }}\n",
       "}});\n",
       "\n",
       "// Listen for the removal of the full notebook cells\n",
       "var notebookContainer = gd.closest('#notebook-container');\n",
       "if (notebookContainer) {{\n",
       "    x.observe(notebookContainer, {childList: true});\n",
       "}}\n",
       "\n",
       "// Listen for the clearing of the current output cell\n",
       "var outputEl = gd.closest('.output');\n",
       "if (outputEl) {{\n",
       "    x.observe(outputEl, {childList: true});\n",
       "}}\n",
       "\n",
       "                        })\n",
       "                };\n",
       "                });\n",
       "            </script>\n",
       "        </div>"
      ]
     },
     "metadata": {},
     "output_type": "display_data"
    }
   ],
   "source": [
    "temp = bank_data.age.value_counts()\n",
    "\n",
    "trace = go.Bar(x=temp.index,  y= np.round(temp.astype(float)/temp.values.sum(),2),\n",
    "               text = np.round(temp.astype(float)/temp.values.sum(),2),\n",
    "               textposition = 'inside',\n",
    "               name = 'Age')\n",
    "data = [trace]\n",
    "layout = go.Layout(autosize=False, width=800, height=500,title = \"Age Distribution\")\n",
    "\n",
    "fig = go.Figure(data=data, layout=layout)\n",
    "iplot(fig)\n",
    "#del temp"
   ]
  },
  {
   "cell_type": "code",
   "execution_count": 36,
   "metadata": {},
   "outputs": [
    {
     "data": {
      "application/vnd.plotly.v1+json": {
       "config": {
        "linkText": "Export to plot.ly",
        "plotlyServerURL": "https://plot.ly",
        "showLink": false
       },
       "data": [
        {
         "name": "Age",
         "text": [
          0.05,
          0.05,
          0.04,
          0.03,
          0.03,
          0.03,
          0.03,
          0.03,
          0.03,
          0.03,
          0.03,
          0.03,
          0.03,
          0.03,
          0.03,
          0.03,
          0.03,
          0.02,
          0.02,
          0.02,
          0.02,
          0.02,
          0.02,
          0.02,
          0.02,
          0.02,
          0.02,
          0.02,
          0.02,
          0.02,
          0.02,
          0.01,
          0.01,
          0.01,
          0.01,
          0.01,
          0.01,
          0.01,
          0.01,
          0.01,
          0.01,
          0.01,
          0.01,
          0.01,
          0.01,
          0,
          0,
          0,
          0,
          0,
          0,
          0,
          0,
          0,
          0,
          0,
          0,
          0,
          0,
          0,
          0,
          0,
          0
         ],
         "textposition": "inside",
         "type": "bar",
         "x": [
          32,
          34,
          35,
          36,
          38,
          33,
          49,
          28,
          31,
          30,
          37,
          46,
          47,
          53,
          41,
          27,
          29,
          59,
          42,
          45,
          43,
          55,
          44,
          25,
          39,
          40,
          48,
          52,
          50,
          54,
          61,
          60,
          26,
          51,
          56,
          24,
          58,
          63,
          73,
          62,
          75,
          77,
          57,
          22,
          71,
          23,
          19,
          64,
          66,
          68,
          69,
          74,
          79,
          80,
          83,
          84,
          65,
          67,
          72,
          78,
          21,
          20,
          87
         ],
         "y": [
          0.05,
          0.05,
          0.04,
          0.03,
          0.03,
          0.03,
          0.03,
          0.03,
          0.03,
          0.03,
          0.03,
          0.03,
          0.03,
          0.03,
          0.03,
          0.03,
          0.03,
          0.02,
          0.02,
          0.02,
          0.02,
          0.02,
          0.02,
          0.02,
          0.02,
          0.02,
          0.02,
          0.02,
          0.02,
          0.02,
          0.02,
          0.01,
          0.01,
          0.01,
          0.01,
          0.01,
          0.01,
          0.01,
          0.01,
          0.01,
          0.01,
          0.01,
          0.01,
          0.01,
          0.01,
          0,
          0,
          0,
          0,
          0,
          0,
          0,
          0,
          0,
          0,
          0,
          0,
          0,
          0,
          0,
          0,
          0,
          0
         ]
        }
       ],
       "layout": {
        "autosize": false,
        "height": 500,
        "template": {
         "data": {
          "bar": [
           {
            "error_x": {
             "color": "#2a3f5f"
            },
            "error_y": {
             "color": "#2a3f5f"
            },
            "marker": {
             "line": {
              "color": "#E5ECF6",
              "width": 0.5
             }
            },
            "type": "bar"
           }
          ],
          "barpolar": [
           {
            "marker": {
             "line": {
              "color": "#E5ECF6",
              "width": 0.5
             }
            },
            "type": "barpolar"
           }
          ],
          "carpet": [
           {
            "aaxis": {
             "endlinecolor": "#2a3f5f",
             "gridcolor": "white",
             "linecolor": "white",
             "minorgridcolor": "white",
             "startlinecolor": "#2a3f5f"
            },
            "baxis": {
             "endlinecolor": "#2a3f5f",
             "gridcolor": "white",
             "linecolor": "white",
             "minorgridcolor": "white",
             "startlinecolor": "#2a3f5f"
            },
            "type": "carpet"
           }
          ],
          "choropleth": [
           {
            "colorbar": {
             "outlinewidth": 0,
             "ticks": ""
            },
            "type": "choropleth"
           }
          ],
          "contour": [
           {
            "colorbar": {
             "outlinewidth": 0,
             "ticks": ""
            },
            "colorscale": [
             [
              0,
              "#0d0887"
             ],
             [
              0.1111111111111111,
              "#46039f"
             ],
             [
              0.2222222222222222,
              "#7201a8"
             ],
             [
              0.3333333333333333,
              "#9c179e"
             ],
             [
              0.4444444444444444,
              "#bd3786"
             ],
             [
              0.5555555555555556,
              "#d8576b"
             ],
             [
              0.6666666666666666,
              "#ed7953"
             ],
             [
              0.7777777777777778,
              "#fb9f3a"
             ],
             [
              0.8888888888888888,
              "#fdca26"
             ],
             [
              1,
              "#f0f921"
             ]
            ],
            "type": "contour"
           }
          ],
          "contourcarpet": [
           {
            "colorbar": {
             "outlinewidth": 0,
             "ticks": ""
            },
            "type": "contourcarpet"
           }
          ],
          "heatmap": [
           {
            "colorbar": {
             "outlinewidth": 0,
             "ticks": ""
            },
            "colorscale": [
             [
              0,
              "#0d0887"
             ],
             [
              0.1111111111111111,
              "#46039f"
             ],
             [
              0.2222222222222222,
              "#7201a8"
             ],
             [
              0.3333333333333333,
              "#9c179e"
             ],
             [
              0.4444444444444444,
              "#bd3786"
             ],
             [
              0.5555555555555556,
              "#d8576b"
             ],
             [
              0.6666666666666666,
              "#ed7953"
             ],
             [
              0.7777777777777778,
              "#fb9f3a"
             ],
             [
              0.8888888888888888,
              "#fdca26"
             ],
             [
              1,
              "#f0f921"
             ]
            ],
            "type": "heatmap"
           }
          ],
          "heatmapgl": [
           {
            "colorbar": {
             "outlinewidth": 0,
             "ticks": ""
            },
            "colorscale": [
             [
              0,
              "#0d0887"
             ],
             [
              0.1111111111111111,
              "#46039f"
             ],
             [
              0.2222222222222222,
              "#7201a8"
             ],
             [
              0.3333333333333333,
              "#9c179e"
             ],
             [
              0.4444444444444444,
              "#bd3786"
             ],
             [
              0.5555555555555556,
              "#d8576b"
             ],
             [
              0.6666666666666666,
              "#ed7953"
             ],
             [
              0.7777777777777778,
              "#fb9f3a"
             ],
             [
              0.8888888888888888,
              "#fdca26"
             ],
             [
              1,
              "#f0f921"
             ]
            ],
            "type": "heatmapgl"
           }
          ],
          "histogram": [
           {
            "marker": {
             "colorbar": {
              "outlinewidth": 0,
              "ticks": ""
             }
            },
            "type": "histogram"
           }
          ],
          "histogram2d": [
           {
            "colorbar": {
             "outlinewidth": 0,
             "ticks": ""
            },
            "colorscale": [
             [
              0,
              "#0d0887"
             ],
             [
              0.1111111111111111,
              "#46039f"
             ],
             [
              0.2222222222222222,
              "#7201a8"
             ],
             [
              0.3333333333333333,
              "#9c179e"
             ],
             [
              0.4444444444444444,
              "#bd3786"
             ],
             [
              0.5555555555555556,
              "#d8576b"
             ],
             [
              0.6666666666666666,
              "#ed7953"
             ],
             [
              0.7777777777777778,
              "#fb9f3a"
             ],
             [
              0.8888888888888888,
              "#fdca26"
             ],
             [
              1,
              "#f0f921"
             ]
            ],
            "type": "histogram2d"
           }
          ],
          "histogram2dcontour": [
           {
            "colorbar": {
             "outlinewidth": 0,
             "ticks": ""
            },
            "colorscale": [
             [
              0,
              "#0d0887"
             ],
             [
              0.1111111111111111,
              "#46039f"
             ],
             [
              0.2222222222222222,
              "#7201a8"
             ],
             [
              0.3333333333333333,
              "#9c179e"
             ],
             [
              0.4444444444444444,
              "#bd3786"
             ],
             [
              0.5555555555555556,
              "#d8576b"
             ],
             [
              0.6666666666666666,
              "#ed7953"
             ],
             [
              0.7777777777777778,
              "#fb9f3a"
             ],
             [
              0.8888888888888888,
              "#fdca26"
             ],
             [
              1,
              "#f0f921"
             ]
            ],
            "type": "histogram2dcontour"
           }
          ],
          "mesh3d": [
           {
            "colorbar": {
             "outlinewidth": 0,
             "ticks": ""
            },
            "type": "mesh3d"
           }
          ],
          "parcoords": [
           {
            "line": {
             "colorbar": {
              "outlinewidth": 0,
              "ticks": ""
             }
            },
            "type": "parcoords"
           }
          ],
          "pie": [
           {
            "automargin": true,
            "type": "pie"
           }
          ],
          "scatter": [
           {
            "marker": {
             "colorbar": {
              "outlinewidth": 0,
              "ticks": ""
             }
            },
            "type": "scatter"
           }
          ],
          "scatter3d": [
           {
            "line": {
             "colorbar": {
              "outlinewidth": 0,
              "ticks": ""
             }
            },
            "marker": {
             "colorbar": {
              "outlinewidth": 0,
              "ticks": ""
             }
            },
            "type": "scatter3d"
           }
          ],
          "scattercarpet": [
           {
            "marker": {
             "colorbar": {
              "outlinewidth": 0,
              "ticks": ""
             }
            },
            "type": "scattercarpet"
           }
          ],
          "scattergeo": [
           {
            "marker": {
             "colorbar": {
              "outlinewidth": 0,
              "ticks": ""
             }
            },
            "type": "scattergeo"
           }
          ],
          "scattergl": [
           {
            "marker": {
             "colorbar": {
              "outlinewidth": 0,
              "ticks": ""
             }
            },
            "type": "scattergl"
           }
          ],
          "scattermapbox": [
           {
            "marker": {
             "colorbar": {
              "outlinewidth": 0,
              "ticks": ""
             }
            },
            "type": "scattermapbox"
           }
          ],
          "scatterpolar": [
           {
            "marker": {
             "colorbar": {
              "outlinewidth": 0,
              "ticks": ""
             }
            },
            "type": "scatterpolar"
           }
          ],
          "scatterpolargl": [
           {
            "marker": {
             "colorbar": {
              "outlinewidth": 0,
              "ticks": ""
             }
            },
            "type": "scatterpolargl"
           }
          ],
          "scatterternary": [
           {
            "marker": {
             "colorbar": {
              "outlinewidth": 0,
              "ticks": ""
             }
            },
            "type": "scatterternary"
           }
          ],
          "surface": [
           {
            "colorbar": {
             "outlinewidth": 0,
             "ticks": ""
            },
            "colorscale": [
             [
              0,
              "#0d0887"
             ],
             [
              0.1111111111111111,
              "#46039f"
             ],
             [
              0.2222222222222222,
              "#7201a8"
             ],
             [
              0.3333333333333333,
              "#9c179e"
             ],
             [
              0.4444444444444444,
              "#bd3786"
             ],
             [
              0.5555555555555556,
              "#d8576b"
             ],
             [
              0.6666666666666666,
              "#ed7953"
             ],
             [
              0.7777777777777778,
              "#fb9f3a"
             ],
             [
              0.8888888888888888,
              "#fdca26"
             ],
             [
              1,
              "#f0f921"
             ]
            ],
            "type": "surface"
           }
          ],
          "table": [
           {
            "cells": {
             "fill": {
              "color": "#EBF0F8"
             },
             "line": {
              "color": "white"
             }
            },
            "header": {
             "fill": {
              "color": "#C8D4E3"
             },
             "line": {
              "color": "white"
             }
            },
            "type": "table"
           }
          ]
         },
         "layout": {
          "annotationdefaults": {
           "arrowcolor": "#2a3f5f",
           "arrowhead": 0,
           "arrowwidth": 1
          },
          "coloraxis": {
           "colorbar": {
            "outlinewidth": 0,
            "ticks": ""
           }
          },
          "colorscale": {
           "diverging": [
            [
             0,
             "#8e0152"
            ],
            [
             0.1,
             "#c51b7d"
            ],
            [
             0.2,
             "#de77ae"
            ],
            [
             0.3,
             "#f1b6da"
            ],
            [
             0.4,
             "#fde0ef"
            ],
            [
             0.5,
             "#f7f7f7"
            ],
            [
             0.6,
             "#e6f5d0"
            ],
            [
             0.7,
             "#b8e186"
            ],
            [
             0.8,
             "#7fbc41"
            ],
            [
             0.9,
             "#4d9221"
            ],
            [
             1,
             "#276419"
            ]
           ],
           "sequential": [
            [
             0,
             "#0d0887"
            ],
            [
             0.1111111111111111,
             "#46039f"
            ],
            [
             0.2222222222222222,
             "#7201a8"
            ],
            [
             0.3333333333333333,
             "#9c179e"
            ],
            [
             0.4444444444444444,
             "#bd3786"
            ],
            [
             0.5555555555555556,
             "#d8576b"
            ],
            [
             0.6666666666666666,
             "#ed7953"
            ],
            [
             0.7777777777777778,
             "#fb9f3a"
            ],
            [
             0.8888888888888888,
             "#fdca26"
            ],
            [
             1,
             "#f0f921"
            ]
           ],
           "sequentialminus": [
            [
             0,
             "#0d0887"
            ],
            [
             0.1111111111111111,
             "#46039f"
            ],
            [
             0.2222222222222222,
             "#7201a8"
            ],
            [
             0.3333333333333333,
             "#9c179e"
            ],
            [
             0.4444444444444444,
             "#bd3786"
            ],
            [
             0.5555555555555556,
             "#d8576b"
            ],
            [
             0.6666666666666666,
             "#ed7953"
            ],
            [
             0.7777777777777778,
             "#fb9f3a"
            ],
            [
             0.8888888888888888,
             "#fdca26"
            ],
            [
             1,
             "#f0f921"
            ]
           ]
          },
          "colorway": [
           "#636efa",
           "#EF553B",
           "#00cc96",
           "#ab63fa",
           "#FFA15A",
           "#19d3f3",
           "#FF6692",
           "#B6E880",
           "#FF97FF",
           "#FECB52"
          ],
          "font": {
           "color": "#2a3f5f"
          },
          "geo": {
           "bgcolor": "white",
           "lakecolor": "white",
           "landcolor": "#E5ECF6",
           "showlakes": true,
           "showland": true,
           "subunitcolor": "white"
          },
          "hoverlabel": {
           "align": "left"
          },
          "hovermode": "closest",
          "mapbox": {
           "style": "light"
          },
          "paper_bgcolor": "white",
          "plot_bgcolor": "#E5ECF6",
          "polar": {
           "angularaxis": {
            "gridcolor": "white",
            "linecolor": "white",
            "ticks": ""
           },
           "bgcolor": "#E5ECF6",
           "radialaxis": {
            "gridcolor": "white",
            "linecolor": "white",
            "ticks": ""
           }
          },
          "scene": {
           "xaxis": {
            "backgroundcolor": "#E5ECF6",
            "gridcolor": "white",
            "gridwidth": 2,
            "linecolor": "white",
            "showbackground": true,
            "ticks": "",
            "zerolinecolor": "white"
           },
           "yaxis": {
            "backgroundcolor": "#E5ECF6",
            "gridcolor": "white",
            "gridwidth": 2,
            "linecolor": "white",
            "showbackground": true,
            "ticks": "",
            "zerolinecolor": "white"
           },
           "zaxis": {
            "backgroundcolor": "#E5ECF6",
            "gridcolor": "white",
            "gridwidth": 2,
            "linecolor": "white",
            "showbackground": true,
            "ticks": "",
            "zerolinecolor": "white"
           }
          },
          "shapedefaults": {
           "line": {
            "color": "#2a3f5f"
           }
          },
          "ternary": {
           "aaxis": {
            "gridcolor": "white",
            "linecolor": "white",
            "ticks": ""
           },
           "baxis": {
            "gridcolor": "white",
            "linecolor": "white",
            "ticks": ""
           },
           "bgcolor": "#E5ECF6",
           "caxis": {
            "gridcolor": "white",
            "linecolor": "white",
            "ticks": ""
           }
          },
          "title": {
           "x": 0.05
          },
          "xaxis": {
           "automargin": true,
           "gridcolor": "white",
           "linecolor": "white",
           "ticks": "",
           "title": {
            "standoff": 15
           },
           "zerolinecolor": "white",
           "zerolinewidth": 2
          },
          "yaxis": {
           "automargin": true,
           "gridcolor": "white",
           "linecolor": "white",
           "ticks": "",
           "title": {
            "standoff": 15
           },
           "zerolinecolor": "white",
           "zerolinewidth": 2
          }
         }
        },
        "title": {
         "text": "Age Distribution of Label 1"
        },
        "width": 800
       }
      },
      "text/html": [
       "<div>\n",
       "        \n",
       "        \n",
       "            <div id=\"0674efca-4b2f-4c80-90f8-16506a8b3dc8\" class=\"plotly-graph-div\" style=\"height:500px; width:800px;\"></div>\n",
       "            <script type=\"text/javascript\">\n",
       "                require([\"plotly\"], function(Plotly) {\n",
       "                    window.PLOTLYENV=window.PLOTLYENV || {};\n",
       "                    \n",
       "                if (document.getElementById(\"0674efca-4b2f-4c80-90f8-16506a8b3dc8\")) {\n",
       "                    Plotly.newPlot(\n",
       "                        '0674efca-4b2f-4c80-90f8-16506a8b3dc8',\n",
       "                        [{\"name\": \"Age\", \"text\": [0.05, 0.05, 0.04, 0.03, 0.03, 0.03, 0.03, 0.03, 0.03, 0.03, 0.03, 0.03, 0.03, 0.03, 0.03, 0.03, 0.03, 0.02, 0.02, 0.02, 0.02, 0.02, 0.02, 0.02, 0.02, 0.02, 0.02, 0.02, 0.02, 0.02, 0.02, 0.01, 0.01, 0.01, 0.01, 0.01, 0.01, 0.01, 0.01, 0.01, 0.01, 0.01, 0.01, 0.01, 0.01, 0.0, 0.0, 0.0, 0.0, 0.0, 0.0, 0.0, 0.0, 0.0, 0.0, 0.0, 0.0, 0.0, 0.0, 0.0, 0.0, 0.0, 0.0], \"textposition\": \"inside\", \"type\": \"bar\", \"x\": [32, 34, 35, 36, 38, 33, 49, 28, 31, 30, 37, 46, 47, 53, 41, 27, 29, 59, 42, 45, 43, 55, 44, 25, 39, 40, 48, 52, 50, 54, 61, 60, 26, 51, 56, 24, 58, 63, 73, 62, 75, 77, 57, 22, 71, 23, 19, 64, 66, 68, 69, 74, 79, 80, 83, 84, 65, 67, 72, 78, 21, 20, 87], \"y\": [0.05, 0.05, 0.04, 0.03, 0.03, 0.03, 0.03, 0.03, 0.03, 0.03, 0.03, 0.03, 0.03, 0.03, 0.03, 0.03, 0.03, 0.02, 0.02, 0.02, 0.02, 0.02, 0.02, 0.02, 0.02, 0.02, 0.02, 0.02, 0.02, 0.02, 0.02, 0.01, 0.01, 0.01, 0.01, 0.01, 0.01, 0.01, 0.01, 0.01, 0.01, 0.01, 0.01, 0.01, 0.01, 0.0, 0.0, 0.0, 0.0, 0.0, 0.0, 0.0, 0.0, 0.0, 0.0, 0.0, 0.0, 0.0, 0.0, 0.0, 0.0, 0.0, 0.0]}],\n",
       "                        {\"autosize\": false, \"height\": 500, \"template\": {\"data\": {\"bar\": [{\"error_x\": {\"color\": \"#2a3f5f\"}, \"error_y\": {\"color\": \"#2a3f5f\"}, \"marker\": {\"line\": {\"color\": \"#E5ECF6\", \"width\": 0.5}}, \"type\": \"bar\"}], \"barpolar\": [{\"marker\": {\"line\": {\"color\": \"#E5ECF6\", \"width\": 0.5}}, \"type\": \"barpolar\"}], \"carpet\": [{\"aaxis\": {\"endlinecolor\": \"#2a3f5f\", \"gridcolor\": \"white\", \"linecolor\": \"white\", \"minorgridcolor\": \"white\", \"startlinecolor\": \"#2a3f5f\"}, \"baxis\": {\"endlinecolor\": \"#2a3f5f\", \"gridcolor\": \"white\", \"linecolor\": \"white\", \"minorgridcolor\": \"white\", \"startlinecolor\": \"#2a3f5f\"}, \"type\": \"carpet\"}], \"choropleth\": [{\"colorbar\": {\"outlinewidth\": 0, \"ticks\": \"\"}, \"type\": \"choropleth\"}], \"contour\": [{\"colorbar\": {\"outlinewidth\": 0, \"ticks\": \"\"}, \"colorscale\": [[0.0, \"#0d0887\"], [0.1111111111111111, \"#46039f\"], [0.2222222222222222, \"#7201a8\"], [0.3333333333333333, \"#9c179e\"], [0.4444444444444444, \"#bd3786\"], [0.5555555555555556, \"#d8576b\"], [0.6666666666666666, \"#ed7953\"], [0.7777777777777778, \"#fb9f3a\"], [0.8888888888888888, \"#fdca26\"], [1.0, \"#f0f921\"]], \"type\": \"contour\"}], \"contourcarpet\": [{\"colorbar\": {\"outlinewidth\": 0, \"ticks\": \"\"}, \"type\": \"contourcarpet\"}], \"heatmap\": [{\"colorbar\": {\"outlinewidth\": 0, \"ticks\": \"\"}, \"colorscale\": [[0.0, \"#0d0887\"], [0.1111111111111111, \"#46039f\"], [0.2222222222222222, \"#7201a8\"], [0.3333333333333333, \"#9c179e\"], [0.4444444444444444, \"#bd3786\"], [0.5555555555555556, \"#d8576b\"], [0.6666666666666666, \"#ed7953\"], [0.7777777777777778, \"#fb9f3a\"], [0.8888888888888888, \"#fdca26\"], [1.0, \"#f0f921\"]], \"type\": \"heatmap\"}], \"heatmapgl\": [{\"colorbar\": {\"outlinewidth\": 0, \"ticks\": \"\"}, \"colorscale\": [[0.0, \"#0d0887\"], [0.1111111111111111, \"#46039f\"], [0.2222222222222222, \"#7201a8\"], [0.3333333333333333, \"#9c179e\"], [0.4444444444444444, \"#bd3786\"], [0.5555555555555556, \"#d8576b\"], [0.6666666666666666, \"#ed7953\"], [0.7777777777777778, \"#fb9f3a\"], [0.8888888888888888, \"#fdca26\"], [1.0, \"#f0f921\"]], \"type\": \"heatmapgl\"}], \"histogram\": [{\"marker\": {\"colorbar\": {\"outlinewidth\": 0, \"ticks\": \"\"}}, \"type\": \"histogram\"}], \"histogram2d\": [{\"colorbar\": {\"outlinewidth\": 0, \"ticks\": \"\"}, \"colorscale\": [[0.0, \"#0d0887\"], [0.1111111111111111, \"#46039f\"], [0.2222222222222222, \"#7201a8\"], [0.3333333333333333, \"#9c179e\"], [0.4444444444444444, \"#bd3786\"], [0.5555555555555556, \"#d8576b\"], [0.6666666666666666, \"#ed7953\"], [0.7777777777777778, \"#fb9f3a\"], [0.8888888888888888, \"#fdca26\"], [1.0, \"#f0f921\"]], \"type\": \"histogram2d\"}], \"histogram2dcontour\": [{\"colorbar\": {\"outlinewidth\": 0, \"ticks\": \"\"}, \"colorscale\": [[0.0, \"#0d0887\"], [0.1111111111111111, \"#46039f\"], [0.2222222222222222, \"#7201a8\"], [0.3333333333333333, \"#9c179e\"], [0.4444444444444444, \"#bd3786\"], [0.5555555555555556, \"#d8576b\"], [0.6666666666666666, \"#ed7953\"], [0.7777777777777778, \"#fb9f3a\"], [0.8888888888888888, \"#fdca26\"], [1.0, \"#f0f921\"]], \"type\": \"histogram2dcontour\"}], \"mesh3d\": [{\"colorbar\": {\"outlinewidth\": 0, \"ticks\": \"\"}, \"type\": \"mesh3d\"}], \"parcoords\": [{\"line\": {\"colorbar\": {\"outlinewidth\": 0, \"ticks\": \"\"}}, \"type\": \"parcoords\"}], \"pie\": [{\"automargin\": true, \"type\": \"pie\"}], \"scatter\": [{\"marker\": {\"colorbar\": {\"outlinewidth\": 0, \"ticks\": \"\"}}, \"type\": \"scatter\"}], \"scatter3d\": [{\"line\": {\"colorbar\": {\"outlinewidth\": 0, \"ticks\": \"\"}}, \"marker\": {\"colorbar\": {\"outlinewidth\": 0, \"ticks\": \"\"}}, \"type\": \"scatter3d\"}], \"scattercarpet\": [{\"marker\": {\"colorbar\": {\"outlinewidth\": 0, \"ticks\": \"\"}}, \"type\": \"scattercarpet\"}], \"scattergeo\": [{\"marker\": {\"colorbar\": {\"outlinewidth\": 0, \"ticks\": \"\"}}, \"type\": \"scattergeo\"}], \"scattergl\": [{\"marker\": {\"colorbar\": {\"outlinewidth\": 0, \"ticks\": \"\"}}, \"type\": \"scattergl\"}], \"scattermapbox\": [{\"marker\": {\"colorbar\": {\"outlinewidth\": 0, \"ticks\": \"\"}}, \"type\": \"scattermapbox\"}], \"scatterpolar\": [{\"marker\": {\"colorbar\": {\"outlinewidth\": 0, \"ticks\": \"\"}}, \"type\": \"scatterpolar\"}], \"scatterpolargl\": [{\"marker\": {\"colorbar\": {\"outlinewidth\": 0, \"ticks\": \"\"}}, \"type\": \"scatterpolargl\"}], \"scatterternary\": [{\"marker\": {\"colorbar\": {\"outlinewidth\": 0, \"ticks\": \"\"}}, \"type\": \"scatterternary\"}], \"surface\": [{\"colorbar\": {\"outlinewidth\": 0, \"ticks\": \"\"}, \"colorscale\": [[0.0, \"#0d0887\"], [0.1111111111111111, \"#46039f\"], [0.2222222222222222, \"#7201a8\"], [0.3333333333333333, \"#9c179e\"], [0.4444444444444444, \"#bd3786\"], [0.5555555555555556, \"#d8576b\"], [0.6666666666666666, \"#ed7953\"], [0.7777777777777778, \"#fb9f3a\"], [0.8888888888888888, \"#fdca26\"], [1.0, \"#f0f921\"]], \"type\": \"surface\"}], \"table\": [{\"cells\": {\"fill\": {\"color\": \"#EBF0F8\"}, \"line\": {\"color\": \"white\"}}, \"header\": {\"fill\": {\"color\": \"#C8D4E3\"}, \"line\": {\"color\": \"white\"}}, \"type\": \"table\"}]}, \"layout\": {\"annotationdefaults\": {\"arrowcolor\": \"#2a3f5f\", \"arrowhead\": 0, \"arrowwidth\": 1}, \"coloraxis\": {\"colorbar\": {\"outlinewidth\": 0, \"ticks\": \"\"}}, \"colorscale\": {\"diverging\": [[0, \"#8e0152\"], [0.1, \"#c51b7d\"], [0.2, \"#de77ae\"], [0.3, \"#f1b6da\"], [0.4, \"#fde0ef\"], [0.5, \"#f7f7f7\"], [0.6, \"#e6f5d0\"], [0.7, \"#b8e186\"], [0.8, \"#7fbc41\"], [0.9, \"#4d9221\"], [1, \"#276419\"]], \"sequential\": [[0.0, \"#0d0887\"], [0.1111111111111111, \"#46039f\"], [0.2222222222222222, \"#7201a8\"], [0.3333333333333333, \"#9c179e\"], [0.4444444444444444, \"#bd3786\"], [0.5555555555555556, \"#d8576b\"], [0.6666666666666666, \"#ed7953\"], [0.7777777777777778, \"#fb9f3a\"], [0.8888888888888888, \"#fdca26\"], [1.0, \"#f0f921\"]], \"sequentialminus\": [[0.0, \"#0d0887\"], [0.1111111111111111, \"#46039f\"], [0.2222222222222222, \"#7201a8\"], [0.3333333333333333, \"#9c179e\"], [0.4444444444444444, \"#bd3786\"], [0.5555555555555556, \"#d8576b\"], [0.6666666666666666, \"#ed7953\"], [0.7777777777777778, \"#fb9f3a\"], [0.8888888888888888, \"#fdca26\"], [1.0, \"#f0f921\"]]}, \"colorway\": [\"#636efa\", \"#EF553B\", \"#00cc96\", \"#ab63fa\", \"#FFA15A\", \"#19d3f3\", \"#FF6692\", \"#B6E880\", \"#FF97FF\", \"#FECB52\"], \"font\": {\"color\": \"#2a3f5f\"}, \"geo\": {\"bgcolor\": \"white\", \"lakecolor\": \"white\", \"landcolor\": \"#E5ECF6\", \"showlakes\": true, \"showland\": true, \"subunitcolor\": \"white\"}, \"hoverlabel\": {\"align\": \"left\"}, \"hovermode\": \"closest\", \"mapbox\": {\"style\": \"light\"}, \"paper_bgcolor\": \"white\", \"plot_bgcolor\": \"#E5ECF6\", \"polar\": {\"angularaxis\": {\"gridcolor\": \"white\", \"linecolor\": \"white\", \"ticks\": \"\"}, \"bgcolor\": \"#E5ECF6\", \"radialaxis\": {\"gridcolor\": \"white\", \"linecolor\": \"white\", \"ticks\": \"\"}}, \"scene\": {\"xaxis\": {\"backgroundcolor\": \"#E5ECF6\", \"gridcolor\": \"white\", \"gridwidth\": 2, \"linecolor\": \"white\", \"showbackground\": true, \"ticks\": \"\", \"zerolinecolor\": \"white\"}, \"yaxis\": {\"backgroundcolor\": \"#E5ECF6\", \"gridcolor\": \"white\", \"gridwidth\": 2, \"linecolor\": \"white\", \"showbackground\": true, \"ticks\": \"\", \"zerolinecolor\": \"white\"}, \"zaxis\": {\"backgroundcolor\": \"#E5ECF6\", \"gridcolor\": \"white\", \"gridwidth\": 2, \"linecolor\": \"white\", \"showbackground\": true, \"ticks\": \"\", \"zerolinecolor\": \"white\"}}, \"shapedefaults\": {\"line\": {\"color\": \"#2a3f5f\"}}, \"ternary\": {\"aaxis\": {\"gridcolor\": \"white\", \"linecolor\": \"white\", \"ticks\": \"\"}, \"baxis\": {\"gridcolor\": \"white\", \"linecolor\": \"white\", \"ticks\": \"\"}, \"bgcolor\": \"#E5ECF6\", \"caxis\": {\"gridcolor\": \"white\", \"linecolor\": \"white\", \"ticks\": \"\"}}, \"title\": {\"x\": 0.05}, \"xaxis\": {\"automargin\": true, \"gridcolor\": \"white\", \"linecolor\": \"white\", \"ticks\": \"\", \"title\": {\"standoff\": 15}, \"zerolinecolor\": \"white\", \"zerolinewidth\": 2}, \"yaxis\": {\"automargin\": true, \"gridcolor\": \"white\", \"linecolor\": \"white\", \"ticks\": \"\", \"title\": {\"standoff\": 15}, \"zerolinecolor\": \"white\", \"zerolinewidth\": 2}}}, \"title\": {\"text\": \"Age Distribution of Label 1\"}, \"width\": 800},\n",
       "                        {\"responsive\": true}\n",
       "                    ).then(function(){\n",
       "                            \n",
       "var gd = document.getElementById('0674efca-4b2f-4c80-90f8-16506a8b3dc8');\n",
       "var x = new MutationObserver(function (mutations, observer) {{\n",
       "        var display = window.getComputedStyle(gd).display;\n",
       "        if (!display || display === 'none') {{\n",
       "            console.log([gd, 'removed!']);\n",
       "            Plotly.purge(gd);\n",
       "            observer.disconnect();\n",
       "        }}\n",
       "}});\n",
       "\n",
       "// Listen for the removal of the full notebook cells\n",
       "var notebookContainer = gd.closest('#notebook-container');\n",
       "if (notebookContainer) {{\n",
       "    x.observe(notebookContainer, {childList: true});\n",
       "}}\n",
       "\n",
       "// Listen for the clearing of the current output cell\n",
       "var outputEl = gd.closest('.output');\n",
       "if (outputEl) {{\n",
       "    x.observe(outputEl, {childList: true});\n",
       "}}\n",
       "\n",
       "                        })\n",
       "                };\n",
       "                });\n",
       "            </script>\n",
       "        </div>"
      ]
     },
     "metadata": {},
     "output_type": "display_data"
    }
   ],
   "source": [
    "temp = bank_data_L1.age.value_counts()\n",
    "\n",
    "trace = go.Bar(x=temp.index,  y= np.round(temp.astype(float)/temp.values.sum(),2),\n",
    "               text = np.round(temp.astype(float)/temp.values.sum(),2),\n",
    "               textposition = 'inside',\n",
    "               name = 'Age')\n",
    "data = [trace]\n",
    "layout = go.Layout(autosize=False, width=800, height=500,title = \"Age Distribution of Label 1\")\n",
    "\n",
    "fig = go.Figure(data=data, layout=layout)\n",
    "iplot(fig)\n",
    "#del temp"
   ]
  },
  {
   "cell_type": "code",
   "execution_count": 37,
   "metadata": {},
   "outputs": [
    {
     "data": {
      "application/vnd.plotly.v1+json": {
       "config": {
        "linkText": "Export to plot.ly",
        "plotlyServerURL": "https://plot.ly",
        "showLink": false
       },
       "data": [
        {
         "name": "Age",
         "text": [
          0.05,
          0.05,
          0.05,
          0.04,
          0.04,
          0.04,
          0.04,
          0.04,
          0.03,
          0.03,
          0.03,
          0.03,
          0.03,
          0.03,
          0.03,
          0.03,
          0.03,
          0.02,
          0.02,
          0.02,
          0.02,
          0.02,
          0.02,
          0.02,
          0.02,
          0.02,
          0.02,
          0.02,
          0.02,
          0.02,
          0.02,
          0.02,
          0.02,
          0.01,
          0.01,
          0.01,
          0,
          0,
          0,
          0,
          0,
          0,
          0,
          0,
          0,
          0,
          0,
          0,
          0,
          0,
          0,
          0,
          0,
          0,
          0,
          0,
          0,
          0,
          0,
          0,
          0,
          0,
          0,
          0
         ],
         "textposition": "inside",
         "type": "bar",
         "x": [
          34,
          32,
          31,
          36,
          33,
          35,
          37,
          38,
          30,
          40,
          42,
          41,
          39,
          48,
          46,
          43,
          45,
          44,
          49,
          47,
          50,
          57,
          28,
          51,
          29,
          58,
          27,
          53,
          55,
          52,
          26,
          56,
          54,
          59,
          60,
          25,
          24,
          23,
          61,
          70,
          66,
          22,
          21,
          65,
          64,
          63,
          62,
          67,
          69,
          80,
          72,
          71,
          73,
          75,
          77,
          83,
          19,
          76,
          78,
          79,
          20,
          74,
          86,
          81
         ],
         "y": [
          0.05,
          0.05,
          0.05,
          0.04,
          0.04,
          0.04,
          0.04,
          0.04,
          0.03,
          0.03,
          0.03,
          0.03,
          0.03,
          0.03,
          0.03,
          0.03,
          0.03,
          0.02,
          0.02,
          0.02,
          0.02,
          0.02,
          0.02,
          0.02,
          0.02,
          0.02,
          0.02,
          0.02,
          0.02,
          0.02,
          0.02,
          0.02,
          0.02,
          0.01,
          0.01,
          0.01,
          0,
          0,
          0,
          0,
          0,
          0,
          0,
          0,
          0,
          0,
          0,
          0,
          0,
          0,
          0,
          0,
          0,
          0,
          0,
          0,
          0,
          0,
          0,
          0,
          0,
          0,
          0,
          0
         ]
        }
       ],
       "layout": {
        "autosize": false,
        "height": 500,
        "template": {
         "data": {
          "bar": [
           {
            "error_x": {
             "color": "#2a3f5f"
            },
            "error_y": {
             "color": "#2a3f5f"
            },
            "marker": {
             "line": {
              "color": "#E5ECF6",
              "width": 0.5
             }
            },
            "type": "bar"
           }
          ],
          "barpolar": [
           {
            "marker": {
             "line": {
              "color": "#E5ECF6",
              "width": 0.5
             }
            },
            "type": "barpolar"
           }
          ],
          "carpet": [
           {
            "aaxis": {
             "endlinecolor": "#2a3f5f",
             "gridcolor": "white",
             "linecolor": "white",
             "minorgridcolor": "white",
             "startlinecolor": "#2a3f5f"
            },
            "baxis": {
             "endlinecolor": "#2a3f5f",
             "gridcolor": "white",
             "linecolor": "white",
             "minorgridcolor": "white",
             "startlinecolor": "#2a3f5f"
            },
            "type": "carpet"
           }
          ],
          "choropleth": [
           {
            "colorbar": {
             "outlinewidth": 0,
             "ticks": ""
            },
            "type": "choropleth"
           }
          ],
          "contour": [
           {
            "colorbar": {
             "outlinewidth": 0,
             "ticks": ""
            },
            "colorscale": [
             [
              0,
              "#0d0887"
             ],
             [
              0.1111111111111111,
              "#46039f"
             ],
             [
              0.2222222222222222,
              "#7201a8"
             ],
             [
              0.3333333333333333,
              "#9c179e"
             ],
             [
              0.4444444444444444,
              "#bd3786"
             ],
             [
              0.5555555555555556,
              "#d8576b"
             ],
             [
              0.6666666666666666,
              "#ed7953"
             ],
             [
              0.7777777777777778,
              "#fb9f3a"
             ],
             [
              0.8888888888888888,
              "#fdca26"
             ],
             [
              1,
              "#f0f921"
             ]
            ],
            "type": "contour"
           }
          ],
          "contourcarpet": [
           {
            "colorbar": {
             "outlinewidth": 0,
             "ticks": ""
            },
            "type": "contourcarpet"
           }
          ],
          "heatmap": [
           {
            "colorbar": {
             "outlinewidth": 0,
             "ticks": ""
            },
            "colorscale": [
             [
              0,
              "#0d0887"
             ],
             [
              0.1111111111111111,
              "#46039f"
             ],
             [
              0.2222222222222222,
              "#7201a8"
             ],
             [
              0.3333333333333333,
              "#9c179e"
             ],
             [
              0.4444444444444444,
              "#bd3786"
             ],
             [
              0.5555555555555556,
              "#d8576b"
             ],
             [
              0.6666666666666666,
              "#ed7953"
             ],
             [
              0.7777777777777778,
              "#fb9f3a"
             ],
             [
              0.8888888888888888,
              "#fdca26"
             ],
             [
              1,
              "#f0f921"
             ]
            ],
            "type": "heatmap"
           }
          ],
          "heatmapgl": [
           {
            "colorbar": {
             "outlinewidth": 0,
             "ticks": ""
            },
            "colorscale": [
             [
              0,
              "#0d0887"
             ],
             [
              0.1111111111111111,
              "#46039f"
             ],
             [
              0.2222222222222222,
              "#7201a8"
             ],
             [
              0.3333333333333333,
              "#9c179e"
             ],
             [
              0.4444444444444444,
              "#bd3786"
             ],
             [
              0.5555555555555556,
              "#d8576b"
             ],
             [
              0.6666666666666666,
              "#ed7953"
             ],
             [
              0.7777777777777778,
              "#fb9f3a"
             ],
             [
              0.8888888888888888,
              "#fdca26"
             ],
             [
              1,
              "#f0f921"
             ]
            ],
            "type": "heatmapgl"
           }
          ],
          "histogram": [
           {
            "marker": {
             "colorbar": {
              "outlinewidth": 0,
              "ticks": ""
             }
            },
            "type": "histogram"
           }
          ],
          "histogram2d": [
           {
            "colorbar": {
             "outlinewidth": 0,
             "ticks": ""
            },
            "colorscale": [
             [
              0,
              "#0d0887"
             ],
             [
              0.1111111111111111,
              "#46039f"
             ],
             [
              0.2222222222222222,
              "#7201a8"
             ],
             [
              0.3333333333333333,
              "#9c179e"
             ],
             [
              0.4444444444444444,
              "#bd3786"
             ],
             [
              0.5555555555555556,
              "#d8576b"
             ],
             [
              0.6666666666666666,
              "#ed7953"
             ],
             [
              0.7777777777777778,
              "#fb9f3a"
             ],
             [
              0.8888888888888888,
              "#fdca26"
             ],
             [
              1,
              "#f0f921"
             ]
            ],
            "type": "histogram2d"
           }
          ],
          "histogram2dcontour": [
           {
            "colorbar": {
             "outlinewidth": 0,
             "ticks": ""
            },
            "colorscale": [
             [
              0,
              "#0d0887"
             ],
             [
              0.1111111111111111,
              "#46039f"
             ],
             [
              0.2222222222222222,
              "#7201a8"
             ],
             [
              0.3333333333333333,
              "#9c179e"
             ],
             [
              0.4444444444444444,
              "#bd3786"
             ],
             [
              0.5555555555555556,
              "#d8576b"
             ],
             [
              0.6666666666666666,
              "#ed7953"
             ],
             [
              0.7777777777777778,
              "#fb9f3a"
             ],
             [
              0.8888888888888888,
              "#fdca26"
             ],
             [
              1,
              "#f0f921"
             ]
            ],
            "type": "histogram2dcontour"
           }
          ],
          "mesh3d": [
           {
            "colorbar": {
             "outlinewidth": 0,
             "ticks": ""
            },
            "type": "mesh3d"
           }
          ],
          "parcoords": [
           {
            "line": {
             "colorbar": {
              "outlinewidth": 0,
              "ticks": ""
             }
            },
            "type": "parcoords"
           }
          ],
          "pie": [
           {
            "automargin": true,
            "type": "pie"
           }
          ],
          "scatter": [
           {
            "marker": {
             "colorbar": {
              "outlinewidth": 0,
              "ticks": ""
             }
            },
            "type": "scatter"
           }
          ],
          "scatter3d": [
           {
            "line": {
             "colorbar": {
              "outlinewidth": 0,
              "ticks": ""
             }
            },
            "marker": {
             "colorbar": {
              "outlinewidth": 0,
              "ticks": ""
             }
            },
            "type": "scatter3d"
           }
          ],
          "scattercarpet": [
           {
            "marker": {
             "colorbar": {
              "outlinewidth": 0,
              "ticks": ""
             }
            },
            "type": "scattercarpet"
           }
          ],
          "scattergeo": [
           {
            "marker": {
             "colorbar": {
              "outlinewidth": 0,
              "ticks": ""
             }
            },
            "type": "scattergeo"
           }
          ],
          "scattergl": [
           {
            "marker": {
             "colorbar": {
              "outlinewidth": 0,
              "ticks": ""
             }
            },
            "type": "scattergl"
           }
          ],
          "scattermapbox": [
           {
            "marker": {
             "colorbar": {
              "outlinewidth": 0,
              "ticks": ""
             }
            },
            "type": "scattermapbox"
           }
          ],
          "scatterpolar": [
           {
            "marker": {
             "colorbar": {
              "outlinewidth": 0,
              "ticks": ""
             }
            },
            "type": "scatterpolar"
           }
          ],
          "scatterpolargl": [
           {
            "marker": {
             "colorbar": {
              "outlinewidth": 0,
              "ticks": ""
             }
            },
            "type": "scatterpolargl"
           }
          ],
          "scatterternary": [
           {
            "marker": {
             "colorbar": {
              "outlinewidth": 0,
              "ticks": ""
             }
            },
            "type": "scatterternary"
           }
          ],
          "surface": [
           {
            "colorbar": {
             "outlinewidth": 0,
             "ticks": ""
            },
            "colorscale": [
             [
              0,
              "#0d0887"
             ],
             [
              0.1111111111111111,
              "#46039f"
             ],
             [
              0.2222222222222222,
              "#7201a8"
             ],
             [
              0.3333333333333333,
              "#9c179e"
             ],
             [
              0.4444444444444444,
              "#bd3786"
             ],
             [
              0.5555555555555556,
              "#d8576b"
             ],
             [
              0.6666666666666666,
              "#ed7953"
             ],
             [
              0.7777777777777778,
              "#fb9f3a"
             ],
             [
              0.8888888888888888,
              "#fdca26"
             ],
             [
              1,
              "#f0f921"
             ]
            ],
            "type": "surface"
           }
          ],
          "table": [
           {
            "cells": {
             "fill": {
              "color": "#EBF0F8"
             },
             "line": {
              "color": "white"
             }
            },
            "header": {
             "fill": {
              "color": "#C8D4E3"
             },
             "line": {
              "color": "white"
             }
            },
            "type": "table"
           }
          ]
         },
         "layout": {
          "annotationdefaults": {
           "arrowcolor": "#2a3f5f",
           "arrowhead": 0,
           "arrowwidth": 1
          },
          "coloraxis": {
           "colorbar": {
            "outlinewidth": 0,
            "ticks": ""
           }
          },
          "colorscale": {
           "diverging": [
            [
             0,
             "#8e0152"
            ],
            [
             0.1,
             "#c51b7d"
            ],
            [
             0.2,
             "#de77ae"
            ],
            [
             0.3,
             "#f1b6da"
            ],
            [
             0.4,
             "#fde0ef"
            ],
            [
             0.5,
             "#f7f7f7"
            ],
            [
             0.6,
             "#e6f5d0"
            ],
            [
             0.7,
             "#b8e186"
            ],
            [
             0.8,
             "#7fbc41"
            ],
            [
             0.9,
             "#4d9221"
            ],
            [
             1,
             "#276419"
            ]
           ],
           "sequential": [
            [
             0,
             "#0d0887"
            ],
            [
             0.1111111111111111,
             "#46039f"
            ],
            [
             0.2222222222222222,
             "#7201a8"
            ],
            [
             0.3333333333333333,
             "#9c179e"
            ],
            [
             0.4444444444444444,
             "#bd3786"
            ],
            [
             0.5555555555555556,
             "#d8576b"
            ],
            [
             0.6666666666666666,
             "#ed7953"
            ],
            [
             0.7777777777777778,
             "#fb9f3a"
            ],
            [
             0.8888888888888888,
             "#fdca26"
            ],
            [
             1,
             "#f0f921"
            ]
           ],
           "sequentialminus": [
            [
             0,
             "#0d0887"
            ],
            [
             0.1111111111111111,
             "#46039f"
            ],
            [
             0.2222222222222222,
             "#7201a8"
            ],
            [
             0.3333333333333333,
             "#9c179e"
            ],
            [
             0.4444444444444444,
             "#bd3786"
            ],
            [
             0.5555555555555556,
             "#d8576b"
            ],
            [
             0.6666666666666666,
             "#ed7953"
            ],
            [
             0.7777777777777778,
             "#fb9f3a"
            ],
            [
             0.8888888888888888,
             "#fdca26"
            ],
            [
             1,
             "#f0f921"
            ]
           ]
          },
          "colorway": [
           "#636efa",
           "#EF553B",
           "#00cc96",
           "#ab63fa",
           "#FFA15A",
           "#19d3f3",
           "#FF6692",
           "#B6E880",
           "#FF97FF",
           "#FECB52"
          ],
          "font": {
           "color": "#2a3f5f"
          },
          "geo": {
           "bgcolor": "white",
           "lakecolor": "white",
           "landcolor": "#E5ECF6",
           "showlakes": true,
           "showland": true,
           "subunitcolor": "white"
          },
          "hoverlabel": {
           "align": "left"
          },
          "hovermode": "closest",
          "mapbox": {
           "style": "light"
          },
          "paper_bgcolor": "white",
          "plot_bgcolor": "#E5ECF6",
          "polar": {
           "angularaxis": {
            "gridcolor": "white",
            "linecolor": "white",
            "ticks": ""
           },
           "bgcolor": "#E5ECF6",
           "radialaxis": {
            "gridcolor": "white",
            "linecolor": "white",
            "ticks": ""
           }
          },
          "scene": {
           "xaxis": {
            "backgroundcolor": "#E5ECF6",
            "gridcolor": "white",
            "gridwidth": 2,
            "linecolor": "white",
            "showbackground": true,
            "ticks": "",
            "zerolinecolor": "white"
           },
           "yaxis": {
            "backgroundcolor": "#E5ECF6",
            "gridcolor": "white",
            "gridwidth": 2,
            "linecolor": "white",
            "showbackground": true,
            "ticks": "",
            "zerolinecolor": "white"
           },
           "zaxis": {
            "backgroundcolor": "#E5ECF6",
            "gridcolor": "white",
            "gridwidth": 2,
            "linecolor": "white",
            "showbackground": true,
            "ticks": "",
            "zerolinecolor": "white"
           }
          },
          "shapedefaults": {
           "line": {
            "color": "#2a3f5f"
           }
          },
          "ternary": {
           "aaxis": {
            "gridcolor": "white",
            "linecolor": "white",
            "ticks": ""
           },
           "baxis": {
            "gridcolor": "white",
            "linecolor": "white",
            "ticks": ""
           },
           "bgcolor": "#E5ECF6",
           "caxis": {
            "gridcolor": "white",
            "linecolor": "white",
            "ticks": ""
           }
          },
          "title": {
           "x": 0.05
          },
          "xaxis": {
           "automargin": true,
           "gridcolor": "white",
           "linecolor": "white",
           "ticks": "",
           "title": {
            "standoff": 15
           },
           "zerolinecolor": "white",
           "zerolinewidth": 2
          },
          "yaxis": {
           "automargin": true,
           "gridcolor": "white",
           "linecolor": "white",
           "ticks": "",
           "title": {
            "standoff": 15
           },
           "zerolinecolor": "white",
           "zerolinewidth": 2
          }
         }
        },
        "title": {
         "text": "Age Distribution of Label 0"
        },
        "width": 800
       }
      },
      "text/html": [
       "<div>\n",
       "        \n",
       "        \n",
       "            <div id=\"f1d0abd8-1afb-41ab-aa42-fbf965dcd8a3\" class=\"plotly-graph-div\" style=\"height:500px; width:800px;\"></div>\n",
       "            <script type=\"text/javascript\">\n",
       "                require([\"plotly\"], function(Plotly) {\n",
       "                    window.PLOTLYENV=window.PLOTLYENV || {};\n",
       "                    \n",
       "                if (document.getElementById(\"f1d0abd8-1afb-41ab-aa42-fbf965dcd8a3\")) {\n",
       "                    Plotly.newPlot(\n",
       "                        'f1d0abd8-1afb-41ab-aa42-fbf965dcd8a3',\n",
       "                        [{\"name\": \"Age\", \"text\": [0.05, 0.05, 0.05, 0.04, 0.04, 0.04, 0.04, 0.04, 0.03, 0.03, 0.03, 0.03, 0.03, 0.03, 0.03, 0.03, 0.03, 0.02, 0.02, 0.02, 0.02, 0.02, 0.02, 0.02, 0.02, 0.02, 0.02, 0.02, 0.02, 0.02, 0.02, 0.02, 0.02, 0.01, 0.01, 0.01, 0.0, 0.0, 0.0, 0.0, 0.0, 0.0, 0.0, 0.0, 0.0, 0.0, 0.0, 0.0, 0.0, 0.0, 0.0, 0.0, 0.0, 0.0, 0.0, 0.0, 0.0, 0.0, 0.0, 0.0, 0.0, 0.0, 0.0, 0.0], \"textposition\": \"inside\", \"type\": \"bar\", \"x\": [34, 32, 31, 36, 33, 35, 37, 38, 30, 40, 42, 41, 39, 48, 46, 43, 45, 44, 49, 47, 50, 57, 28, 51, 29, 58, 27, 53, 55, 52, 26, 56, 54, 59, 60, 25, 24, 23, 61, 70, 66, 22, 21, 65, 64, 63, 62, 67, 69, 80, 72, 71, 73, 75, 77, 83, 19, 76, 78, 79, 20, 74, 86, 81], \"y\": [0.05, 0.05, 0.05, 0.04, 0.04, 0.04, 0.04, 0.04, 0.03, 0.03, 0.03, 0.03, 0.03, 0.03, 0.03, 0.03, 0.03, 0.02, 0.02, 0.02, 0.02, 0.02, 0.02, 0.02, 0.02, 0.02, 0.02, 0.02, 0.02, 0.02, 0.02, 0.02, 0.02, 0.01, 0.01, 0.01, 0.0, 0.0, 0.0, 0.0, 0.0, 0.0, 0.0, 0.0, 0.0, 0.0, 0.0, 0.0, 0.0, 0.0, 0.0, 0.0, 0.0, 0.0, 0.0, 0.0, 0.0, 0.0, 0.0, 0.0, 0.0, 0.0, 0.0, 0.0]}],\n",
       "                        {\"autosize\": false, \"height\": 500, \"template\": {\"data\": {\"bar\": [{\"error_x\": {\"color\": \"#2a3f5f\"}, \"error_y\": {\"color\": \"#2a3f5f\"}, \"marker\": {\"line\": {\"color\": \"#E5ECF6\", \"width\": 0.5}}, \"type\": \"bar\"}], \"barpolar\": [{\"marker\": {\"line\": {\"color\": \"#E5ECF6\", \"width\": 0.5}}, \"type\": \"barpolar\"}], \"carpet\": [{\"aaxis\": {\"endlinecolor\": \"#2a3f5f\", \"gridcolor\": \"white\", \"linecolor\": \"white\", \"minorgridcolor\": \"white\", \"startlinecolor\": \"#2a3f5f\"}, \"baxis\": {\"endlinecolor\": \"#2a3f5f\", \"gridcolor\": \"white\", \"linecolor\": \"white\", \"minorgridcolor\": \"white\", \"startlinecolor\": \"#2a3f5f\"}, \"type\": \"carpet\"}], \"choropleth\": [{\"colorbar\": {\"outlinewidth\": 0, \"ticks\": \"\"}, \"type\": \"choropleth\"}], \"contour\": [{\"colorbar\": {\"outlinewidth\": 0, \"ticks\": \"\"}, \"colorscale\": [[0.0, \"#0d0887\"], [0.1111111111111111, \"#46039f\"], [0.2222222222222222, \"#7201a8\"], [0.3333333333333333, \"#9c179e\"], [0.4444444444444444, \"#bd3786\"], [0.5555555555555556, \"#d8576b\"], [0.6666666666666666, \"#ed7953\"], [0.7777777777777778, \"#fb9f3a\"], [0.8888888888888888, \"#fdca26\"], [1.0, \"#f0f921\"]], \"type\": \"contour\"}], \"contourcarpet\": [{\"colorbar\": {\"outlinewidth\": 0, \"ticks\": \"\"}, \"type\": \"contourcarpet\"}], \"heatmap\": [{\"colorbar\": {\"outlinewidth\": 0, \"ticks\": \"\"}, \"colorscale\": [[0.0, \"#0d0887\"], [0.1111111111111111, \"#46039f\"], [0.2222222222222222, \"#7201a8\"], [0.3333333333333333, \"#9c179e\"], [0.4444444444444444, \"#bd3786\"], [0.5555555555555556, \"#d8576b\"], [0.6666666666666666, \"#ed7953\"], [0.7777777777777778, \"#fb9f3a\"], [0.8888888888888888, \"#fdca26\"], [1.0, \"#f0f921\"]], \"type\": \"heatmap\"}], \"heatmapgl\": [{\"colorbar\": {\"outlinewidth\": 0, \"ticks\": \"\"}, \"colorscale\": [[0.0, \"#0d0887\"], [0.1111111111111111, \"#46039f\"], [0.2222222222222222, \"#7201a8\"], [0.3333333333333333, \"#9c179e\"], [0.4444444444444444, \"#bd3786\"], [0.5555555555555556, \"#d8576b\"], [0.6666666666666666, \"#ed7953\"], [0.7777777777777778, \"#fb9f3a\"], [0.8888888888888888, \"#fdca26\"], [1.0, \"#f0f921\"]], \"type\": \"heatmapgl\"}], \"histogram\": [{\"marker\": {\"colorbar\": {\"outlinewidth\": 0, \"ticks\": \"\"}}, \"type\": \"histogram\"}], \"histogram2d\": [{\"colorbar\": {\"outlinewidth\": 0, \"ticks\": \"\"}, \"colorscale\": [[0.0, \"#0d0887\"], [0.1111111111111111, \"#46039f\"], [0.2222222222222222, \"#7201a8\"], [0.3333333333333333, \"#9c179e\"], [0.4444444444444444, \"#bd3786\"], [0.5555555555555556, \"#d8576b\"], [0.6666666666666666, \"#ed7953\"], [0.7777777777777778, \"#fb9f3a\"], [0.8888888888888888, \"#fdca26\"], [1.0, \"#f0f921\"]], \"type\": \"histogram2d\"}], \"histogram2dcontour\": [{\"colorbar\": {\"outlinewidth\": 0, \"ticks\": \"\"}, \"colorscale\": [[0.0, \"#0d0887\"], [0.1111111111111111, \"#46039f\"], [0.2222222222222222, \"#7201a8\"], [0.3333333333333333, \"#9c179e\"], [0.4444444444444444, \"#bd3786\"], [0.5555555555555556, \"#d8576b\"], [0.6666666666666666, \"#ed7953\"], [0.7777777777777778, \"#fb9f3a\"], [0.8888888888888888, \"#fdca26\"], [1.0, \"#f0f921\"]], \"type\": \"histogram2dcontour\"}], \"mesh3d\": [{\"colorbar\": {\"outlinewidth\": 0, \"ticks\": \"\"}, \"type\": \"mesh3d\"}], \"parcoords\": [{\"line\": {\"colorbar\": {\"outlinewidth\": 0, \"ticks\": \"\"}}, \"type\": \"parcoords\"}], \"pie\": [{\"automargin\": true, \"type\": \"pie\"}], \"scatter\": [{\"marker\": {\"colorbar\": {\"outlinewidth\": 0, \"ticks\": \"\"}}, \"type\": \"scatter\"}], \"scatter3d\": [{\"line\": {\"colorbar\": {\"outlinewidth\": 0, \"ticks\": \"\"}}, \"marker\": {\"colorbar\": {\"outlinewidth\": 0, \"ticks\": \"\"}}, \"type\": \"scatter3d\"}], \"scattercarpet\": [{\"marker\": {\"colorbar\": {\"outlinewidth\": 0, \"ticks\": \"\"}}, \"type\": \"scattercarpet\"}], \"scattergeo\": [{\"marker\": {\"colorbar\": {\"outlinewidth\": 0, \"ticks\": \"\"}}, \"type\": \"scattergeo\"}], \"scattergl\": [{\"marker\": {\"colorbar\": {\"outlinewidth\": 0, \"ticks\": \"\"}}, \"type\": \"scattergl\"}], \"scattermapbox\": [{\"marker\": {\"colorbar\": {\"outlinewidth\": 0, \"ticks\": \"\"}}, \"type\": \"scattermapbox\"}], \"scatterpolar\": [{\"marker\": {\"colorbar\": {\"outlinewidth\": 0, \"ticks\": \"\"}}, \"type\": \"scatterpolar\"}], \"scatterpolargl\": [{\"marker\": {\"colorbar\": {\"outlinewidth\": 0, \"ticks\": \"\"}}, \"type\": \"scatterpolargl\"}], \"scatterternary\": [{\"marker\": {\"colorbar\": {\"outlinewidth\": 0, \"ticks\": \"\"}}, \"type\": \"scatterternary\"}], \"surface\": [{\"colorbar\": {\"outlinewidth\": 0, \"ticks\": \"\"}, \"colorscale\": [[0.0, \"#0d0887\"], [0.1111111111111111, \"#46039f\"], [0.2222222222222222, \"#7201a8\"], [0.3333333333333333, \"#9c179e\"], [0.4444444444444444, \"#bd3786\"], [0.5555555555555556, \"#d8576b\"], [0.6666666666666666, \"#ed7953\"], [0.7777777777777778, \"#fb9f3a\"], [0.8888888888888888, \"#fdca26\"], [1.0, \"#f0f921\"]], \"type\": \"surface\"}], \"table\": [{\"cells\": {\"fill\": {\"color\": \"#EBF0F8\"}, \"line\": {\"color\": \"white\"}}, \"header\": {\"fill\": {\"color\": \"#C8D4E3\"}, \"line\": {\"color\": \"white\"}}, \"type\": \"table\"}]}, \"layout\": {\"annotationdefaults\": {\"arrowcolor\": \"#2a3f5f\", \"arrowhead\": 0, \"arrowwidth\": 1}, \"coloraxis\": {\"colorbar\": {\"outlinewidth\": 0, \"ticks\": \"\"}}, \"colorscale\": {\"diverging\": [[0, \"#8e0152\"], [0.1, \"#c51b7d\"], [0.2, \"#de77ae\"], [0.3, \"#f1b6da\"], [0.4, \"#fde0ef\"], [0.5, \"#f7f7f7\"], [0.6, \"#e6f5d0\"], [0.7, \"#b8e186\"], [0.8, \"#7fbc41\"], [0.9, \"#4d9221\"], [1, \"#276419\"]], \"sequential\": [[0.0, \"#0d0887\"], [0.1111111111111111, \"#46039f\"], [0.2222222222222222, \"#7201a8\"], [0.3333333333333333, \"#9c179e\"], [0.4444444444444444, \"#bd3786\"], [0.5555555555555556, \"#d8576b\"], [0.6666666666666666, \"#ed7953\"], [0.7777777777777778, \"#fb9f3a\"], [0.8888888888888888, \"#fdca26\"], [1.0, \"#f0f921\"]], \"sequentialminus\": [[0.0, \"#0d0887\"], [0.1111111111111111, \"#46039f\"], [0.2222222222222222, \"#7201a8\"], [0.3333333333333333, \"#9c179e\"], [0.4444444444444444, \"#bd3786\"], [0.5555555555555556, \"#d8576b\"], [0.6666666666666666, \"#ed7953\"], [0.7777777777777778, \"#fb9f3a\"], [0.8888888888888888, \"#fdca26\"], [1.0, \"#f0f921\"]]}, \"colorway\": [\"#636efa\", \"#EF553B\", \"#00cc96\", \"#ab63fa\", \"#FFA15A\", \"#19d3f3\", \"#FF6692\", \"#B6E880\", \"#FF97FF\", \"#FECB52\"], \"font\": {\"color\": \"#2a3f5f\"}, \"geo\": {\"bgcolor\": \"white\", \"lakecolor\": \"white\", \"landcolor\": \"#E5ECF6\", \"showlakes\": true, \"showland\": true, \"subunitcolor\": \"white\"}, \"hoverlabel\": {\"align\": \"left\"}, \"hovermode\": \"closest\", \"mapbox\": {\"style\": \"light\"}, \"paper_bgcolor\": \"white\", \"plot_bgcolor\": \"#E5ECF6\", \"polar\": {\"angularaxis\": {\"gridcolor\": \"white\", \"linecolor\": \"white\", \"ticks\": \"\"}, \"bgcolor\": \"#E5ECF6\", \"radialaxis\": {\"gridcolor\": \"white\", \"linecolor\": \"white\", \"ticks\": \"\"}}, \"scene\": {\"xaxis\": {\"backgroundcolor\": \"#E5ECF6\", \"gridcolor\": \"white\", \"gridwidth\": 2, \"linecolor\": \"white\", \"showbackground\": true, \"ticks\": \"\", \"zerolinecolor\": \"white\"}, \"yaxis\": {\"backgroundcolor\": \"#E5ECF6\", \"gridcolor\": \"white\", \"gridwidth\": 2, \"linecolor\": \"white\", \"showbackground\": true, \"ticks\": \"\", \"zerolinecolor\": \"white\"}, \"zaxis\": {\"backgroundcolor\": \"#E5ECF6\", \"gridcolor\": \"white\", \"gridwidth\": 2, \"linecolor\": \"white\", \"showbackground\": true, \"ticks\": \"\", \"zerolinecolor\": \"white\"}}, \"shapedefaults\": {\"line\": {\"color\": \"#2a3f5f\"}}, \"ternary\": {\"aaxis\": {\"gridcolor\": \"white\", \"linecolor\": \"white\", \"ticks\": \"\"}, \"baxis\": {\"gridcolor\": \"white\", \"linecolor\": \"white\", \"ticks\": \"\"}, \"bgcolor\": \"#E5ECF6\", \"caxis\": {\"gridcolor\": \"white\", \"linecolor\": \"white\", \"ticks\": \"\"}}, \"title\": {\"x\": 0.05}, \"xaxis\": {\"automargin\": true, \"gridcolor\": \"white\", \"linecolor\": \"white\", \"ticks\": \"\", \"title\": {\"standoff\": 15}, \"zerolinecolor\": \"white\", \"zerolinewidth\": 2}, \"yaxis\": {\"automargin\": true, \"gridcolor\": \"white\", \"linecolor\": \"white\", \"ticks\": \"\", \"title\": {\"standoff\": 15}, \"zerolinecolor\": \"white\", \"zerolinewidth\": 2}}}, \"title\": {\"text\": \"Age Distribution of Label 0\"}, \"width\": 800},\n",
       "                        {\"responsive\": true}\n",
       "                    ).then(function(){\n",
       "                            \n",
       "var gd = document.getElementById('f1d0abd8-1afb-41ab-aa42-fbf965dcd8a3');\n",
       "var x = new MutationObserver(function (mutations, observer) {{\n",
       "        var display = window.getComputedStyle(gd).display;\n",
       "        if (!display || display === 'none') {{\n",
       "            console.log([gd, 'removed!']);\n",
       "            Plotly.purge(gd);\n",
       "            observer.disconnect();\n",
       "        }}\n",
       "}});\n",
       "\n",
       "// Listen for the removal of the full notebook cells\n",
       "var notebookContainer = gd.closest('#notebook-container');\n",
       "if (notebookContainer) {{\n",
       "    x.observe(notebookContainer, {childList: true});\n",
       "}}\n",
       "\n",
       "// Listen for the clearing of the current output cell\n",
       "var outputEl = gd.closest('.output');\n",
       "if (outputEl) {{\n",
       "    x.observe(outputEl, {childList: true});\n",
       "}}\n",
       "\n",
       "                        })\n",
       "                };\n",
       "                });\n",
       "            </script>\n",
       "        </div>"
      ]
     },
     "metadata": {},
     "output_type": "display_data"
    }
   ],
   "source": [
    "temp = bank_data_L0.age.value_counts()\n",
    "\n",
    "trace = go.Bar(x=temp.index,  y= np.round(temp.astype(float)/temp.values.sum(),2),\n",
    "               text = np.round(temp.astype(float)/temp.values.sum(),2),\n",
    "               textposition = 'inside',\n",
    "               name = 'Age')\n",
    "data = [trace]\n",
    "layout = go.Layout(autosize=False, width=800, height=500,title = \"Age Distribution of Label 0\")\n",
    "\n",
    "fig = go.Figure(data=data, layout=layout)\n",
    "iplot(fig)\n",
    "#del temp"
   ]
  },
  {
   "cell_type": "code",
   "execution_count": 38,
   "metadata": {},
   "outputs": [],
   "source": [
    "#I want to show distribution of one variable for label 0 and 1's using two different bars in same chart"
   ]
  },
  {
   "cell_type": "code",
   "execution_count": 39,
   "metadata": {},
   "outputs": [
    {
     "name": "stdout",
     "output_type": "stream",
     "text": [
      "Number of unique values in age column are 67 \n",
      " The unique values are [30 33 35 59 36 39 41 43 20 31 40 56 37 25 38 42 44 26 55 67 53 68 32 49\n",
      " 78 23 52 34 61 45 48 57 54 63 51 29 50 27 60 28 21 58 22 46 24 77 75 47\n",
      " 70 65 64 62 66 19 81 83 80 71 72 69 79 73 86 74 76 87 84]\n",
      "---------------------- \n",
      "\n",
      "Number of unique values in job column are 12 \n",
      " The unique values are ['unemployed' 'services' 'management' 'blue-collar' 'self-employed'\n",
      " 'technician' 'entrepreneur' 'admin.' 'student' 'housemaid' 'retired'\n",
      " 'unknown']\n",
      "---------------------- \n",
      "\n",
      "Number of unique values in marital column are 3 \n",
      " The unique values are ['married' 'single' 'divorced']\n",
      "---------------------- \n",
      "\n",
      "Number of unique values in education column are 4 \n",
      " The unique values are ['primary' 'secondary' 'tertiary' 'unknown']\n",
      "---------------------- \n",
      "\n",
      "Number of unique values in default column are 2 \n",
      " The unique values are ['no' 'yes']\n",
      "---------------------- \n",
      "\n",
      "Number of unique values in balance column are 2353 \n",
      " The unique values are [ 1787  4789  1350 ...  -333 -3313  1137]\n",
      "---------------------- \n",
      "\n",
      "Number of unique values in housing column are 2 \n",
      " The unique values are ['no' 'yes']\n",
      "---------------------- \n",
      "\n",
      "Number of unique values in loan column are 2 \n",
      " The unique values are ['no' 'yes']\n",
      "---------------------- \n",
      "\n",
      "Number of unique values in contact column are 3 \n",
      " The unique values are ['cellular' 'unknown' 'telephone']\n",
      "---------------------- \n",
      "\n",
      "Number of unique values in day column are 31 \n",
      " The unique values are [19 11 16  3  5 23 14  6 17 20 13 30 29 27  7 18 12 21 26 22  2  4 15  8\n",
      " 28  9  1 10 31 25 24]\n",
      "---------------------- \n",
      "\n",
      "Number of unique values in month column are 12 \n",
      " The unique values are ['oct' 'may' 'apr' 'jun' 'feb' 'aug' 'jan' 'jul' 'nov' 'sep' 'mar' 'dec']\n",
      "---------------------- \n",
      "\n",
      "Number of unique values in duration column are 875 \n",
      " The unique values are [  79  220  185  199  226  141  341  151   57  313  273  113  328  261\n",
      "   89  189  239  114  250  148   96  140  109  125  169  182  247  119\n",
      "  149   74  897   81   40  958  354  150   97  132  765   16  609  106\n",
      "  365  205   11  105   59  425  204  181 1018 1740   98  441  272  159\n",
      "  295  314  579  554  323  227  134  223  155  130  630  164  268  380\n",
      "  154  221   67  367   87  701  652   63  398  224  406   60  521  279\n",
      "  203  201  372  391  165  231  291  233  473  736  337  553  345   65\n",
      "    9  259  371  280  243  435  258    7  317   76  170  386   83   69\n",
      "  564  588  779  281 1877   51   32  176  161  187   24   85  236   54\n",
      "   71  489   39  455   86  190   45  168  194  103  333  102   92  213\n",
      "  289   77  324   84   10   35   82  676   80  549  135  412  101  253\n",
      "  166   18  147   14   61  377  152  382  543  240   48  471  285  301\n",
      "  768 1337  403  139  196  115   17   95  198  654  256  834   20  178\n",
      "  111  186  297  210  112  222  195  123  145  124  216  483  690  344\n",
      "  673  144  246  361  375 1097  180  373  230   58   88  487   29  484\n",
      "  262  644  699   49   64  121  197  331  138  312  120  526  211   62\n",
      "  988  451 1030 1484  445  383  605  330  171  442  772  249  357  271\n",
      "  783  472  395   56  641  429  157  162  799 1370   22  215 1017  298\n",
      "  126    8  555  270  339  342 1434   30  397  620    6  209  419  283\n",
      "  188  267  245 1065  207  456  131   94  567  153   53  234  108  208\n",
      "  597  505  332  212  493  681  287  202   37   72  325 1212  319  514\n",
      "  551  142  293  107  127 1816  200  418  387  156   47  265   31   28\n",
      "  369  854   46  266  321   99  430  264  118  343    5  722  748  523\n",
      "  421   15  502  193  347  468  388 1735  172  117  587  501  282  110\n",
      "  104  378 1407  738   70  904  336  238  585   68 1713  218  661  566\n",
      "  136  160   44  792   73   90  346  192  682  651  405  350   36  389\n",
      " 3025  219  427  533   19  819  278  617   34  668   75  146  356  251\n",
      "  352  184  568  260  447  426  174  284  428  237 1031  700  590   43\n",
      "   27 1181  122  307  770  767  232  986   66  158  306  559  183  631\n",
      " 1282 1199  244   55  290  385  133   91   25  275  632  100   41  446\n",
      "  304  335  276   42  614  557 1663  510 1259  225  404 1015  761  464\n",
      "  206  667  143  717   38  254  882  957  299  167  500  177  457  460\n",
      " 1028  315  381  643  508  128  492  257  241  536  601 1168  277  364\n",
      "  229  402  175  255  820  116  463  603  191 2087  754  303  288  891\n",
      "  558  228  353  296  432 1130  305  274  860  420  756  968  408   13\n",
      "  763  316   50    4   78  286  766  648  688   21  593  407  563   52\n",
      "  803  396  637  945 1178  506  409  327  618  936  329  179  731  670\n",
      "  318  415  137  349  263  671  452  163  586  650  610  747  252  883\n",
      "  684  686 1060  724  424  712  753 1081  376  433  411 1083  757  524\n",
      "  653   93  503  217  475  340  242  530   23  935  773  423  626  578\n",
      "  248  528  785  952 1174  915  937  129 1063  758  574  847 1558  789\n",
      " 1441  322 1504  537  611   26   12  235  796 1126  697  931 1034  362\n",
      "  410  570  633  659  302  727  214  173  635  540 1210  486  646  326\n",
      "  414  716  449  580  399 1029  755  619  606  971  348  594 1275  379\n",
      " 1032  393  808  923  413  541  602  762  360  310  311  638  355  300\n",
      "  417  308  657  434  488 1309 1056  908  401  827  735  691  461  669\n",
      " 1473 1386  294  910  550 1366 1532  955  513 1236  809  482 1164  674\n",
      "  709  436  374  309  363  422  358  640  439  476  480  517  993   33\n",
      "  730  636  750  334  868  351 1689  607  485 1021  732  577  733  788\n",
      "  863 1073  525  696  535  370  465  338  956  546  470  836  544  443\n",
      " 1149  707 1451 1143  477  450  467  292  806  560  759 1183  598  466\n",
      "  431  269  542  562  515 1165  547  780  916  474  509  679 1472  965\n",
      " 1139  504  672  749  454  531  479  384  973  728  656  998  320  615\n",
      "  612  664  394  877 1971 1258  599  655 1994  743  924  929  491  719\n",
      "  565 1529  390 1467 1007  665  990  582  458  775  497  698  702  520\n",
      " 1156  884 1521  359  527  994 1579  437 1225  865  569 1011  814  984\n",
      "  392  595 1448  529 1006  622  494 1022 1044  781 1124  400  516 1516\n",
      "  978  720  495  798  876  875  481  793 1117 1223 1101  744 2769  561\n",
      "  715  639  538 1721 1608  725  519  490  907  680  977  959  693 2029\n",
      " 1009  718  805  623  976  600  469 1010  634 1531  764  532  825  539\n",
      "  816  821 1231  742 2456  721  777  548  830  645  723  746  869 1173\n",
      "  624  518  815  857  921  627  800  366 1088  812  866 1151  873  592\n",
      "  663  576 1476  951 1234 1263  660]\n",
      "---------------------- \n",
      "\n",
      "Number of unique values in campaign column are 32 \n",
      " The unique values are [ 1  4  2  5  3  6 18 10  9  7 12 14 13 24 11  8 29 32 16 22 15 30 25 21\n",
      " 17 19 23 20 50 28 31 44]\n",
      "---------------------- \n",
      "\n",
      "Number of unique values in pdays column are 292 \n",
      " The unique values are [ -1 339 330 176 147 241 152 105 342 101   5  92  56 170 182 297 196 460\n",
      " 137 367 145 169 207 266 288 168 345 436  90 183 146 335 347 119   7 271\n",
      " 181  88 141 126  61 373 351 242  62  91 308 250 172 265  78  28  79   1\n",
      " 188 167  89 164 462 209 321 254  94 364  96 356 149 363 275 325 341 260\n",
      " 358  87 303  98 327 337 322 102  99 370  84 212  63  81 191 360 332  80\n",
      "  85 247 150 175 382 261 336  58 206 112 199 133 208 253 135 278 140 298\n",
      " 273 124 281 162 323 349 117   2 256 333 116 268 136 198 357 259 353 174\n",
      " 371 205 246  69 315 110 461 184 270 127 187  64 130 346 100 352 808 113\n",
      " 378 292 287 107 293 139 138 193 274  97 103 359 185 674 211 300 334 280\n",
      " 479  95 262 362 225   3 366  60 190 368 122 343 131 365 299 115 316 180\n",
      " 154 313 264 350  73 232 204 143 375 186 344 210 248 177 221 189 104 258\n",
      " 305 171 120 317 178 386 118 404 374 282 179 284 227 291 173 871 238 294\n",
      " 222 435 340 426 239  83 111 415 255 235 244  38 683 329  59 151 192 158\n",
      " 338 388 165 348 197 295 109 484 326 369 397 414 319 474  93 249 272 355\n",
      " 195  82 541 231 153 201 761 114 385 267 161 467  75 106 223 312 148 309\n",
      " 283  86 166 160 450 500 311 123 159 687 224 361  74  76 286  77  57 219\n",
      " 331 804 144 234]\n",
      "---------------------- \n",
      "\n",
      "Number of unique values in previous column are 24 \n",
      " The unique values are [ 0  4  1  3  2  5 20  7  6 10  9  8 18 19 12 13 11 14 15 24 17 22 23 25]\n",
      "---------------------- \n",
      "\n",
      "Number of unique values in poutcome column are 4 \n",
      " The unique values are ['unknown' 'failure' 'other' 'success']\n",
      "---------------------- \n",
      "\n",
      "Number of unique values in y column are 2 \n",
      " The unique values are ['no' 'yes']\n",
      "---------------------- \n",
      "\n"
     ]
    }
   ],
   "source": [
    "for i in bank_data.columns:\n",
    "    print (\"Number of unique values in {} column are {} \\n The unique values are {}\".format(i, len(bank_data[i].unique()),bank_data[i].unique()))\n",
    "    print (\"---------------------- \\n\")"
   ]
  },
  {
   "cell_type": "code",
   "execution_count": 40,
   "metadata": {},
   "outputs": [
    {
     "ename": "NameError",
     "evalue": "name 'hr_data' is not defined",
     "output_type": "error",
     "traceback": [
      "\u001b[1;31m---------------------------------------------------------------------------\u001b[0m",
      "\u001b[1;31mNameError\u001b[0m                                 Traceback (most recent call last)",
      "\u001b[1;32m<ipython-input-40-5affc85bfe6a>\u001b[0m in \u001b[0;36m<module>\u001b[1;34m\u001b[0m\n\u001b[1;32m----> 1\u001b[1;33m \u001b[0mhr_data\u001b[0m\u001b[1;33m[\u001b[0m\u001b[1;34m'Distance_Bins'\u001b[0m\u001b[1;33m]\u001b[0m\u001b[1;33m=\u001b[0m\u001b[1;33m(\u001b[0m\u001b[0mnp\u001b[0m\u001b[1;33m.\u001b[0m\u001b[0mdigitize\u001b[0m\u001b[1;33m(\u001b[0m\u001b[0mhr_data\u001b[0m\u001b[1;33m.\u001b[0m\u001b[0mDistanceFromHome\u001b[0m\u001b[1;33m,\u001b[0m\u001b[1;33m[\u001b[0m\u001b[1;36m0\u001b[0m\u001b[1;33m,\u001b[0m\u001b[1;36m5\u001b[0m\u001b[1;33m,\u001b[0m\u001b[1;36m15\u001b[0m\u001b[1;33m,\u001b[0m\u001b[0mnp\u001b[0m\u001b[1;33m.\u001b[0m\u001b[0mmax\u001b[0m\u001b[1;33m(\u001b[0m\u001b[0mhr_data\u001b[0m\u001b[1;33m.\u001b[0m\u001b[0mDistanceFromHome\u001b[0m\u001b[1;33m)\u001b[0m\u001b[1;33m]\u001b[0m\u001b[1;33m,\u001b[0m\u001b[0mright\u001b[0m\u001b[1;33m=\u001b[0m\u001b[1;32mTrue\u001b[0m\u001b[1;33m)\u001b[0m\u001b[1;33m)\u001b[0m\u001b[1;33m\u001b[0m\u001b[1;33m\u001b[0m\u001b[0m\n\u001b[0m\u001b[0;32m      2\u001b[0m \u001b[0mtemp\u001b[0m \u001b[1;33m=\u001b[0m \u001b[0mhr_data\u001b[0m\u001b[1;33m.\u001b[0m\u001b[0mgroupby\u001b[0m\u001b[1;33m(\u001b[0m\u001b[1;33m[\u001b[0m\u001b[1;34m'Distance_Bins'\u001b[0m\u001b[1;33m,\u001b[0m\u001b[1;34m'Gender'\u001b[0m\u001b[1;33m]\u001b[0m\u001b[1;33m)\u001b[0m\u001b[1;33m.\u001b[0m\u001b[0msize\u001b[0m\u001b[1;33m(\u001b[0m\u001b[1;33m)\u001b[0m\u001b[1;33m.\u001b[0m\u001b[0mto_frame\u001b[0m\u001b[1;33m(\u001b[0m\u001b[1;33m)\u001b[0m\u001b[1;33m\u001b[0m\u001b[1;33m\u001b[0m\u001b[0m\n\u001b[0;32m      3\u001b[0m \u001b[0mtemp\u001b[0m \u001b[1;33m=\u001b[0m \u001b[0mtemp\u001b[0m\u001b[1;33m.\u001b[0m\u001b[0mreset_index\u001b[0m\u001b[1;33m(\u001b[0m\u001b[1;33m)\u001b[0m\u001b[1;33m\u001b[0m\u001b[1;33m\u001b[0m\u001b[0m\n\u001b[0;32m      4\u001b[0m \u001b[0mtemp\u001b[0m\u001b[1;33m.\u001b[0m\u001b[0mcolumns\u001b[0m \u001b[1;33m=\u001b[0m \u001b[1;33m[\u001b[0m\u001b[1;34m'Distance_Bins'\u001b[0m\u001b[1;33m,\u001b[0m\u001b[1;34m'Gender'\u001b[0m\u001b[1;33m,\u001b[0m\u001b[1;34m'Count'\u001b[0m\u001b[1;33m]\u001b[0m\u001b[1;33m\u001b[0m\u001b[1;33m\u001b[0m\u001b[0m\n\u001b[0;32m      5\u001b[0m \u001b[0mtemp\u001b[0m\u001b[1;33m\u001b[0m\u001b[1;33m\u001b[0m\u001b[0m\n",
      "\u001b[1;31mNameError\u001b[0m: name 'hr_data' is not defined"
     ]
    }
   ],
   "source": [
    "hr_data['Distance_Bins']=(np.digitize(hr_data.DistanceFromHome,[0,5,15,np.max(hr_data.DistanceFromHome)],right=True))\n",
    "temp = hr_data.groupby(['Distance_Bins','Gender']).size().to_frame()\n",
    "temp = temp.reset_index()\n",
    "temp.columns = ['Distance_Bins','Gender','Count']\n",
    "temp"
   ]
  },
  {
   "cell_type": "code",
   "execution_count": 41,
   "metadata": {},
   "outputs": [
    {
     "ename": "SyntaxError",
     "evalue": "invalid syntax (<ipython-input-41-1f3a9f1c3e16>, line 1)",
     "output_type": "error",
     "traceback": [
      "\u001b[1;36m  File \u001b[1;32m\"<ipython-input-41-1f3a9f1c3e16>\"\u001b[1;36m, line \u001b[1;32m1\u001b[0m\n\u001b[1;33m    married 1\u001b[0m\n\u001b[1;37m            ^\u001b[0m\n\u001b[1;31mSyntaxError\u001b[0m\u001b[1;31m:\u001b[0m invalid syntax\n"
     ]
    }
   ],
   "source": [
    "married 1\n",
    "married 0\n",
    "single 1\n",
    "single 0\n",
    "divorced 1\n",
    "divorced 0"
   ]
  },
  {
   "cell_type": "code",
   "execution_count": 42,
   "metadata": {},
   "outputs": [
    {
     "data": {
      "text/html": [
       "<div>\n",
       "<style scoped>\n",
       "    .dataframe tbody tr th:only-of-type {\n",
       "        vertical-align: middle;\n",
       "    }\n",
       "\n",
       "    .dataframe tbody tr th {\n",
       "        vertical-align: top;\n",
       "    }\n",
       "\n",
       "    .dataframe thead th {\n",
       "        text-align: right;\n",
       "    }\n",
       "</style>\n",
       "<table border=\"1\" class=\"dataframe\">\n",
       "  <thead>\n",
       "    <tr style=\"text-align: right;\">\n",
       "      <th></th>\n",
       "      <th>marital</th>\n",
       "      <th>y</th>\n",
       "      <th>Count</th>\n",
       "    </tr>\n",
       "  </thead>\n",
       "  <tbody>\n",
       "    <tr>\n",
       "      <th>0</th>\n",
       "      <td>divorced</td>\n",
       "      <td>no</td>\n",
       "      <td>451</td>\n",
       "    </tr>\n",
       "    <tr>\n",
       "      <th>1</th>\n",
       "      <td>divorced</td>\n",
       "      <td>yes</td>\n",
       "      <td>77</td>\n",
       "    </tr>\n",
       "    <tr>\n",
       "      <th>2</th>\n",
       "      <td>married</td>\n",
       "      <td>no</td>\n",
       "      <td>2520</td>\n",
       "    </tr>\n",
       "    <tr>\n",
       "      <th>3</th>\n",
       "      <td>married</td>\n",
       "      <td>yes</td>\n",
       "      <td>277</td>\n",
       "    </tr>\n",
       "    <tr>\n",
       "      <th>4</th>\n",
       "      <td>single</td>\n",
       "      <td>no</td>\n",
       "      <td>1029</td>\n",
       "    </tr>\n",
       "    <tr>\n",
       "      <th>5</th>\n",
       "      <td>single</td>\n",
       "      <td>yes</td>\n",
       "      <td>167</td>\n",
       "    </tr>\n",
       "  </tbody>\n",
       "</table>\n",
       "</div>"
      ],
      "text/plain": [
       "    marital    y  Count\n",
       "0  divorced   no    451\n",
       "1  divorced  yes     77\n",
       "2   married   no   2520\n",
       "3   married  yes    277\n",
       "4    single   no   1029\n",
       "5    single  yes    167"
      ]
     },
     "execution_count": 42,
     "metadata": {},
     "output_type": "execute_result"
    }
   ],
   "source": [
    "temp = bank_data.groupby(['marital','y']).size().to_frame()\n",
    "temp = temp.reset_index()\n",
    "temp.columns = ['marital','y','Count']\n",
    "temp"
   ]
  },
  {
   "cell_type": "code",
   "execution_count": 43,
   "metadata": {},
   "outputs": [
    {
     "data": {
      "application/vnd.plotly.v1+json": {
       "config": {
        "linkText": "Export to plot.ly",
        "plotlyServerURL": "https://plot.ly",
        "showLink": false
       },
       "data": [
        {
         "name": "Label 1",
         "text": [
          77,
          277,
          167
         ],
         "textposition": "auto",
         "type": "bar",
         "x": [
          "divorced",
          "married",
          "single"
         ],
         "y": [
          77,
          277,
          167
         ]
        },
        {
         "name": "Label 0",
         "text": [
          451,
          2520,
          1029
         ],
         "textposition": "auto",
         "type": "bar",
         "x": [
          "divorced",
          "married",
          "single"
         ],
         "y": [
          451,
          2520,
          1029
         ]
        }
       ],
       "layout": {
        "height": 500,
        "template": {
         "data": {
          "bar": [
           {
            "error_x": {
             "color": "#2a3f5f"
            },
            "error_y": {
             "color": "#2a3f5f"
            },
            "marker": {
             "line": {
              "color": "#E5ECF6",
              "width": 0.5
             }
            },
            "type": "bar"
           }
          ],
          "barpolar": [
           {
            "marker": {
             "line": {
              "color": "#E5ECF6",
              "width": 0.5
             }
            },
            "type": "barpolar"
           }
          ],
          "carpet": [
           {
            "aaxis": {
             "endlinecolor": "#2a3f5f",
             "gridcolor": "white",
             "linecolor": "white",
             "minorgridcolor": "white",
             "startlinecolor": "#2a3f5f"
            },
            "baxis": {
             "endlinecolor": "#2a3f5f",
             "gridcolor": "white",
             "linecolor": "white",
             "minorgridcolor": "white",
             "startlinecolor": "#2a3f5f"
            },
            "type": "carpet"
           }
          ],
          "choropleth": [
           {
            "colorbar": {
             "outlinewidth": 0,
             "ticks": ""
            },
            "type": "choropleth"
           }
          ],
          "contour": [
           {
            "colorbar": {
             "outlinewidth": 0,
             "ticks": ""
            },
            "colorscale": [
             [
              0,
              "#0d0887"
             ],
             [
              0.1111111111111111,
              "#46039f"
             ],
             [
              0.2222222222222222,
              "#7201a8"
             ],
             [
              0.3333333333333333,
              "#9c179e"
             ],
             [
              0.4444444444444444,
              "#bd3786"
             ],
             [
              0.5555555555555556,
              "#d8576b"
             ],
             [
              0.6666666666666666,
              "#ed7953"
             ],
             [
              0.7777777777777778,
              "#fb9f3a"
             ],
             [
              0.8888888888888888,
              "#fdca26"
             ],
             [
              1,
              "#f0f921"
             ]
            ],
            "type": "contour"
           }
          ],
          "contourcarpet": [
           {
            "colorbar": {
             "outlinewidth": 0,
             "ticks": ""
            },
            "type": "contourcarpet"
           }
          ],
          "heatmap": [
           {
            "colorbar": {
             "outlinewidth": 0,
             "ticks": ""
            },
            "colorscale": [
             [
              0,
              "#0d0887"
             ],
             [
              0.1111111111111111,
              "#46039f"
             ],
             [
              0.2222222222222222,
              "#7201a8"
             ],
             [
              0.3333333333333333,
              "#9c179e"
             ],
             [
              0.4444444444444444,
              "#bd3786"
             ],
             [
              0.5555555555555556,
              "#d8576b"
             ],
             [
              0.6666666666666666,
              "#ed7953"
             ],
             [
              0.7777777777777778,
              "#fb9f3a"
             ],
             [
              0.8888888888888888,
              "#fdca26"
             ],
             [
              1,
              "#f0f921"
             ]
            ],
            "type": "heatmap"
           }
          ],
          "heatmapgl": [
           {
            "colorbar": {
             "outlinewidth": 0,
             "ticks": ""
            },
            "colorscale": [
             [
              0,
              "#0d0887"
             ],
             [
              0.1111111111111111,
              "#46039f"
             ],
             [
              0.2222222222222222,
              "#7201a8"
             ],
             [
              0.3333333333333333,
              "#9c179e"
             ],
             [
              0.4444444444444444,
              "#bd3786"
             ],
             [
              0.5555555555555556,
              "#d8576b"
             ],
             [
              0.6666666666666666,
              "#ed7953"
             ],
             [
              0.7777777777777778,
              "#fb9f3a"
             ],
             [
              0.8888888888888888,
              "#fdca26"
             ],
             [
              1,
              "#f0f921"
             ]
            ],
            "type": "heatmapgl"
           }
          ],
          "histogram": [
           {
            "marker": {
             "colorbar": {
              "outlinewidth": 0,
              "ticks": ""
             }
            },
            "type": "histogram"
           }
          ],
          "histogram2d": [
           {
            "colorbar": {
             "outlinewidth": 0,
             "ticks": ""
            },
            "colorscale": [
             [
              0,
              "#0d0887"
             ],
             [
              0.1111111111111111,
              "#46039f"
             ],
             [
              0.2222222222222222,
              "#7201a8"
             ],
             [
              0.3333333333333333,
              "#9c179e"
             ],
             [
              0.4444444444444444,
              "#bd3786"
             ],
             [
              0.5555555555555556,
              "#d8576b"
             ],
             [
              0.6666666666666666,
              "#ed7953"
             ],
             [
              0.7777777777777778,
              "#fb9f3a"
             ],
             [
              0.8888888888888888,
              "#fdca26"
             ],
             [
              1,
              "#f0f921"
             ]
            ],
            "type": "histogram2d"
           }
          ],
          "histogram2dcontour": [
           {
            "colorbar": {
             "outlinewidth": 0,
             "ticks": ""
            },
            "colorscale": [
             [
              0,
              "#0d0887"
             ],
             [
              0.1111111111111111,
              "#46039f"
             ],
             [
              0.2222222222222222,
              "#7201a8"
             ],
             [
              0.3333333333333333,
              "#9c179e"
             ],
             [
              0.4444444444444444,
              "#bd3786"
             ],
             [
              0.5555555555555556,
              "#d8576b"
             ],
             [
              0.6666666666666666,
              "#ed7953"
             ],
             [
              0.7777777777777778,
              "#fb9f3a"
             ],
             [
              0.8888888888888888,
              "#fdca26"
             ],
             [
              1,
              "#f0f921"
             ]
            ],
            "type": "histogram2dcontour"
           }
          ],
          "mesh3d": [
           {
            "colorbar": {
             "outlinewidth": 0,
             "ticks": ""
            },
            "type": "mesh3d"
           }
          ],
          "parcoords": [
           {
            "line": {
             "colorbar": {
              "outlinewidth": 0,
              "ticks": ""
             }
            },
            "type": "parcoords"
           }
          ],
          "pie": [
           {
            "automargin": true,
            "type": "pie"
           }
          ],
          "scatter": [
           {
            "marker": {
             "colorbar": {
              "outlinewidth": 0,
              "ticks": ""
             }
            },
            "type": "scatter"
           }
          ],
          "scatter3d": [
           {
            "line": {
             "colorbar": {
              "outlinewidth": 0,
              "ticks": ""
             }
            },
            "marker": {
             "colorbar": {
              "outlinewidth": 0,
              "ticks": ""
             }
            },
            "type": "scatter3d"
           }
          ],
          "scattercarpet": [
           {
            "marker": {
             "colorbar": {
              "outlinewidth": 0,
              "ticks": ""
             }
            },
            "type": "scattercarpet"
           }
          ],
          "scattergeo": [
           {
            "marker": {
             "colorbar": {
              "outlinewidth": 0,
              "ticks": ""
             }
            },
            "type": "scattergeo"
           }
          ],
          "scattergl": [
           {
            "marker": {
             "colorbar": {
              "outlinewidth": 0,
              "ticks": ""
             }
            },
            "type": "scattergl"
           }
          ],
          "scattermapbox": [
           {
            "marker": {
             "colorbar": {
              "outlinewidth": 0,
              "ticks": ""
             }
            },
            "type": "scattermapbox"
           }
          ],
          "scatterpolar": [
           {
            "marker": {
             "colorbar": {
              "outlinewidth": 0,
              "ticks": ""
             }
            },
            "type": "scatterpolar"
           }
          ],
          "scatterpolargl": [
           {
            "marker": {
             "colorbar": {
              "outlinewidth": 0,
              "ticks": ""
             }
            },
            "type": "scatterpolargl"
           }
          ],
          "scatterternary": [
           {
            "marker": {
             "colorbar": {
              "outlinewidth": 0,
              "ticks": ""
             }
            },
            "type": "scatterternary"
           }
          ],
          "surface": [
           {
            "colorbar": {
             "outlinewidth": 0,
             "ticks": ""
            },
            "colorscale": [
             [
              0,
              "#0d0887"
             ],
             [
              0.1111111111111111,
              "#46039f"
             ],
             [
              0.2222222222222222,
              "#7201a8"
             ],
             [
              0.3333333333333333,
              "#9c179e"
             ],
             [
              0.4444444444444444,
              "#bd3786"
             ],
             [
              0.5555555555555556,
              "#d8576b"
             ],
             [
              0.6666666666666666,
              "#ed7953"
             ],
             [
              0.7777777777777778,
              "#fb9f3a"
             ],
             [
              0.8888888888888888,
              "#fdca26"
             ],
             [
              1,
              "#f0f921"
             ]
            ],
            "type": "surface"
           }
          ],
          "table": [
           {
            "cells": {
             "fill": {
              "color": "#EBF0F8"
             },
             "line": {
              "color": "white"
             }
            },
            "header": {
             "fill": {
              "color": "#C8D4E3"
             },
             "line": {
              "color": "white"
             }
            },
            "type": "table"
           }
          ]
         },
         "layout": {
          "annotationdefaults": {
           "arrowcolor": "#2a3f5f",
           "arrowhead": 0,
           "arrowwidth": 1
          },
          "coloraxis": {
           "colorbar": {
            "outlinewidth": 0,
            "ticks": ""
           }
          },
          "colorscale": {
           "diverging": [
            [
             0,
             "#8e0152"
            ],
            [
             0.1,
             "#c51b7d"
            ],
            [
             0.2,
             "#de77ae"
            ],
            [
             0.3,
             "#f1b6da"
            ],
            [
             0.4,
             "#fde0ef"
            ],
            [
             0.5,
             "#f7f7f7"
            ],
            [
             0.6,
             "#e6f5d0"
            ],
            [
             0.7,
             "#b8e186"
            ],
            [
             0.8,
             "#7fbc41"
            ],
            [
             0.9,
             "#4d9221"
            ],
            [
             1,
             "#276419"
            ]
           ],
           "sequential": [
            [
             0,
             "#0d0887"
            ],
            [
             0.1111111111111111,
             "#46039f"
            ],
            [
             0.2222222222222222,
             "#7201a8"
            ],
            [
             0.3333333333333333,
             "#9c179e"
            ],
            [
             0.4444444444444444,
             "#bd3786"
            ],
            [
             0.5555555555555556,
             "#d8576b"
            ],
            [
             0.6666666666666666,
             "#ed7953"
            ],
            [
             0.7777777777777778,
             "#fb9f3a"
            ],
            [
             0.8888888888888888,
             "#fdca26"
            ],
            [
             1,
             "#f0f921"
            ]
           ],
           "sequentialminus": [
            [
             0,
             "#0d0887"
            ],
            [
             0.1111111111111111,
             "#46039f"
            ],
            [
             0.2222222222222222,
             "#7201a8"
            ],
            [
             0.3333333333333333,
             "#9c179e"
            ],
            [
             0.4444444444444444,
             "#bd3786"
            ],
            [
             0.5555555555555556,
             "#d8576b"
            ],
            [
             0.6666666666666666,
             "#ed7953"
            ],
            [
             0.7777777777777778,
             "#fb9f3a"
            ],
            [
             0.8888888888888888,
             "#fdca26"
            ],
            [
             1,
             "#f0f921"
            ]
           ]
          },
          "colorway": [
           "#636efa",
           "#EF553B",
           "#00cc96",
           "#ab63fa",
           "#FFA15A",
           "#19d3f3",
           "#FF6692",
           "#B6E880",
           "#FF97FF",
           "#FECB52"
          ],
          "font": {
           "color": "#2a3f5f"
          },
          "geo": {
           "bgcolor": "white",
           "lakecolor": "white",
           "landcolor": "#E5ECF6",
           "showlakes": true,
           "showland": true,
           "subunitcolor": "white"
          },
          "hoverlabel": {
           "align": "left"
          },
          "hovermode": "closest",
          "mapbox": {
           "style": "light"
          },
          "paper_bgcolor": "white",
          "plot_bgcolor": "#E5ECF6",
          "polar": {
           "angularaxis": {
            "gridcolor": "white",
            "linecolor": "white",
            "ticks": ""
           },
           "bgcolor": "#E5ECF6",
           "radialaxis": {
            "gridcolor": "white",
            "linecolor": "white",
            "ticks": ""
           }
          },
          "scene": {
           "xaxis": {
            "backgroundcolor": "#E5ECF6",
            "gridcolor": "white",
            "gridwidth": 2,
            "linecolor": "white",
            "showbackground": true,
            "ticks": "",
            "zerolinecolor": "white"
           },
           "yaxis": {
            "backgroundcolor": "#E5ECF6",
            "gridcolor": "white",
            "gridwidth": 2,
            "linecolor": "white",
            "showbackground": true,
            "ticks": "",
            "zerolinecolor": "white"
           },
           "zaxis": {
            "backgroundcolor": "#E5ECF6",
            "gridcolor": "white",
            "gridwidth": 2,
            "linecolor": "white",
            "showbackground": true,
            "ticks": "",
            "zerolinecolor": "white"
           }
          },
          "shapedefaults": {
           "line": {
            "color": "#2a3f5f"
           }
          },
          "ternary": {
           "aaxis": {
            "gridcolor": "white",
            "linecolor": "white",
            "ticks": ""
           },
           "baxis": {
            "gridcolor": "white",
            "linecolor": "white",
            "ticks": ""
           },
           "bgcolor": "#E5ECF6",
           "caxis": {
            "gridcolor": "white",
            "linecolor": "white",
            "ticks": ""
           }
          },
          "title": {
           "x": 0.05
          },
          "xaxis": {
           "automargin": true,
           "gridcolor": "white",
           "linecolor": "white",
           "ticks": "",
           "title": {
            "standoff": 15
           },
           "zerolinecolor": "white",
           "zerolinewidth": 2
          },
          "yaxis": {
           "automargin": true,
           "gridcolor": "white",
           "linecolor": "white",
           "ticks": "",
           "title": {
            "standoff": 15
           },
           "zerolinecolor": "white",
           "zerolinewidth": 2
          }
         }
        },
        "title": {
         "text": "Marital and Label distribution"
        },
        "width": 700,
        "yaxis": {
         "title": {
          "text": "Count"
         }
        }
       }
      },
      "text/html": [
       "<div>\n",
       "        \n",
       "        \n",
       "            <div id=\"df5c0680-b0dc-41e8-b627-fd36501c9ce3\" class=\"plotly-graph-div\" style=\"height:500px; width:700px;\"></div>\n",
       "            <script type=\"text/javascript\">\n",
       "                require([\"plotly\"], function(Plotly) {\n",
       "                    window.PLOTLYENV=window.PLOTLYENV || {};\n",
       "                    \n",
       "                if (document.getElementById(\"df5c0680-b0dc-41e8-b627-fd36501c9ce3\")) {\n",
       "                    Plotly.newPlot(\n",
       "                        'df5c0680-b0dc-41e8-b627-fd36501c9ce3',\n",
       "                        [{\"name\": \"Label 1\", \"text\": [77.0, 277.0, 167.0], \"textposition\": \"auto\", \"type\": \"bar\", \"x\": [\"divorced\", \"married\", \"single\"], \"y\": [77, 277, 167]}, {\"name\": \"Label 0\", \"text\": [451.0, 2520.0, 1029.0], \"textposition\": \"auto\", \"type\": \"bar\", \"x\": [\"divorced\", \"married\", \"single\"], \"y\": [451, 2520, 1029]}],\n",
       "                        {\"height\": 500, \"template\": {\"data\": {\"bar\": [{\"error_x\": {\"color\": \"#2a3f5f\"}, \"error_y\": {\"color\": \"#2a3f5f\"}, \"marker\": {\"line\": {\"color\": \"#E5ECF6\", \"width\": 0.5}}, \"type\": \"bar\"}], \"barpolar\": [{\"marker\": {\"line\": {\"color\": \"#E5ECF6\", \"width\": 0.5}}, \"type\": \"barpolar\"}], \"carpet\": [{\"aaxis\": {\"endlinecolor\": \"#2a3f5f\", \"gridcolor\": \"white\", \"linecolor\": \"white\", \"minorgridcolor\": \"white\", \"startlinecolor\": \"#2a3f5f\"}, \"baxis\": {\"endlinecolor\": \"#2a3f5f\", \"gridcolor\": \"white\", \"linecolor\": \"white\", \"minorgridcolor\": \"white\", \"startlinecolor\": \"#2a3f5f\"}, \"type\": \"carpet\"}], \"choropleth\": [{\"colorbar\": {\"outlinewidth\": 0, \"ticks\": \"\"}, \"type\": \"choropleth\"}], \"contour\": [{\"colorbar\": {\"outlinewidth\": 0, \"ticks\": \"\"}, \"colorscale\": [[0.0, \"#0d0887\"], [0.1111111111111111, \"#46039f\"], [0.2222222222222222, \"#7201a8\"], [0.3333333333333333, \"#9c179e\"], [0.4444444444444444, \"#bd3786\"], [0.5555555555555556, \"#d8576b\"], [0.6666666666666666, \"#ed7953\"], [0.7777777777777778, \"#fb9f3a\"], [0.8888888888888888, \"#fdca26\"], [1.0, \"#f0f921\"]], \"type\": \"contour\"}], \"contourcarpet\": [{\"colorbar\": {\"outlinewidth\": 0, \"ticks\": \"\"}, \"type\": \"contourcarpet\"}], \"heatmap\": [{\"colorbar\": {\"outlinewidth\": 0, \"ticks\": \"\"}, \"colorscale\": [[0.0, \"#0d0887\"], [0.1111111111111111, \"#46039f\"], [0.2222222222222222, \"#7201a8\"], [0.3333333333333333, \"#9c179e\"], [0.4444444444444444, \"#bd3786\"], [0.5555555555555556, \"#d8576b\"], [0.6666666666666666, \"#ed7953\"], [0.7777777777777778, \"#fb9f3a\"], [0.8888888888888888, \"#fdca26\"], [1.0, \"#f0f921\"]], \"type\": \"heatmap\"}], \"heatmapgl\": [{\"colorbar\": {\"outlinewidth\": 0, \"ticks\": \"\"}, \"colorscale\": [[0.0, \"#0d0887\"], [0.1111111111111111, \"#46039f\"], [0.2222222222222222, \"#7201a8\"], [0.3333333333333333, \"#9c179e\"], [0.4444444444444444, \"#bd3786\"], [0.5555555555555556, \"#d8576b\"], [0.6666666666666666, \"#ed7953\"], [0.7777777777777778, \"#fb9f3a\"], [0.8888888888888888, \"#fdca26\"], [1.0, \"#f0f921\"]], \"type\": \"heatmapgl\"}], \"histogram\": [{\"marker\": {\"colorbar\": {\"outlinewidth\": 0, \"ticks\": \"\"}}, \"type\": \"histogram\"}], \"histogram2d\": [{\"colorbar\": {\"outlinewidth\": 0, \"ticks\": \"\"}, \"colorscale\": [[0.0, \"#0d0887\"], [0.1111111111111111, \"#46039f\"], [0.2222222222222222, \"#7201a8\"], [0.3333333333333333, \"#9c179e\"], [0.4444444444444444, \"#bd3786\"], [0.5555555555555556, \"#d8576b\"], [0.6666666666666666, \"#ed7953\"], [0.7777777777777778, \"#fb9f3a\"], [0.8888888888888888, \"#fdca26\"], [1.0, \"#f0f921\"]], \"type\": \"histogram2d\"}], \"histogram2dcontour\": [{\"colorbar\": {\"outlinewidth\": 0, \"ticks\": \"\"}, \"colorscale\": [[0.0, \"#0d0887\"], [0.1111111111111111, \"#46039f\"], [0.2222222222222222, \"#7201a8\"], [0.3333333333333333, \"#9c179e\"], [0.4444444444444444, \"#bd3786\"], [0.5555555555555556, \"#d8576b\"], [0.6666666666666666, \"#ed7953\"], [0.7777777777777778, \"#fb9f3a\"], [0.8888888888888888, \"#fdca26\"], [1.0, \"#f0f921\"]], \"type\": \"histogram2dcontour\"}], \"mesh3d\": [{\"colorbar\": {\"outlinewidth\": 0, \"ticks\": \"\"}, \"type\": \"mesh3d\"}], \"parcoords\": [{\"line\": {\"colorbar\": {\"outlinewidth\": 0, \"ticks\": \"\"}}, \"type\": \"parcoords\"}], \"pie\": [{\"automargin\": true, \"type\": \"pie\"}], \"scatter\": [{\"marker\": {\"colorbar\": {\"outlinewidth\": 0, \"ticks\": \"\"}}, \"type\": \"scatter\"}], \"scatter3d\": [{\"line\": {\"colorbar\": {\"outlinewidth\": 0, \"ticks\": \"\"}}, \"marker\": {\"colorbar\": {\"outlinewidth\": 0, \"ticks\": \"\"}}, \"type\": \"scatter3d\"}], \"scattercarpet\": [{\"marker\": {\"colorbar\": {\"outlinewidth\": 0, \"ticks\": \"\"}}, \"type\": \"scattercarpet\"}], \"scattergeo\": [{\"marker\": {\"colorbar\": {\"outlinewidth\": 0, \"ticks\": \"\"}}, \"type\": \"scattergeo\"}], \"scattergl\": [{\"marker\": {\"colorbar\": {\"outlinewidth\": 0, \"ticks\": \"\"}}, \"type\": \"scattergl\"}], \"scattermapbox\": [{\"marker\": {\"colorbar\": {\"outlinewidth\": 0, \"ticks\": \"\"}}, \"type\": \"scattermapbox\"}], \"scatterpolar\": [{\"marker\": {\"colorbar\": {\"outlinewidth\": 0, \"ticks\": \"\"}}, \"type\": \"scatterpolar\"}], \"scatterpolargl\": [{\"marker\": {\"colorbar\": {\"outlinewidth\": 0, \"ticks\": \"\"}}, \"type\": \"scatterpolargl\"}], \"scatterternary\": [{\"marker\": {\"colorbar\": {\"outlinewidth\": 0, \"ticks\": \"\"}}, \"type\": \"scatterternary\"}], \"surface\": [{\"colorbar\": {\"outlinewidth\": 0, \"ticks\": \"\"}, \"colorscale\": [[0.0, \"#0d0887\"], [0.1111111111111111, \"#46039f\"], [0.2222222222222222, \"#7201a8\"], [0.3333333333333333, \"#9c179e\"], [0.4444444444444444, \"#bd3786\"], [0.5555555555555556, \"#d8576b\"], [0.6666666666666666, \"#ed7953\"], [0.7777777777777778, \"#fb9f3a\"], [0.8888888888888888, \"#fdca26\"], [1.0, \"#f0f921\"]], \"type\": \"surface\"}], \"table\": [{\"cells\": {\"fill\": {\"color\": \"#EBF0F8\"}, \"line\": {\"color\": \"white\"}}, \"header\": {\"fill\": {\"color\": \"#C8D4E3\"}, \"line\": {\"color\": \"white\"}}, \"type\": \"table\"}]}, \"layout\": {\"annotationdefaults\": {\"arrowcolor\": \"#2a3f5f\", \"arrowhead\": 0, \"arrowwidth\": 1}, \"coloraxis\": {\"colorbar\": {\"outlinewidth\": 0, \"ticks\": \"\"}}, \"colorscale\": {\"diverging\": [[0, \"#8e0152\"], [0.1, \"#c51b7d\"], [0.2, \"#de77ae\"], [0.3, \"#f1b6da\"], [0.4, \"#fde0ef\"], [0.5, \"#f7f7f7\"], [0.6, \"#e6f5d0\"], [0.7, \"#b8e186\"], [0.8, \"#7fbc41\"], [0.9, \"#4d9221\"], [1, \"#276419\"]], \"sequential\": [[0.0, \"#0d0887\"], [0.1111111111111111, \"#46039f\"], [0.2222222222222222, \"#7201a8\"], [0.3333333333333333, \"#9c179e\"], [0.4444444444444444, \"#bd3786\"], [0.5555555555555556, \"#d8576b\"], [0.6666666666666666, \"#ed7953\"], [0.7777777777777778, \"#fb9f3a\"], [0.8888888888888888, \"#fdca26\"], [1.0, \"#f0f921\"]], \"sequentialminus\": [[0.0, \"#0d0887\"], [0.1111111111111111, \"#46039f\"], [0.2222222222222222, \"#7201a8\"], [0.3333333333333333, \"#9c179e\"], [0.4444444444444444, \"#bd3786\"], [0.5555555555555556, \"#d8576b\"], [0.6666666666666666, \"#ed7953\"], [0.7777777777777778, \"#fb9f3a\"], [0.8888888888888888, \"#fdca26\"], [1.0, \"#f0f921\"]]}, \"colorway\": [\"#636efa\", \"#EF553B\", \"#00cc96\", \"#ab63fa\", \"#FFA15A\", \"#19d3f3\", \"#FF6692\", \"#B6E880\", \"#FF97FF\", \"#FECB52\"], \"font\": {\"color\": \"#2a3f5f\"}, \"geo\": {\"bgcolor\": \"white\", \"lakecolor\": \"white\", \"landcolor\": \"#E5ECF6\", \"showlakes\": true, \"showland\": true, \"subunitcolor\": \"white\"}, \"hoverlabel\": {\"align\": \"left\"}, \"hovermode\": \"closest\", \"mapbox\": {\"style\": \"light\"}, \"paper_bgcolor\": \"white\", \"plot_bgcolor\": \"#E5ECF6\", \"polar\": {\"angularaxis\": {\"gridcolor\": \"white\", \"linecolor\": \"white\", \"ticks\": \"\"}, \"bgcolor\": \"#E5ECF6\", \"radialaxis\": {\"gridcolor\": \"white\", \"linecolor\": \"white\", \"ticks\": \"\"}}, \"scene\": {\"xaxis\": {\"backgroundcolor\": \"#E5ECF6\", \"gridcolor\": \"white\", \"gridwidth\": 2, \"linecolor\": \"white\", \"showbackground\": true, \"ticks\": \"\", \"zerolinecolor\": \"white\"}, \"yaxis\": {\"backgroundcolor\": \"#E5ECF6\", \"gridcolor\": \"white\", \"gridwidth\": 2, \"linecolor\": \"white\", \"showbackground\": true, \"ticks\": \"\", \"zerolinecolor\": \"white\"}, \"zaxis\": {\"backgroundcolor\": \"#E5ECF6\", \"gridcolor\": \"white\", \"gridwidth\": 2, \"linecolor\": \"white\", \"showbackground\": true, \"ticks\": \"\", \"zerolinecolor\": \"white\"}}, \"shapedefaults\": {\"line\": {\"color\": \"#2a3f5f\"}}, \"ternary\": {\"aaxis\": {\"gridcolor\": \"white\", \"linecolor\": \"white\", \"ticks\": \"\"}, \"baxis\": {\"gridcolor\": \"white\", \"linecolor\": \"white\", \"ticks\": \"\"}, \"bgcolor\": \"#E5ECF6\", \"caxis\": {\"gridcolor\": \"white\", \"linecolor\": \"white\", \"ticks\": \"\"}}, \"title\": {\"x\": 0.05}, \"xaxis\": {\"automargin\": true, \"gridcolor\": \"white\", \"linecolor\": \"white\", \"ticks\": \"\", \"title\": {\"standoff\": 15}, \"zerolinecolor\": \"white\", \"zerolinewidth\": 2}, \"yaxis\": {\"automargin\": true, \"gridcolor\": \"white\", \"linecolor\": \"white\", \"ticks\": \"\", \"title\": {\"standoff\": 15}, \"zerolinecolor\": \"white\", \"zerolinewidth\": 2}}}, \"title\": {\"text\": \"Marital and Label distribution\"}, \"width\": 700, \"yaxis\": {\"title\": {\"text\": \"Count\"}}},\n",
       "                        {\"responsive\": true}\n",
       "                    ).then(function(){\n",
       "                            \n",
       "var gd = document.getElementById('df5c0680-b0dc-41e8-b627-fd36501c9ce3');\n",
       "var x = new MutationObserver(function (mutations, observer) {{\n",
       "        var display = window.getComputedStyle(gd).display;\n",
       "        if (!display || display === 'none') {{\n",
       "            console.log([gd, 'removed!']);\n",
       "            Plotly.purge(gd);\n",
       "            observer.disconnect();\n",
       "        }}\n",
       "}});\n",
       "\n",
       "// Listen for the removal of the full notebook cells\n",
       "var notebookContainer = gd.closest('#notebook-container');\n",
       "if (notebookContainer) {{\n",
       "    x.observe(notebookContainer, {childList: true});\n",
       "}}\n",
       "\n",
       "// Listen for the clearing of the current output cell\n",
       "var outputEl = gd.closest('.output');\n",
       "if (outputEl) {{\n",
       "    x.observe(outputEl, {childList: true});\n",
       "}}\n",
       "\n",
       "                        })\n",
       "                };\n",
       "                });\n",
       "            </script>\n",
       "        </div>"
      ]
     },
     "metadata": {},
     "output_type": "display_data"
    }
   ],
   "source": [
    "\n",
    "\n",
    "trace1 = go.Bar(x = temp.marital[temp.y=='yes'],y = temp.Count[temp.y=='yes'],text = temp.Count[temp.y=='yes'],textposition = 'auto',\n",
    "               name = 'Label 1')\n",
    "trace2 = go.Bar(x = temp.marital[temp.y=='no'], y = temp.Count[temp.y=='no'], text = temp.Count[temp.y=='no'], textposition = 'auto',\n",
    "               name = 'Label 0')\n",
    "data = [trace1,trace2]\n",
    "layout = go.Layout(width = 700,\n",
    "                   height = 500,title = 'Marital and Label distribution',\n",
    "                  yaxis = dict(title='Count'))\n",
    "fig = go.Figure(data=data, layout=layout)\n",
    "iplot(fig)"
   ]
  },
  {
   "cell_type": "code",
   "execution_count": null,
   "metadata": {},
   "outputs": [],
   "source": [
    "could you put two histograms in sigle chart?\n"
   ]
  }
 ],
 "metadata": {
  "kernelspec": {
   "display_name": "Python 3",
   "language": "python",
   "name": "python3"
  },
  "language_info": {
   "codemirror_mode": {
    "name": "ipython",
    "version": 3
   },
   "file_extension": ".py",
   "mimetype": "text/x-python",
   "name": "python",
   "nbconvert_exporter": "python",
   "pygments_lexer": "ipython3",
   "version": "3.7.6"
  }
 },
 "nbformat": 4,
 "nbformat_minor": 4
}
